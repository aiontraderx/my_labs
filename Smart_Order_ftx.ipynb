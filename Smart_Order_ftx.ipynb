{
 "cells": [
  {
   "cell_type": "code",
   "execution_count": 61,
   "metadata": {},
   "outputs": [],
   "source": [
    "import pandas as  pd\n",
    "import numpy as np\n",
    "from datetime import datetime \n",
    "from datetime import timedelta\n",
    "import time\n",
    "import ccxt\n",
    "exchange = ccxt.ftx()"
   ]
  },
  {
   "cell_type": "code",
   "execution_count": 192,
   "metadata": {},
   "outputs": [],
   "source": [
    "def get_position(symbols): \n",
    "    i= 0 \n",
    "    while i <5 :\n",
    "        try:\n",
    "            res = exchange.fetchPositions()\n",
    "            for sym in res:\n",
    "                if sym['info']['future']==symbols:\n",
    "                    f_pos = sym['info']\n",
    "            return f_pos\n",
    "        except Exception as e:\n",
    "            if i >5:\n",
    "                print(f'[{get_time()}]MAX RETRY {i} , {str(e)} Cannot GET {get_position.__name__}')\n",
    "                return  None\n",
    "            else:\n",
    "                print(str(e) , get_position.__name__, f' RETRY {i}')\n",
    "                time.sleep(5)\n",
    "                i+=1\n",
    "\n",
    "\n",
    "    \n",
    "\n",
    "def get_ticker(symbol):\n",
    "    i= 0\n",
    "    while i< 5:\n",
    "        try:\n",
    "            res =exchange.fetch_ticker(symbol)\n",
    "            return res\n",
    "        except Exception as e:\n",
    "            if i >5:\n",
    "                print(f'[{get_time()}]MAX RETRY {i} , {str(e)} Cannot GET {get_ticker.__name__}')\n",
    "                return  None\n",
    "            else:\n",
    "                print(str(e) , get_ticker.__name__, f' RETRY {i}')\n",
    "                time.sleep(5)\n",
    "                i+=1\n",
    "    \n",
    "    \n",
    "def get_cash():\n",
    "    try:\n",
    "        wallet = get_wallet()\n",
    "        for t in wallet:\n",
    "            if t['coin'] in  ['USD']:\n",
    "\n",
    "\n",
    "                cash = float(t['availableWithoutBorrow'])\n",
    "        return cash\n",
    "    except:\n",
    "        return None\n",
    "    \n",
    "\n",
    "def get_unit( symbols):\n",
    "    try:\n",
    "        wallet = get_wallet()\n",
    "        token_name = symbols.split('/')[0]\n",
    "        unit = 0\n",
    "        for token in wallet:\n",
    "            if token['coin'] == token_name:\n",
    "                valuex = float(token['availableWithoutBorrow'])\n",
    "                unit += (valuex)\n",
    "\n",
    "        return float(unit)\n",
    "    except Exception as e:\n",
    "        print(str(e))\n",
    "        print('No Asset In Wallet')\n",
    "        unit = 0\n",
    "        return float(unit)"
   ]
  },
  {
   "cell_type": "code",
   "execution_count": 193,
   "metadata": {},
   "outputs": [],
   "source": [
    "def _get_token_name( symbol):\n",
    "\n",
    "    if len(symbol.split('/')) == 2:\n",
    "        token_name = symbol.split('/')[0]\n",
    "        token_namex = token_name.lower()\n",
    "\n",
    "    if len(symbol.split('-')) == 2:\n",
    "        token_name = symbol.split('/')[0]\n",
    "        token_namex = token_name.lower()\n",
    "\n",
    "    else :\n",
    "        token_name = symbol\n",
    "        token_namex = token_name.lower()\n",
    "    return token_namex\n",
    "\n",
    "def get_time():    \n",
    "    now = datetime.now()\n",
    "    formatted_date = now.strftime(\"%Y/%m/%d %H:%M:%S\") \n",
    "    return formatted_date\n",
    "\n",
    "def _hold_values( symbol):  ## [date,usd,unit,now_price]\n",
    "    dt_now = get_time()\n",
    "    asset_dict = {}\n",
    "    asset_dicts = []\n",
    "    sum_value = 0\n",
    "\n",
    "    if symbol != 'all':\n",
    "        # token_name = symbol.split('/')[0]\n",
    "        unit_hold = get_unit(symbol)\n",
    "        # last = get_price(symbol)\n",
    "        last = get_ticker(symbol)['last']\n",
    "        name = _get_token_name(symbol)\n",
    "        usd_value = (unit_hold * last)\n",
    "        #         usd_value = self.round_by_step(usd_value,0.01)\n",
    "        asset_dict[symbol] = {'date': dt_now, f'unit': unit_hold,\n",
    "                              f'usd_values': usd_value, 'symbol': symbol, 'name': name}\n",
    "        cash = get_cash()\n",
    "        asset_dict['USD'] = {'date': dt_now, f'unit': cash,\n",
    "                             f'usd_values': cash, 'symbol': 'USD', 'name': 'usd'}\n",
    "        sum_value += usd_value\n",
    "        total_all_value = sum_value + cash\n",
    "        msg = f'Check Value {name} + Cash {cash} = {total_all_value}'\n",
    "        # log(msg)\n",
    "        print(msg)\n",
    "\n",
    "    elif symbol == 'all':\n",
    "        res = exchange.privateGetWalletBalances()['result']\n",
    "        for i in res:  ###\n",
    "            # Check Values > 0 $\n",
    "            valuex = float(i['usdValue'])\n",
    "            if valuex > 0:\n",
    "                # print(i)\n",
    "                symbol  = i['coin'] + '/USD'\n",
    "                name = _get_token_name(symbol)\n",
    "                if i['coin'] != 'USD':\n",
    "                    last = get_ticker(symbol)['last']\n",
    "                    unit_hold = get_unit(symbol)\n",
    "\n",
    "                    usd_value = (unit_hold * last)\n",
    "                    asset_dict[symbol] = {'date': dt_now, 'unit': unit_hold,\n",
    "                                     f'usd_values': usd_value, 'symbol': symbol, 'name': name}\n",
    "                    sum_value += usd_value\n",
    "                    # print(symbol,usd_value,last,unit_hold)\n",
    "\n",
    "            cash = get_cash()\n",
    "            asset_dict['USD'] = {'date': dt_now, f'unit': cash,\n",
    "                                     f'usd_values': cash, 'symbol': 'USD', 'name': 'usd'}\n",
    "        total_all_value = sum_value + cash\n",
    "\n",
    "\n",
    "    return (asset_dict,total_all_value)\n",
    "\n",
    "\n",
    "\n",
    "def equity_report():\n",
    "    hold_all = _hold_values('all')\n",
    "    port_dict = hold_all[0]\n",
    "    total_equity = hold_all[1]\n",
    "    equity = pd.DataFrame()\n",
    "    \n",
    "    equity['date'] = pd.Series(get_time())\n",
    "    # token_name =[]\n",
    "\n",
    "    for i in port_dict:\n",
    "        if ('/USD' not in port_dict[i]['name']):\n",
    "            name = port_dict[i]['name'].split('/')[0] ## Test and append\n",
    "#             name = port_dict[i]['name']\n",
    "            valuex = port_dict[i]['usd_values']\n",
    "            valuex = float(valuex)\n",
    "            if valuex >= 10:\n",
    "                unitx = port_dict[i]['unit']\n",
    "                exposure = valuex / total_equity\n",
    "                equity[f'{name}_value'] = valuex\n",
    "                equity[f'{name}_unit'] = unitx\n",
    "                equity[f'{name}_exposure'] = valuex\n",
    "\n",
    "    #         token_name.append(name)\n",
    "    equity['usd'] = port_dict['USD']['usd_values']\n",
    "    equity['equity'] = total_equity\n",
    "\n",
    "    return equity\n"
   ]
  },
  {
   "cell_type": "markdown",
   "metadata": {},
   "source": [
    "# Calculation Function"
   ]
  },
  {
   "cell_type": "code",
   "execution_count": 194,
   "metadata": {},
   "outputs": [],
   "source": [
    "def Cal_SLdistance(df, vol_multiply = 0.2):\n",
    "    vol = ta.STDDEV(df.close,30).ewm(alpha=0.96).mean()\n",
    "    sl_distance = vol * vol_multiply\n",
    "    return sl_distance.iloc[-1]\n",
    "\n",
    "def Cal_TPdistance(df, vol_multiply = 1.2):\n",
    "    vol = ta.STDDEV(df.close,30).ewm(alpha=0.96).mean()\n",
    "    tp_distance = vol * vol_multiply\n",
    "    return tp_distance.iloc[-1]\n",
    "\n",
    "def Cal_Size(df, rpt :float):\n",
    "    cash =get_cash()\n",
    "    size= 0.0\n",
    "    if cash != None:\n",
    "        riskpertrade = rpt * cash\n",
    "        size = (riskpertrade / Cal_SLdistance(df)) \n",
    "        if size > robot_position_size_limit:\n",
    "            size = robot_position_size_limit\n",
    "        elif size < robot_min_size:\n",
    "            size = robot_min_size    \n",
    "    return round(size, get_size_digit(robot_symbol))          "
   ]
  },
  {
   "cell_type": "code",
   "execution_count": 195,
   "metadata": {},
   "outputs": [],
   "source": [
    "import os\n",
    "import configparser\n",
    "config = configparser.ConfigParser()\n",
    "path_file = os.path.abspath('')\n",
    "# print(path_file)\n",
    "path_file = 'C:/Users/User\\Desktop/sahing/crypto_anlysis'\n",
    "config_file = os.path.join(path_file,'Future_Bot\\\\key_tao_main.ini')\n",
    "config.read(config_file)\n",
    "\n",
    "exchange = ccxt.ftx({'api_key':config['key']['apikey'],'secret':config['key']['secretkey'] ,'enableRateLimit': True,\n",
    "                     'headers': {'FTX-SUBACCOUNT': 'TAO_MAIN',}})\n"
   ]
  },
  {
   "cell_type": "code",
   "execution_count": null,
   "metadata": {},
   "outputs": [],
   "source": []
  },
  {
   "cell_type": "code",
   "execution_count": 230,
   "metadata": {},
   "outputs": [
    {
     "name": "stdout",
     "output_type": "stream",
     "text": [
      "####################################################################################################\n"
     ]
    },
    {
     "data": {
      "text/plain": [
       "[0.19082700000000002]"
      ]
     },
     "execution_count": 230,
     "metadata": {},
     "output_type": "execute_result"
    }
   ],
   "source": [
    "        \n",
    "def price_list(list_split,entry_price,mode='tp',side='buy'):\n",
    "    sum_p = 0.0\n",
    "    price_list = []\n",
    "    if mode== 'tp':\n",
    "        for i in list_split:\n",
    "            sum_p +=i \n",
    "            if side== 'buy':\n",
    "                tp_price =(entry_price * sum_p)+ entry_price\n",
    "            elif side=='sell':\n",
    "                tp_price = entry_price -(entry_price * sum_p)\n",
    "            price_list.append(tp_price)\n",
    "        # price_list = list(set(price_list))\n",
    "        print('#'*100)\n",
    "#     elif mode == 'sl':\n",
    "    elif mode=='sl':\n",
    "        for i in list_split:\n",
    "            sum_p +=i \n",
    "            if side== 'buy':\n",
    "\n",
    "                sl_price = entry_price - (entry_price * sum_p)\n",
    "            elif side=='sell':\n",
    "                sl_price = entry_price + (entry_price * sum_p)\n",
    "               \n",
    "            price_list.append(sl_price)\n",
    "            # price_list = list(set(price_list))\n",
    "        \n",
    "    return price_list\n",
    "\n",
    "        \n",
    "tp_price_target = [0.05]\n",
    "tp_price_list = price_list(tp_price_target,last_price,mode='tp')\n",
    "tp_price_list"
   ]
  },
  {
   "cell_type": "code",
   "execution_count": 231,
   "metadata": {},
   "outputs": [
    {
     "data": {
      "text/plain": [
       "[0.199914]"
      ]
     },
     "execution_count": 231,
     "metadata": {},
     "output_type": "execute_result"
    }
   ],
   "source": [
    "sl_price_target = [0.10]\n",
    "sl_price_list = price_list(sl_price_target,last_price,mode='sl',side='sell')\n",
    "sl_price_list"
   ]
  },
  {
   "cell_type": "code",
   "execution_count": 232,
   "metadata": {},
   "outputs": [],
   "source": [
    "tp_size = []"
   ]
  },
  {
   "cell_type": "code",
   "execution_count": 233,
   "metadata": {},
   "outputs": [
    {
     "name": "stdout",
     "output_type": "stream",
     "text": [
      "####################################################################################################\n",
      "[0.19082700000000002, 0.19446180000000002, 0.199914] [0.17810520000000002, 0.172653, 0.172653]\n"
     ]
    }
   ],
   "source": [
    "# Test        \n",
    "tp_split =tp_split_clean([0.05,0.02,0.03])\n",
    "sl_split = sl_split_clean([0.02,0.03])\n",
    "\n",
    "\n",
    "\n",
    "tp_price_list = price_list(tp_split,last_price,mode='tp')\n",
    "sl_price_list = price_list(sl_split,last_price,mode='sl')\n",
    "\n",
    "# print(tp_split,sl_split)\n",
    "print(tp_price_list,sl_price_list)"
   ]
  },
  {
   "cell_type": "code",
   "execution_count": 172,
   "metadata": {},
   "outputs": [
    {
     "data": {
      "text/html": [
       "<div>\n",
       "<style scoped>\n",
       "    .dataframe tbody tr th:only-of-type {\n",
       "        vertical-align: middle;\n",
       "    }\n",
       "\n",
       "    .dataframe tbody tr th {\n",
       "        vertical-align: top;\n",
       "    }\n",
       "\n",
       "    .dataframe thead th {\n",
       "        text-align: right;\n",
       "    }\n",
       "</style>\n",
       "<table border=\"1\" class=\"dataframe\">\n",
       "  <thead>\n",
       "    <tr style=\"text-align: right;\">\n",
       "      <th></th>\n",
       "      <th>date</th>\n",
       "      <th>usd_value</th>\n",
       "      <th>usd_unit</th>\n",
       "      <th>usd_exposure</th>\n",
       "      <th>ftt_value</th>\n",
       "      <th>ftt_unit</th>\n",
       "      <th>ftt_exposure</th>\n",
       "      <th>eth_value</th>\n",
       "      <th>eth_unit</th>\n",
       "      <th>eth_exposure</th>\n",
       "      <th>usd</th>\n",
       "      <th>equity</th>\n",
       "    </tr>\n",
       "  </thead>\n",
       "  <tbody>\n",
       "    <tr>\n",
       "      <th>0</th>\n",
       "      <td>2022/03/31 22:12:03</td>\n",
       "      <td>4994.827917</td>\n",
       "      <td>4994.827917</td>\n",
       "      <td>4994.827917</td>\n",
       "      <td>2474.0014</td>\n",
       "      <td>49.4</td>\n",
       "      <td>2474.0014</td>\n",
       "      <td>1425.3408</td>\n",
       "      <td>0.423</td>\n",
       "      <td>1425.3408</td>\n",
       "      <td>4994.827917</td>\n",
       "      <td>8894.170117</td>\n",
       "    </tr>\n",
       "  </tbody>\n",
       "</table>\n",
       "</div>"
      ],
      "text/plain": [
       "                  date    usd_value     usd_unit  usd_exposure  ftt_value  \\\n",
       "0  2022/03/31 22:12:03  4994.827917  4994.827917   4994.827917  2474.0014   \n",
       "\n",
       "   ftt_unit  ftt_exposure  eth_value  eth_unit  eth_exposure          usd  \\\n",
       "0      49.4     2474.0014  1425.3408     0.423     1425.3408  4994.827917   \n",
       "\n",
       "        equity  \n",
       "0  8894.170117  "
      ]
     },
     "execution_count": 172,
     "metadata": {},
     "output_type": "execute_result"
    }
   ],
   "source": [
    "df1 =equity_report()\n",
    "df1"
   ]
  },
  {
   "cell_type": "code",
   "execution_count": 37,
   "metadata": {},
   "outputs": [
    {
     "data": {
      "text/html": [
       "<div>\n",
       "<style scoped>\n",
       "    .dataframe tbody tr th:only-of-type {\n",
       "        vertical-align: middle;\n",
       "    }\n",
       "\n",
       "    .dataframe tbody tr th {\n",
       "        vertical-align: top;\n",
       "    }\n",
       "\n",
       "    .dataframe thead th {\n",
       "        text-align: right;\n",
       "    }\n",
       "</style>\n",
       "<table border=\"1\" class=\"dataframe\">\n",
       "  <thead>\n",
       "    <tr style=\"text-align: right;\">\n",
       "      <th></th>\n",
       "      <th>usd_value</th>\n",
       "      <th>ftt_value</th>\n",
       "      <th>eth_value</th>\n",
       "    </tr>\n",
       "  </thead>\n",
       "  <tbody>\n",
       "    <tr>\n",
       "      <th>0</th>\n",
       "      <td>5163.729721</td>\n",
       "      <td>2462.096</td>\n",
       "      <td>1416.627</td>\n",
       "    </tr>\n",
       "  </tbody>\n",
       "</table>\n",
       "</div>"
      ],
      "text/plain": [
       "     usd_value  ftt_value  eth_value\n",
       "0  5163.729721   2462.096   1416.627"
      ]
     },
     "execution_count": 37,
     "metadata": {},
     "output_type": "execute_result"
    }
   ],
   "source": [
    "df1[df1.columns[df1.columns.str.endswith('_value')]]"
   ]
  },
  {
   "cell_type": "markdown",
   "metadata": {},
   "source": [
    "# Multi Symbol"
   ]
  },
  {
   "cell_type": "code",
   "execution_count": 276,
   "metadata": {
    "collapsed": true,
    "jupyter": {
     "outputs_hidden": true
    },
    "tags": []
   },
   "outputs": [
    {
     "data": {
      "text/plain": [
       "[{'future': 'FTT-PERP',\n",
       "  'size': '61.8',\n",
       "  'side': 'sell',\n",
       "  'netSize': '-61.8',\n",
       "  'longOrderSize': '0.0',\n",
       "  'shortOrderSize': '0.0',\n",
       "  'cost': '-3019.9188',\n",
       "  'entryPrice': '48.866',\n",
       "  'unrealizedPnl': '0.0',\n",
       "  'realizedPnl': '-1.6686',\n",
       "  'initialMarginRequirement': '0.33333333',\n",
       "  'maintenanceMarginRequirement': '0.03',\n",
       "  'openSize': '61.8',\n",
       "  'collateralUsed': '1006.639589933604',\n",
       "  'estimatedLiquidationPrice': '613.5693250439035',\n",
       "  'recentAverageOpenPrice': '48.839',\n",
       "  'recentPnl': '-1.6686',\n",
       "  'recentBreakEvenPrice': '48.839',\n",
       "  'cumulativeBuySize': '0.0',\n",
       "  'cumulativeSellSize': '61.8'},\n",
       " {'future': 'ZIL-PERP',\n",
       "  'size': '26620.0',\n",
       "  'side': 'sell',\n",
       "  'netSize': '-26620.0',\n",
       "  'longOrderSize': '0.0',\n",
       "  'shortOrderSize': '0.0',\n",
       "  'cost': '-5057.8',\n",
       "  'entryPrice': '0.19',\n",
       "  'unrealizedPnl': '0.0',\n",
       "  'realizedPnl': '-366.9188475',\n",
       "  'initialMarginRequirement': '0.33333333',\n",
       "  'maintenanceMarginRequirement': '0.03',\n",
       "  'openSize': '26620.0',\n",
       "  'collateralUsed': '1685.933316474',\n",
       "  'estimatedLiquidationPrice': '0.5049557666803155',\n",
       "  'recentAverageOpenPrice': '0.18951672802404207',\n",
       "  'recentPnl': '-12.8647',\n",
       "  'recentBreakEvenPrice': '0.18951672802404207',\n",
       "  'cumulativeBuySize': '0.0',\n",
       "  'cumulativeSellSize': '26620.0'}]"
      ]
     },
     "execution_count": 276,
     "metadata": {},
     "output_type": "execute_result"
    }
   ],
   "source": [
    "symbol = 'ZIL-PERP'\n",
    "all_position =[]\n",
    "\n",
    "for resp in res:\n",
    "    if float(resp['info']['size']) >0.0:\n",
    "        all_position.append(resp['info'])\n",
    "\n",
    "all_position"
   ]
  },
  {
   "cell_type": "code",
   "execution_count": 280,
   "metadata": {},
   "outputs": [
    {
     "data": {
      "text/html": [
       "<div>\n",
       "<style scoped>\n",
       "    .dataframe tbody tr th:only-of-type {\n",
       "        vertical-align: middle;\n",
       "    }\n",
       "\n",
       "    .dataframe tbody tr th {\n",
       "        vertical-align: top;\n",
       "    }\n",
       "\n",
       "    .dataframe thead th {\n",
       "        text-align: right;\n",
       "    }\n",
       "</style>\n",
       "<table border=\"1\" class=\"dataframe\">\n",
       "  <thead>\n",
       "    <tr style=\"text-align: right;\">\n",
       "      <th></th>\n",
       "      <th>future</th>\n",
       "      <th>side</th>\n",
       "      <th>size</th>\n",
       "      <th>usd_value</th>\n",
       "      <th>last</th>\n",
       "      <th>recentBreakEvenPrice</th>\n",
       "      <th>recentPnl</th>\n",
       "      <th>estimatedLiquidationPrice</th>\n",
       "    </tr>\n",
       "  </thead>\n",
       "  <tbody>\n",
       "    <tr>\n",
       "      <th>0</th>\n",
       "      <td>FTT-PERP</td>\n",
       "      <td>sell</td>\n",
       "      <td>61.8</td>\n",
       "      <td>3019.9188</td>\n",
       "      <td>0.18851</td>\n",
       "      <td>48.839</td>\n",
       "      <td>-1.6686</td>\n",
       "      <td>613.5693250439035</td>\n",
       "    </tr>\n",
       "    <tr>\n",
       "      <th>1</th>\n",
       "      <td>ZIL-PERP</td>\n",
       "      <td>sell</td>\n",
       "      <td>26620.0</td>\n",
       "      <td>5057.8000</td>\n",
       "      <td>0.18851</td>\n",
       "      <td>0.18951672802404207</td>\n",
       "      <td>-12.8647</td>\n",
       "      <td>0.5049557666803155</td>\n",
       "    </tr>\n",
       "  </tbody>\n",
       "</table>\n",
       "</div>"
      ],
      "text/plain": [
       "     future  side     size  usd_value     last recentBreakEvenPrice recentPnl  \\\n",
       "0  FTT-PERP  sell     61.8  3019.9188  0.18851               48.839   -1.6686   \n",
       "1  ZIL-PERP  sell  26620.0  5057.8000  0.18851  0.18951672802404207  -12.8647   \n",
       "\n",
       "  estimatedLiquidationPrice  \n",
       "0         613.5693250439035  \n",
       "1        0.5049557666803155  "
      ]
     },
     "execution_count": 280,
     "metadata": {},
     "output_type": "execute_result"
    }
   ],
   "source": [
    "for pos in all_position:\n",
    "    sym = (i['future'])\n",
    "    last_price = get_ticker(sym)['last']\n",
    "    pos['last'] = last_price\n",
    "    pos['usd_value'] = abs(float(pos['cost']))\n",
    "    \n",
    "    \n",
    "smart_order = pd.DataFrame(all_position)[['future','side','size','usd_value','last','recentBreakEvenPrice','recentPnl','estimatedLiquidationPrice']]\n",
    "smart_order.columns = ['symbols','side','size','usd_value','last','entry_price','pnl','liquidate_price']\n",
    "\n",
    "# Convert Str to Float \n",
    "smart_order[['entry_price','pnl','liquidate_price','size','last']] =smart_order[['entry_price','pnl','liquidate_price','size','last']].astype(float)\n",
    "smart_order['diff_liq']=( smart_order['liquidate_price'] -smart_order['entry_price'] ) / smart_order['entry_price']\n",
    "smart_order"
   ]
  },
  {
   "cell_type": "markdown",
   "metadata": {},
   "source": [
    "# Single Symbols"
   ]
  },
  {
   "cell_type": "code",
   "execution_count": 234,
   "metadata": {},
   "outputs": [
    {
     "data": {
      "text/html": [
       "<div>\n",
       "<style scoped>\n",
       "    .dataframe tbody tr th:only-of-type {\n",
       "        vertical-align: middle;\n",
       "    }\n",
       "\n",
       "    .dataframe tbody tr th {\n",
       "        vertical-align: top;\n",
       "    }\n",
       "\n",
       "    .dataframe thead th {\n",
       "        text-align: right;\n",
       "    }\n",
       "</style>\n",
       "<table border=\"1\" class=\"dataframe\">\n",
       "  <thead>\n",
       "    <tr style=\"text-align: right;\">\n",
       "      <th></th>\n",
       "      <th>symbols</th>\n",
       "      <th>side</th>\n",
       "      <th>size</th>\n",
       "      <th>usd_value</th>\n",
       "      <th>last</th>\n",
       "      <th>entry_price</th>\n",
       "      <th>pnl</th>\n",
       "      <th>liquidate_price</th>\n",
       "      <th>diff_liq</th>\n",
       "    </tr>\n",
       "  </thead>\n",
       "  <tbody>\n",
       "    <tr>\n",
       "      <th>0</th>\n",
       "      <td>ZIL-PERP</td>\n",
       "      <td>sell</td>\n",
       "      <td>26620.0</td>\n",
       "      <td>4823.2778</td>\n",
       "      <td>0.18128</td>\n",
       "      <td>0.189517</td>\n",
       "      <td>221.6575</td>\n",
       "      <td>0.507211</td>\n",
       "      <td>1.676339</td>\n",
       "    </tr>\n",
       "  </tbody>\n",
       "</table>\n",
       "</div>"
      ],
      "text/plain": [
       "    symbols  side     size  usd_value     last  entry_price       pnl  \\\n",
       "0  ZIL-PERP  sell  26620.0  4823.2778  0.18128     0.189517  221.6575   \n",
       "\n",
       "   liquidate_price  diff_liq  \n",
       "0         0.507211  1.676339  "
      ]
     },
     "execution_count": 234,
     "metadata": {},
     "output_type": "execute_result"
    }
   ],
   "source": [
    "res_pos = get_position(symbol)\n",
    "last_price = get_ticker(symbol)['last']\n",
    "res_pos['last'] = last_price\n",
    "# res_pos['usd_value'] = float(res_pos['recentBreakEvenPrice']) * float(res_pos['size'])\n",
    "res_pos['usd_value'] = abs(float(res_pos['cost']))\n",
    "\n",
    "\n",
    "smart_order = pd.DataFrame([res_pos])[['future','side','size','usd_value','last','recentBreakEvenPrice','recentPnl','estimatedLiquidationPrice']]\n",
    "smart_order.columns = ['symbols','side','size','usd_value','last','entry_price','pnl','liquidate_price']\n",
    "# Convert Str to Float \n",
    "smart_order[['entry_price','pnl','liquidate_price','size','last']] =smart_order[['entry_price','pnl','liquidate_price','size','last']].astype(float)\n",
    "smart_order['diff_liq']=( smart_order['liquidate_price'] -smart_order['entry_price'] ) / smart_order['entry_price']\n",
    "smart_order"
   ]
  },
  {
   "cell_type": "code",
   "execution_count": null,
   "metadata": {},
   "outputs": [],
   "source": []
  },
  {
   "cell_type": "code",
   "execution_count": null,
   "metadata": {},
   "outputs": [],
   "source": [
    "tp_targets = []\n",
    "tp_sizes = []\n",
    "for i in range(3):\n",
    "\n",
    "    try:\n",
    "        tp_target = input(f'TP  Target Percent {i+1}')\n",
    "        tp_target = float(tp_target)\n",
    "\n",
    "    except ValueError as e :\n",
    "        print(str(e))\n",
    "        break\n",
    "    try:\n",
    "        tp_size = input(f'TP    Target Size {i+1}')\n",
    "        print('#'*100)\n",
    "\n",
    "        tp_size = float(tp_size)\n",
    "\n",
    "    except ValueError as e :\n",
    "        print(str(e))\n",
    "        break\n",
    "        \n",
    "    tp_targets.append(tp_target)\n",
    "    tp_sizes.append(tp_size)\n",
    "if sum(tp_sizes) != 1.0 :\n",
    "    print('#'*100)\n",
    "    print('Error  Size != 100% ')\n",
    "    "
   ]
  },
  {
   "cell_type": "code",
   "execution_count": 289,
   "metadata": {},
   "outputs": [],
   "source": [
    "sym_list = ['FTT-PERP','ZIL-PERP']"
   ]
  },
  {
   "cell_type": "code",
   "execution_count": 305,
   "metadata": {},
   "outputs": [
    {
     "ename": "SyntaxError",
     "evalue": "invalid syntax (<ipython-input-305-1156c5652dd3>, line 3)",
     "output_type": "error",
     "traceback": [
      "\u001b[1;36m  File \u001b[1;32m\"<ipython-input-305-1156c5652dd3>\"\u001b[1;36m, line \u001b[1;32m3\u001b[0m\n\u001b[1;33m    display(smart_order.iloc[[i,2:]])\u001b[0m\n\u001b[1;37m                                 ^\u001b[0m\n\u001b[1;31mSyntaxError\u001b[0m\u001b[1;31m:\u001b[0m invalid syntax\n"
     ]
    }
   ],
   "source": [
    "for i in smart_order.index:\n",
    "    if smart_order.at[i,'future'] in sym_list:\n",
    "        display(smart_order.iloc[[i,2:]])"
   ]
  },
  {
   "cell_type": "code",
   "execution_count": 310,
   "metadata": {},
   "outputs": [
    {
     "data": {
      "text/html": [
       "<div>\n",
       "<style scoped>\n",
       "    .dataframe tbody tr th:only-of-type {\n",
       "        vertical-align: middle;\n",
       "    }\n",
       "\n",
       "    .dataframe tbody tr th {\n",
       "        vertical-align: top;\n",
       "    }\n",
       "\n",
       "    .dataframe thead th {\n",
       "        text-align: right;\n",
       "    }\n",
       "</style>\n",
       "<table border=\"1\" class=\"dataframe\">\n",
       "  <thead>\n",
       "    <tr style=\"text-align: right;\">\n",
       "      <th></th>\n",
       "      <th>future</th>\n",
       "      <th>side</th>\n",
       "      <th>size</th>\n",
       "      <th>usd_value</th>\n",
       "      <th>last</th>\n",
       "      <th>recentBreakEvenPrice</th>\n",
       "      <th>recentPnl</th>\n",
       "      <th>estimatedLiquidationPrice</th>\n",
       "    </tr>\n",
       "  </thead>\n",
       "  <tbody>\n",
       "    <tr>\n",
       "      <th>0</th>\n",
       "      <td>FTT-PERP</td>\n",
       "      <td>sell</td>\n",
       "      <td>61.8</td>\n",
       "      <td>3019.9188</td>\n",
       "      <td>0.18851</td>\n",
       "      <td>48.839</td>\n",
       "      <td>-1.6686</td>\n",
       "      <td>613.5693250439035</td>\n",
       "    </tr>\n",
       "  </tbody>\n",
       "</table>\n",
       "</div>"
      ],
      "text/plain": [
       "     future  side  size  usd_value     last recentBreakEvenPrice recentPnl  \\\n",
       "0  FTT-PERP  sell  61.8  3019.9188  0.18851               48.839   -1.6686   \n",
       "\n",
       "  estimatedLiquidationPrice  \n",
       "0         613.5693250439035  "
      ]
     },
     "execution_count": 310,
     "metadata": {},
     "output_type": "execute_result"
    }
   ],
   "source": [
    "smart_order.iloc[[0]]"
   ]
  },
  {
   "cell_type": "code",
   "execution_count": 235,
   "metadata": {},
   "outputs": [
    {
     "name": "stdout",
     "output_type": "stream",
     "text": [
      "SELECTED SYMBOLS ZIL-PERP  Entry_price 0.18951672802404207  Side :  sell\n",
      "####################################################################################################\n"
     ]
    },
    {
     "data": {
      "text/html": [
       "<div>\n",
       "<style scoped>\n",
       "    .dataframe tbody tr th:only-of-type {\n",
       "        vertical-align: middle;\n",
       "    }\n",
       "\n",
       "    .dataframe tbody tr th {\n",
       "        vertical-align: top;\n",
       "    }\n",
       "\n",
       "    .dataframe thead th {\n",
       "        text-align: right;\n",
       "    }\n",
       "</style>\n",
       "<table border=\"1\" class=\"dataframe\">\n",
       "  <thead>\n",
       "    <tr style=\"text-align: right;\">\n",
       "      <th></th>\n",
       "      <th>symbols</th>\n",
       "      <th>side</th>\n",
       "      <th>size</th>\n",
       "      <th>usd_value</th>\n",
       "      <th>last</th>\n",
       "      <th>entry_price</th>\n",
       "      <th>pnl</th>\n",
       "      <th>liquidate_price</th>\n",
       "      <th>diff_liq</th>\n",
       "      <th>tp</th>\n",
       "      <th>sl</th>\n",
       "    </tr>\n",
       "  </thead>\n",
       "  <tbody>\n",
       "    <tr>\n",
       "      <th>0</th>\n",
       "      <td>ZIL-PERP</td>\n",
       "      <td>sell</td>\n",
       "      <td>26620.0</td>\n",
       "      <td>4823.2778</td>\n",
       "      <td>0.18128</td>\n",
       "      <td>0.189517</td>\n",
       "      <td>221.6575</td>\n",
       "      <td>0.507211</td>\n",
       "      <td>1.676339</td>\n",
       "      <td>0.161089</td>\n",
       "      <td>0.208468</td>\n",
       "    </tr>\n",
       "  </tbody>\n",
       "</table>\n",
       "</div>"
      ],
      "text/plain": [
       "    symbols  side     size  usd_value     last  entry_price       pnl  \\\n",
       "0  ZIL-PERP  sell  26620.0  4823.2778  0.18128     0.189517  221.6575   \n",
       "\n",
       "   liquidate_price  diff_liq        tp        sl  \n",
       "0         0.507211  1.676339  0.161089  0.208468  "
      ]
     },
     "execution_count": 235,
     "metadata": {},
     "output_type": "execute_result"
    }
   ],
   "source": [
    "set_sl = True\n",
    "set_tp = True\n",
    "sl_trigger  = 0.10\n",
    "tp_trigger  = 0.15\n",
    "\n",
    "###\n",
    "split_sl = False\n",
    "split_tp = False\n",
    "\n",
    "\n",
    "# tp_split =[0.05,0.02,0.03]\n",
    "# sl_split = [0.02,0.03]\n",
    "tp_split  =[]\n",
    "sl_split =[]\n",
    "\n",
    "for i in smart_order.index:\n",
    "    first_trade =  smart_order.at[i,'usd_value'] - smart_order.at[i,'pnl']\n",
    "    entry  =  smart_order.at[i,'entry_price']\n",
    "    print('SELECTED SYMBOLS',smart_order.at[i,'symbols'],' Entry_price',entry,' Side : ',smart_order.at[i,'side']) \n",
    "    ## Check LIST TP , SL \n",
    "    if tp_split !=[]:\n",
    "        # input list \n",
    "        tp_price_list = price_list(tp_split,entry,mode='tp',side= smart_order.at[i,'side'])\n",
    "    else :\n",
    "        tp_price_list = price_list([tp_trigger],entry,mode='tp',side= smart_order.at[i,'side'])\n",
    "\n",
    "    if sl_split !=[]:\n",
    "        sl_price_list = price_list(sl_split,entry,mode='sl',side= smart_order.at[i,'side'])\n",
    "        \n",
    "    else :\n",
    "        sl_price_list = price_list([sl_trigger],entry,mode='sl',side= smart_order.at[i,'side'])\n",
    "    \n",
    "    if set_tp ==True:\n",
    "        if split_tp ==True :\n",
    "                for tp in range(len(tp_price_list)):\n",
    "                    smart_order.at[i,f'tp_{tp+1}'] = tp_price_list[tp]\n",
    "\n",
    "        else:\n",
    "            smart_order.at[i,f'tp'] = tp_price_list[0] # Cal แยก side\n",
    "        \n",
    "    if set_sl == True:\n",
    "        if split_sl == True:\n",
    "            for sl in range(len(sl_price_list)):\n",
    "                smart_order.at[i,f'sl_{sl+1}'] = sl_price_list[sl]\n",
    "        else :\n",
    "                smart_order.at[i,f'sl'] = sl_price_list[0] # cal แยก side\n",
    "smart_order"
   ]
  },
  {
   "cell_type": "code",
   "execution_count": 255,
   "metadata": {},
   "outputs": [
    {
     "data": {
      "text/plain": [
       "0.25"
      ]
     },
     "execution_count": 255,
     "metadata": {},
     "output_type": "execute_result"
    }
   ],
   "source": [
    "sum(tp_targets)"
   ]
  },
  {
   "cell_type": "code",
   "execution_count": 218,
   "metadata": {},
   "outputs": [
    {
     "data": {
      "text/plain": [
       "[0.20846840082644627]"
      ]
     },
     "execution_count": 218,
     "metadata": {},
     "output_type": "execute_result"
    }
   ],
   "source": [
    "sl_price_list = price_list([sl_trigger],entry,mode='sl',side= smart_order.at[i,'side'])\n",
    "sl_price_list"
   ]
  },
  {
   "cell_type": "markdown",
   "metadata": {},
   "source": [
    "# Below OLD WAYS"
   ]
  },
  {
   "cell_type": "markdown",
   "metadata": {},
   "source": [
    "# Add New Function Futrue Bot \n"
   ]
  },
  {
   "cell_type": "code",
   "execution_count": 686,
   "metadata": {},
   "outputs": [],
   "source": [
    "def _future_postion_now():\n",
    "    res= exchange.private_get_positions()\n",
    "\n",
    "    list_trade = []\n",
    "    for i in res['result']:\n",
    "        if i['size']>0 :\n",
    "            i['entry_p'] = (i['cost'] - i['realizedPnl']) /i['size']\n",
    "\n",
    "            trade_dict = {}\n",
    "            price= exchange.fetch_ticker(i['future'])\n",
    "            trade_dict['symbols'] = (i['future'])\n",
    "            trade_dict['side'] =i['side']\n",
    "            trade_dict['size'] = i['size']\n",
    "            trade_dict['entry_price'] = i['entry_p']\n",
    "            trade_dict['last'] = i['entryPrice']\n",
    "            trade_dict['diff'] = 1-(trade_dict['last'] / trade_dict['entry_price'])\n",
    "            trade_dict['usd_values'] = trade_dict['entry_price'] * trade_dict['size']\n",
    "            # add values \n",
    "            trade_dict['pnl'] = i['realizedPnl']\n",
    "            trade_dict['init_margin'] = i['initialMarginRequirement']\n",
    "            trade_dict['maintennance_margin'] = i['maintenanceMarginRequirement']\n",
    "            trade_dict['collateral'] = i['collateralUsed']\n",
    "            trade_dict['liquidate_price']  = i['estimatedLiquidationPrice']\n",
    "#             print(trade_dict)\n",
    "            list_trade.append(trade_dict)\n",
    "    return list_trade"
   ]
  },
  {
   "cell_type": "code",
   "execution_count": 688,
   "metadata": {},
   "outputs": [
    {
     "data": {
      "text/plain": [
       "[{'symbols': 'FTT-PERP',\n",
       "  'side': 'buy',\n",
       "  'size': 199.0,\n",
       "  'entry_price': 62.01078364773869,\n",
       "  'last': 61.274,\n",
       "  'diff': 0.011881540667573187,\n",
       "  'usd_values': 12340.1459459,\n",
       "  'pnl': -146.6199459,\n",
       "  'init_margin': 0.1,\n",
       "  'maintennance_margin': 0.03,\n",
       "  'collateral': 1219.3526,\n",
       "  'liquidate_price': 45.56976442123139},\n",
       " {'symbols': 'MATIC-PERP',\n",
       "  'side': 'buy',\n",
       "  'size': 7203.0,\n",
       "  'entry_price': 1.542006809557129,\n",
       "  'last': 1.5255425,\n",
       "  'diff': 0.01067719640087561,\n",
       "  'usd_values': 11107.07504924,\n",
       "  'pnl': -118.59242174,\n",
       "  'init_margin': 0.1,\n",
       "  'maintennance_margin': 0.03,\n",
       "  'collateral': 1098.84826275,\n",
       "  'liquidate_price': 1.0916756556053098}]"
      ]
     },
     "execution_count": 688,
     "metadata": {},
     "output_type": "execute_result"
    }
   ],
   "source": [
    "list_trade= _future_postion_now()\n",
    "pos =pd.DataFrame(list_trade)\n",
    "list_trade"
   ]
  },
  {
   "cell_type": "code",
   "execution_count": 689,
   "metadata": {},
   "outputs": [
    {
     "name": "stdout",
     "output_type": "stream",
     "text": [
      "Order Not found Want To New Trades?\n",
      "OK\n"
     ]
    }
   ],
   "source": [
    "smart_trade = []\n",
    "if list_trade != []:\n",
    "    for trade in list_trade:\n",
    "        if trade['symbols'] == 'MATIC-PERP':\n",
    "            print('OK')\n",
    "            smart_trade.append(trade) \n",
    "        else:\n",
    "            print('Order Not found Want To New Trades?')"
   ]
  },
  {
   "cell_type": "code",
   "execution_count": 690,
   "metadata": {},
   "outputs": [],
   "source": []
  },
  {
   "cell_type": "code",
   "execution_count": 694,
   "metadata": {},
   "outputs": [
    {
     "data": {
      "text/html": [
       "<div>\n",
       "<style scoped>\n",
       "    .dataframe tbody tr th:only-of-type {\n",
       "        vertical-align: middle;\n",
       "    }\n",
       "\n",
       "    .dataframe tbody tr th {\n",
       "        vertical-align: top;\n",
       "    }\n",
       "\n",
       "    .dataframe thead th {\n",
       "        text-align: right;\n",
       "    }\n",
       "</style>\n",
       "<table border=\"1\" class=\"dataframe\">\n",
       "  <thead>\n",
       "    <tr style=\"text-align: right;\">\n",
       "      <th></th>\n",
       "      <th>symbols</th>\n",
       "      <th>side</th>\n",
       "      <th>size</th>\n",
       "      <th>entry_price</th>\n",
       "      <th>last</th>\n",
       "      <th>diff</th>\n",
       "      <th>usd_values</th>\n",
       "      <th>pnl</th>\n",
       "      <th>init_margin</th>\n",
       "      <th>maintennance_margin</th>\n",
       "      <th>collateral</th>\n",
       "      <th>liquidate_price</th>\n",
       "      <th>diff_liq</th>\n",
       "    </tr>\n",
       "  </thead>\n",
       "  <tbody>\n",
       "    <tr>\n",
       "      <th>0</th>\n",
       "      <td>FTT-PERP</td>\n",
       "      <td>buy</td>\n",
       "      <td>199.0</td>\n",
       "      <td>62.010784</td>\n",
       "      <td>61.260000</td>\n",
       "      <td>0.012107</td>\n",
       "      <td>12340.145946</td>\n",
       "      <td>-149.405946</td>\n",
       "      <td>0.1</td>\n",
       "      <td>0.03</td>\n",
       "      <td>1219.07400</td>\n",
       "      <td>45.603665</td>\n",
       "      <td>-0.264585</td>\n",
       "    </tr>\n",
       "    <tr>\n",
       "      <th>1</th>\n",
       "      <td>MATIC-PERP</td>\n",
       "      <td>buy</td>\n",
       "      <td>7203.0</td>\n",
       "      <td>1.542007</td>\n",
       "      <td>1.524565</td>\n",
       "      <td>0.011311</td>\n",
       "      <td>11107.075049</td>\n",
       "      <td>-125.633354</td>\n",
       "      <td>0.1</td>\n",
       "      <td>0.03</td>\n",
       "      <td>1098.14417</td>\n",
       "      <td>1.092022</td>\n",
       "      <td>-0.291818</td>\n",
       "    </tr>\n",
       "  </tbody>\n",
       "</table>\n",
       "</div>"
      ],
      "text/plain": [
       "      symbols side    size  entry_price       last      diff    usd_values  \\\n",
       "0    FTT-PERP  buy   199.0    62.010784  61.260000  0.012107  12340.145946   \n",
       "1  MATIC-PERP  buy  7203.0     1.542007   1.524565  0.011311  11107.075049   \n",
       "\n",
       "          pnl  init_margin  maintennance_margin  collateral  liquidate_price  \\\n",
       "0 -149.405946          0.1                 0.03  1219.07400        45.603665   \n",
       "1 -125.633354          0.1                 0.03  1098.14417         1.092022   \n",
       "\n",
       "   diff_liq  \n",
       "0 -0.264585  \n",
       "1 -0.291818  "
      ]
     },
     "execution_count": 694,
     "metadata": {},
     "output_type": "execute_result"
    }
   ],
   "source": [
    "# Raw \n",
    "smart_order  =pd.DataFrame(list_trade) # all symbols\n",
    "smart_order['diff_liq']=( smart_order['liquidate_price'] -smart_order['entry_price'] ) / smart_order['entry_price']\n",
    "smart_order"
   ]
  },
  {
   "cell_type": "code",
   "execution_count": 692,
   "metadata": {},
   "outputs": [
    {
     "name": "stdout",
     "output_type": "stream",
     "text": [
      "SELECTED SYMBOLS FTT-PERP\n",
      "SELECTED SYMBOLS MATIC-PERP\n"
     ]
    }
   ],
   "source": [
    "# Approve Sell side \n",
    "def smart_trade(symbols,size,price):\n",
    "    print(symbols,size,price)\n",
    "    return \n",
    "\n",
    "split_sl = False\n",
    "split_tp = False\n",
    "\n",
    "list_trade= _future_postion_now()\n",
    "# smart_order  =pd.DataFrame(smart_trade) # Selecte symbols\n",
    "smart_order  =pd.DataFrame(list_trade) # all symbols\n",
    "smart_order['diff_liq']=( smart_order['liquidate_price'] -smart_order['entry_price'] ) / smart_order['entry_price']\n",
    "\n",
    "for i in smart_order.index:\n",
    "    print('SELECTED SYMBOLS',smart_order.at[i,'symbols']) \n",
    "    entry  =  smart_order.at[i,'entry_price']\n",
    "    if smart_order.at[i,'side'] == 'buy':\n",
    "        \n",
    "        first_trade =  smart_order.at[i,'usd_values'] - smart_order.at[i,'pnl']\n",
    "    if set_tp == True:\n",
    "        if split_tp == True:\n",
    "            tp_price_list = price_list(tp_split,entry,mode='tp')\n",
    "            for tp in range(len(tp_price_list)):\n",
    "                smart_order.at[i,f'tp_{tp+1}'] = tp_price_list[tp]\n",
    "                smart_order.at[i,f'tp_{tp+1}_$']=(smart_order.at[i,f'tp_{tp+1}']  *smart_order.at[i,'size'] ) - first_trade \n",
    "        else :\n",
    "            smart_order.at[i,f'tp'] = (entry * tp_trigger)+entry\n",
    "            smart_order.at[i,f'tp_$']=(smart_order.at[i,f'tp']  *smart_order.at[i,'size'] ) - first_trade \n",
    "\n",
    "############################################################################################################            \n",
    "    if set_sl == True:\n",
    "        if split_sl == True:\n",
    "            sl_price_list = price_list(sl_split,entry,mode='sl')\n",
    "            for sl in range(len(sl_price_list)):\n",
    "                smart_order.at[i,f'sl_{sl+1}'] = sl_price_list[sl]\n",
    "                smart_order.at[i,f'sl_{sl+1}_$']=(smart_order.at[i,f'sl_{sl+1}']  *smart_order.at[i,'size'] ) - first_trade \n",
    "\n",
    "        else :\n",
    "            smart_order.at[i,f'sl'] = entry - (entry * sl_trigger)\n",
    "            smart_order.at[i,f'sl_$']=(smart_order.at[i,f'sl']  *smart_order.at[i,'size'] ) - first_trade \n"
   ]
  },
  {
   "cell_type": "code",
   "execution_count": 693,
   "metadata": {},
   "outputs": [
    {
     "data": {
      "text/html": [
       "<div>\n",
       "<style scoped>\n",
       "    .dataframe tbody tr th:only-of-type {\n",
       "        vertical-align: middle;\n",
       "    }\n",
       "\n",
       "    .dataframe tbody tr th {\n",
       "        vertical-align: top;\n",
       "    }\n",
       "\n",
       "    .dataframe thead th {\n",
       "        text-align: right;\n",
       "    }\n",
       "</style>\n",
       "<table border=\"1\" class=\"dataframe\">\n",
       "  <thead>\n",
       "    <tr style=\"text-align: right;\">\n",
       "      <th></th>\n",
       "      <th>symbols</th>\n",
       "      <th>side</th>\n",
       "      <th>size</th>\n",
       "      <th>entry_price</th>\n",
       "      <th>last</th>\n",
       "      <th>diff</th>\n",
       "      <th>usd_values</th>\n",
       "      <th>pnl</th>\n",
       "      <th>liquidate_price</th>\n",
       "      <th>diff_liq</th>\n",
       "      <th>tp</th>\n",
       "      <th>tp_$</th>\n",
       "      <th>sl</th>\n",
       "      <th>sl_$</th>\n",
       "    </tr>\n",
       "  </thead>\n",
       "  <tbody>\n",
       "    <tr>\n",
       "      <th>0</th>\n",
       "      <td>FTT-PERP</td>\n",
       "      <td>buy</td>\n",
       "      <td>199.0</td>\n",
       "      <td>62.010784</td>\n",
       "      <td>61.260000</td>\n",
       "      <td>0.012107</td>\n",
       "      <td>12340.145946</td>\n",
       "      <td>-149.405946</td>\n",
       "      <td>45.603665</td>\n",
       "      <td>-0.264585</td>\n",
       "      <td>68.211862</td>\n",
       "      <td>1084.608649</td>\n",
       "      <td>58.910244</td>\n",
       "      <td>-766.413243</td>\n",
       "    </tr>\n",
       "    <tr>\n",
       "      <th>1</th>\n",
       "      <td>MATIC-PERP</td>\n",
       "      <td>buy</td>\n",
       "      <td>7203.0</td>\n",
       "      <td>1.542007</td>\n",
       "      <td>1.524565</td>\n",
       "      <td>0.011311</td>\n",
       "      <td>11107.075049</td>\n",
       "      <td>-125.633354</td>\n",
       "      <td>1.092022</td>\n",
       "      <td>-0.291818</td>\n",
       "      <td>1.696207</td>\n",
       "      <td>985.074151</td>\n",
       "      <td>1.464906</td>\n",
       "      <td>-680.987107</td>\n",
       "    </tr>\n",
       "  </tbody>\n",
       "</table>\n",
       "</div>"
      ],
      "text/plain": [
       "      symbols side    size  entry_price       last      diff    usd_values  \\\n",
       "0    FTT-PERP  buy   199.0    62.010784  61.260000  0.012107  12340.145946   \n",
       "1  MATIC-PERP  buy  7203.0     1.542007   1.524565  0.011311  11107.075049   \n",
       "\n",
       "          pnl  liquidate_price  diff_liq         tp         tp_$         sl  \\\n",
       "0 -149.405946        45.603665 -0.264585  68.211862  1084.608649  58.910244   \n",
       "1 -125.633354         1.092022 -0.291818   1.696207   985.074151   1.464906   \n",
       "\n",
       "         sl_$  \n",
       "0 -766.413243  \n",
       "1 -680.987107  "
      ]
     },
     "execution_count": 693,
     "metadata": {},
     "output_type": "execute_result"
    }
   ],
   "source": [
    "smart_order = smart_order[smart_order.columns[~smart_order.columns.isin(['maintennance_margin','collateral','init_margin'])]]\n",
    "smart_order\n",
    "# for loop send nortify price check tp ,sl ,diff "
   ]
  },
  {
   "cell_type": "code",
   "execution_count": 666,
   "metadata": {},
   "outputs": [
    {
     "name": "stdout",
     "output_type": "stream",
     "text": [
      "[0.05, 0.02, 0.03] [0.02, 0.03, 0.0]\n",
      "[64.17495, 65.39733, 67.2309] [58.06305, 59.89662]\n"
     ]
    }
   ],
   "source": [
    "def tp_split_clean(tp_split:list):\n",
    "#     tp_split = [0.03,0.02,0.05]\n",
    "    try:\n",
    "    # Fill Loop with 3 array\n",
    "        while len(tp_split) != 3:\n",
    "            tp_split.append(0.00)\n",
    "\n",
    "        return tp_split\n",
    "    except:\n",
    "        print('Values Error ')\n",
    "\n",
    "def sl_split_clean(sl_split:list):\n",
    "    try:\n",
    "\n",
    "        while len(sl_split) != 3:\n",
    "            sl_split.append(0.00)\n",
    "            return sl_split\n",
    "    except :\n",
    "        print('Values Error ')\n",
    "def price_list(list_split,entry_price,mode='tp'):\n",
    "    sum_p = 0.0\n",
    "    price_list = []\n",
    "    if mode== 'tp':\n",
    "        for i in list_split:\n",
    "            sum_p +=i \n",
    "            tp_price =(entry_price * sum_p)+ entry_price\n",
    "            price_list.append(tp_price)\n",
    "        price_list = list(set(price_list))\n",
    "#     elif mode == 'sl':\n",
    "    else:\n",
    "        for i in list_split:\n",
    "            sum_p +=i \n",
    "            sl_price = entry_price - (entry_price * sum_p)\n",
    "            price_list.append(sl_price)\n",
    "            price_list = list(set(price_list))\n",
    "        \n",
    "    return price_list\n",
    "\n",
    "        \n",
    "        \n",
    "tp_split =tp_split_clean([0.05,0.02,0.03])\n",
    "sl_split = sl_split_clean([0.02,0.03])\n",
    "\n",
    "\n",
    "\n",
    "tp_price_list = price_list(tp_split,61.119,mode='tp')\n",
    "sl_price_list = price_list(sl_split,61.119,mode='sl')\n",
    "\n",
    "print(tp_split,sl_split)\n",
    "print(tp_price_list,sl_price_list)"
   ]
  },
  {
   "cell_type": "code",
   "execution_count": null,
   "metadata": {},
   "outputs": [],
   "source": []
  }
 ],
 "metadata": {
  "kernelspec": {
   "display_name": "Python 3",
   "language": "python",
   "name": "python3"
  },
  "language_info": {
   "codemirror_mode": {
    "name": "ipython",
    "version": 3
   },
   "file_extension": ".py",
   "mimetype": "text/x-python",
   "name": "python",
   "nbconvert_exporter": "python",
   "pygments_lexer": "ipython3",
   "version": "3.7.4"
  },
  "varInspector": {
   "cols": {
    "lenName": 16,
    "lenType": 16,
    "lenVar": 40
   },
   "kernels_config": {
    "python": {
     "delete_cmd_postfix": "",
     "delete_cmd_prefix": "del ",
     "library": "var_list.py",
     "varRefreshCmd": "print(var_dic_list())"
    },
    "r": {
     "delete_cmd_postfix": ") ",
     "delete_cmd_prefix": "rm(",
     "library": "var_list.r",
     "varRefreshCmd": "cat(var_dic_list()) "
    }
   },
   "types_to_exclude": [
    "module",
    "function",
    "builtin_function_or_method",
    "instance",
    "_Feature"
   ],
   "window_display": false
  }
 },
 "nbformat": 4,
 "nbformat_minor": 4
}
