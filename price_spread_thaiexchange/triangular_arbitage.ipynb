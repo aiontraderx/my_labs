{
 "cells": [
  {
   "cell_type": "code",
   "execution_count": 3,
   "metadata": {
    "tags": []
   },
   "outputs": [],
   "source": [
    "from collections import defaultdict\n",
    "from operator import itemgetter\n",
    "from time import time\n",
    "\n",
    "from binance.client import Client\n",
    "\n",
    "FEE = 0.0005\n",
    "PRIMARY = [ 'USDT', 'BTC',]\n",
    "\n",
    "\n",
    "def main():\n",
    "    start_time = time()\n",
    "\n",
    "    prices = get_prices()\n",
    "    prices_time = time()\n",
    "    print(f\"Downloaded in: {prices_time - start_time:.4f}s\")\n",
    "\n",
    "    triangles = list(find_triangles(prices))\n",
    "    print(f\"Computed in: {time() - prices_time:.4f}s\")\n",
    "\n",
    "    # if triangles:\n",
    "    #     for triangle in sorted(triangles, key=itemgetter('profit'), reverse=True):\n",
    "    #         describe_triangle(prices, triangle)\n",
    "    # else:\n",
    "    #     print(\"No triangles found, try again!\")\n",
    "    return triangles\n",
    "        \n",
    "        \n",
    "\n",
    "def get_prices():\n",
    "    client = Client()\n",
    "    prices = client.get_orderbook_tickers()\n",
    "    prepared = defaultdict(dict)\n",
    "    for ticker in prices:\n",
    "        pair = ticker['symbol']\n",
    "        ask = float(ticker['askPrice'])\n",
    "        bid = float(ticker['bidPrice'])\n",
    "        if ask == 0.0:\n",
    "            continue\n",
    "        for primary in PRIMARY:\n",
    "            if pair.endswith(primary):\n",
    "                secondary = pair[:-len(primary)]\n",
    "                prepared[primary][secondary] = 1 / ask\n",
    "                prepared[secondary][primary] = bid\n",
    "    return prepared\n",
    "\n",
    "\n",
    "def find_triangles(prices):\n",
    "    triangles = []\n",
    "    starting_coin = 'USDT'\n",
    "    for triangle in recurse_triangle(prices, starting_coin, starting_coin):\n",
    "        coins = set(triangle['coins'])\n",
    "        if not any(prev_triangle == coins for prev_triangle in triangles):\n",
    "            yield triangle\n",
    "            triangles.append(coins)\n",
    "\n",
    "\n",
    "def recurse_triangle(prices, current_coin, starting_coin, depth_left=3, amount=1.0):\n",
    "    if depth_left > 0:\n",
    "        pairs = prices[current_coin]\n",
    "        for coin, price in pairs.items():\n",
    "            new_price = (amount * price) * (1.0 - FEE)\n",
    "            for triangle in recurse_triangle(prices, coin, starting_coin, depth_left - 1, new_price):\n",
    "                triangle['coins'] = triangle['coins'] + [current_coin]\n",
    "                return triangle\n",
    "    elif current_coin == starting_coin and amount > 1.0:\n",
    "        yield {\n",
    "            'coins': [current_coin],\n",
    "            'profit': amount\n",
    "        }\n",
    "\n",
    "\n",
    "def describe_triangle(prices, triangle):\n",
    "    coins = triangle['coins']\n",
    "    price_percentage = (triangle['profit'] - 1.0) * 100\n",
    "    print(f\"{'->'.join(coins):26} {round(price_percentage, 4):-7}% <- profit!\")\n",
    "    for i in range(len(coins) - 1):\n",
    "        first = coins[i]\n",
    "        second = coins[i + 1]\n",
    "        print(f\"     {second:4} / {first:4}: {prices[first][second]:-17.8f}\")\n",
    "    print('')\n",
    "\n",
    "\n",
    "# main()"
   ]
  },
  {
   "cell_type": "code",
   "execution_count": 4,
   "metadata": {},
   "outputs": [],
   "source": [
    "# main()\n",
    "prices =get_prices()"
   ]
  },
  {
   "cell_type": "code",
   "execution_count": 7,
   "metadata": {},
   "outputs": [
    {
     "data": {
      "text/plain": [
       "[]"
      ]
     },
     "execution_count": 7,
     "metadata": {},
     "output_type": "execute_result"
    }
   ],
   "source": [
    "list(recurse_triangle(prices,'USDT','USDT'))"
   ]
  },
  {
   "cell_type": "code",
   "execution_count": 1,
   "metadata": {},
   "outputs": [],
   "source": [
    "import ccxt\n",
    "\n",
    "ex=  ccxt.binance()\n",
    "\n",
    "# https://github.com/ugik/notebooks/blob/master/Binance%20Arbitrage.ipynb\n",
    "# https://gist.github.com/Valian/d16ef72a0e17ee82c0acf606d6a744d7\n",
    "# https://algotrading101.com/learn/crypto-arbitrage-guide/"
   ]
  },
  {
   "cell_type": "code",
   "execution_count": null,
   "metadata": {},
   "outputs": [],
   "source": []
  },
  {
   "cell_type": "code",
   "execution_count": null,
   "metadata": {},
   "outputs": [],
   "source": []
  }
 ],
 "metadata": {
  "kernelspec": {
   "display_name": "Python 3",
   "language": "python",
   "name": "python3"
  },
  "language_info": {
   "codemirror_mode": {
    "name": "ipython",
    "version": 3
   },
   "file_extension": ".py",
   "mimetype": "text/x-python",
   "name": "python",
   "nbconvert_exporter": "python",
   "pygments_lexer": "ipython3",
   "version": "3.7.4"
  }
 },
 "nbformat": 4,
 "nbformat_minor": 4
}
