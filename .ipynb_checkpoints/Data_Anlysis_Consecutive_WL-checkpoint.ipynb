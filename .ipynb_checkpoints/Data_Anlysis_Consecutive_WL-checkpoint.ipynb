{
 "cells": [
  {
   "cell_type": "code",
   "execution_count": 1,
   "metadata": {},
   "outputs": [],
   "source": [
    "\n",
    "import ccxt\n",
    "from datetime import datetime as dt,timedelta\n",
    "import seaborn as sns \n",
    "import matplotlib.pyplot as plt\n",
    "import numpy as np\n",
    "import pandas as pd\n",
    "import pandas_ta as ta\n",
    "import vectorbt as vbt\n",
    "import warnings\n",
    "import plotly.graph_objects as go\n",
    "\n",
    "warnings.filterwarnings('ignore')\n",
    "\n",
    "# from pandas.tseries.offsets import BDay\n",
    "\n",
    "# !pip install -U vectorbt\n",
    "ex = ccxt.ftx({'enableRateLimit':True})\n"
   ]
  },
  {
   "cell_type": "code",
   "execution_count": 2,
   "metadata": {},
   "outputs": [],
   "source": [
    "# Get Data \n",
    "\n",
    "def get_data(symbols:str  , **kwarg ):\n",
    "\n",
    "    data= pd.DataFrame(ex.fetch_ohlcv(symbols,**kwarg ),columns=['date','open','high','low','close','volume'])\n",
    "#         data.drop(columns='volume',inplace=True)\n",
    "    data['date']=data['date'].apply(ex.iso8601)\n",
    "    data['date']=pd.to_datetime(data['date'])\n",
    "#   df['date']=df['date'].apply(lambda x: x.strftime('%Y-%m-%d %H:%M'))\n",
    "#   df['date']=pd.to_datetime(df['date'])\n",
    "    data.set_index('date',inplace=True)\n",
    "\n",
    "    return data\n",
    "\n",
    "def cal_consecutive(df:pd.DataFrame):\n",
    "\n",
    "    df['win']= np.sign(df) # assign sign on log\n",
    "    blocks = df['win'].ne(df['win'].shift()).cumsum() \n",
    "    df['consecutive_WL'] = df['win'].groupby(blocks).cumsum()\n",
    "    return df['consecutive_WL'] \n",
    "\n",
    "\n",
    "\n",
    "\n",
    "# to do update ,save\n",
    "# vectorbt data class \n"
   ]
  },
  {
   "cell_type": "code",
   "execution_count": 3,
   "metadata": {},
   "outputs": [],
   "source": [
    "def scale_data(symbol,**kwarg):\n",
    "    df  =get_data(symbol,**kwargs)\n",
    "\n",
    "    df['scale_close'] = (df['close'] - df['close'].min()) / (df['close'].max() -df['close'].min())\n",
    "    return df\n"
   ]
  },
  {
   "cell_type": "code",
   "execution_count": 4,
   "metadata": {},
   "outputs": [
    {
     "data": {
      "text/html": [
       "<div>\n",
       "<style scoped>\n",
       "    .dataframe tbody tr th:only-of-type {\n",
       "        vertical-align: middle;\n",
       "    }\n",
       "\n",
       "    .dataframe tbody tr th {\n",
       "        vertical-align: top;\n",
       "    }\n",
       "\n",
       "    .dataframe thead th {\n",
       "        text-align: right;\n",
       "    }\n",
       "</style>\n",
       "<table border=\"1\" class=\"dataframe\">\n",
       "  <thead>\n",
       "    <tr style=\"text-align: right;\">\n",
       "      <th></th>\n",
       "      <th>pnl</th>\n",
       "      <th>mae</th>\n",
       "      <th>mfe</th>\n",
       "      <th>volatile</th>\n",
       "    </tr>\n",
       "  </thead>\n",
       "  <tbody>\n",
       "    <tr>\n",
       "      <th>count</th>\n",
       "      <td>1500.000000</td>\n",
       "      <td>1500.000000</td>\n",
       "      <td>1500.000000</td>\n",
       "      <td>1500.000000</td>\n",
       "    </tr>\n",
       "    <tr>\n",
       "      <th>mean</th>\n",
       "      <td>0.001062</td>\n",
       "      <td>-0.018257</td>\n",
       "      <td>0.018676</td>\n",
       "      <td>0.007950</td>\n",
       "    </tr>\n",
       "    <tr>\n",
       "      <th>std</th>\n",
       "      <td>0.026742</td>\n",
       "      <td>0.019860</td>\n",
       "      <td>0.022798</td>\n",
       "      <td>0.039155</td>\n",
       "    </tr>\n",
       "    <tr>\n",
       "      <th>min</th>\n",
       "      <td>-0.138043</td>\n",
       "      <td>-0.312468</td>\n",
       "      <td>-0.000363</td>\n",
       "      <td>-0.288701</td>\n",
       "    </tr>\n",
       "    <tr>\n",
       "      <th>25%</th>\n",
       "      <td>-0.011794</td>\n",
       "      <td>-0.024109</td>\n",
       "      <td>0.006572</td>\n",
       "      <td>-0.015163</td>\n",
       "    </tr>\n",
       "    <tr>\n",
       "      <th>50%</th>\n",
       "      <td>0.001110</td>\n",
       "      <td>-0.013023</td>\n",
       "      <td>0.013369</td>\n",
       "      <td>-0.000223</td>\n",
       "    </tr>\n",
       "    <tr>\n",
       "      <th>75%</th>\n",
       "      <td>0.013644</td>\n",
       "      <td>-0.006306</td>\n",
       "      <td>0.024498</td>\n",
       "      <td>0.030327</td>\n",
       "    </tr>\n",
       "    <tr>\n",
       "      <th>max</th>\n",
       "      <td>0.362494</td>\n",
       "      <td>0.000000</td>\n",
       "      <td>0.396852</td>\n",
       "      <td>0.403209</td>\n",
       "    </tr>\n",
       "  </tbody>\n",
       "</table>\n",
       "</div>"
      ],
      "text/plain": [
       "               pnl          mae          mfe     volatile\n",
       "count  1500.000000  1500.000000  1500.000000  1500.000000\n",
       "mean      0.001062    -0.018257     0.018676     0.007950\n",
       "std       0.026742     0.019860     0.022798     0.039155\n",
       "min      -0.138043    -0.312468    -0.000363    -0.288701\n",
       "25%      -0.011794    -0.024109     0.006572    -0.015163\n",
       "50%       0.001110    -0.013023     0.013369    -0.000223\n",
       "75%       0.013644    -0.006306     0.024498     0.030327\n",
       "max       0.362494     0.000000     0.396852     0.403209"
      ]
     },
     "execution_count": 4,
     "metadata": {},
     "output_type": "execute_result"
    }
   ],
   "source": [
    "df1 = get_data('ZIL-PERP',**{'timeframe':'4h'})\n",
    "df1['ret'] = np.log(df1['close']/df1['close'].shift(1))\n",
    "df1['consec_wl'] = cal_consecutive(df1['ret'])\n",
    "df1['mae'] =(df1['low'] - df1['close'].shift(1) ) /df1['close'].shift(1)  \n",
    "df1['mfe'] =(df1['high'] - df1['close'].shift(1) ) /df1['close'].shift(1)  \n",
    "df1['pnl'] = (df1['close'] -df1['close'].shift(1) ) / df1['close'].shift(1) \n",
    "\n",
    "df1['volatile'] = df1['mfe'] +abs(df1['mae']) *  (np.where(df1['mfe'] >= abs(df1['mae']) ,1,-1)) # real volatility \n",
    "df1.dropna(inplace=True)\n",
    "df1[['pnl','mae','mfe','volatile']].describe()"
   ]
  },
  {
   "cell_type": "code",
   "execution_count": 5,
   "metadata": {},
   "outputs": [
    {
     "data": {
      "text/html": [
       "<div>\n",
       "<style scoped>\n",
       "    .dataframe tbody tr th:only-of-type {\n",
       "        vertical-align: middle;\n",
       "    }\n",
       "\n",
       "    .dataframe tbody tr th {\n",
       "        vertical-align: top;\n",
       "    }\n",
       "\n",
       "    .dataframe thead th {\n",
       "        text-align: right;\n",
       "    }\n",
       "</style>\n",
       "<table border=\"1\" class=\"dataframe\">\n",
       "  <thead>\n",
       "    <tr style=\"text-align: right;\">\n",
       "      <th></th>\n",
       "      <th>close</th>\n",
       "      <th>vwap</th>\n",
       "    </tr>\n",
       "    <tr>\n",
       "      <th>date</th>\n",
       "      <th></th>\n",
       "      <th></th>\n",
       "    </tr>\n",
       "  </thead>\n",
       "  <tbody>\n",
       "    <tr>\n",
       "      <th>2021-07-24 16:00:00+00:00</th>\n",
       "      <td>0.06469</td>\n",
       "      <td>0.065190</td>\n",
       "    </tr>\n",
       "    <tr>\n",
       "      <th>2021-07-24 20:00:00+00:00</th>\n",
       "      <td>0.06456</td>\n",
       "      <td>0.064832</td>\n",
       "    </tr>\n",
       "    <tr>\n",
       "      <th>2021-07-25 00:00:00+00:00</th>\n",
       "      <td>0.06300</td>\n",
       "      <td>0.063373</td>\n",
       "    </tr>\n",
       "    <tr>\n",
       "      <th>2021-07-25 04:00:00+00:00</th>\n",
       "      <td>0.06698</td>\n",
       "      <td>0.065025</td>\n",
       "    </tr>\n",
       "    <tr>\n",
       "      <th>2021-07-25 08:00:00+00:00</th>\n",
       "      <td>0.06761</td>\n",
       "      <td>0.066085</td>\n",
       "    </tr>\n",
       "    <tr>\n",
       "      <th>...</th>\n",
       "      <td>...</td>\n",
       "      <td>...</td>\n",
       "    </tr>\n",
       "    <tr>\n",
       "      <th>2022-03-30 20:00:00+00:00</th>\n",
       "      <td>0.17995</td>\n",
       "      <td>0.152523</td>\n",
       "    </tr>\n",
       "    <tr>\n",
       "      <th>2022-03-31 00:00:00+00:00</th>\n",
       "      <td>0.19632</td>\n",
       "      <td>0.196290</td>\n",
       "    </tr>\n",
       "    <tr>\n",
       "      <th>2022-03-31 04:00:00+00:00</th>\n",
       "      <td>0.19392</td>\n",
       "      <td>0.197108</td>\n",
       "    </tr>\n",
       "    <tr>\n",
       "      <th>2022-03-31 08:00:00+00:00</th>\n",
       "      <td>0.18956</td>\n",
       "      <td>0.195780</td>\n",
       "    </tr>\n",
       "    <tr>\n",
       "      <th>2022-03-31 12:00:00+00:00</th>\n",
       "      <td>0.19006</td>\n",
       "      <td>0.195663</td>\n",
       "    </tr>\n",
       "  </tbody>\n",
       "</table>\n",
       "<p>1500 rows × 2 columns</p>\n",
       "</div>"
      ],
      "text/plain": [
       "                             close      vwap\n",
       "date                                        \n",
       "2021-07-24 16:00:00+00:00  0.06469  0.065190\n",
       "2021-07-24 20:00:00+00:00  0.06456  0.064832\n",
       "2021-07-25 00:00:00+00:00  0.06300  0.063373\n",
       "2021-07-25 04:00:00+00:00  0.06698  0.065025\n",
       "2021-07-25 08:00:00+00:00  0.06761  0.066085\n",
       "...                            ...       ...\n",
       "2022-03-30 20:00:00+00:00  0.17995  0.152523\n",
       "2022-03-31 00:00:00+00:00  0.19632  0.196290\n",
       "2022-03-31 04:00:00+00:00  0.19392  0.197108\n",
       "2022-03-31 08:00:00+00:00  0.18956  0.195780\n",
       "2022-03-31 12:00:00+00:00  0.19006  0.195663\n",
       "\n",
       "[1500 rows x 2 columns]"
      ]
     },
     "execution_count": 5,
     "metadata": {},
     "output_type": "execute_result"
    }
   ],
   "source": [
    "df1['vwap'] = df1.ta.vwap(period=3)\n",
    "df1[['close','vwap']]#.plot()\n"
   ]
  },
  {
   "cell_type": "code",
   "execution_count": 6,
   "metadata": {},
   "outputs": [
    {
     "data": {
      "text/plain": [
       "<matplotlib.axes._subplots.AxesSubplot at 0x1d71e84f308>"
      ]
     },
     "execution_count": 6,
     "metadata": {},
     "output_type": "execute_result"
    },
    {
     "data": {
      "image/png": "[encoded data removed]",
      "text/plain": [
       "<Figure size 432x288 with 1 Axes>"
      ]
     },
     "metadata": {
      "needs_background": "light"
     },
     "output_type": "display_data"
    }
   ],
   "source": [
    "df1['volatile'].plot.hist()\n"
   ]
  },
  {
   "cell_type": "code",
   "execution_count": 9,
   "metadata": {},
   "outputs": [
    {
     "data": {
      "text/plain": [
       "1500"
      ]
     },
     "execution_count": 9,
     "metadata": {},
     "output_type": "execute_result"
    }
   ],
   "source": []
  },
  {
   "cell_type": "code",
   "execution_count": 7,
   "metadata": {},
   "outputs": [],
   "source": [
    "max_ret = df1.groupby('consec_wl').max()['ret']\n",
    "min_ret= df1.groupby('consec_wl').min()['ret']\n",
    "avg_ret = df1.groupby('consec_wl').mean()['ret']\n",
    "count_ret  = df1.groupby('consec_wl').count()['ret']"
   ]
  },
  {
   "cell_type": "code",
   "execution_count": 12,
   "metadata": {},
   "outputs": [
    {
     "data": {
      "text/html": [
       "<div>\n",
       "<style scoped>\n",
       "    .dataframe tbody tr th:only-of-type {\n",
       "        vertical-align: middle;\n",
       "    }\n",
       "\n",
       "    .dataframe tbody tr th {\n",
       "        vertical-align: top;\n",
       "    }\n",
       "\n",
       "    .dataframe thead th {\n",
       "        text-align: right;\n",
       "    }\n",
       "</style>\n",
       "<table border=\"1\" class=\"dataframe\">\n",
       "  <thead>\n",
       "    <tr style=\"text-align: right;\">\n",
       "      <th></th>\n",
       "      <th>max_ret</th>\n",
       "      <th>min_ret</th>\n",
       "      <th>avg_ret</th>\n",
       "      <th>count_ret</th>\n",
       "      <th>pct_count_ret</th>\n",
       "    </tr>\n",
       "    <tr>\n",
       "      <th>consec_wl</th>\n",
       "      <th></th>\n",
       "      <th></th>\n",
       "      <th></th>\n",
       "      <th></th>\n",
       "      <th></th>\n",
       "    </tr>\n",
       "  </thead>\n",
       "  <tbody>\n",
       "    <tr>\n",
       "      <th>-12.0</th>\n",
       "      <td>-0.011312</td>\n",
       "      <td>-0.011312</td>\n",
       "      <td>-0.011312</td>\n",
       "      <td>1</td>\n",
       "      <td>0.066667</td>\n",
       "    </tr>\n",
       "    <tr>\n",
       "      <th>-11.0</th>\n",
       "      <td>-0.001713</td>\n",
       "      <td>-0.001713</td>\n",
       "      <td>-0.001713</td>\n",
       "      <td>1</td>\n",
       "      <td>0.066667</td>\n",
       "    </tr>\n",
       "    <tr>\n",
       "      <th>-10.0</th>\n",
       "      <td>-0.004588</td>\n",
       "      <td>-0.004588</td>\n",
       "      <td>-0.004588</td>\n",
       "      <td>1</td>\n",
       "      <td>0.066667</td>\n",
       "    </tr>\n",
       "    <tr>\n",
       "      <th>-9.0</th>\n",
       "      <td>-0.005520</td>\n",
       "      <td>-0.005520</td>\n",
       "      <td>-0.005520</td>\n",
       "      <td>1</td>\n",
       "      <td>0.066667</td>\n",
       "    </tr>\n",
       "    <tr>\n",
       "      <th>-8.0</th>\n",
       "      <td>-0.007068</td>\n",
       "      <td>-0.007068</td>\n",
       "      <td>-0.007068</td>\n",
       "      <td>1</td>\n",
       "      <td>0.066667</td>\n",
       "    </tr>\n",
       "    <tr>\n",
       "      <th>-7.0</th>\n",
       "      <td>-0.015852</td>\n",
       "      <td>-0.015852</td>\n",
       "      <td>-0.015852</td>\n",
       "      <td>1</td>\n",
       "      <td>0.066667</td>\n",
       "    </tr>\n",
       "    <tr>\n",
       "      <th>-6.0</th>\n",
       "      <td>-0.004439</td>\n",
       "      <td>-0.036058</td>\n",
       "      <td>-0.014640</td>\n",
       "      <td>7</td>\n",
       "      <td>0.466667</td>\n",
       "    </tr>\n",
       "    <tr>\n",
       "      <th>-5.0</th>\n",
       "      <td>-0.004056</td>\n",
       "      <td>-0.148550</td>\n",
       "      <td>-0.041333</td>\n",
       "      <td>15</td>\n",
       "      <td>1.000000</td>\n",
       "    </tr>\n",
       "    <tr>\n",
       "      <th>-4.0</th>\n",
       "      <td>-0.000198</td>\n",
       "      <td>-0.092050</td>\n",
       "      <td>-0.022495</td>\n",
       "      <td>34</td>\n",
       "      <td>2.266667</td>\n",
       "    </tr>\n",
       "    <tr>\n",
       "      <th>-3.0</th>\n",
       "      <td>-0.000337</td>\n",
       "      <td>-0.071495</td>\n",
       "      <td>-0.018810</td>\n",
       "      <td>81</td>\n",
       "      <td>5.400000</td>\n",
       "    </tr>\n",
       "    <tr>\n",
       "      <th>-2.0</th>\n",
       "      <td>-0.000088</td>\n",
       "      <td>-0.078531</td>\n",
       "      <td>-0.016774</td>\n",
       "      <td>175</td>\n",
       "      <td>11.666667</td>\n",
       "    </tr>\n",
       "    <tr>\n",
       "      <th>-1.0</th>\n",
       "      <td>-0.000089</td>\n",
       "      <td>-0.109642</td>\n",
       "      <td>-0.016995</td>\n",
       "      <td>387</td>\n",
       "      <td>25.800000</td>\n",
       "    </tr>\n",
       "    <tr>\n",
       "      <th>0.0</th>\n",
       "      <td>0.000000</td>\n",
       "      <td>0.000000</td>\n",
       "      <td>0.000000</td>\n",
       "      <td>4</td>\n",
       "      <td>0.266667</td>\n",
       "    </tr>\n",
       "    <tr>\n",
       "      <th>1.0</th>\n",
       "      <td>0.122517</td>\n",
       "      <td>0.000168</td>\n",
       "      <td>0.015618</td>\n",
       "      <td>390</td>\n",
       "      <td>26.000000</td>\n",
       "    </tr>\n",
       "    <tr>\n",
       "      <th>2.0</th>\n",
       "      <td>0.148273</td>\n",
       "      <td>0.000107</td>\n",
       "      <td>0.017080</td>\n",
       "      <td>201</td>\n",
       "      <td>13.400000</td>\n",
       "    </tr>\n",
       "    <tr>\n",
       "      <th>3.0</th>\n",
       "      <td>0.127300</td>\n",
       "      <td>0.000193</td>\n",
       "      <td>0.018486</td>\n",
       "      <td>104</td>\n",
       "      <td>6.933333</td>\n",
       "    </tr>\n",
       "    <tr>\n",
       "      <th>4.0</th>\n",
       "      <td>0.196435</td>\n",
       "      <td>0.000096</td>\n",
       "      <td>0.017777</td>\n",
       "      <td>52</td>\n",
       "      <td>3.466667</td>\n",
       "    </tr>\n",
       "    <tr>\n",
       "      <th>5.0</th>\n",
       "      <td>0.124427</td>\n",
       "      <td>0.000370</td>\n",
       "      <td>0.022484</td>\n",
       "      <td>24</td>\n",
       "      <td>1.600000</td>\n",
       "    </tr>\n",
       "    <tr>\n",
       "      <th>6.0</th>\n",
       "      <td>0.309317</td>\n",
       "      <td>0.000151</td>\n",
       "      <td>0.043515</td>\n",
       "      <td>12</td>\n",
       "      <td>0.800000</td>\n",
       "    </tr>\n",
       "    <tr>\n",
       "      <th>7.0</th>\n",
       "      <td>0.058668</td>\n",
       "      <td>0.003746</td>\n",
       "      <td>0.033047</td>\n",
       "      <td>5</td>\n",
       "      <td>0.333333</td>\n",
       "    </tr>\n",
       "    <tr>\n",
       "      <th>8.0</th>\n",
       "      <td>0.017484</td>\n",
       "      <td>0.012906</td>\n",
       "      <td>0.015195</td>\n",
       "      <td>2</td>\n",
       "      <td>0.133333</td>\n",
       "    </tr>\n",
       "    <tr>\n",
       "      <th>9.0</th>\n",
       "      <td>0.013700</td>\n",
       "      <td>0.013700</td>\n",
       "      <td>0.013700</td>\n",
       "      <td>1</td>\n",
       "      <td>0.066667</td>\n",
       "    </tr>\n",
       "  </tbody>\n",
       "</table>\n",
       "</div>"
      ],
      "text/plain": [
       "            max_ret   min_ret   avg_ret  count_ret  pct_count_ret\n",
       "consec_wl                                                        \n",
       "-12.0     -0.011312 -0.011312 -0.011312          1       0.066667\n",
       "-11.0     -0.001713 -0.001713 -0.001713          1       0.066667\n",
       "-10.0     -0.004588 -0.004588 -0.004588          1       0.066667\n",
       "-9.0      -0.005520 -0.005520 -0.005520          1       0.066667\n",
       "-8.0      -0.007068 -0.007068 -0.007068          1       0.066667\n",
       "-7.0      -0.015852 -0.015852 -0.015852          1       0.066667\n",
       "-6.0      -0.004439 -0.036058 -0.014640          7       0.466667\n",
       "-5.0      -0.004056 -0.148550 -0.041333         15       1.000000\n",
       "-4.0      -0.000198 -0.092050 -0.022495         34       2.266667\n",
       "-3.0      -0.000337 -0.071495 -0.018810         81       5.400000\n",
       "-2.0      -0.000088 -0.078531 -0.016774        175      11.666667\n",
       "-1.0      -0.000089 -0.109642 -0.016995        387      25.800000\n",
       " 0.0       0.000000  0.000000  0.000000          4       0.266667\n",
       " 1.0       0.122517  0.000168  0.015618        390      26.000000\n",
       " 2.0       0.148273  0.000107  0.017080        201      13.400000\n",
       " 3.0       0.127300  0.000193  0.018486        104       6.933333\n",
       " 4.0       0.196435  0.000096  0.017777         52       3.466667\n",
       " 5.0       0.124427  0.000370  0.022484         24       1.600000\n",
       " 6.0       0.309317  0.000151  0.043515         12       0.800000\n",
       " 7.0       0.058668  0.003746  0.033047          5       0.333333\n",
       " 8.0       0.017484  0.012906  0.015195          2       0.133333\n",
       " 9.0       0.013700  0.013700  0.013700          1       0.066667"
      ]
     },
     "execution_count": 12,
     "metadata": {},
     "output_type": "execute_result"
    }
   ],
   "source": [
    "wl_data =pd.concat([max_ret,min_ret,avg_ret,count_ret],axis=1)\n",
    "wl_data.columns = ['max_ret','min_ret','avg_ret','count_ret']\n",
    "wl_data['pct_count_ret'] = wl_data['count_ret'] / len(df1) *100\n",
    "wl_data"
   ]
  },
  {
   "cell_type": "markdown",
   "metadata": {},
   "source": [
    "# Sort Values Wins Days"
   ]
  },
  {
   "cell_type": "code",
   "execution_count": 13,
   "metadata": {},
   "outputs": [
    {
     "data": {
      "text/html": [
       "<div>\n",
       "<style scoped>\n",
       "    .dataframe tbody tr th:only-of-type {\n",
       "        vertical-align: middle;\n",
       "    }\n",
       "\n",
       "    .dataframe tbody tr th {\n",
       "        vertical-align: top;\n",
       "    }\n",
       "\n",
       "    .dataframe thead th {\n",
       "        text-align: right;\n",
       "    }\n",
       "</style>\n",
       "<table border=\"1\" class=\"dataframe\">\n",
       "  <thead>\n",
       "    <tr style=\"text-align: right;\">\n",
       "      <th></th>\n",
       "      <th>open</th>\n",
       "      <th>high</th>\n",
       "      <th>low</th>\n",
       "      <th>close</th>\n",
       "      <th>volume</th>\n",
       "      <th>ret</th>\n",
       "      <th>consec_wl</th>\n",
       "      <th>mae</th>\n",
       "      <th>mfe</th>\n",
       "      <th>pnl</th>\n",
       "      <th>volatile</th>\n",
       "      <th>vwap</th>\n",
       "    </tr>\n",
       "    <tr>\n",
       "      <th>date</th>\n",
       "      <th></th>\n",
       "      <th></th>\n",
       "      <th></th>\n",
       "      <th></th>\n",
       "      <th></th>\n",
       "      <th></th>\n",
       "      <th></th>\n",
       "      <th></th>\n",
       "      <th></th>\n",
       "      <th></th>\n",
       "      <th></th>\n",
       "      <th></th>\n",
       "    </tr>\n",
       "  </thead>\n",
       "  <tbody>\n",
       "    <tr>\n",
       "      <th>2022-03-26 20:00:00+00:00</th>\n",
       "      <td>0.06607</td>\n",
       "      <td>0.09229</td>\n",
       "      <td>0.06565</td>\n",
       "      <td>0.09002</td>\n",
       "      <td>7.828651e+07</td>\n",
       "      <td>0.309317</td>\n",
       "      <td>6.0</td>\n",
       "      <td>-0.006357</td>\n",
       "      <td>0.396852</td>\n",
       "      <td>0.362494</td>\n",
       "      <td>0.403209</td>\n",
       "      <td>0.073078</td>\n",
       "    </tr>\n",
       "    <tr>\n",
       "      <th>2022-03-30 04:00:00+00:00</th>\n",
       "      <td>0.11679</td>\n",
       "      <td>0.15144</td>\n",
       "      <td>0.11449</td>\n",
       "      <td>0.14214</td>\n",
       "      <td>1.255433e+08</td>\n",
       "      <td>0.196435</td>\n",
       "      <td>4.0</td>\n",
       "      <td>-0.019693</td>\n",
       "      <td>0.296686</td>\n",
       "      <td>0.217056</td>\n",
       "      <td>0.316380</td>\n",
       "      <td>0.129920</td>\n",
       "    </tr>\n",
       "    <tr>\n",
       "      <th>2022-03-27 12:00:00+00:00</th>\n",
       "      <td>0.09604</td>\n",
       "      <td>0.11841</td>\n",
       "      <td>0.09542</td>\n",
       "      <td>0.11139</td>\n",
       "      <td>1.290067e+08</td>\n",
       "      <td>0.148273</td>\n",
       "      <td>2.0</td>\n",
       "      <td>-0.006456</td>\n",
       "      <td>0.232924</td>\n",
       "      <td>0.159829</td>\n",
       "      <td>0.239379</td>\n",
       "      <td>0.097523</td>\n",
       "    </tr>\n",
       "    <tr>\n",
       "      <th>2022-03-30 00:00:00+00:00</th>\n",
       "      <td>0.10283</td>\n",
       "      <td>0.11798</td>\n",
       "      <td>0.09829</td>\n",
       "      <td>0.11679</td>\n",
       "      <td>4.054312e+07</td>\n",
       "      <td>0.127300</td>\n",
       "      <td>3.0</td>\n",
       "      <td>-0.044151</td>\n",
       "      <td>0.147331</td>\n",
       "      <td>0.135758</td>\n",
       "      <td>0.191481</td>\n",
       "      <td>0.111020</td>\n",
       "    </tr>\n",
       "    <tr>\n",
       "      <th>2022-03-26 16:00:00+00:00</th>\n",
       "      <td>0.05834</td>\n",
       "      <td>0.06743</td>\n",
       "      <td>0.05748</td>\n",
       "      <td>0.06607</td>\n",
       "      <td>2.945341e+07</td>\n",
       "      <td>0.124427</td>\n",
       "      <td>5.0</td>\n",
       "      <td>-0.014741</td>\n",
       "      <td>0.155811</td>\n",
       "      <td>0.132499</td>\n",
       "      <td>0.170552</td>\n",
       "      <td>0.059549</td>\n",
       "    </tr>\n",
       "    <tr>\n",
       "      <th>2022-03-30 16:00:00+00:00</th>\n",
       "      <td>0.15314</td>\n",
       "      <td>0.17774</td>\n",
       "      <td>0.15000</td>\n",
       "      <td>0.17310</td>\n",
       "      <td>1.134386e+08</td>\n",
       "      <td>0.122517</td>\n",
       "      <td>1.0</td>\n",
       "      <td>-0.020504</td>\n",
       "      <td>0.160637</td>\n",
       "      <td>0.130338</td>\n",
       "      <td>0.181141</td>\n",
       "      <td>0.149093</td>\n",
       "    </tr>\n",
       "    <tr>\n",
       "      <th>2022-03-30 08:00:00+00:00</th>\n",
       "      <td>0.14213</td>\n",
       "      <td>0.16362</td>\n",
       "      <td>0.13995</td>\n",
       "      <td>0.15921</td>\n",
       "      <td>1.351212e+08</td>\n",
       "      <td>0.113412</td>\n",
       "      <td>5.0</td>\n",
       "      <td>-0.015407</td>\n",
       "      <td>0.151119</td>\n",
       "      <td>0.120093</td>\n",
       "      <td>0.166526</td>\n",
       "      <td>0.140839</td>\n",
       "    </tr>\n",
       "    <tr>\n",
       "      <th>2021-09-10 00:00:00+00:00</th>\n",
       "      <td>0.10836</td>\n",
       "      <td>0.12113</td>\n",
       "      <td>0.10824</td>\n",
       "      <td>0.11897</td>\n",
       "      <td>2.814825e+06</td>\n",
       "      <td>0.093412</td>\n",
       "      <td>2.0</td>\n",
       "      <td>-0.001107</td>\n",
       "      <td>0.117848</td>\n",
       "      <td>0.097914</td>\n",
       "      <td>0.118955</td>\n",
       "      <td>0.116113</td>\n",
       "    </tr>\n",
       "    <tr>\n",
       "      <th>2021-11-29 04:00:00+00:00</th>\n",
       "      <td>0.08534</td>\n",
       "      <td>0.09344</td>\n",
       "      <td>0.08517</td>\n",
       "      <td>0.09343</td>\n",
       "      <td>3.453679e+06</td>\n",
       "      <td>0.090569</td>\n",
       "      <td>3.0</td>\n",
       "      <td>-0.001992</td>\n",
       "      <td>0.094914</td>\n",
       "      <td>0.094797</td>\n",
       "      <td>0.096906</td>\n",
       "      <td>0.089884</td>\n",
       "    </tr>\n",
       "    <tr>\n",
       "      <th>2022-03-31 00:00:00+00:00</th>\n",
       "      <td>0.17995</td>\n",
       "      <td>0.21600</td>\n",
       "      <td>0.17655</td>\n",
       "      <td>0.19632</td>\n",
       "      <td>1.876672e+08</td>\n",
       "      <td>0.087067</td>\n",
       "      <td>3.0</td>\n",
       "      <td>-0.018894</td>\n",
       "      <td>0.200333</td>\n",
       "      <td>0.090970</td>\n",
       "      <td>0.219228</td>\n",
       "      <td>0.196290</td>\n",
       "    </tr>\n",
       "  </tbody>\n",
       "</table>\n",
       "</div>"
      ],
      "text/plain": [
       "                              open     high      low    close        volume  \\\n",
       "date                                                                          \n",
       "2022-03-26 20:00:00+00:00  0.06607  0.09229  0.06565  0.09002  7.828651e+07   \n",
       "2022-03-30 04:00:00+00:00  0.11679  0.15144  0.11449  0.14214  1.255433e+08   \n",
       "2022-03-27 12:00:00+00:00  0.09604  0.11841  0.09542  0.11139  1.290067e+08   \n",
       "2022-03-30 00:00:00+00:00  0.10283  0.11798  0.09829  0.11679  4.054312e+07   \n",
       "2022-03-26 16:00:00+00:00  0.05834  0.06743  0.05748  0.06607  2.945341e+07   \n",
       "2022-03-30 16:00:00+00:00  0.15314  0.17774  0.15000  0.17310  1.134386e+08   \n",
       "2022-03-30 08:00:00+00:00  0.14213  0.16362  0.13995  0.15921  1.351212e+08   \n",
       "2021-09-10 00:00:00+00:00  0.10836  0.12113  0.10824  0.11897  2.814825e+06   \n",
       "2021-11-29 04:00:00+00:00  0.08534  0.09344  0.08517  0.09343  3.453679e+06   \n",
       "2022-03-31 00:00:00+00:00  0.17995  0.21600  0.17655  0.19632  1.876672e+08   \n",
       "\n",
       "                                ret  consec_wl       mae       mfe       pnl  \\\n",
       "date                                                                           \n",
       "2022-03-26 20:00:00+00:00  0.309317        6.0 -0.006357  0.396852  0.362494   \n",
       "2022-03-30 04:00:00+00:00  0.196435        4.0 -0.019693  0.296686  0.217056   \n",
       "2022-03-27 12:00:00+00:00  0.148273        2.0 -0.006456  0.232924  0.159829   \n",
       "2022-03-30 00:00:00+00:00  0.127300        3.0 -0.044151  0.147331  0.135758   \n",
       "2022-03-26 16:00:00+00:00  0.124427        5.0 -0.014741  0.155811  0.132499   \n",
       "2022-03-30 16:00:00+00:00  0.122517        1.0 -0.020504  0.160637  0.130338   \n",
       "2022-03-30 08:00:00+00:00  0.113412        5.0 -0.015407  0.151119  0.120093   \n",
       "2021-09-10 00:00:00+00:00  0.093412        2.0 -0.001107  0.117848  0.097914   \n",
       "2021-11-29 04:00:00+00:00  0.090569        3.0 -0.001992  0.094914  0.094797   \n",
       "2022-03-31 00:00:00+00:00  0.087067        3.0 -0.018894  0.200333  0.090970   \n",
       "\n",
       "                           volatile      vwap  \n",
       "date                                           \n",
       "2022-03-26 20:00:00+00:00  0.403209  0.073078  \n",
       "2022-03-30 04:00:00+00:00  0.316380  0.129920  \n",
       "2022-03-27 12:00:00+00:00  0.239379  0.097523  \n",
       "2022-03-30 00:00:00+00:00  0.191481  0.111020  \n",
       "2022-03-26 16:00:00+00:00  0.170552  0.059549  \n",
       "2022-03-30 16:00:00+00:00  0.181141  0.149093  \n",
       "2022-03-30 08:00:00+00:00  0.166526  0.140839  \n",
       "2021-09-10 00:00:00+00:00  0.118955  0.116113  \n",
       "2021-11-29 04:00:00+00:00  0.096906  0.089884  \n",
       "2022-03-31 00:00:00+00:00  0.219228  0.196290  "
      ]
     },
     "execution_count": 13,
     "metadata": {},
     "output_type": "execute_result"
    }
   ],
   "source": [
    "df1.sort_values('ret',ascending=False).head(10)\n"
   ]
  },
  {
   "cell_type": "markdown",
   "metadata": {},
   "source": [
    "# Sort Values Loss Days"
   ]
  },
  {
   "cell_type": "code",
   "execution_count": 14,
   "metadata": {},
   "outputs": [
    {
     "data": {
      "text/html": [
       "<div>\n",
       "<style scoped>\n",
       "    .dataframe tbody tr th:only-of-type {\n",
       "        vertical-align: middle;\n",
       "    }\n",
       "\n",
       "    .dataframe tbody tr th {\n",
       "        vertical-align: top;\n",
       "    }\n",
       "\n",
       "    .dataframe thead th {\n",
       "        text-align: right;\n",
       "    }\n",
       "</style>\n",
       "<table border=\"1\" class=\"dataframe\">\n",
       "  <thead>\n",
       "    <tr style=\"text-align: right;\">\n",
       "      <th></th>\n",
       "      <th>open</th>\n",
       "      <th>high</th>\n",
       "      <th>low</th>\n",
       "      <th>close</th>\n",
       "      <th>volume</th>\n",
       "      <th>ret</th>\n",
       "      <th>consec_wl</th>\n",
       "      <th>mae</th>\n",
       "      <th>mfe</th>\n",
       "      <th>pnl</th>\n",
       "      <th>volatile</th>\n",
       "      <th>vwap</th>\n",
       "    </tr>\n",
       "    <tr>\n",
       "      <th>date</th>\n",
       "      <th></th>\n",
       "      <th></th>\n",
       "      <th></th>\n",
       "      <th></th>\n",
       "      <th></th>\n",
       "      <th></th>\n",
       "      <th></th>\n",
       "      <th></th>\n",
       "      <th></th>\n",
       "      <th></th>\n",
       "      <th></th>\n",
       "      <th></th>\n",
       "    </tr>\n",
       "  </thead>\n",
       "  <tbody>\n",
       "    <tr>\n",
       "      <th>2021-09-07 12:00:00+00:00</th>\n",
       "      <td>0.11996</td>\n",
       "      <td>0.12104</td>\n",
       "      <td>0.08653</td>\n",
       "      <td>0.10334</td>\n",
       "      <td>7.958891e+06</td>\n",
       "      <td>-0.148550</td>\n",
       "      <td>-5.0</td>\n",
       "      <td>-0.278255</td>\n",
       "      <td>0.009592</td>\n",
       "      <td>-0.138043</td>\n",
       "      <td>-0.268663</td>\n",
       "      <td>0.112330</td>\n",
       "    </tr>\n",
       "    <tr>\n",
       "      <th>2021-12-04 04:00:00+00:00</th>\n",
       "      <td>0.07700</td>\n",
       "      <td>0.07883</td>\n",
       "      <td>0.05294</td>\n",
       "      <td>0.06687</td>\n",
       "      <td>8.026875e+06</td>\n",
       "      <td>-0.141055</td>\n",
       "      <td>-5.0</td>\n",
       "      <td>-0.312468</td>\n",
       "      <td>0.023766</td>\n",
       "      <td>-0.131558</td>\n",
       "      <td>-0.288701</td>\n",
       "      <td>0.067433</td>\n",
       "    </tr>\n",
       "    <tr>\n",
       "      <th>2022-01-22 04:00:00+00:00</th>\n",
       "      <td>0.04863</td>\n",
       "      <td>0.04887</td>\n",
       "      <td>0.04337</td>\n",
       "      <td>0.04358</td>\n",
       "      <td>1.060819e+06</td>\n",
       "      <td>-0.109642</td>\n",
       "      <td>-1.0</td>\n",
       "      <td>-0.108164</td>\n",
       "      <td>0.004935</td>\n",
       "      <td>-0.103845</td>\n",
       "      <td>-0.103228</td>\n",
       "      <td>0.046766</td>\n",
       "    </tr>\n",
       "    <tr>\n",
       "      <th>2021-09-24 08:00:00+00:00</th>\n",
       "      <td>0.09116</td>\n",
       "      <td>0.09185</td>\n",
       "      <td>0.07924</td>\n",
       "      <td>0.08244</td>\n",
       "      <td>2.833484e+06</td>\n",
       "      <td>-0.101203</td>\n",
       "      <td>-1.0</td>\n",
       "      <td>-0.131331</td>\n",
       "      <td>0.006906</td>\n",
       "      <td>-0.096251</td>\n",
       "      <td>-0.124424</td>\n",
       "      <td>0.086280</td>\n",
       "    </tr>\n",
       "    <tr>\n",
       "      <th>2022-02-24 00:00:00+00:00</th>\n",
       "      <td>0.03889</td>\n",
       "      <td>0.03919</td>\n",
       "      <td>0.03500</td>\n",
       "      <td>0.03547</td>\n",
       "      <td>1.077721e+06</td>\n",
       "      <td>-0.092050</td>\n",
       "      <td>-4.0</td>\n",
       "      <td>-0.100026</td>\n",
       "      <td>0.007714</td>\n",
       "      <td>-0.087940</td>\n",
       "      <td>-0.092312</td>\n",
       "      <td>0.036553</td>\n",
       "    </tr>\n",
       "    <tr>\n",
       "      <th>2021-11-26 08:00:00+00:00</th>\n",
       "      <td>0.08745</td>\n",
       "      <td>0.08751</td>\n",
       "      <td>0.07905</td>\n",
       "      <td>0.08033</td>\n",
       "      <td>2.491506e+06</td>\n",
       "      <td>-0.085038</td>\n",
       "      <td>-4.0</td>\n",
       "      <td>-0.096158</td>\n",
       "      <td>0.000572</td>\n",
       "      <td>-0.081523</td>\n",
       "      <td>-0.095587</td>\n",
       "      <td>0.085083</td>\n",
       "    </tr>\n",
       "    <tr>\n",
       "      <th>2021-12-31 16:00:00+00:00</th>\n",
       "      <td>0.07964</td>\n",
       "      <td>0.07975</td>\n",
       "      <td>0.07328</td>\n",
       "      <td>0.07361</td>\n",
       "      <td>2.198626e+06</td>\n",
       "      <td>-0.078610</td>\n",
       "      <td>-1.0</td>\n",
       "      <td>-0.079744</td>\n",
       "      <td>0.001507</td>\n",
       "      <td>-0.075600</td>\n",
       "      <td>-0.078237</td>\n",
       "      <td>0.077472</td>\n",
       "    </tr>\n",
       "    <tr>\n",
       "      <th>2021-08-24 12:00:00+00:00</th>\n",
       "      <td>0.11956</td>\n",
       "      <td>0.11959</td>\n",
       "      <td>0.11008</td>\n",
       "      <td>0.11053</td>\n",
       "      <td>3.645492e+06</td>\n",
       "      <td>-0.078531</td>\n",
       "      <td>-2.0</td>\n",
       "      <td>-0.079291</td>\n",
       "      <td>0.000251</td>\n",
       "      <td>-0.075527</td>\n",
       "      <td>-0.079040</td>\n",
       "      <td>0.116555</td>\n",
       "    </tr>\n",
       "    <tr>\n",
       "      <th>2022-01-05 16:00:00+00:00</th>\n",
       "      <td>0.07257</td>\n",
       "      <td>0.07276</td>\n",
       "      <td>0.06677</td>\n",
       "      <td>0.06731</td>\n",
       "      <td>1.133054e+06</td>\n",
       "      <td>-0.075243</td>\n",
       "      <td>-1.0</td>\n",
       "      <td>-0.079923</td>\n",
       "      <td>0.002618</td>\n",
       "      <td>-0.072482</td>\n",
       "      <td>-0.077305</td>\n",
       "      <td>0.070727</td>\n",
       "    </tr>\n",
       "    <tr>\n",
       "      <th>2022-01-20 20:00:00+00:00</th>\n",
       "      <td>0.06132</td>\n",
       "      <td>0.06161</td>\n",
       "      <td>0.05666</td>\n",
       "      <td>0.05690</td>\n",
       "      <td>1.079934e+06</td>\n",
       "      <td>-0.074811</td>\n",
       "      <td>-1.0</td>\n",
       "      <td>-0.075995</td>\n",
       "      <td>0.004729</td>\n",
       "      <td>-0.072081</td>\n",
       "      <td>-0.071265</td>\n",
       "      <td>0.060017</td>\n",
       "    </tr>\n",
       "  </tbody>\n",
       "</table>\n",
       "</div>"
      ],
      "text/plain": [
       "                              open     high      low    close        volume  \\\n",
       "date                                                                          \n",
       "2021-09-07 12:00:00+00:00  0.11996  0.12104  0.08653  0.10334  7.958891e+06   \n",
       "2021-12-04 04:00:00+00:00  0.07700  0.07883  0.05294  0.06687  8.026875e+06   \n",
       "2022-01-22 04:00:00+00:00  0.04863  0.04887  0.04337  0.04358  1.060819e+06   \n",
       "2021-09-24 08:00:00+00:00  0.09116  0.09185  0.07924  0.08244  2.833484e+06   \n",
       "2022-02-24 00:00:00+00:00  0.03889  0.03919  0.03500  0.03547  1.077721e+06   \n",
       "2021-11-26 08:00:00+00:00  0.08745  0.08751  0.07905  0.08033  2.491506e+06   \n",
       "2021-12-31 16:00:00+00:00  0.07964  0.07975  0.07328  0.07361  2.198626e+06   \n",
       "2021-08-24 12:00:00+00:00  0.11956  0.11959  0.11008  0.11053  3.645492e+06   \n",
       "2022-01-05 16:00:00+00:00  0.07257  0.07276  0.06677  0.06731  1.133054e+06   \n",
       "2022-01-20 20:00:00+00:00  0.06132  0.06161  0.05666  0.05690  1.079934e+06   \n",
       "\n",
       "                                ret  consec_wl       mae       mfe       pnl  \\\n",
       "date                                                                           \n",
       "2021-09-07 12:00:00+00:00 -0.148550       -5.0 -0.278255  0.009592 -0.138043   \n",
       "2021-12-04 04:00:00+00:00 -0.141055       -5.0 -0.312468  0.023766 -0.131558   \n",
       "2022-01-22 04:00:00+00:00 -0.109642       -1.0 -0.108164  0.004935 -0.103845   \n",
       "2021-09-24 08:00:00+00:00 -0.101203       -1.0 -0.131331  0.006906 -0.096251   \n",
       "2022-02-24 00:00:00+00:00 -0.092050       -4.0 -0.100026  0.007714 -0.087940   \n",
       "2021-11-26 08:00:00+00:00 -0.085038       -4.0 -0.096158  0.000572 -0.081523   \n",
       "2021-12-31 16:00:00+00:00 -0.078610       -1.0 -0.079744  0.001507 -0.075600   \n",
       "2021-08-24 12:00:00+00:00 -0.078531       -2.0 -0.079291  0.000251 -0.075527   \n",
       "2022-01-05 16:00:00+00:00 -0.075243       -1.0 -0.079923  0.002618 -0.072482   \n",
       "2022-01-20 20:00:00+00:00 -0.074811       -1.0 -0.075995  0.004729 -0.072081   \n",
       "\n",
       "                           volatile      vwap  \n",
       "date                                           \n",
       "2021-09-07 12:00:00+00:00 -0.268663  0.112330  \n",
       "2021-12-04 04:00:00+00:00 -0.288701  0.067433  \n",
       "2022-01-22 04:00:00+00:00 -0.103228  0.046766  \n",
       "2021-09-24 08:00:00+00:00 -0.124424  0.086280  \n",
       "2022-02-24 00:00:00+00:00 -0.092312  0.036553  \n",
       "2021-11-26 08:00:00+00:00 -0.095587  0.085083  \n",
       "2021-12-31 16:00:00+00:00 -0.078237  0.077472  \n",
       "2021-08-24 12:00:00+00:00 -0.079040  0.116555  \n",
       "2022-01-05 16:00:00+00:00 -0.077305  0.070727  \n",
       "2022-01-20 20:00:00+00:00 -0.071265  0.060017  "
      ]
     },
     "execution_count": 14,
     "metadata": {},
     "output_type": "execute_result"
    }
   ],
   "source": [
    "df1.sort_values('ret',ascending=True).head(10)\n"
   ]
  },
  {
   "cell_type": "code",
   "execution_count": 10,
   "metadata": {},
   "outputs": [],
   "source": [
    "def ohlc_chart(df,rec):\n",
    "        '''\n",
    "        df = ohlc pd.DataFrame\n",
    "        rec = record from vbt  pd.DataFrame \n",
    "        '''\n",
    "        mark_up =0.99\n",
    "        mark_down = 1.01\n",
    "        fig = go.Figure(data=[go.Ohlc(x=df.index,open=df.open, high=df.high,low=df.low, close=df.close,increasing_line_color= '#8080FF', decreasing_line_color= '#8080FF',name='ohlc')])\n",
    "        fig.add_trace(go.Scatter(x=rec.ent_date,y=rec.ent_mark *mark_up,name='buy',mode=\"markers\",marker=dict(symbol='triangle-up', size = 15,color='green'),))\n",
    "        fig.add_trace(go.Scatter(x=rec.exit_date,y=rec.exit_mark *mark_down,name='sell',mode=\"markers\",marker=dict(symbol='triangle-down', size = 15,color='red'),))\n",
    "        fig.update(layout_xaxis_rangeslider_visible=False)\n",
    "        fig.update_layout(title_text='Close Price',width=1000,height=500,)\n",
    "\n",
    "        return fig\n",
    "\n",
    "\n",
    "def plot_indi(df,rec,indi:str , mark_up =0.8 ,mark_down =1.2,show_arrow=True):\n",
    "    '''\n",
    "    df = ohlc \n",
    "    rec = record DataFrame\n",
    "    indi = indicator name [str ] \n",
    "    markup ,markdown = float \n",
    "    '''\n",
    "    \n",
    "    fig = df[indi].vbt.plot(hovermode='x unified') # Show Values on mark\n",
    "    if show_arrow:\n",
    "        ent_df = df.loc[rec.ent_date]\n",
    "        end_df = df.loc[rec.exit_date]\n",
    "        fig.add_trace(go.Scatter(x=rec.ent_date,y=ent_df[indi] *mark_up,name='buy',mode=\"markers\",marker=dict(symbol='triangle-up', size = 15,color='green'),))\n",
    "        fig.add_trace(go.Scatter(x=rec.exit_date,y=end_df[indi] *mark_down,name='sell',mode=\"markers\",marker=dict(symbol='triangle-down', size = 15,color='red'),))\n",
    "    return fig\n",
    "\n",
    "\n",
    "def plot_dist(series_name ,name_label= [''],title_text= 'Histrogram and Curve plot'):\n",
    "        ''' series_name = pd.Series\n",
    "        name_label = text on list List\n",
    "        title_text = String '''\n",
    "        x1 =series_name.dropna()\n",
    "        group_labels = name_label\n",
    "        colors = ['#8080FF']\n",
    "        # Create distplot with curve_type set to 'normal'  # override default 'kde'\n",
    "        fig = ff.create_distplot([x1], group_labels, bin_size=0.8,curve_type='normal',colors=colors,show_curve=True,show_rug=False)\n",
    "        fig.update_layout(title_text=title_text,width=800,height=400)\n",
    "        return fig\n",
    "\n",
    "def plot_hist(series_name,title_text='Histrogram'):\n",
    "        ''' series_name = pd.Series\n",
    "        title_text = String\n",
    "        '''\n",
    "        series_name = series_name.dropna()\n",
    "        hist_fig = go.Figure(data=[go.Histogram(x=series_name, histnorm='probability')])\n",
    "        hist_fig.update_layout(title_text=title_text,width=800,height=400)\n",
    "        hist_fig.update_traces(opacity=0.5)\n",
    "        return hist_fig\n"
   ]
  },
  {
   "cell_type": "markdown",
   "metadata": {},
   "source": [
    "# Visualize"
   ]
  },
  {
   "cell_type": "code",
   "execution_count": 21,
   "metadata": {},
   "outputs": [
    {
     "data": {
      "application/vnd.plotly.v1+json": {
       "config": {
        "plotlyServerURL": "https://plot.ly"
       },
       "data": [
        {
         "name": "Avg Return by W/L Sign ",
         "type": "bar",
         "x": [
          -6,
          -5,
          -4,
          -3,
          -2,
          -1,
          1,
          2,
          3,
          4,
          5,
          6,
          7,
          8,
          9,
          10
         ],
         "y": [
          -0.019330180176035532,
          -0.034679999611574516,
          -0.021757002671797355,
          -0.030041973114726842,
          -0.029838104178146203,
          -0.024894939118538666,
          0.02838228308600894,
          0.022177984185418446,
          0.03341468006431359,
          0.020472604248056633,
          0.037097157988623536,
          0.032597388498705415,
          0.03620402739544793,
          0.022111265553627555,
          0.0005492859421038634,
          0.05300911678200003
         ]
        }
       ],
       "layout": {
        "barmode": "group",
        "height": 400,
        "template": {
         "data": {
          "bar": [
           {
            "error_x": {
             "color": "#2a3f5f"
            },
            "error_y": {
             "color": "#2a3f5f"
            },
            "marker": {
             "line": {
              "color": "#E5ECF6",
              "width": 0.5
             },
             "pattern": {
              "fillmode": "overlay",
              "size": 10,
              "solidity": 0.2
             }
            },
            "type": "bar"
           }
          ],
          "barpolar": [
           {
            "marker": {
             "line": {
              "color": "#E5ECF6",
              "width": 0.5
             },
             "pattern": {
              "fillmode": "overlay",
              "size": 10,
              "solidity": 0.2
             }
            },
            "type": "barpolar"
           }
          ],
          "carpet": [
           {
            "aaxis": {
             "endlinecolor": "#2a3f5f",
             "gridcolor": "white",
             "linecolor": "white",
             "minorgridcolor": "white",
             "startlinecolor": "#2a3f5f"
            },
            "baxis": {
             "endlinecolor": "#2a3f5f",
             "gridcolor": "white",
             "linecolor": "white",
             "minorgridcolor": "white",
             "startlinecolor": "#2a3f5f"
            },
            "type": "carpet"
           }
          ],
          "choropleth": [
           {
            "colorbar": {
             "outlinewidth": 0,
             "ticks": ""
            },
            "type": "choropleth"
           }
          ],
          "contour": [
           {
            "colorbar": {
             "outlinewidth": 0,
             "ticks": ""
            },
            "colorscale": [
             [
              0,
              "#0d0887"
             ],
             [
              0.1111111111111111,
              "#46039f"
             ],
             [
              0.2222222222222222,
              "#7201a8"
             ],
             [
              0.3333333333333333,
              "#9c179e"
             ],
             [
              0.4444444444444444,
              "#bd3786"
             ],
             [
              0.5555555555555556,
              "#d8576b"
             ],
             [
              0.6666666666666666,
              "#ed7953"
             ],
             [
              0.7777777777777778,
              "#fb9f3a"
             ],
             [
              0.8888888888888888,
              "#fdca26"
             ],
             [
              1,
              "#f0f921"
             ]
            ],
            "type": "contour"
           }
          ],
          "contourcarpet": [
           {
            "colorbar": {
             "outlinewidth": 0,
             "ticks": ""
            },
            "type": "contourcarpet"
           }
          ],
          "heatmap": [
           {
            "colorbar": {
             "outlinewidth": 0,
             "ticks": ""
            },
            "colorscale": [
             [
              0,
              "#0d0887"
             ],
             [
              0.1111111111111111,
              "#46039f"
             ],
             [
              0.2222222222222222,
              "#7201a8"
             ],
             [
              0.3333333333333333,
              "#9c179e"
             ],
             [
              0.4444444444444444,
              "#bd3786"
             ],
             [
              0.5555555555555556,
              "#d8576b"
             ],
             [
              0.6666666666666666,
              "#ed7953"
             ],
             [
              0.7777777777777778,
              "#fb9f3a"
             ],
             [
              0.8888888888888888,
              "#fdca26"
             ],
             [
              1,
              "#f0f921"
             ]
            ],
            "type": "heatmap"
           }
          ],
          "heatmapgl": [
           {
            "colorbar": {
             "outlinewidth": 0,
             "ticks": ""
            },
            "colorscale": [
             [
              0,
              "#0d0887"
             ],
             [
              0.1111111111111111,
              "#46039f"
             ],
             [
              0.2222222222222222,
              "#7201a8"
             ],
             [
              0.3333333333333333,
              "#9c179e"
             ],
             [
              0.4444444444444444,
              "#bd3786"
             ],
             [
              0.5555555555555556,
              "#d8576b"
             ],
             [
              0.6666666666666666,
              "#ed7953"
             ],
             [
              0.7777777777777778,
              "#fb9f3a"
             ],
             [
              0.8888888888888888,
              "#fdca26"
             ],
             [
              1,
              "#f0f921"
             ]
            ],
            "type": "heatmapgl"
           }
          ],
          "histogram": [
           {
            "marker": {
             "pattern": {
              "fillmode": "overlay",
              "size": 10,
              "solidity": 0.2
             }
            },
            "type": "histogram"
           }
          ],
          "histogram2d": [
           {
            "colorbar": {
             "outlinewidth": 0,
             "ticks": ""
            },
            "colorscale": [
             [
              0,
              "#0d0887"
             ],
             [
              0.1111111111111111,
              "#46039f"
             ],
             [
              0.2222222222222222,
              "#7201a8"
             ],
             [
              0.3333333333333333,
              "#9c179e"
             ],
             [
              0.4444444444444444,
              "#bd3786"
             ],
             [
              0.5555555555555556,
              "#d8576b"
             ],
             [
              0.6666666666666666,
              "#ed7953"
             ],
             [
              0.7777777777777778,
              "#fb9f3a"
             ],
             [
              0.8888888888888888,
              "#fdca26"
             ],
             [
              1,
              "#f0f921"
             ]
            ],
            "type": "histogram2d"
           }
          ],
          "histogram2dcontour": [
           {
            "colorbar": {
             "outlinewidth": 0,
             "ticks": ""
            },
            "colorscale": [
             [
              0,
              "#0d0887"
             ],
             [
              0.1111111111111111,
              "#46039f"
             ],
             [
              0.2222222222222222,
              "#7201a8"
             ],
             [
              0.3333333333333333,
              "#9c179e"
             ],
             [
              0.4444444444444444,
              "#bd3786"
             ],
             [
              0.5555555555555556,
              "#d8576b"
             ],
             [
              0.6666666666666666,
              "#ed7953"
             ],
             [
              0.7777777777777778,
              "#fb9f3a"
             ],
             [
              0.8888888888888888,
              "#fdca26"
             ],
             [
              1,
              "#f0f921"
             ]
            ],
            "type": "histogram2dcontour"
           }
          ],
          "mesh3d": [
           {
            "colorbar": {
             "outlinewidth": 0,
             "ticks": ""
            },
            "type": "mesh3d"
           }
          ],
          "parcoords": [
           {
            "line": {
             "colorbar": {
              "outlinewidth": 0,
              "ticks": ""
             }
            },
            "type": "parcoords"
           }
          ],
          "pie": [
           {
            "automargin": true,
            "type": "pie"
           }
          ],
          "scatter": [
           {
            "marker": {
             "colorbar": {
              "outlinewidth": 0,
              "ticks": ""
             }
            },
            "type": "scatter"
           }
          ],
          "scatter3d": [
           {
            "line": {
             "colorbar": {
              "outlinewidth": 0,
              "ticks": ""
             }
            },
            "marker": {
             "colorbar": {
              "outlinewidth": 0,
              "ticks": ""
             }
            },
            "type": "scatter3d"
           }
          ],
          "scattercarpet": [
           {
            "marker": {
             "colorbar": {
              "outlinewidth": 0,
              "ticks": ""
             }
            },
            "type": "scattercarpet"
           }
          ],
          "scattergeo": [
           {
            "marker": {
             "colorbar": {
              "outlinewidth": 0,
              "ticks": ""
             }
            },
            "type": "scattergeo"
           }
          ],
          "scattergl": [
           {
            "marker": {
             "colorbar": {
              "outlinewidth": 0,
              "ticks": ""
             }
            },
            "type": "scattergl"
           }
          ],
          "scattermapbox": [
           {
            "marker": {
             "colorbar": {
              "outlinewidth": 0,
              "ticks": ""
             }
            },
            "type": "scattermapbox"
           }
          ],
          "scatterpolar": [
           {
            "marker": {
             "colorbar": {
              "outlinewidth": 0,
              "ticks": ""
             }
            },
            "type": "scatterpolar"
           }
          ],
          "scatterpolargl": [
           {
            "marker": {
             "colorbar": {
              "outlinewidth": 0,
              "ticks": ""
             }
            },
            "type": "scatterpolargl"
           }
          ],
          "scatterternary": [
           {
            "marker": {
             "colorbar": {
              "outlinewidth": 0,
              "ticks": ""
             }
            },
            "type": "scatterternary"
           }
          ],
          "surface": [
           {
            "colorbar": {
             "outlinewidth": 0,
             "ticks": ""
            },
            "colorscale": [
             [
              0,
              "#0d0887"
             ],
             [
              0.1111111111111111,
              "#46039f"
             ],
             [
              0.2222222222222222,
              "#7201a8"
             ],
             [
              0.3333333333333333,
              "#9c179e"
             ],
             [
              0.4444444444444444,
              "#bd3786"
             ],
             [
              0.5555555555555556,
              "#d8576b"
             ],
             [
              0.6666666666666666,
              "#ed7953"
             ],
             [
              0.7777777777777778,
              "#fb9f3a"
             ],
             [
              0.8888888888888888,
              "#fdca26"
             ],
             [
              1,
              "#f0f921"
             ]
            ],
            "type": "surface"
           }
          ],
          "table": [
           {
            "cells": {
             "fill": {
              "color": "#EBF0F8"
             },
             "line": {
              "color": "white"
             }
            },
            "header": {
             "fill": {
              "color": "#C8D4E3"
             },
             "line": {
              "color": "white"
             }
            },
            "type": "table"
           }
          ]
         },
         "layout": {
          "annotationdefaults": {
           "arrowcolor": "#2a3f5f",
           "arrowhead": 0,
           "arrowwidth": 1
          },
          "autotypenumbers": "strict",
          "coloraxis": {
           "colorbar": {
            "outlinewidth": 0,
            "ticks": ""
           }
          },
          "colorscale": {
           "diverging": [
            [
             0,
             "#8e0152"
            ],
            [
             0.1,
             "#c51b7d"
            ],
            [
             0.2,
             "#de77ae"
            ],
            [
             0.3,
             "#f1b6da"
            ],
            [
             0.4,
             "#fde0ef"
            ],
            [
             0.5,
             "#f7f7f7"
            ],
            [
             0.6,
             "#e6f5d0"
            ],
            [
             0.7,
             "#b8e186"
            ],
            [
             0.8,
             "#7fbc41"
            ],
            [
             0.9,
             "#4d9221"
            ],
            [
             1,
             "#276419"
            ]
           ],
           "sequential": [
            [
             0,
             "#0d0887"
            ],
            [
             0.1111111111111111,
             "#46039f"
            ],
            [
             0.2222222222222222,
             "#7201a8"
            ],
            [
             0.3333333333333333,
             "#9c179e"
            ],
            [
             0.4444444444444444,
             "#bd3786"
            ],
            [
             0.5555555555555556,
             "#d8576b"
            ],
            [
             0.6666666666666666,
             "#ed7953"
            ],
            [
             0.7777777777777778,
             "#fb9f3a"
            ],
            [
             0.8888888888888888,
             "#fdca26"
            ],
            [
             1,
             "#f0f921"
            ]
           ],
           "sequentialminus": [
            [
             0,
             "#0d0887"
            ],
            [
             0.1111111111111111,
             "#46039f"
            ],
            [
             0.2222222222222222,
             "#7201a8"
            ],
            [
             0.3333333333333333,
             "#9c179e"
            ],
            [
             0.4444444444444444,
             "#bd3786"
            ],
            [
             0.5555555555555556,
             "#d8576b"
            ],
            [
             0.6666666666666666,
             "#ed7953"
            ],
            [
             0.7777777777777778,
             "#fb9f3a"
            ],
            [
             0.8888888888888888,
             "#fdca26"
            ],
            [
             1,
             "#f0f921"
            ]
           ]
          },
          "colorway": [
           "#636efa",
           "#EF553B",
           "#00cc96",
           "#ab63fa",
           "#FFA15A",
           "#19d3f3",
           "#FF6692",
           "#B6E880",
           "#FF97FF",
           "#FECB52"
          ],
          "font": {
           "color": "#2a3f5f"
          },
          "geo": {
           "bgcolor": "white",
           "lakecolor": "white",
           "landcolor": "#E5ECF6",
           "showlakes": true,
           "showland": true,
           "subunitcolor": "white"
          },
          "hoverlabel": {
           "align": "left"
          },
          "hovermode": "closest",
          "mapbox": {
           "style": "light"
          },
          "paper_bgcolor": "white",
          "plot_bgcolor": "#E5ECF6",
          "polar": {
           "angularaxis": {
            "gridcolor": "white",
            "linecolor": "white",
            "ticks": ""
           },
           "bgcolor": "#E5ECF6",
           "radialaxis": {
            "gridcolor": "white",
            "linecolor": "white",
            "ticks": ""
           }
          },
          "scene": {
           "xaxis": {
            "backgroundcolor": "#E5ECF6",
            "gridcolor": "white",
            "gridwidth": 2,
            "linecolor": "white",
            "showbackground": true,
            "ticks": "",
            "zerolinecolor": "white"
           },
           "yaxis": {
            "backgroundcolor": "#E5ECF6",
            "gridcolor": "white",
            "gridwidth": 2,
            "linecolor": "white",
            "showbackground": true,
            "ticks": "",
            "zerolinecolor": "white"
           },
           "zaxis": {
            "backgroundcolor": "#E5ECF6",
            "gridcolor": "white",
            "gridwidth": 2,
            "linecolor": "white",
            "showbackground": true,
            "ticks": "",
            "zerolinecolor": "white"
           }
          },
          "shapedefaults": {
           "line": {
            "color": "#2a3f5f"
           }
          },
          "ternary": {
           "aaxis": {
            "gridcolor": "white",
            "linecolor": "white",
            "ticks": ""
           },
           "baxis": {
            "gridcolor": "white",
            "linecolor": "white",
            "ticks": ""
           },
           "bgcolor": "#E5ECF6",
           "caxis": {
            "gridcolor": "white",
            "linecolor": "white",
            "ticks": ""
           }
          },
          "title": {
           "x": 0.05
          },
          "xaxis": {
           "automargin": true,
           "gridcolor": "white",
           "linecolor": "white",
           "ticks": "",
           "title": {
            "standoff": 15
           },
           "zerolinecolor": "white",
           "zerolinewidth": 2
          },
          "yaxis": {
           "automargin": true,
           "gridcolor": "white",
           "linecolor": "white",
           "ticks": "",
           "title": {
            "standoff": 15
           },
           "zerolinecolor": "white",
           "zerolinewidth": 2
          }
         }
        },
        "width": 800,
        "xaxis": {
         "autorange": true,
         "range": [
          -6.5,
          10.5
         ],
         "type": "linear"
        },
        "yaxis": {
         "autorange": true,
         "range": [
          -0.039551617188995324,
          0.057880734359420836
         ],
         "type": "linear"
        }
       }
      },
      "image/png": "[encoded data removed]",
      "text/html": [
       "<div>                            <div id=\"fb838d83-cdfb-47dc-bfc2-f1a1e506b262\" class=\"plotly-graph-div\" style=\"height:400px; width:800px;\"></div>            <script type=\"text/javascript\">                require([\"plotly\"], function(Plotly) {                    window.PLOTLYENV=window.PLOTLYENV || {};                                    if (document.getElementById(\"fb838d83-cdfb-47dc-bfc2-f1a1e506b262\")) {                    Plotly.newPlot(                        \"fb838d83-cdfb-47dc-bfc2-f1a1e506b262\",                        [{\"name\":\"Avg Return by W/L Sign \",\"x\":[-6.0,-5.0,-4.0,-3.0,-2.0,-1.0,1.0,2.0,3.0,4.0,5.0,6.0,7.0,8.0,9.0,10.0],\"y\":[-0.019330180176035532,-0.034679999611574516,-0.021757002671797355,-0.030041973114726842,-0.029838104178146203,-0.024894939118538666,0.02838228308600894,0.022177984185418446,0.03341468006431359,0.020472604248056633,0.037097157988623536,0.032597388498705415,0.03620402739544793,0.022111265553627555,0.0005492859421038634,0.05300911678200003],\"type\":\"bar\"}],                        {\"template\":{\"data\":{\"bar\":[{\"error_x\":{\"color\":\"#2a3f5f\"},\"error_y\":{\"color\":\"#2a3f5f\"},\"marker\":{\"line\":{\"color\":\"#E5ECF6\",\"width\":0.5},\"pattern\":{\"fillmode\":\"overlay\",\"size\":10,\"solidity\":0.2}},\"type\":\"bar\"}],\"barpolar\":[{\"marker\":{\"line\":{\"color\":\"#E5ECF6\",\"width\":0.5},\"pattern\":{\"fillmode\":\"overlay\",\"size\":10,\"solidity\":0.2}},\"type\":\"barpolar\"}],\"carpet\":[{\"aaxis\":{\"endlinecolor\":\"#2a3f5f\",\"gridcolor\":\"white\",\"linecolor\":\"white\",\"minorgridcolor\":\"white\",\"startlinecolor\":\"#2a3f5f\"},\"baxis\":{\"endlinecolor\":\"#2a3f5f\",\"gridcolor\":\"white\",\"linecolor\":\"white\",\"minorgridcolor\":\"white\",\"startlinecolor\":\"#2a3f5f\"},\"type\":\"carpet\"}],\"choropleth\":[{\"colorbar\":{\"outlinewidth\":0,\"ticks\":\"\"},\"type\":\"choropleth\"}],\"contour\":[{\"colorbar\":{\"outlinewidth\":0,\"ticks\":\"\"},\"colorscale\":[[0.0,\"#0d0887\"],[0.1111111111111111,\"#46039f\"],[0.2222222222222222,\"#7201a8\"],[0.3333333333333333,\"#9c179e\"],[0.4444444444444444,\"#bd3786\"],[0.5555555555555556,\"#d8576b\"],[0.6666666666666666,\"#ed7953\"],[0.7777777777777778,\"#fb9f3a\"],[0.8888888888888888,\"#fdca26\"],[1.0,\"#f0f921\"]],\"type\":\"contour\"}],\"contourcarpet\":[{\"colorbar\":{\"outlinewidth\":0,\"ticks\":\"\"},\"type\":\"contourcarpet\"}],\"heatmap\":[{\"colorbar\":{\"outlinewidth\":0,\"ticks\":\"\"},\"colorscale\":[[0.0,\"#0d0887\"],[0.1111111111111111,\"#46039f\"],[0.2222222222222222,\"#7201a8\"],[0.3333333333333333,\"#9c179e\"],[0.4444444444444444,\"#bd3786\"],[0.5555555555555556,\"#d8576b\"],[0.6666666666666666,\"#ed7953\"],[0.7777777777777778,\"#fb9f3a\"],[0.8888888888888888,\"#fdca26\"],[1.0,\"#f0f921\"]],\"type\":\"heatmap\"}],\"heatmapgl\":[{\"colorbar\":{\"outlinewidth\":0,\"ticks\":\"\"},\"colorscale\":[[0.0,\"#0d0887\"],[0.1111111111111111,\"#46039f\"],[0.2222222222222222,\"#7201a8\"],[0.3333333333333333,\"#9c179e\"],[0.4444444444444444,\"#bd3786\"],[0.5555555555555556,\"#d8576b\"],[0.6666666666666666,\"#ed7953\"],[0.7777777777777778,\"#fb9f3a\"],[0.8888888888888888,\"#fdca26\"],[1.0,\"#f0f921\"]],\"type\":\"heatmapgl\"}],\"histogram\":[{\"marker\":{\"pattern\":{\"fillmode\":\"overlay\",\"size\":10,\"solidity\":0.2}},\"type\":\"histogram\"}],\"histogram2d\":[{\"colorbar\":{\"outlinewidth\":0,\"ticks\":\"\"},\"colorscale\":[[0.0,\"#0d0887\"],[0.1111111111111111,\"#46039f\"],[0.2222222222222222,\"#7201a8\"],[0.3333333333333333,\"#9c179e\"],[0.4444444444444444,\"#bd3786\"],[0.5555555555555556,\"#d8576b\"],[0.6666666666666666,\"#ed7953\"],[0.7777777777777778,\"#fb9f3a\"],[0.8888888888888888,\"#fdca26\"],[1.0,\"#f0f921\"]],\"type\":\"histogram2d\"}],\"histogram2dcontour\":[{\"colorbar\":{\"outlinewidth\":0,\"ticks\":\"\"},\"colorscale\":[[0.0,\"#0d0887\"],[0.1111111111111111,\"#46039f\"],[0.2222222222222222,\"#7201a8\"],[0.3333333333333333,\"#9c179e\"],[0.4444444444444444,\"#bd3786\"],[0.5555555555555556,\"#d8576b\"],[0.6666666666666666,\"#ed7953\"],[0.7777777777777778,\"#fb9f3a\"],[0.8888888888888888,\"#fdca26\"],[1.0,\"#f0f921\"]],\"type\":\"histogram2dcontour\"}],\"mesh3d\":[{\"colorbar\":{\"outlinewidth\":0,\"ticks\":\"\"},\"type\":\"mesh3d\"}],\"parcoords\":[{\"line\":{\"colorbar\":{\"outlinewidth\":0,\"ticks\":\"\"}},\"type\":\"parcoords\"}],\"pie\":[{\"automargin\":true,\"type\":\"pie\"}],\"scatter\":[{\"marker\":{\"colorbar\":{\"outlinewidth\":0,\"ticks\":\"\"}},\"type\":\"scatter\"}],\"scatter3d\":[{\"line\":{\"colorbar\":{\"outlinewidth\":0,\"ticks\":\"\"}},\"marker\":{\"colorbar\":{\"outlinewidth\":0,\"ticks\":\"\"}},\"type\":\"scatter3d\"}],\"scattercarpet\":[{\"marker\":{\"colorbar\":{\"outlinewidth\":0,\"ticks\":\"\"}},\"type\":\"scattercarpet\"}],\"scattergeo\":[{\"marker\":{\"colorbar\":{\"outlinewidth\":0,\"ticks\":\"\"}},\"type\":\"scattergeo\"}],\"scattergl\":[{\"marker\":{\"colorbar\":{\"outlinewidth\":0,\"ticks\":\"\"}},\"type\":\"scattergl\"}],\"scattermapbox\":[{\"marker\":{\"colorbar\":{\"outlinewidth\":0,\"ticks\":\"\"}},\"type\":\"scattermapbox\"}],\"scatterpolar\":[{\"marker\":{\"colorbar\":{\"outlinewidth\":0,\"ticks\":\"\"}},\"type\":\"scatterpolar\"}],\"scatterpolargl\":[{\"marker\":{\"colorbar\":{\"outlinewidth\":0,\"ticks\":\"\"}},\"type\":\"scatterpolargl\"}],\"scatterternary\":[{\"marker\":{\"colorbar\":{\"outlinewidth\":0,\"ticks\":\"\"}},\"type\":\"scatterternary\"}],\"surface\":[{\"colorbar\":{\"outlinewidth\":0,\"ticks\":\"\"},\"colorscale\":[[0.0,\"#0d0887\"],[0.1111111111111111,\"#46039f\"],[0.2222222222222222,\"#7201a8\"],[0.3333333333333333,\"#9c179e\"],[0.4444444444444444,\"#bd3786\"],[0.5555555555555556,\"#d8576b\"],[0.6666666666666666,\"#ed7953\"],[0.7777777777777778,\"#fb9f3a\"],[0.8888888888888888,\"#fdca26\"],[1.0,\"#f0f921\"]],\"type\":\"surface\"}],\"table\":[{\"cells\":{\"fill\":{\"color\":\"#EBF0F8\"},\"line\":{\"color\":\"white\"}},\"header\":{\"fill\":{\"color\":\"#C8D4E3\"},\"line\":{\"color\":\"white\"}},\"type\":\"table\"}]},\"layout\":{\"annotationdefaults\":{\"arrowcolor\":\"#2a3f5f\",\"arrowhead\":0,\"arrowwidth\":1},\"autotypenumbers\":\"strict\",\"coloraxis\":{\"colorbar\":{\"outlinewidth\":0,\"ticks\":\"\"}},\"colorscale\":{\"diverging\":[[0,\"#8e0152\"],[0.1,\"#c51b7d\"],[0.2,\"#de77ae\"],[0.3,\"#f1b6da\"],[0.4,\"#fde0ef\"],[0.5,\"#f7f7f7\"],[0.6,\"#e6f5d0\"],[0.7,\"#b8e186\"],[0.8,\"#7fbc41\"],[0.9,\"#4d9221\"],[1,\"#276419\"]],\"sequential\":[[0.0,\"#0d0887\"],[0.1111111111111111,\"#46039f\"],[0.2222222222222222,\"#7201a8\"],[0.3333333333333333,\"#9c179e\"],[0.4444444444444444,\"#bd3786\"],[0.5555555555555556,\"#d8576b\"],[0.6666666666666666,\"#ed7953\"],[0.7777777777777778,\"#fb9f3a\"],[0.8888888888888888,\"#fdca26\"],[1.0,\"#f0f921\"]],\"sequentialminus\":[[0.0,\"#0d0887\"],[0.1111111111111111,\"#46039f\"],[0.2222222222222222,\"#7201a8\"],[0.3333333333333333,\"#9c179e\"],[0.4444444444444444,\"#bd3786\"],[0.5555555555555556,\"#d8576b\"],[0.6666666666666666,\"#ed7953\"],[0.7777777777777778,\"#fb9f3a\"],[0.8888888888888888,\"#fdca26\"],[1.0,\"#f0f921\"]]},\"colorway\":[\"#636efa\",\"#EF553B\",\"#00cc96\",\"#ab63fa\",\"#FFA15A\",\"#19d3f3\",\"#FF6692\",\"#B6E880\",\"#FF97FF\",\"#FECB52\"],\"font\":{\"color\":\"#2a3f5f\"},\"geo\":{\"bgcolor\":\"white\",\"lakecolor\":\"white\",\"landcolor\":\"#E5ECF6\",\"showlakes\":true,\"showland\":true,\"subunitcolor\":\"white\"},\"hoverlabel\":{\"align\":\"left\"},\"hovermode\":\"closest\",\"mapbox\":{\"style\":\"light\"},\"paper_bgcolor\":\"white\",\"plot_bgcolor\":\"#E5ECF6\",\"polar\":{\"angularaxis\":{\"gridcolor\":\"white\",\"linecolor\":\"white\",\"ticks\":\"\"},\"bgcolor\":\"#E5ECF6\",\"radialaxis\":{\"gridcolor\":\"white\",\"linecolor\":\"white\",\"ticks\":\"\"}},\"scene\":{\"xaxis\":{\"backgroundcolor\":\"#E5ECF6\",\"gridcolor\":\"white\",\"gridwidth\":2,\"linecolor\":\"white\",\"showbackground\":true,\"ticks\":\"\",\"zerolinecolor\":\"white\"},\"yaxis\":{\"backgroundcolor\":\"#E5ECF6\",\"gridcolor\":\"white\",\"gridwidth\":2,\"linecolor\":\"white\",\"showbackground\":true,\"ticks\":\"\",\"zerolinecolor\":\"white\"},\"zaxis\":{\"backgroundcolor\":\"#E5ECF6\",\"gridcolor\":\"white\",\"gridwidth\":2,\"linecolor\":\"white\",\"showbackground\":true,\"ticks\":\"\",\"zerolinecolor\":\"white\"}},\"shapedefaults\":{\"line\":{\"color\":\"#2a3f5f\"}},\"ternary\":{\"aaxis\":{\"gridcolor\":\"white\",\"linecolor\":\"white\",\"ticks\":\"\"},\"baxis\":{\"gridcolor\":\"white\",\"linecolor\":\"white\",\"ticks\":\"\"},\"bgcolor\":\"#E5ECF6\",\"caxis\":{\"gridcolor\":\"white\",\"linecolor\":\"white\",\"ticks\":\"\"}},\"title\":{\"x\":0.05},\"xaxis\":{\"automargin\":true,\"gridcolor\":\"white\",\"linecolor\":\"white\",\"ticks\":\"\",\"title\":{\"standoff\":15},\"zerolinecolor\":\"white\",\"zerolinewidth\":2},\"yaxis\":{\"automargin\":true,\"gridcolor\":\"white\",\"linecolor\":\"white\",\"ticks\":\"\",\"title\":{\"standoff\":15},\"zerolinecolor\":\"white\",\"zerolinewidth\":2}}},\"barmode\":\"group\",\"width\":800,\"height\":400},                        {\"responsive\": true}                    ).then(function(){\n",
       "                            \n",
       "var gd = document.getElementById('fb838d83-cdfb-47dc-bfc2-f1a1e506b262');\n",
       "var x = new MutationObserver(function (mutations, observer) {{\n",
       "        var display = window.getComputedStyle(gd).display;\n",
       "        if (!display || display === 'none') {{\n",
       "            console.log([gd, 'removed!']);\n",
       "            Plotly.purge(gd);\n",
       "            observer.disconnect();\n",
       "        }}\n",
       "}});\n",
       "\n",
       "// Listen for the removal of the full notebook cells\n",
       "var notebookContainer = gd.closest('#notebook-container');\n",
       "if (notebookContainer) {{\n",
       "    x.observe(notebookContainer, {childList: true});\n",
       "}}\n",
       "\n",
       "// Listen for the clearing of the current output cell\n",
       "var outputEl = gd.closest('.output');\n",
       "if (outputEl) {{\n",
       "    x.observe(outputEl, {childList: true});\n",
       "}}\n",
       "\n",
       "                        })                };                });            </script>        </div>"
      ]
     },
     "metadata": {},
     "output_type": "display_data"
    }
   ],
   "source": [
    "# sns.barplot(data=wl_data,x=wl_data.index,y='count_ret')\n",
    "import plotly.graph_objects as go\n",
    "import plotly.figure_factory as ff\n",
    "\n",
    "fig = go.Figure(data=[\n",
    "    go.Bar(name='Avg Return by W/L Sign ', x=wl_data.index, y=wl_data.avg_ret),])\n",
    "# Change the bar mode\n",
    "fig.update_layout(barmode='group',width=800,height=400)\n",
    "fig.show()"
   ]
  },
  {
   "cell_type": "code",
   "execution_count": 26,
   "metadata": {},
   "outputs": [
    {
     "data": {
      "application/vnd.plotly.v1+json": {
       "config": {
        "plotlyServerURL": "https://plot.ly"
       },
       "data": [
        {
         "histnorm": "probability density",
         "legendgroup": "",
         "marker": {
          "color": "#8080FF"
         },
         "name": "",
         "opacity": 0.7,
         "type": "histogram",
         "x": [
          -1,
          -2,
          -3,
          -4,
          1,
          -1,
          -2,
          1,
          -1,
          1,
          2,
          3,
          4,
          5,
          6,
          7,
          -1,
          1,
          2,
          -1,
          -2,
          1,
          -1,
          -2,
          -3,
          1,
          2,
          -1,
          1,
          2,
          -1,
          -2,
          -3,
          1,
          -1,
          -2,
          1,
          -1,
          -2,
          -3,
          1,
          2,
          3,
          4,
          5,
          -1,
          -2,
          -3,
          1,
          -1,
          -2,
          -3,
          1,
          2,
          -1,
          -2,
          -3,
          -4,
          -5,
          -6,
          1,
          -1,
          -2,
          1,
          -1,
          -2,
          -3,
          -4,
          1,
          2,
          -1,
          1,
          2,
          3,
          -1,
          -2,
          -3,
          -4,
          1,
          -1,
          1,
          2,
          -1,
          1,
          -1,
          1,
          -1,
          -2,
          1,
          -1,
          1,
          2,
          -1,
          -2,
          -3,
          -4,
          1,
          2,
          3,
          -1,
          1,
          -1,
          -2,
          1,
          2,
          -1,
          1,
          -1,
          1,
          -1,
          -2,
          1,
          2,
          -1,
          1,
          -1,
          -2,
          -3,
          1,
          2,
          -1,
          -2,
          -3,
          -4,
          -5,
          1,
          -1,
          1,
          2,
          3,
          -1,
          1,
          -1,
          -2,
          -3,
          -4,
          -5,
          1,
          2,
          -1,
          1,
          -1,
          -2,
          -3,
          -4,
          1,
          -1,
          1,
          -1,
          -2,
          1,
          -1,
          1,
          -1,
          1,
          -1,
          -2,
          -3,
          1,
          2,
          3,
          4,
          -1,
          -2,
          1,
          -1,
          1,
          2,
          3,
          4,
          5,
          -1,
          -2,
          1,
          -1,
          1,
          -1,
          1,
          -1,
          -2,
          1,
          2,
          -1,
          -2,
          1,
          -1,
          -2,
          1,
          -1,
          1,
          2,
          3,
          -1,
          1,
          -1,
          1,
          -1,
          -2,
          -3,
          1,
          2,
          3,
          4,
          5,
          -1,
          1,
          2,
          -1,
          1,
          -1,
          1,
          -1,
          1,
          -1,
          1,
          2,
          -1,
          1,
          -1,
          -2,
          -3,
          1,
          -1,
          -2,
          -3,
          1,
          -1,
          -2,
          1,
          2,
          -1,
          -2,
          -3,
          -4,
          1,
          -1,
          1,
          -1,
          1,
          -1,
          1,
          2,
          3,
          4,
          -1,
          -2,
          1,
          2,
          -1,
          1,
          -1,
          -2,
          -3,
          1,
          2,
          3,
          4,
          -1,
          1,
          -1,
          1,
          -1,
          1,
          -1,
          -2,
          1,
          2,
          -1,
          1,
          -1,
          1,
          -1,
          1,
          -1,
          -2,
          1,
          2,
          3,
          4,
          5,
          6,
          7,
          -1,
          1,
          -1,
          1,
          2,
          -1,
          -2,
          1,
          2,
          3,
          -1,
          -2,
          -3,
          -4,
          1,
          2,
          3,
          -1,
          1,
          2,
          3,
          4,
          -1,
          -2,
          1,
          2,
          -1,
          1,
          -1,
          1,
          2,
          -1,
          1,
          -1,
          1,
          -1,
          1,
          2,
          -1,
          1,
          2,
          3,
          -1,
          1,
          -1,
          1,
          2,
          -1,
          1,
          2,
          -1,
          -2,
          -3,
          1,
          -1,
          1,
          -1,
          -2,
          -3,
          -4,
          -5,
          1,
          2,
          -1,
          1,
          -1,
          -2,
          1,
          -1,
          1,
          -1,
          1,
          -1,
          1,
          -1,
          1,
          -1,
          1,
          -1,
          -2,
          1,
          2,
          3,
          -1,
          1,
          2,
          3,
          -1,
          1,
          2,
          3,
          -1,
          1,
          2,
          3,
          4,
          -1,
          1,
          -1,
          1,
          2,
          -1,
          1,
          -1,
          1,
          -1,
          1,
          2,
          -1,
          1,
          2,
          3,
          -1,
          -2,
          1,
          -1,
          1,
          -1,
          1,
          -1,
          1,
          -1,
          1,
          -1,
          1,
          -1,
          1,
          -1,
          -2,
          1,
          -1,
          1,
          2,
          -1,
          1,
          2,
          3,
          4,
          -1,
          1,
          2,
          3,
          -1,
          -2,
          1,
          -1,
          -2,
          1,
          -1,
          1,
          -1,
          1,
          2,
          -1,
          1,
          -1,
          -2,
          -3,
          -4,
          1,
          2,
          -1,
          1,
          2,
          3,
          4,
          5,
          6,
          -1,
          -2,
          1,
          -1,
          1,
          2,
          3,
          4,
          5,
          6,
          -1,
          1,
          -1,
          1,
          2,
          -1,
          1,
          2,
          3,
          -1,
          -2,
          1,
          2,
          3,
          -1,
          -2,
          1,
          -1,
          -2,
          1,
          2,
          3,
          -1,
          -2,
          1,
          2,
          3,
          4,
          5,
          6,
          -1,
          -2,
          1,
          -1,
          -2,
          -3,
          1,
          2,
          3,
          -1,
          1,
          2,
          -1,
          1,
          2,
          -1,
          -2,
          1,
          -1,
          -2,
          1,
          2,
          3,
          4,
          5,
          6,
          7,
          8,
          -1,
          -2,
          1,
          -1,
          1,
          2,
          3,
          -1,
          1,
          2,
          3,
          4,
          5,
          6,
          7,
          -1,
          1,
          2,
          3,
          4,
          -1,
          -2,
          -3,
          -4,
          1,
          2,
          -1,
          -2,
          -3,
          1,
          -1,
          -2,
          -3,
          1,
          -1,
          1,
          -1,
          1,
          -1,
          1,
          2,
          3,
          -1,
          1,
          2,
          3,
          -1,
          1,
          2,
          -1,
          1,
          2,
          -1,
          1,
          -1,
          -2,
          1,
          -1,
          1,
          2,
          -1,
          1,
          -1,
          1,
          -1,
          -2,
          1,
          -1,
          -2,
          -3,
          -4,
          1,
          -1,
          1,
          -1,
          1,
          2,
          3,
          4,
          5,
          6,
          7,
          -1,
          1,
          -1,
          -2,
          1,
          2,
          -1,
          1,
          2,
          -1,
          -2,
          1,
          -1,
          -2,
          1,
          2,
          -1,
          1,
          2,
          -1,
          -2,
          1,
          -1,
          1,
          2,
          -1,
          -2,
          1,
          2,
          3,
          4,
          -1,
          1,
          -1,
          1,
          -1,
          -2,
          -3,
          -4,
          1,
          -1,
          -2,
          -3,
          -4,
          -5,
          1,
          2,
          -1,
          -2,
          1,
          2,
          -1,
          1,
          -1,
          1,
          -1,
          1,
          2,
          -1,
          -2,
          1,
          -1,
          1,
          2,
          -1,
          -2,
          -3,
          -4,
          -5,
          1,
          -1,
          1,
          -1,
          1,
          -1,
          1,
          -1,
          -2,
          -3,
          1,
          2,
          -1,
          1,
          2,
          -1,
          -2,
          1,
          -1,
          -2,
          1,
          -1,
          1,
          -1,
          1,
          2,
          -1,
          -2,
          -3,
          -4,
          -5,
          1,
          -1,
          1,
          2,
          3,
          -1,
          1,
          2,
          -1,
          1,
          -1,
          -2,
          1,
          2,
          3,
          -1,
          1,
          -1,
          -2,
          1,
          -1,
          1,
          -1,
          -2,
          1,
          -1,
          -2,
          1,
          2,
          -1,
          -2,
          1,
          2,
          3,
          4,
          5,
          6,
          7,
          8,
          9,
          10,
          -1,
          -2,
          -3,
          -4,
          1,
          2,
          3,
          4,
          -1,
          1,
          -1,
          -2,
          -3,
          1,
          -1,
          -2,
          -3,
          -4,
          1,
          2,
          3,
          -1,
          1,
          2,
          -1,
          1,
          -1,
          1,
          -1,
          -2,
          -3,
          1,
          2,
          3,
          4,
          -1,
          1,
          2,
          -1,
          -2,
          1,
          -1,
          1,
          2,
          -1,
          1,
          2,
          -1,
          -2,
          1,
          -1,
          -2,
          -3,
          1,
          2,
          -1,
          -2,
          1,
          -1,
          -2,
          1,
          2,
          3,
          -1,
          1,
          2,
          3,
          4,
          -1,
          1,
          2,
          -1,
          1,
          -1,
          1,
          -1,
          1,
          -1,
          1,
          2,
          3,
          4,
          -1,
          -2,
          1,
          -1,
          1,
          -1,
          -2,
          1,
          2,
          -1,
          -2,
          -3,
          1,
          -1,
          -2,
          -3,
          1,
          2,
          3,
          -1,
          -2,
          -3,
          -4,
          1,
          2,
          -1,
          -2,
          1,
          -1,
          1,
          2,
          -1,
          -2,
          1,
          -1,
          1,
          -1,
          1,
          2,
          3,
          -1,
          1,
          -1,
          -2,
          -3,
          1,
          2,
          3,
          -1,
          -2,
          -3,
          1,
          2,
          -1,
          1,
          2,
          -1,
          -2,
          1,
          -1,
          1,
          2,
          -1,
          1,
          -1,
          -2,
          1,
          -1,
          -2,
          -3,
          1,
          -1,
          1,
          -1,
          -2,
          -3,
          -4,
          -5,
          -6,
          1,
          2,
          -1,
          1,
          2,
          -1,
          1,
          2,
          3,
          -1,
          1,
          -1,
          -2,
          -3,
          -4,
          1,
          2,
          3,
          -1,
          1,
          2,
          3,
          -1,
          1,
          2,
          -1,
          1,
          2,
          -1,
          1,
          2,
          3,
          4,
          -1,
          -2,
          -3,
          -4,
          1,
          2,
          -1,
          -2,
          -3,
          1,
          -1,
          -2,
          1,
          -1,
          1,
          2,
          -1,
          -2,
          1,
          2,
          -1,
          -2,
          -3,
          1,
          -1,
          -2,
          1,
          2,
          -1,
          -2,
          1,
          -1,
          1,
          -1
         ],
         "xaxis": "x",
         "xbins": {
          "end": 10,
          "size": 0.8,
          "start": -6
         },
         "yaxis": "y"
        },
        {
         "legendgroup": "",
         "marker": {
          "color": "#8080FF"
         },
         "mode": "lines",
         "name": "",
         "showlegend": false,
         "type": "scatter",
         "x": [
          -6,
          -5.968,
          -5.936,
          -5.904,
          -5.872,
          -5.84,
          -5.808,
          -5.776,
          -5.744,
          -5.712,
          -5.68,
          -5.648,
          -5.616,
          -5.584,
          -5.552,
          -5.52,
          -5.4879999999999995,
          -5.4559999999999995,
          -5.424,
          -5.392,
          -5.36,
          -5.328,
          -5.296,
          -5.264,
          -5.232,
          -5.2,
          -5.168,
          -5.136,
          -5.104,
          -5.072,
          -5.04,
          -5.008,
          -4.976,
          -4.944,
          -4.912,
          -4.88,
          -4.848,
          -4.816,
          -4.784,
          -4.752,
          -4.72,
          -4.688,
          -4.656,
          -4.6240000000000006,
          -4.5920000000000005,
          -4.5600000000000005,
          -4.5280000000000005,
          -4.496,
          -4.464,
          -4.432,
          -4.4,
          -4.368,
          -4.336,
          -4.304,
          -4.272,
          -4.24,
          -4.208,
          -4.176,
          -4.144,
          -4.112,
          -4.08,
          -4.048,
          -4.016,
          -3.984,
          -3.952,
          -3.92,
          -3.888,
          -3.856,
          -3.824,
          -3.792,
          -3.76,
          -3.728,
          -3.696,
          -3.664,
          -3.632,
          -3.6,
          -3.568,
          -3.536,
          -3.504,
          -3.472,
          -3.44,
          -3.408,
          -3.376,
          -3.344,
          -3.312,
          -3.28,
          -3.248,
          -3.216,
          -3.184,
          -3.152,
          -3.12,
          -3.088,
          -3.056,
          -3.024,
          -2.992,
          -2.96,
          -2.928,
          -2.896,
          -2.864,
          -2.832,
          -2.8,
          -2.768,
          -2.736,
          -2.704,
          -2.672,
          -2.64,
          -2.608,
          -2.576,
          -2.544,
          -2.512,
          -2.48,
          -2.448,
          -2.416,
          -2.384,
          -2.352,
          -2.32,
          -2.288,
          -2.256,
          -2.224,
          -2.192,
          -2.16,
          -2.128,
          -2.096,
          -2.064,
          -2.032,
          -2,
          -1.968,
          -1.936,
          -1.904,
          -1.8719999999999999,
          -1.8399999999999999,
          -1.8079999999999998,
          -1.7759999999999998,
          -1.7439999999999998,
          -1.7119999999999997,
          -1.6799999999999997,
          -1.6479999999999997,
          -1.6159999999999997,
          -1.5839999999999996,
          -1.5519999999999996,
          -1.5199999999999996,
          -1.4880000000000004,
          -1.4560000000000004,
          -1.4240000000000004,
          -1.3920000000000003,
          -1.3600000000000003,
          -1.3280000000000003,
          -1.2960000000000003,
          -1.2640000000000002,
          -1.2320000000000002,
          -1.2000000000000002,
          -1.1680000000000001,
          -1.1360000000000001,
          -1.104,
          -1.072,
          -1.04,
          -1.008,
          -0.976,
          -0.944,
          -0.9119999999999999,
          -0.8799999999999999,
          -0.8479999999999999,
          -0.8159999999999998,
          -0.7839999999999998,
          -0.7519999999999998,
          -0.7199999999999998,
          -0.6879999999999997,
          -0.6559999999999997,
          -0.6239999999999997,
          -0.5919999999999996,
          -0.5599999999999996,
          -0.5279999999999996,
          -0.49600000000000044,
          -0.4640000000000004,
          -0.4320000000000004,
          -0.40000000000000036,
          -0.3680000000000003,
          -0.3360000000000003,
          -0.30400000000000027,
          -0.27200000000000024,
          -0.2400000000000002,
          -0.20800000000000018,
          -0.17600000000000016,
          -0.14400000000000013,
          -0.1120000000000001,
          -0.08000000000000007,
          -0.04800000000000004,
          -0.016000000000000014,
          0.016000000000000014,
          0.04800000000000004,
          0.08000000000000007,
          0.1120000000000001,
          0.14400000000000013,
          0.17600000000000016,
          0.20800000000000018,
          0.2400000000000002,
          0.27200000000000024,
          0.30400000000000027,
          0.3360000000000003,
          0.3680000000000003,
          0.40000000000000036,
          0.4320000000000004,
          0.4640000000000004,
          0.49600000000000044,
          0.5279999999999996,
          0.5599999999999996,
          0.5919999999999996,
          0.6239999999999997,
          0.6559999999999997,
          0.6879999999999997,
          0.7199999999999998,
          0.7519999999999998,
          0.7839999999999998,
          0.8159999999999998,
          0.8479999999999999,
          0.8799999999999999,
          0.9119999999999999,
          0.944,
          0.976,
          1.008,
          1.04,
          1.072,
          1.104,
          1.1360000000000001,
          1.1680000000000001,
          1.2000000000000002,
          1.2320000000000002,
          1.2640000000000002,
          1.2960000000000003,
          1.3280000000000003,
          1.3600000000000003,
          1.3920000000000003,
          1.4240000000000004,
          1.4560000000000004,
          1.4880000000000004,
          1.5199999999999996,
          1.5519999999999996,
          1.5839999999999996,
          1.6159999999999997,
          1.6479999999999997,
          1.6799999999999997,
          1.7119999999999997,
          1.7439999999999998,
          1.7759999999999998,
          1.8079999999999998,
          1.8399999999999999,
          1.8719999999999999,
          1.904,
          1.936,
          1.968,
          2,
          2.032,
          2.064,
          2.096,
          2.128,
          2.16,
          2.192,
          2.224,
          2.2560000000000002,
          2.2880000000000003,
          2.3200000000000003,
          2.3520000000000003,
          2.3840000000000003,
          2.4160000000000004,
          2.4480000000000004,
          2.4800000000000004,
          2.5120000000000005,
          2.5440000000000005,
          2.5760000000000005,
          2.6080000000000005,
          2.6400000000000006,
          2.6720000000000006,
          2.7040000000000006,
          2.7360000000000007,
          2.7680000000000007,
          2.8000000000000007,
          2.8320000000000007,
          2.8640000000000008,
          2.896000000000001,
          2.928000000000001,
          2.960000000000001,
          2.992000000000001,
          3.023999999999999,
          3.055999999999999,
          3.087999999999999,
          3.119999999999999,
          3.1519999999999992,
          3.1839999999999993,
          3.2159999999999993,
          3.2479999999999993,
          3.2799999999999994,
          3.3119999999999994,
          3.3439999999999994,
          3.3759999999999994,
          3.4079999999999995,
          3.4399999999999995,
          3.4719999999999995,
          3.5039999999999996,
          3.5359999999999996,
          3.5679999999999996,
          3.5999999999999996,
          3.6319999999999997,
          3.6639999999999997,
          3.6959999999999997,
          3.7279999999999998,
          3.76,
          3.792,
          3.824,
          3.856,
          3.888,
          3.92,
          3.952,
          3.984,
          4.016,
          4.048,
          4.08,
          4.112,
          4.144,
          4.176,
          4.208,
          4.24,
          4.272,
          4.304,
          4.336,
          4.368,
          4.4,
          4.432,
          4.464,
          4.496,
          4.5280000000000005,
          4.5600000000000005,
          4.5920000000000005,
          4.6240000000000006,
          4.656000000000001,
          4.688000000000001,
          4.720000000000001,
          4.752000000000001,
          4.784000000000001,
          4.816000000000001,
          4.848000000000001,
          4.880000000000001,
          4.912000000000001,
          4.944000000000001,
          4.976000000000001,
          5.007999999999999,
          5.039999999999999,
          5.071999999999999,
          5.103999999999999,
          5.135999999999999,
          5.167999999999999,
          5.199999999999999,
          5.231999999999999,
          5.263999999999999,
          5.295999999999999,
          5.327999999999999,
          5.359999999999999,
          5.3919999999999995,
          5.4239999999999995,
          5.4559999999999995,
          5.4879999999999995,
          5.52,
          5.552,
          5.584,
          5.616,
          5.648,
          5.68,
          5.712,
          5.744,
          5.776,
          5.808,
          5.84,
          5.872,
          5.904,
          5.936,
          5.968,
          6,
          6.032,
          6.064,
          6.096,
          6.128,
          6.16,
          6.192,
          6.224,
          6.256,
          6.288,
          6.32,
          6.352,
          6.384,
          6.416,
          6.448,
          6.48,
          6.5120000000000005,
          6.5440000000000005,
          6.5760000000000005,
          6.6080000000000005,
          6.640000000000001,
          6.672000000000001,
          6.704000000000001,
          6.736000000000001,
          6.768000000000001,
          6.800000000000001,
          6.832000000000001,
          6.864000000000001,
          6.896000000000001,
          6.928000000000001,
          6.960000000000001,
          6.992000000000001,
          7.023999999999999,
          7.055999999999999,
          7.087999999999999,
          7.119999999999999,
          7.151999999999999,
          7.183999999999999,
          7.215999999999999,
          7.247999999999999,
          7.279999999999999,
          7.311999999999999,
          7.343999999999999,
          7.3759999999999994,
          7.4079999999999995,
          7.4399999999999995,
          7.4719999999999995,
          7.504,
          7.536,
          7.568,
          7.6,
          7.632,
          7.664,
          7.696,
          7.728,
          7.76,
          7.792,
          7.824,
          7.856,
          7.888,
          7.92,
          7.952,
          7.984,
          8.016,
          8.048,
          8.08,
          8.112,
          8.144,
          8.176,
          8.208,
          8.24,
          8.272,
          8.304,
          8.336,
          8.368,
          8.4,
          8.432,
          8.464,
          8.496,
          8.528,
          8.56,
          8.592,
          8.624,
          8.656,
          8.688,
          8.72,
          8.752,
          8.784,
          8.816,
          8.848,
          8.88,
          8.912,
          8.944,
          8.976,
          9.008,
          9.04,
          9.072,
          9.104,
          9.136,
          9.168,
          9.2,
          9.232,
          9.264,
          9.296,
          9.328,
          9.36,
          9.392,
          9.424,
          9.456,
          9.488,
          9.52,
          9.552,
          9.584,
          9.616,
          9.648,
          9.68,
          9.712,
          9.744,
          9.776,
          9.808,
          9.84,
          9.872,
          9.904,
          9.936,
          9.968
         ],
         "xaxis": "x",
         "y": [
          0.0034753261337459973,
          0.0036202903772592264,
          0.0037705013662380276,
          0.00392611174036484,
          0.004087276948440953,
          0.004254155229704647,
          0.004426907591360387,
          0.004605697782192622,
          0.004790692262138713,
          0.004982060167696375,
          0.005179973273042345,
          0.005384605946740439,
          0.005596135103919138,
          0.0058147401538007175,
          0.00604060294246645,
          0.006273907690744961,
          0.006514840927113911,
          0.006763591415508319,
          0.007020350077932499,
          0.007285309911776431,
          0.007558665901741583,
          0.007840614926285886,
          0.008131355658502279,
          0.008431088461350362,
          0.0087400152771666,
          0.009058339511383946,
          0.009386265910398291,
          0.009724000433525443,
          0.010071750118999473,
          0.010429722943970241,
          0.010798127678465715,
          0.011177173733292196,
          0.011567071001854317,
          0.01196802969588465,
          0.012380260175082142,
          0.012803972770667148,
          0.013239377602871017,
          0.013686684392387407,
          0.014146102265822625,
          0.014617839555193048,
          0.015102103591527727,
          0.015599100492645521,
          0.016109034945187006,
          0.016632109980992918,
          0.017168526747932417,
          0.017718484275295862,
          0.018282179233879498,
          0.01885980569090066,
          0.01945155485989514,
          0.020057614845760276,
          0.02067817038512009,
          0.02131340258220113,
          0.021963488640420765,
          0.022628601589902098,
          0.023308910011142207,
          0.02400457775507387,
          0.024715763659772867,
          0.025442621264076117,
          0.026185298518388356,
          0.026943937492967418,
          0.027718674083990966,
          0.02850963771771905,
          0.029316951053079736,
          0.03014072968301586,
          0.03098108183494368,
          0.03183810807068426,
          0.0327119009862406,
          0.033602544911803,
          0.03451011561237667,
          0.0354346799894344,
          0.036376295784007175,
          0.03733501128163471,
          0.038310865019606136,
          0.03930388549692888,
          0.04031409088747239,
          0.041341488756738605,
          0.04238607578271909,
          0.04344783748130294,
          0.04452674793670603,
          0.045622769537395344,
          0.04673585271798658,
          0.04786593570759572,
          0.04901294428512793,
          0.05017679154198769,
          0.05135737765269597,
          0.052554589653898594,
          0.05376830123225008,
          0.05499837252165485,
          0.05624464991034467,
          0.05750696585826804,
          0.05878513872526273,
          0.060078972610476226,
          0.061388257203494036,
          0.0627127676476267,
          0.06405226441580002,
          0.06540649319948168,
          0.0667751848110694,
          0.06815805510015299,
          0.06955480488405169,
          0.0709651198930144,
          0.07238867073045761,
          0.07382511284859929,
          0.07527408653983315,
          0.07673521694416958,
          0.07820811407305243,
          0.07969237284984258,
          0.08118757316724003,
          0.08269327996189499,
          0.08420904330643926,
          0.08573439851914598,
          0.08726886629140349,
          0.08881195283316701,
          0.0903631500365259,
          0.0919219356575016,
          0.09348777351616432,
          0.09506011371513214,
          0.0966383928764888,
          0.09822203439713,
          0.09981044872251989,
          0.10140303363881302,
          0.10299917458326689,
          0.10459824497284326,
          0.1061996065508664,
          0.10780260975157838,
          0.10940659408240105,
          0.11101088852368604,
          0.11261481194570362,
          0.1142176735425928,
          0.11581877328296453,
          0.11741740237682155,
          0.11901284375842762,
          0.12060437258473213,
          0.12219125674892507,
          0.12377275740867015,
          0.12534812952853588,
          0.12691662243611607,
          0.12847748039130488,
          0.13002994316816432,
          0.13157324664879727,
          0.13310662342861232,
          0.1346293034323439,
          0.1361405145401659,
          0.1376394832232159,
          0.13912543518782275,
          0.1405975960277125,
          0.14205519188344418,
          0.1434974501083107,
          0.14492359993992104,
          0.14633287317666338,
          0.14772450485823344,
          0.14909773394939815,
          0.15045180402615146,
          0.15178596396340763,
          0.15309946862336726,
          0.15439157954368193,
          0.1556615656245354,
          0.15690870381375516,
          0.1581322797890604,
          0.15933158863655222,
          0.16050593552454867,
          0.16165463637186672,
          0.1627770185096566,
          0.16387242133589414,
          0.16494019696164375,
          0.16597971084820906,
          0.16699034243429603,
          0.1679714857523232,
          0.1689225500330235,
          0.16984296029749452,
          0.17073215793586805,
          0.17158960127178408,
          0.1724147661118721,
          0.17320714627945955,
          0.17396625413174793,
          0.17469162105971614,
          0.17538279797003556,
          0.1760393557483016,
          0.17666088570291477,
          0.17724699998896706,
          0.17779733201151965,
          0.17831153680768413,
          0.17878929140695016,
          0.17923029516923278,
          0.179634270100144,
          0.18000096114302575,
          0.18033013644731513,
          0.18062158761284614,
          0.18087512990972784,
          0.18109060247347436,
          0.18126786847509788,
          0.18140681526591285,
          0.1815073544968372,
          0.18156942221201322,
          0.18159297891660997,
          0.18157800961870535,
          0.18152452384518733,
          0.18143255563164906,
          0.181302163486294,
          0.18113343032790427,
          0.18092646339796406,
          0.1806813941470692,
          0.1803983780957901,
          0.18007759467019574,
          0.17971924701228084,
          0.17932356176557757,
          0.17889078883626786,
          0.17842120113014945,
          0.17791509426584257,
          0.1773727862646594,
          0.17679461721759235,
          0.17618094892990793,
          0.1755321645438677,
          0.17484866814012553,
          0.17413088431838292,
          0.1733792577579101,
          0.17259425275857096,
          0.1717763527630135,
          0.170926059860715,
          0.1700438942745928,
          0.16913039383091605,
          0.16818611341327355,
          0.16721162440137316,
          0.16620751409546666,
          0.16517438512721086,
          0.16411285485779115,
          0.1630235547641475,
          0.16190712981415584,
          0.1607642378316283,
          0.15959554885200528,
          0.15840174446962074,
          0.15718351717742743,
          0.15594156970007428,
          0.15467661432123186,
          0.15338937220606202,
          0.15208057271972963,
          0.15075095274285266,
          0.1494012559847822,
          0.1480322322956031,
          0.14664463697773691,
          0.14523923009802328,
          0.1438167758011469,
          0.14237804162526735,
          0.14092379782069725,
          0.13945481667246137,
          0.13797187182755705,
          0.1364757376277182,
          0.13496718844847122,
          0.13344699804525248,
          0.1319159389073383,
          0.13037478162031893,
          0.1288242942378271,
          0.1272652416632099,
          0.12569838504181047,
          0.12412448116450166,
          0.12254428188309048,
          0.12095853353818674,
          0.11936797640010256,
          0.11777334412332525,
          0.11617536321507645,
          0.11457475251844505,
          0.11297222271055238,
          0.11136847581617998,
          0.10976420473726187,
          0.10816009279861397,
          0.10655681331024412,
          0.1049550291465574,
          0.10335539234274055,
          0.10175854370858192,
          0.10016511245995173,
          0.09857571586813933,
          0.09699095892721453,
          0.09541143403955055,
          0.09383772071961773,
          0.09227038531612795,
          0.09070998075258226,
          0.08915704628624485,
          0.08761210728554074,
          0.08607567502584561,
          0.08454824650361155,
          0.0830303042687448,
          0.08152231627512731,
          0.08002473574914835,
          0.07853800107608956,
          0.07706253570418078,
          0.07559874806612546,
          0.07414703151786782,
          0.07270776429435634,
          0.07128130948203629,
          0.06986801500778446,
          0.06846821364398152,
          0.06708222302939815,
          0.06571034570555624,
          0.06435286916820812,
          0.06301006593356405,
          0.061682193618882185,
          0.0603694950370234,
          0.05907219830456003,
          0.05779051696301716,
          0.05652465011281426,
          0.055274782559465434,
          0.054041084971588674,
          0.052823714050266174,
          0.05162281270929195,
          0.0504385102658366,
          0.04927092264105509,
          0.0481201525701586,
          0.0469862898214696,
          0.04586941142397621,
          0.04476958190290142,
          0.04368685352280206,
          0.04262126653771263,
          0.04157284944785076,
          0.04054161926240296,
          0.03952758176791165,
          0.03853073180178878,
          0.03755105353048476,
          0.03658852073184697,
          0.03564309708120714,
          0.034714736440743535,
          0.03380338315167038,
          0.032908972328814415,
          0.03203143015714659,
          0.03117067418984479,
          0.030326613647473147,
          0.02949914971787232,
          0.02868817585636503,
          0.02789357808589173,
          0.027115235296701203,
          0.02635301954523246,
          0.025606796351835007,
          0.024876424996986585,
          0.024161758815678513,
          0.02346264548965162,
          0.022778927337177245,
          0.02211044160009011,
          0.021457020727793253,
          0.020818492657966238,
          0.020194681093722088,
          0.01958540577696984,
          0.018990482757753453,
          0.01840972465934942,
          0.01784294093891926,
          0.017289938143524766,
          0.016750520161327512,
          0.016224488467805588,
          0.015711642366833707,
          0.015211779226485141,
          0.014724694709425449,
          0.01425018299778058,
          0.013788037012373511,
          0.0133380486262351,
          0.01290000887230648,
          0.012473708145261098,
          0.0120589363973858,
          0.01165548332847076,
          0.011263138569668754,
          0.010881691861293879,
          0.010510933224540301,
          0.0101506531271106,
          0.0098006426427529,
          0.009460693604714621,
          0.00913059875312949,
          0.008810151876362545,
          0.008499147946346146,
          0.008197383247947124,
          0.007904655502413045,
          0.007620763984952044,
          0.0073455096365077485,
          0.007078695169796629,
          0.006820125169681469,
          0.006569606187959968,
          0.006326946832653021,
          0.006091957851881841,
          0.005864452212428056,
          0.005644245173074866,
          0.0054311543528316845,
          0.005224999794147898,
          0.005025604021225104,
          0.004832792093539979,
          0.004646391654692787,
          0.004466232976698857,
          0.004292148999842587,
          0.004123975368215425,
          0.003961550461060694,
          0.0038047154200497053,
          0.0036533141726144127,
          0.0035071934514629196,
          0.0033662028104044844,
          0.003230194636611202,
          0.003099024159443545,
          0.0029725494559668967,
          0.002850631453285881,
          0.0027331339278227505,
          0.002619923501665489,
          0.0025108696361103204,
          0.002405844622522311,
          0.002304723570636527,
          0.0022073843944208373,
          0.002113707795620011,
          0.00202357724509897,
          0.0019368789621014592,
          0.001853501891538375,
          0.0017733376794180798,
          0.001696280646528859,
          0.0016222277604815462,
          0.0015510786062180315,
          0.0014827353550890237,
          0.0014171027326020159,
          0.0013540879849378705,
          0.001293600844332032,
          0.0012355534934135944,
          0.001179860528593008,
          0.0011264389225864222,
          0.0010752079861620321,
          0.0010260893291910889,
          0.0009790068210834679,
          0.0009338865506850021,
          0.0008906567857110163,
          0.0008492479317877997,
          0.0008095924911709726,
          0.0007716250212070429,
          0.000735282092601695,
          0.0007005022475557234,
          0.0006672259578268205,
          0.0006353955827728188,
          0.0006049553274293998,
          0.0005758512006727105,
          0.0005480309735147925,
          0.0005214441375772697,
          0.0004960418637862775,
          0.00047177696132925397,
          0.0004486038369118273,
          0.0004264784543507757,
          0.0004053582945367774,
          0.0003852023157984864,
          0.0003659709146973245,
          0.00034762588728032143,
          0.0003301303908163012,
          0.00031344890603876655,
          0.00029754719991691495,
          0.0002823922889743947,
          0.00026795240317361733,
          0.0002541969503817333,
          0.00024109648143270351,
          0.00022862265579831305,
          0.00021674820787942898,
          0.00020544691392732585,
          0.0001946935596034863,
          0.00018446390818492153,
          0.00017473466942076013,
          0.0001654834690446135,
          0.00015668881894603259,
          0.0001483300880032563,
          0.00014038747357836905,
          0.00013284197367497707,
          0.00012567535975754215,
          0.00011887015023060708,
          0.00011240958457528812,
          0.0001062775981395979,
          0.00010045879757840788,
          9.493843693814554e-05,
          8.970239438066117e-05,
          8.473714954007485e-05,
          8.002976150584615e-05,
          7.556784742477102e-05,
          7.133956171412659e-05,
          6.733357587772639e-05,
          6.353905891624396e-05,
          5.9945658322782365e-05,
          5.6543481654334124e-05,
          5.3323078669462706e-05,
          5.02754240222777e-05,
          4.7391900502525555e-05,
          4.466428281141216e-05,
          4.208472186259682e-05,
          3.96457295976385e-05,
          3.734016430505442e-05,
          3.516121643204699e-05,
          3.310239487787912e-05,
          3.115751375782257e-05,
          2.9320679626574077e-05,
          2.7586279150014888e-05,
          2.594896721420268e-05,
          2.4403655460503887e-05,
          2.2945501235817623e-05,
          2.156989694689892e-05,
          2.0272459807859317e-05,
          1.9049021970010982e-05,
          1.7895621023313605e-05,
          1.6808490858798363e-05,
          1.5784052881459967e-05,
          1.4818907563240237e-05,
          1.3909826325866263e-05,
          1.305374374345356e-05,
          1.2247750054941206e-05,
          1.1489083976588442e-05,
          1.0775125804929695e-05,
          1.0103390800760493e-05,
          9.47152284490459e-06,
          8.877288356695733e-06
         ],
         "yaxis": "y"
        }
       ],
       "layout": {
        "barmode": "overlay",
        "height": 400,
        "hovermode": "closest",
        "legend": {
         "traceorder": "reversed"
        },
        "template": {
         "data": {
          "bar": [
           {
            "error_x": {
             "color": "#2a3f5f"
            },
            "error_y": {
             "color": "#2a3f5f"
            },
            "marker": {
             "line": {
              "color": "#E5ECF6",
              "width": 0.5
             },
             "pattern": {
              "fillmode": "overlay",
              "size": 10,
              "solidity": 0.2
             }
            },
            "type": "bar"
           }
          ],
          "barpolar": [
           {
            "marker": {
             "line": {
              "color": "#E5ECF6",
              "width": 0.5
             },
             "pattern": {
              "fillmode": "overlay",
              "size": 10,
              "solidity": 0.2
             }
            },
            "type": "barpolar"
           }
          ],
          "carpet": [
           {
            "aaxis": {
             "endlinecolor": "#2a3f5f",
             "gridcolor": "white",
             "linecolor": "white",
             "minorgridcolor": "white",
             "startlinecolor": "#2a3f5f"
            },
            "baxis": {
             "endlinecolor": "#2a3f5f",
             "gridcolor": "white",
             "linecolor": "white",
             "minorgridcolor": "white",
             "startlinecolor": "#2a3f5f"
            },
            "type": "carpet"
           }
          ],
          "choropleth": [
           {
            "colorbar": {
             "outlinewidth": 0,
             "ticks": ""
            },
            "type": "choropleth"
           }
          ],
          "contour": [
           {
            "colorbar": {
             "outlinewidth": 0,
             "ticks": ""
            },
            "colorscale": [
             [
              0,
              "#0d0887"
             ],
             [
              0.1111111111111111,
              "#46039f"
             ],
             [
              0.2222222222222222,
              "#7201a8"
             ],
             [
              0.3333333333333333,
              "#9c179e"
             ],
             [
              0.4444444444444444,
              "#bd3786"
             ],
             [
              0.5555555555555556,
              "#d8576b"
             ],
             [
              0.6666666666666666,
              "#ed7953"
             ],
             [
              0.7777777777777778,
              "#fb9f3a"
             ],
             [
              0.8888888888888888,
              "#fdca26"
             ],
             [
              1,
              "#f0f921"
             ]
            ],
            "type": "contour"
           }
          ],
          "contourcarpet": [
           {
            "colorbar": {
             "outlinewidth": 0,
             "ticks": ""
            },
            "type": "contourcarpet"
           }
          ],
          "heatmap": [
           {
            "colorbar": {
             "outlinewidth": 0,
             "ticks": ""
            },
            "colorscale": [
             [
              0,
              "#0d0887"
             ],
             [
              0.1111111111111111,
              "#46039f"
             ],
             [
              0.2222222222222222,
              "#7201a8"
             ],
             [
              0.3333333333333333,
              "#9c179e"
             ],
             [
              0.4444444444444444,
              "#bd3786"
             ],
             [
              0.5555555555555556,
              "#d8576b"
             ],
             [
              0.6666666666666666,
              "#ed7953"
             ],
             [
              0.7777777777777778,
              "#fb9f3a"
             ],
             [
              0.8888888888888888,
              "#fdca26"
             ],
             [
              1,
              "#f0f921"
             ]
            ],
            "type": "heatmap"
           }
          ],
          "heatmapgl": [
           {
            "colorbar": {
             "outlinewidth": 0,
             "ticks": ""
            },
            "colorscale": [
             [
              0,
              "#0d0887"
             ],
             [
              0.1111111111111111,
              "#46039f"
             ],
             [
              0.2222222222222222,
              "#7201a8"
             ],
             [
              0.3333333333333333,
              "#9c179e"
             ],
             [
              0.4444444444444444,
              "#bd3786"
             ],
             [
              0.5555555555555556,
              "#d8576b"
             ],
             [
              0.6666666666666666,
              "#ed7953"
             ],
             [
              0.7777777777777778,
              "#fb9f3a"
             ],
             [
              0.8888888888888888,
              "#fdca26"
             ],
             [
              1,
              "#f0f921"
             ]
            ],
            "type": "heatmapgl"
           }
          ],
          "histogram": [
           {
            "marker": {
             "pattern": {
              "fillmode": "overlay",
              "size": 10,
              "solidity": 0.2
             }
            },
            "type": "histogram"
           }
          ],
          "histogram2d": [
           {
            "colorbar": {
             "outlinewidth": 0,
             "ticks": ""
            },
            "colorscale": [
             [
              0,
              "#0d0887"
             ],
             [
              0.1111111111111111,
              "#46039f"
             ],
             [
              0.2222222222222222,
              "#7201a8"
             ],
             [
              0.3333333333333333,
              "#9c179e"
             ],
             [
              0.4444444444444444,
              "#bd3786"
             ],
             [
              0.5555555555555556,
              "#d8576b"
             ],
             [
              0.6666666666666666,
              "#ed7953"
             ],
             [
              0.7777777777777778,
              "#fb9f3a"
             ],
             [
              0.8888888888888888,
              "#fdca26"
             ],
             [
              1,
              "#f0f921"
             ]
            ],
            "type": "histogram2d"
           }
          ],
          "histogram2dcontour": [
           {
            "colorbar": {
             "outlinewidth": 0,
             "ticks": ""
            },
            "colorscale": [
             [
              0,
              "#0d0887"
             ],
             [
              0.1111111111111111,
              "#46039f"
             ],
             [
              0.2222222222222222,
              "#7201a8"
             ],
             [
              0.3333333333333333,
              "#9c179e"
             ],
             [
              0.4444444444444444,
              "#bd3786"
             ],
             [
              0.5555555555555556,
              "#d8576b"
             ],
             [
              0.6666666666666666,
              "#ed7953"
             ],
             [
              0.7777777777777778,
              "#fb9f3a"
             ],
             [
              0.8888888888888888,
              "#fdca26"
             ],
             [
              1,
              "#f0f921"
             ]
            ],
            "type": "histogram2dcontour"
           }
          ],
          "mesh3d": [
           {
            "colorbar": {
             "outlinewidth": 0,
             "ticks": ""
            },
            "type": "mesh3d"
           }
          ],
          "parcoords": [
           {
            "line": {
             "colorbar": {
              "outlinewidth": 0,
              "ticks": ""
             }
            },
            "type": "parcoords"
           }
          ],
          "pie": [
           {
            "automargin": true,
            "type": "pie"
           }
          ],
          "scatter": [
           {
            "marker": {
             "colorbar": {
              "outlinewidth": 0,
              "ticks": ""
             }
            },
            "type": "scatter"
           }
          ],
          "scatter3d": [
           {
            "line": {
             "colorbar": {
              "outlinewidth": 0,
              "ticks": ""
             }
            },
            "marker": {
             "colorbar": {
              "outlinewidth": 0,
              "ticks": ""
             }
            },
            "type": "scatter3d"
           }
          ],
          "scattercarpet": [
           {
            "marker": {
             "colorbar": {
              "outlinewidth": 0,
              "ticks": ""
             }
            },
            "type": "scattercarpet"
           }
          ],
          "scattergeo": [
           {
            "marker": {
             "colorbar": {
              "outlinewidth": 0,
              "ticks": ""
             }
            },
            "type": "scattergeo"
           }
          ],
          "scattergl": [
           {
            "marker": {
             "colorbar": {
              "outlinewidth": 0,
              "ticks": ""
             }
            },
            "type": "scattergl"
           }
          ],
          "scattermapbox": [
           {
            "marker": {
             "colorbar": {
              "outlinewidth": 0,
              "ticks": ""
             }
            },
            "type": "scattermapbox"
           }
          ],
          "scatterpolar": [
           {
            "marker": {
             "colorbar": {
              "outlinewidth": 0,
              "ticks": ""
             }
            },
            "type": "scatterpolar"
           }
          ],
          "scatterpolargl": [
           {
            "marker": {
             "colorbar": {
              "outlinewidth": 0,
              "ticks": ""
             }
            },
            "type": "scatterpolargl"
           }
          ],
          "scatterternary": [
           {
            "marker": {
             "colorbar": {
              "outlinewidth": 0,
              "ticks": ""
             }
            },
            "type": "scatterternary"
           }
          ],
          "surface": [
           {
            "colorbar": {
             "outlinewidth": 0,
             "ticks": ""
            },
            "colorscale": [
             [
              0,
              "#0d0887"
             ],
             [
              0.1111111111111111,
              "#46039f"
             ],
             [
              0.2222222222222222,
              "#7201a8"
             ],
             [
              0.3333333333333333,
              "#9c179e"
             ],
             [
              0.4444444444444444,
              "#bd3786"
             ],
             [
              0.5555555555555556,
              "#d8576b"
             ],
             [
              0.6666666666666666,
              "#ed7953"
             ],
             [
              0.7777777777777778,
              "#fb9f3a"
             ],
             [
              0.8888888888888888,
              "#fdca26"
             ],
             [
              1,
              "#f0f921"
             ]
            ],
            "type": "surface"
           }
          ],
          "table": [
           {
            "cells": {
             "fill": {
              "color": "#EBF0F8"
             },
             "line": {
              "color": "white"
             }
            },
            "header": {
             "fill": {
              "color": "#C8D4E3"
             },
             "line": {
              "color": "white"
             }
            },
            "type": "table"
           }
          ]
         },
         "layout": {
          "annotationdefaults": {
           "arrowcolor": "#2a3f5f",
           "arrowhead": 0,
           "arrowwidth": 1
          },
          "autotypenumbers": "strict",
          "coloraxis": {
           "colorbar": {
            "outlinewidth": 0,
            "ticks": ""
           }
          },
          "colorscale": {
           "diverging": [
            [
             0,
             "#8e0152"
            ],
            [
             0.1,
             "#c51b7d"
            ],
            [
             0.2,
             "#de77ae"
            ],
            [
             0.3,
             "#f1b6da"
            ],
            [
             0.4,
             "#fde0ef"
            ],
            [
             0.5,
             "#f7f7f7"
            ],
            [
             0.6,
             "#e6f5d0"
            ],
            [
             0.7,
             "#b8e186"
            ],
            [
             0.8,
             "#7fbc41"
            ],
            [
             0.9,
             "#4d9221"
            ],
            [
             1,
             "#276419"
            ]
           ],
           "sequential": [
            [
             0,
             "#0d0887"
            ],
            [
             0.1111111111111111,
             "#46039f"
            ],
            [
             0.2222222222222222,
             "#7201a8"
            ],
            [
             0.3333333333333333,
             "#9c179e"
            ],
            [
             0.4444444444444444,
             "#bd3786"
            ],
            [
             0.5555555555555556,
             "#d8576b"
            ],
            [
             0.6666666666666666,
             "#ed7953"
            ],
            [
             0.7777777777777778,
             "#fb9f3a"
            ],
            [
             0.8888888888888888,
             "#fdca26"
            ],
            [
             1,
             "#f0f921"
            ]
           ],
           "sequentialminus": [
            [
             0,
             "#0d0887"
            ],
            [
             0.1111111111111111,
             "#46039f"
            ],
            [
             0.2222222222222222,
             "#7201a8"
            ],
            [
             0.3333333333333333,
             "#9c179e"
            ],
            [
             0.4444444444444444,
             "#bd3786"
            ],
            [
             0.5555555555555556,
             "#d8576b"
            ],
            [
             0.6666666666666666,
             "#ed7953"
            ],
            [
             0.7777777777777778,
             "#fb9f3a"
            ],
            [
             0.8888888888888888,
             "#fdca26"
            ],
            [
             1,
             "#f0f921"
            ]
           ]
          },
          "colorway": [
           "#636efa",
           "#EF553B",
           "#00cc96",
           "#ab63fa",
           "#FFA15A",
           "#19d3f3",
           "#FF6692",
           "#B6E880",
           "#FF97FF",
           "#FECB52"
          ],
          "font": {
           "color": "#2a3f5f"
          },
          "geo": {
           "bgcolor": "white",
           "lakecolor": "white",
           "landcolor": "#E5ECF6",
           "showlakes": true,
           "showland": true,
           "subunitcolor": "white"
          },
          "hoverlabel": {
           "align": "left"
          },
          "hovermode": "closest",
          "mapbox": {
           "style": "light"
          },
          "paper_bgcolor": "white",
          "plot_bgcolor": "#E5ECF6",
          "polar": {
           "angularaxis": {
            "gridcolor": "white",
            "linecolor": "white",
            "ticks": ""
           },
           "bgcolor": "#E5ECF6",
           "radialaxis": {
            "gridcolor": "white",
            "linecolor": "white",
            "ticks": ""
           }
          },
          "scene": {
           "xaxis": {
            "backgroundcolor": "#E5ECF6",
            "gridcolor": "white",
            "gridwidth": 2,
            "linecolor": "white",
            "showbackground": true,
            "ticks": "",
            "zerolinecolor": "white"
           },
           "yaxis": {
            "backgroundcolor": "#E5ECF6",
            "gridcolor": "white",
            "gridwidth": 2,
            "linecolor": "white",
            "showbackground": true,
            "ticks": "",
            "zerolinecolor": "white"
           },
           "zaxis": {
            "backgroundcolor": "#E5ECF6",
            "gridcolor": "white",
            "gridwidth": 2,
            "linecolor": "white",
            "showbackground": true,
            "ticks": "",
            "zerolinecolor": "white"
           }
          },
          "shapedefaults": {
           "line": {
            "color": "#2a3f5f"
           }
          },
          "ternary": {
           "aaxis": {
            "gridcolor": "white",
            "linecolor": "white",
            "ticks": ""
           },
           "baxis": {
            "gridcolor": "white",
            "linecolor": "white",
            "ticks": ""
           },
           "bgcolor": "#E5ECF6",
           "caxis": {
            "gridcolor": "white",
            "linecolor": "white",
            "ticks": ""
           }
          },
          "title": {
           "x": 0.05
          },
          "xaxis": {
           "automargin": true,
           "gridcolor": "white",
           "linecolor": "white",
           "ticks": "",
           "title": {
            "standoff": 15
           },
           "zerolinecolor": "white",
           "zerolinewidth": 2
          },
          "yaxis": {
           "automargin": true,
           "gridcolor": "white",
           "linecolor": "white",
           "ticks": "",
           "title": {
            "standoff": 15
           },
           "zerolinecolor": "white",
           "zerolinewidth": 2
          }
         }
        },
        "title": {
         "text": "Histrogram and Curve plot"
        },
        "width": 800,
        "xaxis": {
         "anchor": "y2",
         "autorange": true,
         "domain": [
          0,
          1
         ],
         "range": [
          -6,
          9.968
         ],
         "type": "linear",
         "zeroline": false
        },
        "yaxis": {
         "anchor": "free",
         "autorange": true,
         "domain": [
          0,
          1
         ],
         "position": 0,
         "range": [
          -0.01928872411114231,
          0.36666330387883783
         ],
         "type": "linear"
        }
       }
      },
      "image/png": "[encoded data removed]",
      "text/html": [
       "<div>                            <div id=\"6ea54991-654f-4584-a9c9-68cab9561ae0\" class=\"plotly-graph-div\" style=\"height:400px; width:800px;\"></div>            <script type=\"text/javascript\">                require([\"plotly\"], function(Plotly) {                    window.PLOTLYENV=window.PLOTLYENV || {};                                    if (document.getElementById(\"6ea54991-654f-4584-a9c9-68cab9561ae0\")) {                    Plotly.newPlot(                        \"6ea54991-654f-4584-a9c9-68cab9561ae0\",                        [{\"autobinx\":false,\"histnorm\":\"probability density\",\"legendgroup\":\"\",\"marker\":{\"color\":\"#8080FF\"},\"name\":\"\",\"opacity\":0.7,\"x\":[-1.0,-2.0,-3.0,-4.0,1.0,-1.0,-2.0,1.0,-1.0,1.0,2.0,3.0,4.0,5.0,6.0,7.0,-1.0,1.0,2.0,-1.0,-2.0,1.0,-1.0,-2.0,-3.0,1.0,2.0,-1.0,1.0,2.0,-1.0,-2.0,-3.0,1.0,-1.0,-2.0,1.0,-1.0,-2.0,-3.0,1.0,2.0,3.0,4.0,5.0,-1.0,-2.0,-3.0,1.0,-1.0,-2.0,-3.0,1.0,2.0,-1.0,-2.0,-3.0,-4.0,-5.0,-6.0,1.0,-1.0,-2.0,1.0,-1.0,-2.0,-3.0,-4.0,1.0,2.0,-1.0,1.0,2.0,3.0,-1.0,-2.0,-3.0,-4.0,1.0,-1.0,1.0,2.0,-1.0,1.0,-1.0,1.0,-1.0,-2.0,1.0,-1.0,1.0,2.0,-1.0,-2.0,-3.0,-4.0,1.0,2.0,3.0,-1.0,1.0,-1.0,-2.0,1.0,2.0,-1.0,1.0,-1.0,1.0,-1.0,-2.0,1.0,2.0,-1.0,1.0,-1.0,-2.0,-3.0,1.0,2.0,-1.0,-2.0,-3.0,-4.0,-5.0,1.0,-1.0,1.0,2.0,3.0,-1.0,1.0,-1.0,-2.0,-3.0,-4.0,-5.0,1.0,2.0,-1.0,1.0,-1.0,-2.0,-3.0,-4.0,1.0,-1.0,1.0,-1.0,-2.0,1.0,-1.0,1.0,-1.0,1.0,-1.0,-2.0,-3.0,1.0,2.0,3.0,4.0,-1.0,-2.0,1.0,-1.0,1.0,2.0,3.0,4.0,5.0,-1.0,-2.0,1.0,-1.0,1.0,-1.0,1.0,-1.0,-2.0,1.0,2.0,-1.0,-2.0,1.0,-1.0,-2.0,1.0,-1.0,1.0,2.0,3.0,-1.0,1.0,-1.0,1.0,-1.0,-2.0,-3.0,1.0,2.0,3.0,4.0,5.0,-1.0,1.0,2.0,-1.0,1.0,-1.0,1.0,-1.0,1.0,-1.0,1.0,2.0,-1.0,1.0,-1.0,-2.0,-3.0,1.0,-1.0,-2.0,-3.0,1.0,-1.0,-2.0,1.0,2.0,-1.0,-2.0,-3.0,-4.0,1.0,-1.0,1.0,-1.0,1.0,-1.0,1.0,2.0,3.0,4.0,-1.0,-2.0,1.0,2.0,-1.0,1.0,-1.0,-2.0,-3.0,1.0,2.0,3.0,4.0,-1.0,1.0,-1.0,1.0,-1.0,1.0,-1.0,-2.0,1.0,2.0,-1.0,1.0,-1.0,1.0,-1.0,1.0,-1.0,-2.0,1.0,2.0,3.0,4.0,5.0,6.0,7.0,-1.0,1.0,-1.0,1.0,2.0,-1.0,-2.0,1.0,2.0,3.0,-1.0,-2.0,-3.0,-4.0,1.0,2.0,3.0,-1.0,1.0,2.0,3.0,4.0,-1.0,-2.0,1.0,2.0,-1.0,1.0,-1.0,1.0,2.0,-1.0,1.0,-1.0,1.0,-1.0,1.0,2.0,-1.0,1.0,2.0,3.0,-1.0,1.0,-1.0,1.0,2.0,-1.0,1.0,2.0,-1.0,-2.0,-3.0,1.0,-1.0,1.0,-1.0,-2.0,-3.0,-4.0,-5.0,1.0,2.0,-1.0,1.0,-1.0,-2.0,1.0,-1.0,1.0,-1.0,1.0,-1.0,1.0,-1.0,1.0,-1.0,1.0,-1.0,-2.0,1.0,2.0,3.0,-1.0,1.0,2.0,3.0,-1.0,1.0,2.0,3.0,-1.0,1.0,2.0,3.0,4.0,-1.0,1.0,-1.0,1.0,2.0,-1.0,1.0,-1.0,1.0,-1.0,1.0,2.0,-1.0,1.0,2.0,3.0,-1.0,-2.0,1.0,-1.0,1.0,-1.0,1.0,-1.0,1.0,-1.0,1.0,-1.0,1.0,-1.0,1.0,-1.0,-2.0,1.0,-1.0,1.0,2.0,-1.0,1.0,2.0,3.0,4.0,-1.0,1.0,2.0,3.0,-1.0,-2.0,1.0,-1.0,-2.0,1.0,-1.0,1.0,-1.0,1.0,2.0,-1.0,1.0,-1.0,-2.0,-3.0,-4.0,1.0,2.0,-1.0,1.0,2.0,3.0,4.0,5.0,6.0,-1.0,-2.0,1.0,-1.0,1.0,2.0,3.0,4.0,5.0,6.0,-1.0,1.0,-1.0,1.0,2.0,-1.0,1.0,2.0,3.0,-1.0,-2.0,1.0,2.0,3.0,-1.0,-2.0,1.0,-1.0,-2.0,1.0,2.0,3.0,-1.0,-2.0,1.0,2.0,3.0,4.0,5.0,6.0,-1.0,-2.0,1.0,-1.0,-2.0,-3.0,1.0,2.0,3.0,-1.0,1.0,2.0,-1.0,1.0,2.0,-1.0,-2.0,1.0,-1.0,-2.0,1.0,2.0,3.0,4.0,5.0,6.0,7.0,8.0,-1.0,-2.0,1.0,-1.0,1.0,2.0,3.0,-1.0,1.0,2.0,3.0,4.0,5.0,6.0,7.0,-1.0,1.0,2.0,3.0,4.0,-1.0,-2.0,-3.0,-4.0,1.0,2.0,-1.0,-2.0,-3.0,1.0,-1.0,-2.0,-3.0,1.0,-1.0,1.0,-1.0,1.0,-1.0,1.0,2.0,3.0,-1.0,1.0,2.0,3.0,-1.0,1.0,2.0,-1.0,1.0,2.0,-1.0,1.0,-1.0,-2.0,1.0,-1.0,1.0,2.0,-1.0,1.0,-1.0,1.0,-1.0,-2.0,1.0,-1.0,-2.0,-3.0,-4.0,1.0,-1.0,1.0,-1.0,1.0,2.0,3.0,4.0,5.0,6.0,7.0,-1.0,1.0,-1.0,-2.0,1.0,2.0,-1.0,1.0,2.0,-1.0,-2.0,1.0,-1.0,-2.0,1.0,2.0,-1.0,1.0,2.0,-1.0,-2.0,1.0,-1.0,1.0,2.0,-1.0,-2.0,1.0,2.0,3.0,4.0,-1.0,1.0,-1.0,1.0,-1.0,-2.0,-3.0,-4.0,1.0,-1.0,-2.0,-3.0,-4.0,-5.0,1.0,2.0,-1.0,-2.0,1.0,2.0,-1.0,1.0,-1.0,1.0,-1.0,1.0,2.0,-1.0,-2.0,1.0,-1.0,1.0,2.0,-1.0,-2.0,-3.0,-4.0,-5.0,1.0,-1.0,1.0,-1.0,1.0,-1.0,1.0,-1.0,-2.0,-3.0,1.0,2.0,-1.0,1.0,2.0,-1.0,-2.0,1.0,-1.0,-2.0,1.0,-1.0,1.0,-1.0,1.0,2.0,-1.0,-2.0,-3.0,-4.0,-5.0,1.0,-1.0,1.0,2.0,3.0,-1.0,1.0,2.0,-1.0,1.0,-1.0,-2.0,1.0,2.0,3.0,-1.0,1.0,-1.0,-2.0,1.0,-1.0,1.0,-1.0,-2.0,1.0,-1.0,-2.0,1.0,2.0,-1.0,-2.0,1.0,2.0,3.0,4.0,5.0,6.0,7.0,8.0,9.0,10.0,-1.0,-2.0,-3.0,-4.0,1.0,2.0,3.0,4.0,-1.0,1.0,-1.0,-2.0,-3.0,1.0,-1.0,-2.0,-3.0,-4.0,1.0,2.0,3.0,-1.0,1.0,2.0,-1.0,1.0,-1.0,1.0,-1.0,-2.0,-3.0,1.0,2.0,3.0,4.0,-1.0,1.0,2.0,-1.0,-2.0,1.0,-1.0,1.0,2.0,-1.0,1.0,2.0,-1.0,-2.0,1.0,-1.0,-2.0,-3.0,1.0,2.0,-1.0,-2.0,1.0,-1.0,-2.0,1.0,2.0,3.0,-1.0,1.0,2.0,3.0,4.0,-1.0,1.0,2.0,-1.0,1.0,-1.0,1.0,-1.0,1.0,-1.0,1.0,2.0,3.0,4.0,-1.0,-2.0,1.0,-1.0,1.0,-1.0,-2.0,1.0,2.0,-1.0,-2.0,-3.0,1.0,-1.0,-2.0,-3.0,1.0,2.0,3.0,-1.0,-2.0,-3.0,-4.0,1.0,2.0,-1.0,-2.0,1.0,-1.0,1.0,2.0,-1.0,-2.0,1.0,-1.0,1.0,-1.0,1.0,2.0,3.0,-1.0,1.0,-1.0,-2.0,-3.0,1.0,2.0,3.0,-1.0,-2.0,-3.0,1.0,2.0,-1.0,1.0,2.0,-1.0,-2.0,1.0,-1.0,1.0,2.0,-1.0,1.0,-1.0,-2.0,1.0,-1.0,-2.0,-3.0,1.0,-1.0,1.0,-1.0,-2.0,-3.0,-4.0,-5.0,-6.0,1.0,2.0,-1.0,1.0,2.0,-1.0,1.0,2.0,3.0,-1.0,1.0,-1.0,-2.0,-3.0,-4.0,1.0,2.0,3.0,-1.0,1.0,2.0,3.0,-1.0,1.0,2.0,-1.0,1.0,2.0,-1.0,1.0,2.0,3.0,4.0,-1.0,-2.0,-3.0,-4.0,1.0,2.0,-1.0,-2.0,-3.0,1.0,-1.0,-2.0,1.0,-1.0,1.0,2.0,-1.0,-2.0,1.0,2.0,-1.0,-2.0,-3.0,1.0,-1.0,-2.0,1.0,2.0,-1.0,-2.0,1.0,-1.0,1.0,-1.0],\"xaxis\":\"x\",\"xbins\":{\"end\":10.0,\"size\":0.8,\"start\":-6.0},\"yaxis\":\"y\",\"type\":\"histogram\"},{\"legendgroup\":\"\",\"marker\":{\"color\":\"#8080FF\"},\"mode\":\"lines\",\"name\":\"\",\"showlegend\":false,\"x\":[-6.0,-5.968,-5.936,-5.904,-5.872,-5.84,-5.808,-5.776,-5.744,-5.712,-5.68,-5.648,-5.616,-5.584,-5.552,-5.52,-5.4879999999999995,-5.4559999999999995,-5.424,-5.392,-5.36,-5.328,-5.296,-5.264,-5.232,-5.2,-5.168,-5.136,-5.104,-5.072,-5.04,-5.008,-4.976,-4.944,-4.912,-4.88,-4.848,-4.816,-4.784,-4.752,-4.72,-4.688,-4.656,-4.6240000000000006,-4.5920000000000005,-4.5600000000000005,-4.5280000000000005,-4.496,-4.464,-4.432,-4.4,-4.368,-4.336,-4.304,-4.272,-4.24,-4.208,-4.176,-4.144,-4.112,-4.08,-4.048,-4.016,-3.984,-3.952,-3.92,-3.888,-3.856,-3.824,-3.792,-3.76,-3.728,-3.696,-3.664,-3.632,-3.6,-3.568,-3.536,-3.504,-3.472,-3.44,-3.408,-3.376,-3.344,-3.312,-3.28,-3.248,-3.216,-3.184,-3.152,-3.12,-3.088,-3.056,-3.024,-2.992,-2.96,-2.928,-2.896,-2.864,-2.832,-2.8,-2.768,-2.736,-2.704,-2.672,-2.64,-2.608,-2.576,-2.544,-2.512,-2.48,-2.448,-2.416,-2.384,-2.352,-2.32,-2.288,-2.256,-2.224,-2.192,-2.16,-2.128,-2.096,-2.064,-2.032,-2.0,-1.968,-1.936,-1.904,-1.8719999999999999,-1.8399999999999999,-1.8079999999999998,-1.7759999999999998,-1.7439999999999998,-1.7119999999999997,-1.6799999999999997,-1.6479999999999997,-1.6159999999999997,-1.5839999999999996,-1.5519999999999996,-1.5199999999999996,-1.4880000000000004,-1.4560000000000004,-1.4240000000000004,-1.3920000000000003,-1.3600000000000003,-1.3280000000000003,-1.2960000000000003,-1.2640000000000002,-1.2320000000000002,-1.2000000000000002,-1.1680000000000001,-1.1360000000000001,-1.104,-1.072,-1.04,-1.008,-0.976,-0.944,-0.9119999999999999,-0.8799999999999999,-0.8479999999999999,-0.8159999999999998,-0.7839999999999998,-0.7519999999999998,-0.7199999999999998,-0.6879999999999997,-0.6559999999999997,-0.6239999999999997,-0.5919999999999996,-0.5599999999999996,-0.5279999999999996,-0.49600000000000044,-0.4640000000000004,-0.4320000000000004,-0.40000000000000036,-0.3680000000000003,-0.3360000000000003,-0.30400000000000027,-0.27200000000000024,-0.2400000000000002,-0.20800000000000018,-0.17600000000000016,-0.14400000000000013,-0.1120000000000001,-0.08000000000000007,-0.04800000000000004,-0.016000000000000014,0.016000000000000014,0.04800000000000004,0.08000000000000007,0.1120000000000001,0.14400000000000013,0.17600000000000016,0.20800000000000018,0.2400000000000002,0.27200000000000024,0.30400000000000027,0.3360000000000003,0.3680000000000003,0.40000000000000036,0.4320000000000004,0.4640000000000004,0.49600000000000044,0.5279999999999996,0.5599999999999996,0.5919999999999996,0.6239999999999997,0.6559999999999997,0.6879999999999997,0.7199999999999998,0.7519999999999998,0.7839999999999998,0.8159999999999998,0.8479999999999999,0.8799999999999999,0.9119999999999999,0.944,0.976,1.008,1.04,1.072,1.104,1.1360000000000001,1.1680000000000001,1.2000000000000002,1.2320000000000002,1.2640000000000002,1.2960000000000003,1.3280000000000003,1.3600000000000003,1.3920000000000003,1.4240000000000004,1.4560000000000004,1.4880000000000004,1.5199999999999996,1.5519999999999996,1.5839999999999996,1.6159999999999997,1.6479999999999997,1.6799999999999997,1.7119999999999997,1.7439999999999998,1.7759999999999998,1.8079999999999998,1.8399999999999999,1.8719999999999999,1.904,1.936,1.968,2.0,2.032,2.064,2.096,2.128,2.16,2.192,2.224,2.2560000000000002,2.2880000000000003,2.3200000000000003,2.3520000000000003,2.3840000000000003,2.4160000000000004,2.4480000000000004,2.4800000000000004,2.5120000000000005,2.5440000000000005,2.5760000000000005,2.6080000000000005,2.6400000000000006,2.6720000000000006,2.7040000000000006,2.7360000000000007,2.7680000000000007,2.8000000000000007,2.8320000000000007,2.8640000000000008,2.896000000000001,2.928000000000001,2.960000000000001,2.992000000000001,3.023999999999999,3.055999999999999,3.087999999999999,3.119999999999999,3.1519999999999992,3.1839999999999993,3.2159999999999993,3.2479999999999993,3.2799999999999994,3.3119999999999994,3.3439999999999994,3.3759999999999994,3.4079999999999995,3.4399999999999995,3.4719999999999995,3.5039999999999996,3.5359999999999996,3.5679999999999996,3.5999999999999996,3.6319999999999997,3.6639999999999997,3.6959999999999997,3.7279999999999998,3.76,3.792,3.824,3.856,3.888,3.92,3.952,3.984,4.016,4.048,4.08,4.112,4.144,4.176,4.208,4.24,4.272,4.304,4.336,4.368,4.4,4.432,4.464,4.496,4.5280000000000005,4.5600000000000005,4.5920000000000005,4.6240000000000006,4.656000000000001,4.688000000000001,4.720000000000001,4.752000000000001,4.784000000000001,4.816000000000001,4.848000000000001,4.880000000000001,4.912000000000001,4.944000000000001,4.976000000000001,5.007999999999999,5.039999999999999,5.071999999999999,5.103999999999999,5.135999999999999,5.167999999999999,5.199999999999999,5.231999999999999,5.263999999999999,5.295999999999999,5.327999999999999,5.359999999999999,5.3919999999999995,5.4239999999999995,5.4559999999999995,5.4879999999999995,5.52,5.552,5.584,5.616,5.648,5.68,5.712,5.744,5.776,5.808,5.84,5.872,5.904,5.936,5.968,6.0,6.032,6.064,6.096,6.128,6.16,6.192,6.224,6.256,6.288,6.32,6.352,6.384,6.416,6.448,6.48,6.5120000000000005,6.5440000000000005,6.5760000000000005,6.6080000000000005,6.640000000000001,6.672000000000001,6.704000000000001,6.736000000000001,6.768000000000001,6.800000000000001,6.832000000000001,6.864000000000001,6.896000000000001,6.928000000000001,6.960000000000001,6.992000000000001,7.023999999999999,7.055999999999999,7.087999999999999,7.119999999999999,7.151999999999999,7.183999999999999,7.215999999999999,7.247999999999999,7.279999999999999,7.311999999999999,7.343999999999999,7.3759999999999994,7.4079999999999995,7.4399999999999995,7.4719999999999995,7.504,7.536,7.568,7.6,7.632,7.664,7.696,7.728,7.76,7.792,7.824,7.856,7.888,7.92,7.952,7.984,8.016,8.048,8.08,8.112,8.144,8.176,8.208,8.24,8.272,8.304,8.336,8.368,8.4,8.432,8.464,8.496,8.528,8.56,8.592,8.624,8.656,8.688,8.72,8.752,8.784,8.816,8.848,8.88,8.912,8.944,8.976,9.008,9.04,9.072,9.104,9.136,9.168,9.2,9.232,9.264,9.296,9.328,9.36,9.392,9.424,9.456,9.488,9.52,9.552,9.584,9.616,9.648,9.68,9.712,9.744,9.776,9.808,9.84,9.872,9.904,9.936,9.968],\"xaxis\":\"x\",\"y\":[0.0034753261337459973,0.0036202903772592264,0.0037705013662380276,0.00392611174036484,0.004087276948440953,0.004254155229704647,0.004426907591360387,0.004605697782192622,0.004790692262138713,0.004982060167696375,0.005179973273042345,0.005384605946740439,0.005596135103919138,0.0058147401538007175,0.00604060294246645,0.006273907690744961,0.006514840927113911,0.006763591415508319,0.007020350077932499,0.007285309911776431,0.007558665901741583,0.007840614926285886,0.008131355658502279,0.008431088461350362,0.0087400152771666,0.009058339511383946,0.009386265910398291,0.009724000433525443,0.010071750118999473,0.010429722943970241,0.010798127678465715,0.011177173733292196,0.011567071001854317,0.01196802969588465,0.012380260175082142,0.012803972770667148,0.013239377602871017,0.013686684392387407,0.014146102265822625,0.014617839555193048,0.015102103591527727,0.015599100492645521,0.016109034945187006,0.016632109980992918,0.017168526747932417,0.017718484275295862,0.018282179233879498,0.01885980569090066,0.01945155485989514,0.020057614845760276,0.02067817038512009,0.02131340258220113,0.021963488640420765,0.022628601589902098,0.023308910011142207,0.02400457775507387,0.024715763659772867,0.025442621264076117,0.026185298518388356,0.026943937492967418,0.027718674083990966,0.02850963771771905,0.029316951053079736,0.03014072968301586,0.03098108183494368,0.03183810807068426,0.0327119009862406,0.033602544911803,0.03451011561237667,0.0354346799894344,0.036376295784007175,0.03733501128163471,0.038310865019606136,0.03930388549692888,0.04031409088747239,0.041341488756738605,0.04238607578271909,0.04344783748130294,0.04452674793670603,0.045622769537395344,0.04673585271798658,0.04786593570759572,0.04901294428512793,0.05017679154198769,0.05135737765269597,0.052554589653898594,0.05376830123225008,0.05499837252165485,0.05624464991034467,0.05750696585826804,0.05878513872526273,0.060078972610476226,0.061388257203494036,0.0627127676476267,0.06405226441580002,0.06540649319948168,0.0667751848110694,0.06815805510015299,0.06955480488405169,0.0709651198930144,0.07238867073045761,0.07382511284859929,0.07527408653983315,0.07673521694416958,0.07820811407305243,0.07969237284984258,0.08118757316724003,0.08269327996189499,0.08420904330643926,0.08573439851914598,0.08726886629140349,0.08881195283316701,0.0903631500365259,0.0919219356575016,0.09348777351616432,0.09506011371513214,0.0966383928764888,0.09822203439713,0.09981044872251989,0.10140303363881302,0.10299917458326689,0.10459824497284326,0.1061996065508664,0.10780260975157838,0.10940659408240105,0.11101088852368604,0.11261481194570362,0.1142176735425928,0.11581877328296453,0.11741740237682155,0.11901284375842762,0.12060437258473213,0.12219125674892507,0.12377275740867015,0.12534812952853588,0.12691662243611607,0.12847748039130488,0.13002994316816432,0.13157324664879727,0.13310662342861232,0.1346293034323439,0.1361405145401659,0.1376394832232159,0.13912543518782275,0.1405975960277125,0.14205519188344418,0.1434974501083107,0.14492359993992104,0.14633287317666338,0.14772450485823344,0.14909773394939815,0.15045180402615146,0.15178596396340763,0.15309946862336726,0.15439157954368193,0.1556615656245354,0.15690870381375516,0.1581322797890604,0.15933158863655222,0.16050593552454867,0.16165463637186672,0.1627770185096566,0.16387242133589414,0.16494019696164375,0.16597971084820906,0.16699034243429603,0.1679714857523232,0.1689225500330235,0.16984296029749452,0.17073215793586805,0.17158960127178408,0.1724147661118721,0.17320714627945955,0.17396625413174793,0.17469162105971614,0.17538279797003556,0.1760393557483016,0.17666088570291477,0.17724699998896706,0.17779733201151965,0.17831153680768413,0.17878929140695016,0.17923029516923278,0.179634270100144,0.18000096114302575,0.18033013644731513,0.18062158761284614,0.18087512990972784,0.18109060247347436,0.18126786847509788,0.18140681526591285,0.1815073544968372,0.18156942221201322,0.18159297891660997,0.18157800961870535,0.18152452384518733,0.18143255563164906,0.181302163486294,0.18113343032790427,0.18092646339796406,0.1806813941470692,0.1803983780957901,0.18007759467019574,0.17971924701228084,0.17932356176557757,0.17889078883626786,0.17842120113014945,0.17791509426584257,0.1773727862646594,0.17679461721759235,0.17618094892990793,0.1755321645438677,0.17484866814012553,0.17413088431838292,0.1733792577579101,0.17259425275857096,0.1717763527630135,0.170926059860715,0.1700438942745928,0.16913039383091605,0.16818611341327355,0.16721162440137316,0.16620751409546666,0.16517438512721086,0.16411285485779115,0.1630235547641475,0.16190712981415584,0.1607642378316283,0.15959554885200528,0.15840174446962074,0.15718351717742743,0.15594156970007428,0.15467661432123186,0.15338937220606202,0.15208057271972963,0.15075095274285266,0.1494012559847822,0.1480322322956031,0.14664463697773691,0.14523923009802328,0.1438167758011469,0.14237804162526735,0.14092379782069725,0.13945481667246137,0.13797187182755705,0.1364757376277182,0.13496718844847122,0.13344699804525248,0.1319159389073383,0.13037478162031893,0.1288242942378271,0.1272652416632099,0.12569838504181047,0.12412448116450166,0.12254428188309048,0.12095853353818674,0.11936797640010256,0.11777334412332525,0.11617536321507645,0.11457475251844505,0.11297222271055238,0.11136847581617998,0.10976420473726187,0.10816009279861397,0.10655681331024412,0.1049550291465574,0.10335539234274055,0.10175854370858192,0.10016511245995173,0.09857571586813933,0.09699095892721453,0.09541143403955055,0.09383772071961773,0.09227038531612795,0.09070998075258226,0.08915704628624485,0.08761210728554074,0.08607567502584561,0.08454824650361155,0.0830303042687448,0.08152231627512731,0.08002473574914835,0.07853800107608956,0.07706253570418078,0.07559874806612546,0.07414703151786782,0.07270776429435634,0.07128130948203629,0.06986801500778446,0.06846821364398152,0.06708222302939815,0.06571034570555624,0.06435286916820812,0.06301006593356405,0.061682193618882185,0.0603694950370234,0.05907219830456003,0.05779051696301716,0.05652465011281426,0.055274782559465434,0.054041084971588674,0.052823714050266174,0.05162281270929195,0.0504385102658366,0.04927092264105509,0.0481201525701586,0.0469862898214696,0.04586941142397621,0.04476958190290142,0.04368685352280206,0.04262126653771263,0.04157284944785076,0.04054161926240296,0.03952758176791165,0.03853073180178878,0.03755105353048476,0.03658852073184697,0.03564309708120714,0.034714736440743535,0.03380338315167038,0.032908972328814415,0.03203143015714659,0.03117067418984479,0.030326613647473147,0.02949914971787232,0.02868817585636503,0.02789357808589173,0.027115235296701203,0.02635301954523246,0.025606796351835007,0.024876424996986585,0.024161758815678513,0.02346264548965162,0.022778927337177245,0.02211044160009011,0.021457020727793253,0.020818492657966238,0.020194681093722088,0.01958540577696984,0.018990482757753453,0.01840972465934942,0.01784294093891926,0.017289938143524766,0.016750520161327512,0.016224488467805588,0.015711642366833707,0.015211779226485141,0.014724694709425449,0.01425018299778058,0.013788037012373511,0.0133380486262351,0.01290000887230648,0.012473708145261098,0.0120589363973858,0.01165548332847076,0.011263138569668754,0.010881691861293879,0.010510933224540301,0.0101506531271106,0.0098006426427529,0.009460693604714621,0.00913059875312949,0.008810151876362545,0.008499147946346146,0.008197383247947124,0.007904655502413045,0.007620763984952044,0.0073455096365077485,0.007078695169796629,0.006820125169681469,0.006569606187959968,0.006326946832653021,0.006091957851881841,0.005864452212428056,0.005644245173074866,0.0054311543528316845,0.005224999794147898,0.005025604021225104,0.004832792093539979,0.004646391654692787,0.004466232976698857,0.004292148999842587,0.004123975368215425,0.003961550461060694,0.0038047154200497053,0.0036533141726144127,0.0035071934514629196,0.0033662028104044844,0.003230194636611202,0.003099024159443545,0.0029725494559668967,0.002850631453285881,0.0027331339278227505,0.002619923501665489,0.0025108696361103204,0.002405844622522311,0.002304723570636527,0.0022073843944208373,0.002113707795620011,0.00202357724509897,0.0019368789621014592,0.001853501891538375,0.0017733376794180798,0.001696280646528859,0.0016222277604815462,0.0015510786062180315,0.0014827353550890237,0.0014171027326020159,0.0013540879849378705,0.001293600844332032,0.0012355534934135944,0.001179860528593008,0.0011264389225864222,0.0010752079861620321,0.0010260893291910889,0.0009790068210834679,0.0009338865506850021,0.0008906567857110163,0.0008492479317877997,0.0008095924911709726,0.0007716250212070429,0.000735282092601695,0.0007005022475557234,0.0006672259578268205,0.0006353955827728188,0.0006049553274293998,0.0005758512006727105,0.0005480309735147925,0.0005214441375772697,0.0004960418637862775,0.00047177696132925397,0.0004486038369118273,0.0004264784543507757,0.0004053582945367774,0.0003852023157984864,0.0003659709146973245,0.00034762588728032143,0.0003301303908163012,0.00031344890603876655,0.00029754719991691495,0.0002823922889743947,0.00026795240317361733,0.0002541969503817333,0.00024109648143270351,0.00022862265579831305,0.00021674820787942898,0.00020544691392732585,0.0001946935596034863,0.00018446390818492153,0.00017473466942076013,0.0001654834690446135,0.00015668881894603259,0.0001483300880032563,0.00014038747357836905,0.00013284197367497707,0.00012567535975754215,0.00011887015023060708,0.00011240958457528812,0.0001062775981395979,0.00010045879757840788,9.493843693814554e-05,8.970239438066117e-05,8.473714954007485e-05,8.002976150584615e-05,7.556784742477102e-05,7.133956171412659e-05,6.733357587772639e-05,6.353905891624396e-05,5.9945658322782365e-05,5.6543481654334124e-05,5.3323078669462706e-05,5.02754240222777e-05,4.7391900502525555e-05,4.466428281141216e-05,4.208472186259682e-05,3.96457295976385e-05,3.734016430505442e-05,3.516121643204699e-05,3.310239487787912e-05,3.115751375782257e-05,2.9320679626574077e-05,2.7586279150014888e-05,2.594896721420268e-05,2.4403655460503887e-05,2.2945501235817623e-05,2.156989694689892e-05,2.0272459807859317e-05,1.9049021970010982e-05,1.7895621023313605e-05,1.6808490858798363e-05,1.5784052881459967e-05,1.4818907563240237e-05,1.3909826325866263e-05,1.305374374345356e-05,1.2247750054941206e-05,1.1489083976588442e-05,1.0775125804929695e-05,1.0103390800760493e-05,9.47152284490459e-06,8.877288356695733e-06],\"yaxis\":\"y\",\"type\":\"scatter\"}],                        {\"barmode\":\"overlay\",\"hovermode\":\"closest\",\"legend\":{\"traceorder\":\"reversed\"},\"xaxis\":{\"anchor\":\"y2\",\"domain\":[0.0,1.0],\"zeroline\":false},\"yaxis\":{\"anchor\":\"free\",\"domain\":[0.0,1],\"position\":0.0},\"template\":{\"data\":{\"bar\":[{\"error_x\":{\"color\":\"#2a3f5f\"},\"error_y\":{\"color\":\"#2a3f5f\"},\"marker\":{\"line\":{\"color\":\"#E5ECF6\",\"width\":0.5},\"pattern\":{\"fillmode\":\"overlay\",\"size\":10,\"solidity\":0.2}},\"type\":\"bar\"}],\"barpolar\":[{\"marker\":{\"line\":{\"color\":\"#E5ECF6\",\"width\":0.5},\"pattern\":{\"fillmode\":\"overlay\",\"size\":10,\"solidity\":0.2}},\"type\":\"barpolar\"}],\"carpet\":[{\"aaxis\":{\"endlinecolor\":\"#2a3f5f\",\"gridcolor\":\"white\",\"linecolor\":\"white\",\"minorgridcolor\":\"white\",\"startlinecolor\":\"#2a3f5f\"},\"baxis\":{\"endlinecolor\":\"#2a3f5f\",\"gridcolor\":\"white\",\"linecolor\":\"white\",\"minorgridcolor\":\"white\",\"startlinecolor\":\"#2a3f5f\"},\"type\":\"carpet\"}],\"choropleth\":[{\"colorbar\":{\"outlinewidth\":0,\"ticks\":\"\"},\"type\":\"choropleth\"}],\"contour\":[{\"colorbar\":{\"outlinewidth\":0,\"ticks\":\"\"},\"colorscale\":[[0.0,\"#0d0887\"],[0.1111111111111111,\"#46039f\"],[0.2222222222222222,\"#7201a8\"],[0.3333333333333333,\"#9c179e\"],[0.4444444444444444,\"#bd3786\"],[0.5555555555555556,\"#d8576b\"],[0.6666666666666666,\"#ed7953\"],[0.7777777777777778,\"#fb9f3a\"],[0.8888888888888888,\"#fdca26\"],[1.0,\"#f0f921\"]],\"type\":\"contour\"}],\"contourcarpet\":[{\"colorbar\":{\"outlinewidth\":0,\"ticks\":\"\"},\"type\":\"contourcarpet\"}],\"heatmap\":[{\"colorbar\":{\"outlinewidth\":0,\"ticks\":\"\"},\"colorscale\":[[0.0,\"#0d0887\"],[0.1111111111111111,\"#46039f\"],[0.2222222222222222,\"#7201a8\"],[0.3333333333333333,\"#9c179e\"],[0.4444444444444444,\"#bd3786\"],[0.5555555555555556,\"#d8576b\"],[0.6666666666666666,\"#ed7953\"],[0.7777777777777778,\"#fb9f3a\"],[0.8888888888888888,\"#fdca26\"],[1.0,\"#f0f921\"]],\"type\":\"heatmap\"}],\"heatmapgl\":[{\"colorbar\":{\"outlinewidth\":0,\"ticks\":\"\"},\"colorscale\":[[0.0,\"#0d0887\"],[0.1111111111111111,\"#46039f\"],[0.2222222222222222,\"#7201a8\"],[0.3333333333333333,\"#9c179e\"],[0.4444444444444444,\"#bd3786\"],[0.5555555555555556,\"#d8576b\"],[0.6666666666666666,\"#ed7953\"],[0.7777777777777778,\"#fb9f3a\"],[0.8888888888888888,\"#fdca26\"],[1.0,\"#f0f921\"]],\"type\":\"heatmapgl\"}],\"histogram\":[{\"marker\":{\"pattern\":{\"fillmode\":\"overlay\",\"size\":10,\"solidity\":0.2}},\"type\":\"histogram\"}],\"histogram2d\":[{\"colorbar\":{\"outlinewidth\":0,\"ticks\":\"\"},\"colorscale\":[[0.0,\"#0d0887\"],[0.1111111111111111,\"#46039f\"],[0.2222222222222222,\"#7201a8\"],[0.3333333333333333,\"#9c179e\"],[0.4444444444444444,\"#bd3786\"],[0.5555555555555556,\"#d8576b\"],[0.6666666666666666,\"#ed7953\"],[0.7777777777777778,\"#fb9f3a\"],[0.8888888888888888,\"#fdca26\"],[1.0,\"#f0f921\"]],\"type\":\"histogram2d\"}],\"histogram2dcontour\":[{\"colorbar\":{\"outlinewidth\":0,\"ticks\":\"\"},\"colorscale\":[[0.0,\"#0d0887\"],[0.1111111111111111,\"#46039f\"],[0.2222222222222222,\"#7201a8\"],[0.3333333333333333,\"#9c179e\"],[0.4444444444444444,\"#bd3786\"],[0.5555555555555556,\"#d8576b\"],[0.6666666666666666,\"#ed7953\"],[0.7777777777777778,\"#fb9f3a\"],[0.8888888888888888,\"#fdca26\"],[1.0,\"#f0f921\"]],\"type\":\"histogram2dcontour\"}],\"mesh3d\":[{\"colorbar\":{\"outlinewidth\":0,\"ticks\":\"\"},\"type\":\"mesh3d\"}],\"parcoords\":[{\"line\":{\"colorbar\":{\"outlinewidth\":0,\"ticks\":\"\"}},\"type\":\"parcoords\"}],\"pie\":[{\"automargin\":true,\"type\":\"pie\"}],\"scatter\":[{\"marker\":{\"colorbar\":{\"outlinewidth\":0,\"ticks\":\"\"}},\"type\":\"scatter\"}],\"scatter3d\":[{\"line\":{\"colorbar\":{\"outlinewidth\":0,\"ticks\":\"\"}},\"marker\":{\"colorbar\":{\"outlinewidth\":0,\"ticks\":\"\"}},\"type\":\"scatter3d\"}],\"scattercarpet\":[{\"marker\":{\"colorbar\":{\"outlinewidth\":0,\"ticks\":\"\"}},\"type\":\"scattercarpet\"}],\"scattergeo\":[{\"marker\":{\"colorbar\":{\"outlinewidth\":0,\"ticks\":\"\"}},\"type\":\"scattergeo\"}],\"scattergl\":[{\"marker\":{\"colorbar\":{\"outlinewidth\":0,\"ticks\":\"\"}},\"type\":\"scattergl\"}],\"scattermapbox\":[{\"marker\":{\"colorbar\":{\"outlinewidth\":0,\"ticks\":\"\"}},\"type\":\"scattermapbox\"}],\"scatterpolar\":[{\"marker\":{\"colorbar\":{\"outlinewidth\":0,\"ticks\":\"\"}},\"type\":\"scatterpolar\"}],\"scatterpolargl\":[{\"marker\":{\"colorbar\":{\"outlinewidth\":0,\"ticks\":\"\"}},\"type\":\"scatterpolargl\"}],\"scatterternary\":[{\"marker\":{\"colorbar\":{\"outlinewidth\":0,\"ticks\":\"\"}},\"type\":\"scatterternary\"}],\"surface\":[{\"colorbar\":{\"outlinewidth\":0,\"ticks\":\"\"},\"colorscale\":[[0.0,\"#0d0887\"],[0.1111111111111111,\"#46039f\"],[0.2222222222222222,\"#7201a8\"],[0.3333333333333333,\"#9c179e\"],[0.4444444444444444,\"#bd3786\"],[0.5555555555555556,\"#d8576b\"],[0.6666666666666666,\"#ed7953\"],[0.7777777777777778,\"#fb9f3a\"],[0.8888888888888888,\"#fdca26\"],[1.0,\"#f0f921\"]],\"type\":\"surface\"}],\"table\":[{\"cells\":{\"fill\":{\"color\":\"#EBF0F8\"},\"line\":{\"color\":\"white\"}},\"header\":{\"fill\":{\"color\":\"#C8D4E3\"},\"line\":{\"color\":\"white\"}},\"type\":\"table\"}]},\"layout\":{\"annotationdefaults\":{\"arrowcolor\":\"#2a3f5f\",\"arrowhead\":0,\"arrowwidth\":1},\"autotypenumbers\":\"strict\",\"coloraxis\":{\"colorbar\":{\"outlinewidth\":0,\"ticks\":\"\"}},\"colorscale\":{\"diverging\":[[0,\"#8e0152\"],[0.1,\"#c51b7d\"],[0.2,\"#de77ae\"],[0.3,\"#f1b6da\"],[0.4,\"#fde0ef\"],[0.5,\"#f7f7f7\"],[0.6,\"#e6f5d0\"],[0.7,\"#b8e186\"],[0.8,\"#7fbc41\"],[0.9,\"#4d9221\"],[1,\"#276419\"]],\"sequential\":[[0.0,\"#0d0887\"],[0.1111111111111111,\"#46039f\"],[0.2222222222222222,\"#7201a8\"],[0.3333333333333333,\"#9c179e\"],[0.4444444444444444,\"#bd3786\"],[0.5555555555555556,\"#d8576b\"],[0.6666666666666666,\"#ed7953\"],[0.7777777777777778,\"#fb9f3a\"],[0.8888888888888888,\"#fdca26\"],[1.0,\"#f0f921\"]],\"sequentialminus\":[[0.0,\"#0d0887\"],[0.1111111111111111,\"#46039f\"],[0.2222222222222222,\"#7201a8\"],[0.3333333333333333,\"#9c179e\"],[0.4444444444444444,\"#bd3786\"],[0.5555555555555556,\"#d8576b\"],[0.6666666666666666,\"#ed7953\"],[0.7777777777777778,\"#fb9f3a\"],[0.8888888888888888,\"#fdca26\"],[1.0,\"#f0f921\"]]},\"colorway\":[\"#636efa\",\"#EF553B\",\"#00cc96\",\"#ab63fa\",\"#FFA15A\",\"#19d3f3\",\"#FF6692\",\"#B6E880\",\"#FF97FF\",\"#FECB52\"],\"font\":{\"color\":\"#2a3f5f\"},\"geo\":{\"bgcolor\":\"white\",\"lakecolor\":\"white\",\"landcolor\":\"#E5ECF6\",\"showlakes\":true,\"showland\":true,\"subunitcolor\":\"white\"},\"hoverlabel\":{\"align\":\"left\"},\"hovermode\":\"closest\",\"mapbox\":{\"style\":\"light\"},\"paper_bgcolor\":\"white\",\"plot_bgcolor\":\"#E5ECF6\",\"polar\":{\"angularaxis\":{\"gridcolor\":\"white\",\"linecolor\":\"white\",\"ticks\":\"\"},\"bgcolor\":\"#E5ECF6\",\"radialaxis\":{\"gridcolor\":\"white\",\"linecolor\":\"white\",\"ticks\":\"\"}},\"scene\":{\"xaxis\":{\"backgroundcolor\":\"#E5ECF6\",\"gridcolor\":\"white\",\"gridwidth\":2,\"linecolor\":\"white\",\"showbackground\":true,\"ticks\":\"\",\"zerolinecolor\":\"white\"},\"yaxis\":{\"backgroundcolor\":\"#E5ECF6\",\"gridcolor\":\"white\",\"gridwidth\":2,\"linecolor\":\"white\",\"showbackground\":true,\"ticks\":\"\",\"zerolinecolor\":\"white\"},\"zaxis\":{\"backgroundcolor\":\"#E5ECF6\",\"gridcolor\":\"white\",\"gridwidth\":2,\"linecolor\":\"white\",\"showbackground\":true,\"ticks\":\"\",\"zerolinecolor\":\"white\"}},\"shapedefaults\":{\"line\":{\"color\":\"#2a3f5f\"}},\"ternary\":{\"aaxis\":{\"gridcolor\":\"white\",\"linecolor\":\"white\",\"ticks\":\"\"},\"baxis\":{\"gridcolor\":\"white\",\"linecolor\":\"white\",\"ticks\":\"\"},\"bgcolor\":\"#E5ECF6\",\"caxis\":{\"gridcolor\":\"white\",\"linecolor\":\"white\",\"ticks\":\"\"}},\"title\":{\"x\":0.05},\"xaxis\":{\"automargin\":true,\"gridcolor\":\"white\",\"linecolor\":\"white\",\"ticks\":\"\",\"title\":{\"standoff\":15},\"zerolinecolor\":\"white\",\"zerolinewidth\":2},\"yaxis\":{\"automargin\":true,\"gridcolor\":\"white\",\"linecolor\":\"white\",\"ticks\":\"\",\"title\":{\"standoff\":15},\"zerolinecolor\":\"white\",\"zerolinewidth\":2}}},\"title\":{\"text\":\"Histrogram and Curve plot\"},\"width\":800,\"height\":400},                        {\"responsive\": true}                    ).then(function(){\n",
       "                            \n",
       "var gd = document.getElementById('6ea54991-654f-4584-a9c9-68cab9561ae0');\n",
       "var x = new MutationObserver(function (mutations, observer) {{\n",
       "        var display = window.getComputedStyle(gd).display;\n",
       "        if (!display || display === 'none') {{\n",
       "            console.log([gd, 'removed!']);\n",
       "            Plotly.purge(gd);\n",
       "            observer.disconnect();\n",
       "        }}\n",
       "}});\n",
       "\n",
       "// Listen for the removal of the full notebook cells\n",
       "var notebookContainer = gd.closest('#notebook-container');\n",
       "if (notebookContainer) {{\n",
       "    x.observe(notebookContainer, {childList: true});\n",
       "}}\n",
       "\n",
       "// Listen for the clearing of the current output cell\n",
       "var outputEl = gd.closest('.output');\n",
       "if (outputEl) {{\n",
       "    x.observe(outputEl, {childList: true});\n",
       "}}\n",
       "\n",
       "                        })                };                });            </script>        </div>"
      ]
     },
     "metadata": {},
     "output_type": "display_data"
    }
   ],
   "source": [
    "plot_dist(df1.consec_wl)"
   ]
  },
  {
   "cell_type": "code",
   "execution_count": 25,
   "metadata": {},
   "outputs": [
    {
     "data": {
      "text/html": [
       "<div>\n",
       "<style scoped>\n",
       "    .dataframe tbody tr th:only-of-type {\n",
       "        vertical-align: middle;\n",
       "    }\n",
       "\n",
       "    .dataframe tbody tr th {\n",
       "        vertical-align: top;\n",
       "    }\n",
       "\n",
       "    .dataframe thead th {\n",
       "        text-align: right;\n",
       "    }\n",
       "</style>\n",
       "<table border=\"1\" class=\"dataframe\">\n",
       "  <thead>\n",
       "    <tr style=\"text-align: right;\">\n",
       "      <th></th>\n",
       "      <th>open</th>\n",
       "      <th>high</th>\n",
       "      <th>low</th>\n",
       "      <th>close</th>\n",
       "      <th>volume</th>\n",
       "      <th>ret</th>\n",
       "      <th>consec_wl</th>\n",
       "      <th>mae</th>\n",
       "      <th>mfe</th>\n",
       "      <th>pnl</th>\n",
       "      <th>volatile</th>\n",
       "    </tr>\n",
       "    <tr>\n",
       "      <th>date</th>\n",
       "      <th></th>\n",
       "      <th></th>\n",
       "      <th></th>\n",
       "      <th></th>\n",
       "      <th></th>\n",
       "      <th></th>\n",
       "      <th></th>\n",
       "      <th></th>\n",
       "      <th></th>\n",
       "      <th></th>\n",
       "      <th></th>\n",
       "    </tr>\n",
       "  </thead>\n",
       "  <tbody>\n",
       "    <tr>\n",
       "      <th>2019-07-21 00:00:00+00:00</th>\n",
       "      <td>10765.75</td>\n",
       "      <td>10834.00</td>\n",
       "      <td>10322.00</td>\n",
       "      <td>10588.75</td>\n",
       "      <td>7.400292e+07</td>\n",
       "      <td>-0.016578</td>\n",
       "      <td>-1.0</td>\n",
       "      <td>-0.041219</td>\n",
       "      <td>0.006340</td>\n",
       "      <td>-0.016441</td>\n",
       "      <td>-0.034879</td>\n",
       "    </tr>\n",
       "    <tr>\n",
       "      <th>2019-07-22 00:00:00+00:00</th>\n",
       "      <td>10588.75</td>\n",
       "      <td>10688.25</td>\n",
       "      <td>10059.00</td>\n",
       "      <td>10321.50</td>\n",
       "      <td>6.869815e+07</td>\n",
       "      <td>-0.025563</td>\n",
       "      <td>-2.0</td>\n",
       "      <td>-0.050030</td>\n",
       "      <td>0.009397</td>\n",
       "      <td>-0.025239</td>\n",
       "      <td>-0.040633</td>\n",
       "    </tr>\n",
       "    <tr>\n",
       "      <th>2019-07-23 00:00:00+00:00</th>\n",
       "      <td>10321.50</td>\n",
       "      <td>10323.25</td>\n",
       "      <td>9776.50</td>\n",
       "      <td>9841.75</td>\n",
       "      <td>9.836957e+07</td>\n",
       "      <td>-0.047596</td>\n",
       "      <td>-3.0</td>\n",
       "      <td>-0.052802</td>\n",
       "      <td>0.000170</td>\n",
       "      <td>-0.046481</td>\n",
       "      <td>-0.052633</td>\n",
       "    </tr>\n",
       "    <tr>\n",
       "      <th>2019-07-24 00:00:00+00:00</th>\n",
       "      <td>9835.25</td>\n",
       "      <td>9915.75</td>\n",
       "      <td>9517.75</td>\n",
       "      <td>9770.00</td>\n",
       "      <td>7.770911e+07</td>\n",
       "      <td>-0.007317</td>\n",
       "      <td>-4.0</td>\n",
       "      <td>-0.032921</td>\n",
       "      <td>0.007519</td>\n",
       "      <td>-0.007290</td>\n",
       "      <td>-0.025402</td>\n",
       "    </tr>\n",
       "    <tr>\n",
       "      <th>2019-07-25 00:00:00+00:00</th>\n",
       "      <td>9770.00</td>\n",
       "      <td>10185.25</td>\n",
       "      <td>9735.00</td>\n",
       "      <td>9880.75</td>\n",
       "      <td>5.096237e+07</td>\n",
       "      <td>0.011272</td>\n",
       "      <td>1.0</td>\n",
       "      <td>-0.003582</td>\n",
       "      <td>0.042503</td>\n",
       "      <td>0.011336</td>\n",
       "      <td>0.046085</td>\n",
       "    </tr>\n",
       "    <tr>\n",
       "      <th>...</th>\n",
       "      <td>...</td>\n",
       "      <td>...</td>\n",
       "      <td>...</td>\n",
       "      <td>...</td>\n",
       "      <td>...</td>\n",
       "      <td>...</td>\n",
       "      <td>...</td>\n",
       "      <td>...</td>\n",
       "      <td>...</td>\n",
       "      <td>...</td>\n",
       "      <td>...</td>\n",
       "    </tr>\n",
       "    <tr>\n",
       "      <th>2022-03-11 00:00:00+00:00</th>\n",
       "      <td>39430.00</td>\n",
       "      <td>40273.00</td>\n",
       "      <td>38240.00</td>\n",
       "      <td>38730.00</td>\n",
       "      <td>4.230125e+09</td>\n",
       "      <td>-0.017912</td>\n",
       "      <td>-2.0</td>\n",
       "      <td>-0.030180</td>\n",
       "      <td>0.021380</td>\n",
       "      <td>-0.017753</td>\n",
       "      <td>-0.008800</td>\n",
       "    </tr>\n",
       "    <tr>\n",
       "      <th>2022-03-12 00:00:00+00:00</th>\n",
       "      <td>38730.00</td>\n",
       "      <td>39495.00</td>\n",
       "      <td>38662.00</td>\n",
       "      <td>38798.00</td>\n",
       "      <td>1.493118e+09</td>\n",
       "      <td>0.001754</td>\n",
       "      <td>1.0</td>\n",
       "      <td>-0.001756</td>\n",
       "      <td>0.019752</td>\n",
       "      <td>0.001756</td>\n",
       "      <td>0.021508</td>\n",
       "    </tr>\n",
       "    <tr>\n",
       "      <th>2022-03-13 00:00:00+00:00</th>\n",
       "      <td>38798.00</td>\n",
       "      <td>39328.00</td>\n",
       "      <td>37570.00</td>\n",
       "      <td>37772.00</td>\n",
       "      <td>1.976823e+09</td>\n",
       "      <td>-0.026801</td>\n",
       "      <td>-1.0</td>\n",
       "      <td>-0.031651</td>\n",
       "      <td>0.013660</td>\n",
       "      <td>-0.026445</td>\n",
       "      <td>-0.017991</td>\n",
       "    </tr>\n",
       "    <tr>\n",
       "      <th>2022-03-14 00:00:00+00:00</th>\n",
       "      <td>37772.00</td>\n",
       "      <td>39941.00</td>\n",
       "      <td>37555.00</td>\n",
       "      <td>39689.00</td>\n",
       "      <td>3.447551e+09</td>\n",
       "      <td>0.049506</td>\n",
       "      <td>1.0</td>\n",
       "      <td>-0.005745</td>\n",
       "      <td>0.057423</td>\n",
       "      <td>0.050752</td>\n",
       "      <td>0.063168</td>\n",
       "    </tr>\n",
       "    <tr>\n",
       "      <th>2022-03-15 00:00:00+00:00</th>\n",
       "      <td>39689.00</td>\n",
       "      <td>39835.00</td>\n",
       "      <td>38100.00</td>\n",
       "      <td>39017.00</td>\n",
       "      <td>2.073306e+09</td>\n",
       "      <td>-0.017077</td>\n",
       "      <td>-1.0</td>\n",
       "      <td>-0.040036</td>\n",
       "      <td>0.003679</td>\n",
       "      <td>-0.016932</td>\n",
       "      <td>-0.036358</td>\n",
       "    </tr>\n",
       "  </tbody>\n",
       "</table>\n",
       "<p>969 rows × 11 columns</p>\n",
       "</div>"
      ],
      "text/plain": [
       "                               open      high       low     close  \\\n",
       "date                                                                \n",
       "2019-07-21 00:00:00+00:00  10765.75  10834.00  10322.00  10588.75   \n",
       "2019-07-22 00:00:00+00:00  10588.75  10688.25  10059.00  10321.50   \n",
       "2019-07-23 00:00:00+00:00  10321.50  10323.25   9776.50   9841.75   \n",
       "2019-07-24 00:00:00+00:00   9835.25   9915.75   9517.75   9770.00   \n",
       "2019-07-25 00:00:00+00:00   9770.00  10185.25   9735.00   9880.75   \n",
       "...                             ...       ...       ...       ...   \n",
       "2022-03-11 00:00:00+00:00  39430.00  40273.00  38240.00  38730.00   \n",
       "2022-03-12 00:00:00+00:00  38730.00  39495.00  38662.00  38798.00   \n",
       "2022-03-13 00:00:00+00:00  38798.00  39328.00  37570.00  37772.00   \n",
       "2022-03-14 00:00:00+00:00  37772.00  39941.00  37555.00  39689.00   \n",
       "2022-03-15 00:00:00+00:00  39689.00  39835.00  38100.00  39017.00   \n",
       "\n",
       "                                 volume       ret  consec_wl       mae  \\\n",
       "date                                                                     \n",
       "2019-07-21 00:00:00+00:00  7.400292e+07 -0.016578       -1.0 -0.041219   \n",
       "2019-07-22 00:00:00+00:00  6.869815e+07 -0.025563       -2.0 -0.050030   \n",
       "2019-07-23 00:00:00+00:00  9.836957e+07 -0.047596       -3.0 -0.052802   \n",
       "2019-07-24 00:00:00+00:00  7.770911e+07 -0.007317       -4.0 -0.032921   \n",
       "2019-07-25 00:00:00+00:00  5.096237e+07  0.011272        1.0 -0.003582   \n",
       "...                                 ...       ...        ...       ...   \n",
       "2022-03-11 00:00:00+00:00  4.230125e+09 -0.017912       -2.0 -0.030180   \n",
       "2022-03-12 00:00:00+00:00  1.493118e+09  0.001754        1.0 -0.001756   \n",
       "2022-03-13 00:00:00+00:00  1.976823e+09 -0.026801       -1.0 -0.031651   \n",
       "2022-03-14 00:00:00+00:00  3.447551e+09  0.049506        1.0 -0.005745   \n",
       "2022-03-15 00:00:00+00:00  2.073306e+09 -0.017077       -1.0 -0.040036   \n",
       "\n",
       "                                mfe       pnl  volatile  \n",
       "date                                                     \n",
       "2019-07-21 00:00:00+00:00  0.006340 -0.016441 -0.034879  \n",
       "2019-07-22 00:00:00+00:00  0.009397 -0.025239 -0.040633  \n",
       "2019-07-23 00:00:00+00:00  0.000170 -0.046481 -0.052633  \n",
       "2019-07-24 00:00:00+00:00  0.007519 -0.007290 -0.025402  \n",
       "2019-07-25 00:00:00+00:00  0.042503  0.011336  0.046085  \n",
       "...                             ...       ...       ...  \n",
       "2022-03-11 00:00:00+00:00  0.021380 -0.017753 -0.008800  \n",
       "2022-03-12 00:00:00+00:00  0.019752  0.001756  0.021508  \n",
       "2022-03-13 00:00:00+00:00  0.013660 -0.026445 -0.017991  \n",
       "2022-03-14 00:00:00+00:00  0.057423  0.050752  0.063168  \n",
       "2022-03-15 00:00:00+00:00  0.003679 -0.016932 -0.036358  \n",
       "\n",
       "[969 rows x 11 columns]"
      ]
     },
     "execution_count": 25,
     "metadata": {},
     "output_type": "execute_result"
    }
   ],
   "source": [
    "df1"
   ]
  }
 ],
 "metadata": {
  "kernelspec": {
   "display_name": "Python 3",
   "language": "python",
   "name": "python3"
  },
  "language_info": {
   "codemirror_mode": {
    "name": "ipython",
    "version": 3
   },
   "file_extension": ".py",
   "mimetype": "text/x-python",
   "name": "python",
   "nbconvert_exporter": "python",
   "pygments_lexer": "ipython3",
   "version": "3.7.4"
  }
 },
 "nbformat": 4,
 "nbformat_minor": 4
}
