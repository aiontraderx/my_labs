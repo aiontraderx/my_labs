{
 "cells": [
  {
   "cell_type": "code",
   "execution_count": 1,
   "metadata": {},
   "outputs": [
    {
     "name": "stdout",
     "output_type": "stream",
     "text": [
      "1.64.7\n"
     ]
    }
   ],
   "source": [
    "import json\n",
    "import requests\n",
    "import time\n",
    "from datetime import datetime as dt\n",
    "from datetime import timedelta\n",
    "import talib as ta\n",
    "import seaborn as sns\n",
    "import numpy as np\n",
    "import matplotlib.pyplot as plt\n",
    "import pandas as pd\n",
    "import ccxt\n",
    "from tqdm import tqdm\n",
    "import vectorbt as vbt\n",
    "import plotly.graph_objects as go\n",
    "\n",
    "%matplotlib inline\n",
    "\n",
    "print(ccxt.__version__)\n",
    "\n",
    "ftx = ccxt.ftx({'enableRateLimit':True})\n",
    "binance = ccxt.binance({'enableRateLimit':True})\n",
    "zm = ccxt.zipmex({'enableRateLimit':True})\n",
    "bf= ccxt.bitfinex({'enableRateLimit':True})\n",
    "API_HOST = 'https://api.bitkub.com'\n"
   ]
  },
  {
   "cell_type": "code",
   "execution_count": 2,
   "metadata": {},
   "outputs": [],
   "source": [
    "def get_thb():\n",
    "    from tvDatafeed import TvDatafeed, Interval\n",
    "    tv = TvDatafeed()\n",
    "    symbols ='USDTHB'\n",
    "    exchanges= 'GLOBALPRIME'\n",
    "    timeframe = Interval.in_daily\n",
    "    limit_bar =1\n",
    "    df = tv.get_hist(symbol=symbols,exchange='OANDA',interval=timeframe,n_bars=limit_bar)\n",
    "    return df['close'].values[0]\n",
    "\n"
   ]
  },
  {
   "cell_type": "code",
   "execution_count": 3,
   "metadata": {},
   "outputs": [],
   "source": [
    "## CCXT Function \n",
    "def get_data(ex,symbols,**kwarg):\n",
    "    # \n",
    "    \n",
    "    df= pd.DataFrame(ex.fetch_ohlcv(symbols,**kwarg ),columns=['date','open','high','low','close','volume'])\n",
    "    df['date']=df['date'].apply(ex.iso8601)\n",
    "    df['date']=pd.to_datetime(df['date'])\n",
    "    \n",
    "    \n",
    "    #   df['date']=df['date'].apply(lambda x: x.strftime('%Y-%m-%d %H:%M'))\n",
    "    #   df['date']=pd.to_datetime(df['date'])\n",
    "    #   df.dropna(inplace=True)\n",
    "\n",
    "    df.set_index('date',inplace=True)\n",
    "    return df\n",
    "\n",
    "\n",
    "\n",
    "def order_book_ccxt(exchange,symbol):\n",
    "    res = exchange.fetchOrderBook(symbol,limit=100)\n",
    "    ts=  dt.now()\n",
    "\n",
    "\n",
    "    min_data = min(len(res['bids']), len(res['asks']))\n",
    "    res['bids']  = res['bids'][:min_data]\n",
    "    res['asks']  = res['asks'][:min_data]\n",
    "    order_book = pd.DataFrame(res)\n",
    "    b_size = [order_book['bids'][i][1] for i in range(len(order_book))]\n",
    "    order_book['bids_size'] = b_size\n",
    "\n",
    "    b_price =  [order_book['bids'][i][0] for i in range(len(order_book))]\n",
    "    order_book['bids_price'] = b_price\n",
    "\n",
    "\n",
    "    a_size = [order_book['asks'][i][1] for i in range(len(order_book))]\n",
    "    a_price  = [order_book['asks'][i][0] for i in range(len(order_book))]\n",
    "    order_book['asks_size'] = a_size\n",
    "    order_book['asks_price'] = a_price\n",
    "\n",
    "\n",
    "    order_book = order_book[['bids_price','bids_size','asks_price','asks_size']]\n",
    "    order_book['value_bid'] = order_book['bids_price'] * order_book['bids_size']\n",
    "    order_book['value_ask'] = order_book['asks_price'] * order_book['asks_size']\n",
    "    res =exchange.fetch_ticker(symbol)\n",
    "    last = res['last']\n",
    "    asks=  res['ask']\n",
    "    bids = res['bid']\n",
    "    spread = (asks/bids) -1 # asks/bids -1 , (offer -bid) /offer\n",
    "    spread_asks = last/asks -1\n",
    "    spread_bid =bids/last -1\n",
    "    \n",
    "    order_book[['cumvalue_bid','cumvalue_ask']] =order_book[['value_bid','value_ask']].cumsum()\n",
    "    order_book[['cumvalue_bid','cumvalue_ask']] = order_book[['cumvalue_bid','cumvalue_ask']].astype(int)\n",
    "    order_book['diff_bid']= (order_book['bids_price'] /order_book['bids_price'].iloc[0] -1)*100\n",
    "    order_book['diff_ask']= (order_book['asks_price'] /order_book['asks_price'].iloc[0] -1)*100\n",
    "    \n",
    "    market_bid_chg  = (order_book['bids_price'].iloc[-1]/order_book['bids_price'].iloc[0] -1)*100 # Market Bids\n",
    "    market_ask_chg  = (order_book['asks_price'].iloc[-1]/order_book['asks_price'].iloc[0] -1)*100 # Market Asks\n",
    "\n",
    "    \n",
    "    print(f' [{ts}] [{symbol}]  {bids} : {asks}  Spread @ {spread*100:.2f}%: Last{last}')\n",
    "    \n",
    "    print('ALL BID',market_bid_chg,'%',order_book['cumvalue_bid'].iloc[-1],' $') \n",
    "    print('ALL ASKS',market_ask_chg,'%',order_book['cumvalue_ask'].iloc[-1],' $')     \n",
    "    \n",
    "#     print(f' [{ts}] [{symbol}]  Spread Bid{spread_bid*100:.2f} %   offer{spread_offer*100 :.2f} % ')\n",
    "    return order_book\n",
    "def order_book_bitkub(symbol,limit=100):\n",
    "    \n",
    "    ts=  dt.now()\n",
    "    res= bitkub.books(sym=symbol, lmt=limit)['result']\n",
    "    min_data = min(len(res['bids']), len(res['asks']))\n",
    "    res['bids']  = res['bids'][:min_data]\n",
    "    res['asks']  = res['asks'][:min_data]\n",
    "    order_book = pd.DataFrame(res)\n",
    "    order_book['bids_price'] = [order_book['bids'][i][3] for i in range(len(order_book))]\n",
    "    order_book['bids_size'] = [order_book['bids'][i][4] for i in range(len(order_book))]\n",
    "\n",
    "    order_book['asks_price'] = [order_book['asks'][i][3] for i in range(len(order_book))]\n",
    "    order_book['asks_size'] = [order_book['asks'][i][4] for i in range(len(order_book))]\n",
    "    \n",
    "    order_book['value_bid'] = [order_book['bids'][i][2] for i in range(len(order_book))]\n",
    "    order_book['value_ask'] = [order_book['asks'][i][2] for i in range(len(order_book))]\n",
    "    order_book = order_book.iloc[:,2:]\n",
    "    # Calculation \n",
    "    order_book[['cumvalue_bid','cumvalue_ask']] =order_book[['value_bid','value_ask']].cumsum()\n",
    "    order_book[['cumvalue_bid','cumvalue_ask']] = order_book[['cumvalue_bid','cumvalue_ask']].astype(int)\n",
    "    order_book['diff_bid']= (order_book['bids_price'] /order_book['bids_price'].iloc[0] -1)*100\n",
    "    order_book['diff_ask']= (order_book['asks_price'] /order_book['asks_price'].iloc[0] -1)*100\n",
    "        \n",
    "    \n",
    "    \n",
    "    re2 = bitkub.ticker(sym=symbol)\n",
    "    last = re2[symbol]['last']\n",
    "    asks=  re2[symbol]['lowestAsk']\n",
    "    bids = re2[symbol]['highestBid']\n",
    "    spread = (asks/bids) -1 # asks/bids -1 , (offer -bid) /offer\n",
    "    spread_asks = last/asks -1\n",
    "    spread_bid =bids/last -1\n",
    "    print(symbol,bids,asks)\n",
    "\n",
    "    market_bid_chg  = (order_book['bids_price'].iloc[-1]/order_book['bids_price'].iloc[0] -1)*100 # Market Bids\n",
    "    market_ask_chg  = (order_book['asks_price'].iloc[-1]/order_book['asks_price'].iloc[0] -1)*100 # Market Asks\n",
    "\n",
    "    \n",
    "    print(f' [{ts}] [{symbol}]  {bids} : {asks}  Spread @ {spread*100:.2f}%: Last{last}')\n",
    "    \n",
    "    print('ALL BID',market_bid_chg,'%',order_book['cumvalue_bid'].iloc[-1],' $') \n",
    "    print('ALL ASKS',market_ask_chg,'%',order_book['cumvalue_ask'].iloc[-1],' $')     \n",
    "    \n",
    "#     print(f' [{ts}] [{symbol}]  Spread Bid{spread_bid*100:.2f} %   offer{spread_offer*100 :.2f} % ')\n",
    "# RequestTimeout\n",
    "    return order_book\n",
    "\n",
    "\n",
    "# กวาด x bath\n",
    "def check_ladder(df:pd.DataFrame,cumvalue_col_name:str,trigger:int):\n",
    "    try:\n",
    "        f_price =    df['bids_price'].iloc[0]\n",
    "        dfs = df[df[cumvalue_col_name] >=trigger]\n",
    "        n_price=  dfs['bids_price'].iloc[0]\n",
    "        diff_price=(n_price  /f_price -1) \n",
    "\n",
    "        print(f'{f_price} : {n_price} Diff {diff_price*100:.2f} %')\n",
    "        return  dfs\n",
    "    except IndexError as e:\n",
    "        print('Over Limit' ,df[cumvalue_col_name].iloc[-1],f'  ')\n",
    "        return df.iloc[[-1]]\n",
    "# order_book['cumvalue_bid'].iloc[0]\n"
   ]
  },
  {
   "cell_type": "code",
   "execution_count": 13,
   "metadata": {},
   "outputs": [
    {
     "name": "stdout",
     "output_type": "stream",
     "text": [
      "100 100\n"
     ]
    }
   ],
   "source": [
    "res = ftx.fetchOrderBook('ETH-PERP',limit=500)\n",
    "print(len(res['bids']), len(res['asks']))"
   ]
  },
  {
   "cell_type": "code",
   "execution_count": 4,
   "metadata": {},
   "outputs": [
    {
     "name": "stdout",
     "output_type": "stream",
     "text": [
      " [2022-03-31 17:00:14.169142] [XRP/THB]  28.9189 : 29.0  Spread @ 0.28%: Last28.98288\n",
      "ALL BID -34.66273352455143 % 4107040  $\n",
      "ALL ASKS 15.517241379310342 % 5444900  $\n"
     ]
    },
    {
     "data": {
      "text/html": [
       "<div>\n",
       "<style scoped>\n",
       "    .dataframe tbody tr th:only-of-type {\n",
       "        vertical-align: middle;\n",
       "    }\n",
       "\n",
       "    .dataframe tbody tr th {\n",
       "        vertical-align: top;\n",
       "    }\n",
       "\n",
       "    .dataframe thead th {\n",
       "        text-align: right;\n",
       "    }\n",
       "</style>\n",
       "<table border=\"1\" class=\"dataframe\">\n",
       "  <thead>\n",
       "    <tr style=\"text-align: right;\">\n",
       "      <th></th>\n",
       "      <th>bids_price</th>\n",
       "      <th>bids_size</th>\n",
       "      <th>asks_price</th>\n",
       "      <th>asks_size</th>\n",
       "      <th>value_bid</th>\n",
       "      <th>value_ask</th>\n",
       "      <th>cumvalue_bid</th>\n",
       "      <th>cumvalue_ask</th>\n",
       "      <th>diff_bid</th>\n",
       "      <th>diff_ask</th>\n",
       "    </tr>\n",
       "  </thead>\n",
       "  <tbody>\n",
       "    <tr>\n",
       "      <th>0</th>\n",
       "      <td>28.92683</td>\n",
       "      <td>7080.6378</td>\n",
       "      <td>29.00000</td>\n",
       "      <td>1214.9795</td>\n",
       "      <td>204820.405932</td>\n",
       "      <td>35234.405500</td>\n",
       "      <td>204820</td>\n",
       "      <td>35234</td>\n",
       "      <td>0.000000</td>\n",
       "      <td>0.000000</td>\n",
       "    </tr>\n",
       "    <tr>\n",
       "      <th>1</th>\n",
       "      <td>28.92324</td>\n",
       "      <td>9044.9917</td>\n",
       "      <td>29.00800</td>\n",
       "      <td>5790.3879</td>\n",
       "      <td>261610.465737</td>\n",
       "      <td>167967.572203</td>\n",
       "      <td>466430</td>\n",
       "      <td>203201</td>\n",
       "      <td>-0.012411</td>\n",
       "      <td>0.027586</td>\n",
       "    </tr>\n",
       "    <tr>\n",
       "      <th>2</th>\n",
       "      <td>28.86020</td>\n",
       "      <td>77.4116</td>\n",
       "      <td>29.00953</td>\n",
       "      <td>5701.9596</td>\n",
       "      <td>2234.114258</td>\n",
       "      <td>165411.168075</td>\n",
       "      <td>468664</td>\n",
       "      <td>368613</td>\n",
       "      <td>-0.230340</td>\n",
       "      <td>0.032862</td>\n",
       "    </tr>\n",
       "    <tr>\n",
       "      <th>3</th>\n",
       "      <td>28.86000</td>\n",
       "      <td>6662.5290</td>\n",
       "      <td>29.01241</td>\n",
       "      <td>8384.2340</td>\n",
       "      <td>192280.586940</td>\n",
       "      <td>243246.834344</td>\n",
       "      <td>660945</td>\n",
       "      <td>611859</td>\n",
       "      <td>-0.231031</td>\n",
       "      <td>0.042793</td>\n",
       "    </tr>\n",
       "    <tr>\n",
       "      <th>4</th>\n",
       "      <td>28.85582</td>\n",
       "      <td>3914.3578</td>\n",
       "      <td>29.02141</td>\n",
       "      <td>5184.0079</td>\n",
       "      <td>112952.004092</td>\n",
       "      <td>150447.218709</td>\n",
       "      <td>773897</td>\n",
       "      <td>762307</td>\n",
       "      <td>-0.245481</td>\n",
       "      <td>0.073828</td>\n",
       "    </tr>\n",
       "    <tr>\n",
       "      <th>...</th>\n",
       "      <td>...</td>\n",
       "      <td>...</td>\n",
       "      <td>...</td>\n",
       "      <td>...</td>\n",
       "      <td>...</td>\n",
       "      <td>...</td>\n",
       "      <td>...</td>\n",
       "      <td>...</td>\n",
       "      <td>...</td>\n",
       "      <td>...</td>\n",
       "    </tr>\n",
       "    <tr>\n",
       "      <th>95</th>\n",
       "      <td>19.30000</td>\n",
       "      <td>4.3005</td>\n",
       "      <td>33.32740</td>\n",
       "      <td>1701.6371</td>\n",
       "      <td>82.999650</td>\n",
       "      <td>56711.140287</td>\n",
       "      <td>4091492</td>\n",
       "      <td>5400608</td>\n",
       "      <td>-33.279934</td>\n",
       "      <td>14.922069</td>\n",
       "    </tr>\n",
       "    <tr>\n",
       "      <th>96</th>\n",
       "      <td>19.27330</td>\n",
       "      <td>37.5791</td>\n",
       "      <td>33.40000</td>\n",
       "      <td>96.6289</td>\n",
       "      <td>724.273268</td>\n",
       "      <td>3227.405260</td>\n",
       "      <td>4092216</td>\n",
       "      <td>5403836</td>\n",
       "      <td>-33.372236</td>\n",
       "      <td>15.172414</td>\n",
       "    </tr>\n",
       "    <tr>\n",
       "      <th>97</th>\n",
       "      <td>19.00000</td>\n",
       "      <td>742.7389</td>\n",
       "      <td>33.43000</td>\n",
       "      <td>175.1147</td>\n",
       "      <td>14112.039100</td>\n",
       "      <td>5854.084421</td>\n",
       "      <td>4106328</td>\n",
       "      <td>5409690</td>\n",
       "      <td>-34.317034</td>\n",
       "      <td>15.275862</td>\n",
       "    </tr>\n",
       "    <tr>\n",
       "      <th>98</th>\n",
       "      <td>18.91996</td>\n",
       "      <td>11.1690</td>\n",
       "      <td>33.49000</td>\n",
       "      <td>1008.9199</td>\n",
       "      <td>211.317033</td>\n",
       "      <td>33788.727451</td>\n",
       "      <td>4106540</td>\n",
       "      <td>5443479</td>\n",
       "      <td>-34.593732</td>\n",
       "      <td>15.482759</td>\n",
       "    </tr>\n",
       "    <tr>\n",
       "      <th>99</th>\n",
       "      <td>18.90000</td>\n",
       "      <td>26.4550</td>\n",
       "      <td>33.50000</td>\n",
       "      <td>42.4381</td>\n",
       "      <td>499.999500</td>\n",
       "      <td>1421.676350</td>\n",
       "      <td>4107040</td>\n",
       "      <td>5444900</td>\n",
       "      <td>-34.662734</td>\n",
       "      <td>15.517241</td>\n",
       "    </tr>\n",
       "  </tbody>\n",
       "</table>\n",
       "<p>100 rows × 10 columns</p>\n",
       "</div>"
      ],
      "text/plain": [
       "    bids_price  bids_size  asks_price  asks_size      value_bid  \\\n",
       "0     28.92683  7080.6378    29.00000  1214.9795  204820.405932   \n",
       "1     28.92324  9044.9917    29.00800  5790.3879  261610.465737   \n",
       "2     28.86020    77.4116    29.00953  5701.9596    2234.114258   \n",
       "3     28.86000  6662.5290    29.01241  8384.2340  192280.586940   \n",
       "4     28.85582  3914.3578    29.02141  5184.0079  112952.004092   \n",
       "..         ...        ...         ...        ...            ...   \n",
       "95    19.30000     4.3005    33.32740  1701.6371      82.999650   \n",
       "96    19.27330    37.5791    33.40000    96.6289     724.273268   \n",
       "97    19.00000   742.7389    33.43000   175.1147   14112.039100   \n",
       "98    18.91996    11.1690    33.49000  1008.9199     211.317033   \n",
       "99    18.90000    26.4550    33.50000    42.4381     499.999500   \n",
       "\n",
       "        value_ask  cumvalue_bid  cumvalue_ask   diff_bid   diff_ask  \n",
       "0    35234.405500        204820         35234   0.000000   0.000000  \n",
       "1   167967.572203        466430        203201  -0.012411   0.027586  \n",
       "2   165411.168075        468664        368613  -0.230340   0.032862  \n",
       "3   243246.834344        660945        611859  -0.231031   0.042793  \n",
       "4   150447.218709        773897        762307  -0.245481   0.073828  \n",
       "..            ...           ...           ...        ...        ...  \n",
       "95   56711.140287       4091492       5400608 -33.279934  14.922069  \n",
       "96    3227.405260       4092216       5403836 -33.372236  15.172414  \n",
       "97    5854.084421       4106328       5409690 -34.317034  15.275862  \n",
       "98   33788.727451       4106540       5443479 -34.593732  15.482759  \n",
       "99    1421.676350       4107040       5444900 -34.662734  15.517241  \n",
       "\n",
       "[100 rows x 10 columns]"
      ]
     },
     "execution_count": 4,
     "metadata": {},
     "output_type": "execute_result"
    }
   ],
   "source": [
    "order_book = order_book_ccxt(zm,'XRP/THB')\n",
    "order_book"
   ]
  },
  {
   "cell_type": "code",
   "execution_count": 5,
   "metadata": {},
   "outputs": [
    {
     "name": "stdout",
     "output_type": "stream",
     "text": [
      "28.92683 : 28.86 Diff -0.23 %\n"
     ]
    },
    {
     "data": {
      "text/html": [
       "<div>\n",
       "<style scoped>\n",
       "    .dataframe tbody tr th:only-of-type {\n",
       "        vertical-align: middle;\n",
       "    }\n",
       "\n",
       "    .dataframe tbody tr th {\n",
       "        vertical-align: top;\n",
       "    }\n",
       "\n",
       "    .dataframe thead th {\n",
       "        text-align: right;\n",
       "    }\n",
       "</style>\n",
       "<table border=\"1\" class=\"dataframe\">\n",
       "  <thead>\n",
       "    <tr style=\"text-align: right;\">\n",
       "      <th></th>\n",
       "      <th>bids_price</th>\n",
       "      <th>bids_size</th>\n",
       "      <th>asks_price</th>\n",
       "      <th>asks_size</th>\n",
       "      <th>value_bid</th>\n",
       "      <th>value_ask</th>\n",
       "      <th>cumvalue_bid</th>\n",
       "      <th>cumvalue_ask</th>\n",
       "      <th>diff_bid</th>\n",
       "      <th>diff_ask</th>\n",
       "    </tr>\n",
       "  </thead>\n",
       "  <tbody>\n",
       "    <tr>\n",
       "      <th>3</th>\n",
       "      <td>28.86000</td>\n",
       "      <td>6662.5290</td>\n",
       "      <td>29.01241</td>\n",
       "      <td>8384.2340</td>\n",
       "      <td>192280.586940</td>\n",
       "      <td>243246.834344</td>\n",
       "      <td>660945</td>\n",
       "      <td>611859</td>\n",
       "      <td>-0.231031</td>\n",
       "      <td>0.042793</td>\n",
       "    </tr>\n",
       "    <tr>\n",
       "      <th>4</th>\n",
       "      <td>28.85582</td>\n",
       "      <td>3914.3578</td>\n",
       "      <td>29.02141</td>\n",
       "      <td>5184.0079</td>\n",
       "      <td>112952.004092</td>\n",
       "      <td>150447.218709</td>\n",
       "      <td>773897</td>\n",
       "      <td>762307</td>\n",
       "      <td>-0.245481</td>\n",
       "      <td>0.073828</td>\n",
       "    </tr>\n",
       "    <tr>\n",
       "      <th>5</th>\n",
       "      <td>28.80000</td>\n",
       "      <td>81.4023</td>\n",
       "      <td>29.05000</td>\n",
       "      <td>89.1071</td>\n",
       "      <td>2344.386240</td>\n",
       "      <td>2588.561255</td>\n",
       "      <td>776241</td>\n",
       "      <td>764895</td>\n",
       "      <td>-0.438451</td>\n",
       "      <td>0.172414</td>\n",
       "    </tr>\n",
       "    <tr>\n",
       "      <th>6</th>\n",
       "      <td>28.72686</td>\n",
       "      <td>5188.2401</td>\n",
       "      <td>29.07000</td>\n",
       "      <td>36.2092</td>\n",
       "      <td>149041.846999</td>\n",
       "      <td>1052.601444</td>\n",
       "      <td>925283</td>\n",
       "      <td>765948</td>\n",
       "      <td>-0.691296</td>\n",
       "      <td>0.241379</td>\n",
       "    </tr>\n",
       "    <tr>\n",
       "      <th>7</th>\n",
       "      <td>28.70735</td>\n",
       "      <td>9010.5385</td>\n",
       "      <td>29.10000</td>\n",
       "      <td>55.6817</td>\n",
       "      <td>258668.682408</td>\n",
       "      <td>1620.337470</td>\n",
       "      <td>1183952</td>\n",
       "      <td>767568</td>\n",
       "      <td>-0.758742</td>\n",
       "      <td>0.344828</td>\n",
       "    </tr>\n",
       "    <tr>\n",
       "      <th>...</th>\n",
       "      <td>...</td>\n",
       "      <td>...</td>\n",
       "      <td>...</td>\n",
       "      <td>...</td>\n",
       "      <td>...</td>\n",
       "      <td>...</td>\n",
       "      <td>...</td>\n",
       "      <td>...</td>\n",
       "      <td>...</td>\n",
       "      <td>...</td>\n",
       "    </tr>\n",
       "    <tr>\n",
       "      <th>95</th>\n",
       "      <td>19.30000</td>\n",
       "      <td>4.3005</td>\n",
       "      <td>33.32740</td>\n",
       "      <td>1701.6371</td>\n",
       "      <td>82.999650</td>\n",
       "      <td>56711.140287</td>\n",
       "      <td>4091492</td>\n",
       "      <td>5400608</td>\n",
       "      <td>-33.279934</td>\n",
       "      <td>14.922069</td>\n",
       "    </tr>\n",
       "    <tr>\n",
       "      <th>96</th>\n",
       "      <td>19.27330</td>\n",
       "      <td>37.5791</td>\n",
       "      <td>33.40000</td>\n",
       "      <td>96.6289</td>\n",
       "      <td>724.273268</td>\n",
       "      <td>3227.405260</td>\n",
       "      <td>4092216</td>\n",
       "      <td>5403836</td>\n",
       "      <td>-33.372236</td>\n",
       "      <td>15.172414</td>\n",
       "    </tr>\n",
       "    <tr>\n",
       "      <th>97</th>\n",
       "      <td>19.00000</td>\n",
       "      <td>742.7389</td>\n",
       "      <td>33.43000</td>\n",
       "      <td>175.1147</td>\n",
       "      <td>14112.039100</td>\n",
       "      <td>5854.084421</td>\n",
       "      <td>4106328</td>\n",
       "      <td>5409690</td>\n",
       "      <td>-34.317034</td>\n",
       "      <td>15.275862</td>\n",
       "    </tr>\n",
       "    <tr>\n",
       "      <th>98</th>\n",
       "      <td>18.91996</td>\n",
       "      <td>11.1690</td>\n",
       "      <td>33.49000</td>\n",
       "      <td>1008.9199</td>\n",
       "      <td>211.317033</td>\n",
       "      <td>33788.727451</td>\n",
       "      <td>4106540</td>\n",
       "      <td>5443479</td>\n",
       "      <td>-34.593732</td>\n",
       "      <td>15.482759</td>\n",
       "    </tr>\n",
       "    <tr>\n",
       "      <th>99</th>\n",
       "      <td>18.90000</td>\n",
       "      <td>26.4550</td>\n",
       "      <td>33.50000</td>\n",
       "      <td>42.4381</td>\n",
       "      <td>499.999500</td>\n",
       "      <td>1421.676350</td>\n",
       "      <td>4107040</td>\n",
       "      <td>5444900</td>\n",
       "      <td>-34.662734</td>\n",
       "      <td>15.517241</td>\n",
       "    </tr>\n",
       "  </tbody>\n",
       "</table>\n",
       "<p>97 rows × 10 columns</p>\n",
       "</div>"
      ],
      "text/plain": [
       "    bids_price  bids_size  asks_price  asks_size      value_bid  \\\n",
       "3     28.86000  6662.5290    29.01241  8384.2340  192280.586940   \n",
       "4     28.85582  3914.3578    29.02141  5184.0079  112952.004092   \n",
       "5     28.80000    81.4023    29.05000    89.1071    2344.386240   \n",
       "6     28.72686  5188.2401    29.07000    36.2092  149041.846999   \n",
       "7     28.70735  9010.5385    29.10000    55.6817  258668.682408   \n",
       "..         ...        ...         ...        ...            ...   \n",
       "95    19.30000     4.3005    33.32740  1701.6371      82.999650   \n",
       "96    19.27330    37.5791    33.40000    96.6289     724.273268   \n",
       "97    19.00000   742.7389    33.43000   175.1147   14112.039100   \n",
       "98    18.91996    11.1690    33.49000  1008.9199     211.317033   \n",
       "99    18.90000    26.4550    33.50000    42.4381     499.999500   \n",
       "\n",
       "        value_ask  cumvalue_bid  cumvalue_ask   diff_bid   diff_ask  \n",
       "3   243246.834344        660945        611859  -0.231031   0.042793  \n",
       "4   150447.218709        773897        762307  -0.245481   0.073828  \n",
       "5     2588.561255        776241        764895  -0.438451   0.172414  \n",
       "6     1052.601444        925283        765948  -0.691296   0.241379  \n",
       "7     1620.337470       1183952        767568  -0.758742   0.344828  \n",
       "..            ...           ...           ...        ...        ...  \n",
       "95   56711.140287       4091492       5400608 -33.279934  14.922069  \n",
       "96    3227.405260       4092216       5403836 -33.372236  15.172414  \n",
       "97    5854.084421       4106328       5409690 -34.317034  15.275862  \n",
       "98   33788.727451       4106540       5443479 -34.593732  15.482759  \n",
       "99    1421.676350       4107040       5444900 -34.662734  15.517241  \n",
       "\n",
       "[97 rows x 10 columns]"
      ]
     },
     "execution_count": 5,
     "metadata": {},
     "output_type": "execute_result"
    }
   ],
   "source": [
    "check_ladder(order_book,'cumvalue_ask',500000)"
   ]
  },
  {
   "cell_type": "code",
   "execution_count": 6,
   "metadata": {},
   "outputs": [
    {
     "name": "stderr",
     "output_type": "stream",
     "text": [
      "you are using nologin method, data you access may be limited\n"
     ]
    },
    {
     "name": "stdout",
     "output_type": "stream",
     "text": [
      " [2022-03-31 17:00:16.627766] [ETH/USDT]  3425.1 : 3425.3  Spread @ 0.01%: Last3425.3\n",
      "ALL BID -0.6919505999824715 % 6852182  $\n",
      "ALL ASKS 0.3941145559642756 % 6072393  $\n",
      " [2022-03-31 17:00:17.283038] [ETH/USDT]  3425.73 : 3425.74  Spread @ 0.00%: Last3425.73\n",
      "ALL BID -0.12085015456558823 % 1692994  $\n",
      "ALL ASKS 0.04728905287618712 % 487728  $\n",
      " [2022-03-31 17:00:17.611821] [ETH/THB]  114262.09 : 114352.47  Spread @ 0.08%: Last114256.6\n",
      "ALL BID -5.042871174507657 % 9485561  $\n",
      "ALL ASKS 3.730159916965503 % 15049059  $\n",
      " [2022-03-31 17:00:21.773218] [ETH/USD]  3422.9 : 3423.0  Spread @ 0.00%: Last3424.4\n",
      "ALL BID -0.5927872682143454 % 5012196  $\n",
      "ALL ASKS 0.4964083396601149 % 3896173  $\n"
     ]
    }
   ],
   "source": [
    "name_sym = 'ETH'\n",
    "usd_thb = get_thb() # USD/THB From Tradingview\n",
    "\n",
    "p1=order_book_ccxt(ftx,name_sym+'/USDT')\n",
    "p2=order_book_ccxt(binance,name_sym+'/USDT')\n",
    "p3= order_book_ccxt(zm,name_sym+'/THB')\n",
    "p4= order_book_ccxt(bf,name_sym+'/USD')\n",
    "\n",
    "# display(p3.iloc[[0]],p2.iloc[[0]],p1.iloc[[0]])\n"
   ]
  },
  {
   "cell_type": "code",
   "execution_count": 7,
   "metadata": {},
   "outputs": [
    {
     "name": "stdout",
     "output_type": "stream",
     "text": [
      " Zipmex 3438.39645 Binance 3425.74000 0.37%\n",
      " Zipmex 3438.39645 FTX 3425.40000  0.38%\n",
      " FTX 3425.40000 Binance 3425.74000  -0.01%\n"
     ]
    },
    {
     "data": {
      "text/html": [
       "<div>\n",
       "<style scoped>\n",
       "    .dataframe tbody tr th:only-of-type {\n",
       "        vertical-align: middle;\n",
       "    }\n",
       "\n",
       "    .dataframe tbody tr th {\n",
       "        vertical-align: top;\n",
       "    }\n",
       "\n",
       "    .dataframe thead th {\n",
       "        text-align: right;\n",
       "    }\n",
       "</style>\n",
       "<table border=\"1\" class=\"dataframe\">\n",
       "  <thead>\n",
       "    <tr style=\"text-align: right;\">\n",
       "      <th></th>\n",
       "      <th>symbol</th>\n",
       "      <th>zipmex</th>\n",
       "      <th>binance</th>\n",
       "      <th>ftx</th>\n",
       "      <th>bitfinex</th>\n",
       "    </tr>\n",
       "  </thead>\n",
       "  <tbody>\n",
       "    <tr>\n",
       "      <th>0</th>\n",
       "      <td>ETH</td>\n",
       "      <td>3438.39645</td>\n",
       "      <td>3425.74</td>\n",
       "      <td>3425.4</td>\n",
       "      <td>3424.6</td>\n",
       "    </tr>\n",
       "  </tbody>\n",
       "</table>\n",
       "</div>"
      ],
      "text/plain": [
       "  symbol      zipmex  binance     ftx  bitfinex\n",
       "0    ETH  3438.39645  3425.74  3425.4    3424.6"
      ]
     },
     "execution_count": 7,
     "metadata": {},
     "output_type": "execute_result"
    }
   ],
   "source": [
    "zm_usd  =float(round((p3.iloc[[0]]['asks_price'].values[0] / usd_thb),5))\n",
    "bn_usd = p2.iloc[[0]]['asks_price'].values[0]\n",
    "ftx_usd = p1.iloc[[0]]['asks_price'].values[0]\n",
    "bf_usd = p4.iloc[[0]]['asks_price'].values[0]\n",
    "\n",
    "\n",
    "diff = (zm_usd/bn_usd)-1\n",
    "diff2 = (zm_usd/ftx_usd)-1\n",
    "diff3 = (ftx_usd/bn_usd)-1\n",
    "\n",
    "print(f' Zipmex {zm_usd:.5f} Binance {bn_usd:.5f} {diff*100:.2f}%')\n",
    "print(f' Zipmex {zm_usd:.5f} FTX {ftx_usd:.5f}  {diff2*100:.2f}%')\n",
    "print(f' FTX {ftx_usd:.5f} Binance {bn_usd:.5f}  {diff3*100:.2f}%')\n",
    "\n",
    "\n",
    "dict_data= {'symbol':name_sym,'zipmex':zm_usd,'binance':bn_usd,'ftx':ftx_usd,'bitfinex':bf_usd}\n",
    "# dict_data= {'symbol':name_sym,'zipmex':zm_usd,'bitfinex':bf_usd,}\n",
    "\n",
    "df_compare = pd.DataFrame([dict_data])\n",
    "df_compare"
   ]
  },
  {
   "cell_type": "code",
   "execution_count": 32,
   "metadata": {},
   "outputs": [
    {
     "name": "stdout",
     "output_type": "stream",
     "text": [
      " [2022-03-24 18:47:10.837115] [ZMT/USD]  2.8396 : 2.861  Spread @ 0.75%: Last2.8611\n",
      "ALL BID -99.99154810536696 % 261083  $\n",
      "ALL ASKS 30.84585809157636 % 41117  $\n"
     ]
    },
    {
     "name": "stderr",
     "output_type": "stream",
     "text": [
      "C:\\Users\\User\\Anaconda3\\lib\\site-packages\\ipykernel_launcher.py:25: UserWarning:\n",
      "\n",
      "Matplotlib is currently using module://ipykernel.pylab.backend_inline, which is a non-GUI backend, so cannot show the figure.\n",
      "\n",
      "C:\\Users\\User\\Anaconda3\\lib\\site-packages\\ipykernel_launcher.py:33: UserWarning:\n",
      "\n",
      "Matplotlib is currently using module://ipykernel.pylab.backend_inline, which is a non-GUI backend, so cannot show the figure.\n",
      "\n"
     ]
    },
    {
     "data": {
      "image/png": "[encoded data removed]",
      "text/plain": [
       "<Figure size 720x288 with 1 Axes>"
      ]
     },
     "metadata": {
      "needs_background": "light"
     },
     "output_type": "display_data"
    },
    {
     "data": {
      "image/png": "[encoded data removed]",
      "text/plain": [
       "<Figure size 720x288 with 1 Axes>"
      ]
     },
     "metadata": {
      "needs_background": "light"
     },
     "output_type": "display_data"
    },
    {
     "data": {
      "image/png": "[encoded data removed]",
      "text/plain": [
       "<Figure size 720x288 with 1 Axes>"
      ]
     },
     "metadata": {
      "needs_background": "light"
     },
     "output_type": "display_data"
    },
    {
     "data": {
      "text/html": [
       "<div>\n",
       "<style scoped>\n",
       "    .dataframe tbody tr th:only-of-type {\n",
       "        vertical-align: middle;\n",
       "    }\n",
       "\n",
       "    .dataframe tbody tr th {\n",
       "        vertical-align: top;\n",
       "    }\n",
       "\n",
       "    .dataframe thead th {\n",
       "        text-align: right;\n",
       "    }\n",
       "</style>\n",
       "<table border=\"1\" class=\"dataframe\">\n",
       "  <thead>\n",
       "    <tr style=\"text-align: right;\">\n",
       "      <th></th>\n",
       "      <th>bids_price</th>\n",
       "      <th>bids_size</th>\n",
       "      <th>asks_price</th>\n",
       "      <th>asks_size</th>\n",
       "      <th>value_bid</th>\n",
       "      <th>value_ask</th>\n",
       "      <th>cumvalue_bid</th>\n",
       "      <th>cumvalue_ask</th>\n",
       "      <th>diff_bid</th>\n",
       "      <th>diff_ask</th>\n",
       "    </tr>\n",
       "  </thead>\n",
       "  <tbody>\n",
       "    <tr>\n",
       "      <th>0</th>\n",
       "      <td>2.8396</td>\n",
       "      <td>12.959400</td>\n",
       "      <td>2.8610</td>\n",
       "      <td>2.070579</td>\n",
       "      <td>36.799512</td>\n",
       "      <td>5.923927</td>\n",
       "      <td>36</td>\n",
       "      <td>5</td>\n",
       "      <td>0.000000</td>\n",
       "      <td>0.000000</td>\n",
       "    </tr>\n",
       "    <tr>\n",
       "      <th>1</th>\n",
       "      <td>2.8395</td>\n",
       "      <td>14.100000</td>\n",
       "      <td>2.8682</td>\n",
       "      <td>370.515050</td>\n",
       "      <td>40.036950</td>\n",
       "      <td>1062.711266</td>\n",
       "      <td>76</td>\n",
       "      <td>1068</td>\n",
       "      <td>-0.003522</td>\n",
       "      <td>0.251660</td>\n",
       "    </tr>\n",
       "    <tr>\n",
       "      <th>2</th>\n",
       "      <td>2.8385</td>\n",
       "      <td>101.958621</td>\n",
       "      <td>2.8683</td>\n",
       "      <td>154.028362</td>\n",
       "      <td>289.409544</td>\n",
       "      <td>441.799551</td>\n",
       "      <td>366</td>\n",
       "      <td>1510</td>\n",
       "      <td>-0.038738</td>\n",
       "      <td>0.255156</td>\n",
       "    </tr>\n",
       "    <tr>\n",
       "      <th>3</th>\n",
       "      <td>2.8384</td>\n",
       "      <td>7.121379</td>\n",
       "      <td>2.8745</td>\n",
       "      <td>7.083447</td>\n",
       "      <td>20.213323</td>\n",
       "      <td>20.361367</td>\n",
       "      <td>386</td>\n",
       "      <td>1530</td>\n",
       "      <td>-0.042259</td>\n",
       "      <td>0.471863</td>\n",
       "    </tr>\n",
       "    <tr>\n",
       "      <th>4</th>\n",
       "      <td>2.8323</td>\n",
       "      <td>200.419382</td>\n",
       "      <td>2.8775</td>\n",
       "      <td>199.041978</td>\n",
       "      <td>567.647816</td>\n",
       "      <td>572.743290</td>\n",
       "      <td>954</td>\n",
       "      <td>2103</td>\n",
       "      <td>-0.257078</td>\n",
       "      <td>0.576721</td>\n",
       "    </tr>\n",
       "    <tr>\n",
       "      <th>5</th>\n",
       "      <td>2.8234</td>\n",
       "      <td>7.159213</td>\n",
       "      <td>2.8898</td>\n",
       "      <td>4.280629</td>\n",
       "      <td>20.213323</td>\n",
       "      <td>12.370162</td>\n",
       "      <td>974</td>\n",
       "      <td>2115</td>\n",
       "      <td>-0.570503</td>\n",
       "      <td>1.006641</td>\n",
       "    </tr>\n",
       "    <tr>\n",
       "      <th>6</th>\n",
       "      <td>2.8140</td>\n",
       "      <td>141.000000</td>\n",
       "      <td>2.8976</td>\n",
       "      <td>197.662726</td>\n",
       "      <td>396.774000</td>\n",
       "      <td>572.747514</td>\n",
       "      <td>1371</td>\n",
       "      <td>2688</td>\n",
       "      <td>-0.901535</td>\n",
       "      <td>1.279273</td>\n",
       "    </tr>\n",
       "    <tr>\n",
       "      <th>7</th>\n",
       "      <td>2.8127</td>\n",
       "      <td>170.125985</td>\n",
       "      <td>2.9052</td>\n",
       "      <td>7.008538</td>\n",
       "      <td>478.513358</td>\n",
       "      <td>20.361203</td>\n",
       "      <td>1849</td>\n",
       "      <td>2709</td>\n",
       "      <td>-0.947317</td>\n",
       "      <td>1.544914</td>\n",
       "    </tr>\n",
       "    <tr>\n",
       "      <th>8</th>\n",
       "      <td>2.8084</td>\n",
       "      <td>7.197452</td>\n",
       "      <td>2.9177</td>\n",
       "      <td>179.364450</td>\n",
       "      <td>20.213323</td>\n",
       "      <td>523.331657</td>\n",
       "      <td>1869</td>\n",
       "      <td>3232</td>\n",
       "      <td>-1.098746</td>\n",
       "      <td>1.981825</td>\n",
       "    </tr>\n",
       "    <tr>\n",
       "      <th>9</th>\n",
       "      <td>2.7935</td>\n",
       "      <td>7.235841</td>\n",
       "      <td>2.9207</td>\n",
       "      <td>6.971313</td>\n",
       "      <td>20.213323</td>\n",
       "      <td>20.361115</td>\n",
       "      <td>1890</td>\n",
       "      <td>3252</td>\n",
       "      <td>-1.623468</td>\n",
       "      <td>2.086683</td>\n",
       "    </tr>\n",
       "  </tbody>\n",
       "</table>\n",
       "</div>"
      ],
      "text/plain": [
       "   bids_price   bids_size  asks_price   asks_size   value_bid    value_ask  \\\n",
       "0      2.8396   12.959400      2.8610    2.070579   36.799512     5.923927   \n",
       "1      2.8395   14.100000      2.8682  370.515050   40.036950  1062.711266   \n",
       "2      2.8385  101.958621      2.8683  154.028362  289.409544   441.799551   \n",
       "3      2.8384    7.121379      2.8745    7.083447   20.213323    20.361367   \n",
       "4      2.8323  200.419382      2.8775  199.041978  567.647816   572.743290   \n",
       "5      2.8234    7.159213      2.8898    4.280629   20.213323    12.370162   \n",
       "6      2.8140  141.000000      2.8976  197.662726  396.774000   572.747514   \n",
       "7      2.8127  170.125985      2.9052    7.008538  478.513358    20.361203   \n",
       "8      2.8084    7.197452      2.9177  179.364450   20.213323   523.331657   \n",
       "9      2.7935    7.235841      2.9207    6.971313   20.213323    20.361115   \n",
       "\n",
       "   cumvalue_bid  cumvalue_ask  diff_bid  diff_ask  \n",
       "0            36             5  0.000000  0.000000  \n",
       "1            76          1068 -0.003522  0.251660  \n",
       "2           366          1510 -0.038738  0.255156  \n",
       "3           386          1530 -0.042259  0.471863  \n",
       "4           954          2103 -0.257078  0.576721  \n",
       "5           974          2115 -0.570503  1.006641  \n",
       "6          1371          2688 -0.901535  1.279273  \n",
       "7          1849          2709 -0.947317  1.544914  \n",
       "8          1869          3232 -1.098746  1.981825  \n",
       "9          1890          3252 -1.623468  2.086683  "
      ]
     },
     "metadata": {},
     "output_type": "display_data"
    },
    {
     "name": "stdout",
     "output_type": "stream",
     "text": [
      "##################################################\n"
     ]
    },
    {
     "data": {
      "application/vnd.plotly.v1+json": {
       "config": {
        "plotlyServerURL": "https://plot.ly"
       },
       "data": [
        {
         "close": [
          2.2,
          2.1151,
          2.1457,
          2.1528,
          2.1407,
          2.1482,
          2.1299,
          2.051,
          2.1276,
          2.1353,
          2.1294,
          2.0558,
          2.1322,
          2.1253,
          2.1312,
          2.1481,
          2.1513,
          2.1503,
          2.1605,
          2.2943,
          2.2943,
          2.2175,
          2.2175,
          2.293,
          2.1857,
          2.1985,
          2.2053,
          2.1819,
          2.33,
          2.2885,
          2.28,
          2.2885,
          2.2885,
          2.2883,
          2.148,
          2.1613,
          2.1655,
          2.1681,
          2.2884,
          2.2884,
          2.2885,
          2.2885,
          2.1552,
          2.141,
          2.1625,
          2.285,
          2.275,
          2.275,
          2.1679,
          2.1355,
          2.1329,
          2.1382,
          2.2034,
          2.2199,
          2.2765,
          2.2765,
          2.3501,
          2.3493,
          2.259,
          2.423,
          2.4231,
          2.1731,
          2.052,
          2.43,
          2.4299,
          2.115,
          2.3675,
          2.2903,
          2.2632,
          2.4,
          2.3911,
          2.2544,
          2.4315,
          2.45,
          2.45,
          2.2501,
          2.45,
          2.45,
          2.6,
          2.6,
          2.45,
          2.6,
          2.2601,
          2.26,
          2.2859,
          2.5927,
          2.578,
          2.3102,
          2.26,
          2.26,
          2.26,
          2.26,
          2.2605,
          2.469,
          2.543,
          2.272,
          2.5432,
          2.266,
          2.2601,
          2.44
         ],
         "decreasing": {
          "line": {
           "color": "#d95f02"
          }
         },
         "high": [
          2.4,
          2.197,
          2.1457,
          2.1528,
          2.1407,
          2.1502,
          2.1506,
          2.249,
          2.1276,
          2.1353,
          2.1353,
          2.1554,
          2.1447,
          2.1287,
          2.1365,
          2.1524,
          2.1526,
          2.1513,
          2.2479,
          2.2943,
          2.2943,
          2.2943,
          2.293,
          2.293,
          2.1902,
          2.204,
          2.252,
          2.325,
          2.33,
          2.2885,
          2.28,
          2.2885,
          2.2885,
          2.2883,
          2.2116,
          2.2882,
          2.2884,
          2.2884,
          2.2884,
          2.2884,
          2.2885,
          2.2885,
          2.2885,
          2.285,
          2.1812,
          2.285,
          2.275,
          2.275,
          2.275,
          2.275,
          2.2034,
          2.1382,
          2.2034,
          2.2199,
          2.2765,
          2.2765,
          2.3501,
          2.3501,
          2.4211,
          2.423,
          2.4231,
          2.1731,
          2.43,
          2.43,
          2.43,
          66.541,
          2.4496,
          2.45,
          2.45,
          2.4315,
          2.4158,
          2.4315,
          2.4315,
          2.45,
          2.45,
          2.45,
          2.45,
          2.45,
          2.6,
          2.6,
          2.6,
          2.6,
          2.6,
          2.3998,
          2.2859,
          2.5927,
          2.59,
          2.575,
          2.3103,
          2.2833,
          2.4237,
          2.2601,
          2.56,
          2.549,
          2.5432,
          2.5725,
          2.5499,
          2.565,
          2.5,
          2.45
         ],
         "increasing": {
          "line": {
           "color": "#1b9e76"
          }
         },
         "legendgroup": "0",
         "low": [
          2.2,
          2.053,
          2.1457,
          2.1528,
          2.1376,
          2.1402,
          2.05,
          2.0501,
          2.12,
          2.1223,
          2.1294,
          2.0558,
          2.1322,
          2.1242,
          2.056,
          2.1312,
          2.1412,
          2.1503,
          2.07,
          2.1606,
          2.2004,
          2.213,
          2.2175,
          2.189,
          2.1817,
          2.1816,
          2.185,
          2.1819,
          2.1817,
          2.1833,
          2.28,
          2.2,
          2.2885,
          2.1523,
          2.06,
          2.1613,
          2.1655,
          2.1676,
          2.1691,
          2.2884,
          2.2847,
          2.2885,
          2.0501,
          2.0501,
          2.1546,
          2.2837,
          2.275,
          2.2711,
          2.05,
          2.05,
          2.1227,
          2.1307,
          2.1382,
          2.2034,
          2.1918,
          2.1463,
          2.062,
          2.1719,
          2.2065,
          2.4008,
          2.423,
          2.1731,
          2.05,
          2.3989,
          2.425,
          2.11,
          2.1411,
          2.155,
          2.1724,
          2.15,
          2.26,
          2.2,
          2.2473,
          2.4315,
          2.25,
          2.2501,
          2.2502,
          2.45,
          2.45,
          2.6,
          2.45,
          2.6,
          2.26,
          2.26,
          2.26,
          2.2678,
          2.27,
          2.31,
          2.26,
          2.26,
          2.2203,
          2.26,
          2.26,
          2.2605,
          2.508,
          2.27,
          2.5432,
          2.2605,
          2.26,
          2.15
         ],
         "name": "OHLC",
         "open": [
          2.4,
          2.053,
          2.1457,
          2.1528,
          2.1376,
          2.1402,
          2.1477,
          2.1289,
          2.1238,
          2.1276,
          2.1353,
          2.1258,
          2.1447,
          2.1268,
          2.1253,
          2.1312,
          2.1481,
          2.1513,
          2.1503,
          2.245,
          2.2182,
          2.2943,
          2.2176,
          2.2175,
          2.19,
          2.2035,
          2.1985,
          2.2053,
          2.1817,
          2.1833,
          2.28,
          2.2201,
          2.2885,
          2.2202,
          2.2116,
          2.2882,
          2.2881,
          2.2884,
          2.2884,
          2.2884,
          2.2847,
          2.2885,
          2.2885,
          2.149,
          2.1546,
          2.2837,
          2.275,
          2.2711,
          2.275,
          2.1526,
          2.1289,
          2.1307,
          2.1382,
          2.2034,
          2.1918,
          2.2765,
          2.2061,
          2.3501,
          2.3493,
          2.4008,
          2.423,
          2.1731,
          2.4231,
          2.399,
          2.4298,
          66.541,
          2.41,
          2.3675,
          2.2216,
          2.2632,
          2.3881,
          2.3071,
          2.2473,
          2.4315,
          2.45,
          2.45,
          2.4499,
          2.45,
          2.45,
          2.6,
          2.6,
          2.6,
          2.6,
          2.2601,
          2.2844,
          2.37,
          2.5685,
          2.575,
          2.3103,
          2.26,
          2.26,
          2.26,
          2.26,
          2.2611,
          2.51,
          2.5425,
          2.5499,
          2.54,
          2.266,
          2.26
         ],
         "type": "ohlc",
         "uid": "fb20c2b5-be7b-4377-ad68-01140d5f2b56",
         "x": [
          "2021-12-16T10:00:00+00:00",
          "2021-12-16T10:15:00+00:00",
          "2021-12-16T10:30:00+00:00",
          "2021-12-16T10:45:00+00:00",
          "2021-12-16T11:00:00+00:00",
          "2021-12-16T11:15:00+00:00",
          "2021-12-16T11:30:00+00:00",
          "2021-12-16T11:45:00+00:00",
          "2021-12-16T12:00:00+00:00",
          "2021-12-16T12:15:00+00:00",
          "2021-12-16T12:30:00+00:00",
          "2021-12-16T12:45:00+00:00",
          "2021-12-16T13:00:00+00:00",
          "2021-12-16T13:15:00+00:00",
          "2021-12-16T13:30:00+00:00",
          "2021-12-16T13:45:00+00:00",
          "2021-12-16T14:00:00+00:00",
          "2021-12-16T14:15:00+00:00",
          "2021-12-16T14:30:00+00:00",
          "2021-12-16T14:45:00+00:00",
          "2021-12-16T15:00:00+00:00",
          "2021-12-16T15:15:00+00:00",
          "2021-12-16T15:30:00+00:00",
          "2021-12-16T15:45:00+00:00",
          "2021-12-16T16:15:00+00:00",
          "2021-12-16T16:30:00+00:00",
          "2021-12-16T16:45:00+00:00",
          "2021-12-16T17:00:00+00:00",
          "2021-12-16T17:15:00+00:00",
          "2021-12-16T17:30:00+00:00",
          "2021-12-16T17:45:00+00:00",
          "2021-12-16T18:15:00+00:00",
          "2021-12-16T18:30:00+00:00",
          "2021-12-16T19:15:00+00:00",
          "2021-12-16T19:30:00+00:00",
          "2021-12-16T19:45:00+00:00",
          "2021-12-16T20:00:00+00:00",
          "2021-12-16T20:15:00+00:00",
          "2021-12-16T20:30:00+00:00",
          "2021-12-16T20:45:00+00:00",
          "2021-12-16T21:30:00+00:00",
          "2021-12-16T21:45:00+00:00",
          "2021-12-16T22:30:00+00:00",
          "2021-12-16T22:45:00+00:00",
          "2021-12-16T23:00:00+00:00",
          "2021-12-16T23:15:00+00:00",
          "2021-12-16T23:30:00+00:00",
          "2021-12-16T23:45:00+00:00",
          "2021-12-17T00:00:00+00:00",
          "2021-12-17T00:15:00+00:00",
          "2021-12-17T00:30:00+00:00",
          "2021-12-17T00:45:00+00:00",
          "2021-12-17T01:00:00+00:00",
          "2021-12-17T01:15:00+00:00",
          "2021-12-17T01:30:00+00:00",
          "2021-12-17T01:45:00+00:00",
          "2021-12-17T02:00:00+00:00",
          "2021-12-17T02:15:00+00:00",
          "2021-12-17T02:30:00+00:00",
          "2021-12-17T02:45:00+00:00",
          "2021-12-17T03:00:00+00:00",
          "2021-12-17T03:45:00+00:00",
          "2021-12-17T04:30:00+00:00",
          "2021-12-17T04:45:00+00:00",
          "2021-12-17T05:00:00+00:00",
          "2021-12-17T05:15:00+00:00",
          "2021-12-17T05:30:00+00:00",
          "2021-12-17T05:45:00+00:00",
          "2021-12-17T06:00:00+00:00",
          "2021-12-17T06:15:00+00:00",
          "2021-12-17T06:30:00+00:00",
          "2021-12-17T06:45:00+00:00",
          "2021-12-17T07:00:00+00:00",
          "2021-12-17T07:15:00+00:00",
          "2021-12-17T07:30:00+00:00",
          "2021-12-17T07:45:00+00:00",
          "2021-12-17T08:00:00+00:00",
          "2021-12-17T08:15:00+00:00",
          "2021-12-17T08:30:00+00:00",
          "2021-12-17T08:45:00+00:00",
          "2021-12-17T09:00:00+00:00",
          "2021-12-17T09:15:00+00:00",
          "2021-12-17T09:30:00+00:00",
          "2021-12-17T09:45:00+00:00",
          "2021-12-17T10:00:00+00:00",
          "2021-12-17T10:15:00+00:00",
          "2021-12-17T10:30:00+00:00",
          "2021-12-17T10:45:00+00:00",
          "2021-12-17T11:00:00+00:00",
          "2021-12-17T11:15:00+00:00",
          "2021-12-17T11:30:00+00:00",
          "2021-12-17T11:45:00+00:00",
          "2021-12-17T12:00:00+00:00",
          "2021-12-17T12:15:00+00:00",
          "2021-12-17T12:30:00+00:00",
          "2021-12-17T12:45:00+00:00",
          "2021-12-17T13:00:00+00:00",
          "2021-12-17T13:15:00+00:00",
          "2021-12-17T13:30:00+00:00",
          "2021-12-17T14:00:00+00:00"
         ]
        }
       ],
       "layout": {
        "annotations": [
         {
          "font": {
           "size": 16
          },
          "showarrow": false,
          "text": "OHLC",
          "x": 0.5,
          "xanchor": "center",
          "xref": "paper",
          "y": 1,
          "yanchor": "bottom",
          "yref": "paper"
         }
        ],
        "height": 380,
        "legend": {
         "orientation": "h",
         "traceorder": "normal",
         "x": 1,
         "xanchor": "right",
         "y": 1.1052631578947367,
         "yanchor": "bottom"
        },
        "margin": {
         "b": 30,
         "l": 30,
         "r": 30,
         "t": 30
        },
        "showlegend": true,
        "template": {
         "data": {
          "bar": [
           {
            "error_x": {
             "color": "#2a3f5f"
            },
            "error_y": {
             "color": "#2a3f5f"
            },
            "marker": {
             "line": {
              "color": "#E5ECF6",
              "width": 0.5
             }
            },
            "type": "bar"
           }
          ],
          "barpolar": [
           {
            "marker": {
             "line": {
              "color": "#E5ECF6",
              "width": 0.5
             }
            },
            "type": "barpolar"
           }
          ],
          "carpet": [
           {
            "aaxis": {
             "endlinecolor": "#2a3f5f",
             "gridcolor": "white",
             "linecolor": "white",
             "minorgridcolor": "white",
             "startlinecolor": "#2a3f5f"
            },
            "baxis": {
             "endlinecolor": "#2a3f5f",
             "gridcolor": "white",
             "linecolor": "white",
             "minorgridcolor": "white",
             "startlinecolor": "#2a3f5f"
            },
            "type": "carpet"
           }
          ],
          "choropleth": [
           {
            "colorbar": {
             "outlinewidth": 0,
             "ticks": ""
            },
            "type": "choropleth"
           }
          ],
          "contour": [
           {
            "colorbar": {
             "outlinewidth": 0,
             "ticks": ""
            },
            "colorscale": [
             [
              0,
              "#0d0887"
             ],
             [
              0.1111111111111111,
              "#46039f"
             ],
             [
              0.2222222222222222,
              "#7201a8"
             ],
             [
              0.3333333333333333,
              "#9c179e"
             ],
             [
              0.4444444444444444,
              "#bd3786"
             ],
             [
              0.5555555555555556,
              "#d8576b"
             ],
             [
              0.6666666666666666,
              "#ed7953"
             ],
             [
              0.7777777777777778,
              "#fb9f3a"
             ],
             [
              0.8888888888888888,
              "#fdca26"
             ],
             [
              1,
              "#f0f921"
             ]
            ],
            "type": "contour"
           }
          ],
          "contourcarpet": [
           {
            "colorbar": {
             "outlinewidth": 0,
             "ticks": ""
            },
            "type": "contourcarpet"
           }
          ],
          "heatmap": [
           {
            "colorbar": {
             "outlinewidth": 0,
             "ticks": ""
            },
            "colorscale": [
             [
              0,
              "#0d0887"
             ],
             [
              0.1111111111111111,
              "#46039f"
             ],
             [
              0.2222222222222222,
              "#7201a8"
             ],
             [
              0.3333333333333333,
              "#9c179e"
             ],
             [
              0.4444444444444444,
              "#bd3786"
             ],
             [
              0.5555555555555556,
              "#d8576b"
             ],
             [
              0.6666666666666666,
              "#ed7953"
             ],
             [
              0.7777777777777778,
              "#fb9f3a"
             ],
             [
              0.8888888888888888,
              "#fdca26"
             ],
             [
              1,
              "#f0f921"
             ]
            ],
            "type": "heatmap"
           }
          ],
          "heatmapgl": [
           {
            "colorbar": {
             "outlinewidth": 0,
             "ticks": ""
            },
            "colorscale": [
             [
              0,
              "#0d0887"
             ],
             [
              0.1111111111111111,
              "#46039f"
             ],
             [
              0.2222222222222222,
              "#7201a8"
             ],
             [
              0.3333333333333333,
              "#9c179e"
             ],
             [
              0.4444444444444444,
              "#bd3786"
             ],
             [
              0.5555555555555556,
              "#d8576b"
             ],
             [
              0.6666666666666666,
              "#ed7953"
             ],
             [
              0.7777777777777778,
              "#fb9f3a"
             ],
             [
              0.8888888888888888,
              "#fdca26"
             ],
             [
              1,
              "#f0f921"
             ]
            ],
            "type": "heatmapgl"
           }
          ],
          "histogram": [
           {
            "marker": {
             "colorbar": {
              "outlinewidth": 0,
              "ticks": ""
             }
            },
            "type": "histogram"
           }
          ],
          "histogram2d": [
           {
            "colorbar": {
             "outlinewidth": 0,
             "ticks": ""
            },
            "colorscale": [
             [
              0,
              "#0d0887"
             ],
             [
              0.1111111111111111,
              "#46039f"
             ],
             [
              0.2222222222222222,
              "#7201a8"
             ],
             [
              0.3333333333333333,
              "#9c179e"
             ],
             [
              0.4444444444444444,
              "#bd3786"
             ],
             [
              0.5555555555555556,
              "#d8576b"
             ],
             [
              0.6666666666666666,
              "#ed7953"
             ],
             [
              0.7777777777777778,
              "#fb9f3a"
             ],
             [
              0.8888888888888888,
              "#fdca26"
             ],
             [
              1,
              "#f0f921"
             ]
            ],
            "type": "histogram2d"
           }
          ],
          "histogram2dcontour": [
           {
            "colorbar": {
             "outlinewidth": 0,
             "ticks": ""
            },
            "colorscale": [
             [
              0,
              "#0d0887"
             ],
             [
              0.1111111111111111,
              "#46039f"
             ],
             [
              0.2222222222222222,
              "#7201a8"
             ],
             [
              0.3333333333333333,
              "#9c179e"
             ],
             [
              0.4444444444444444,
              "#bd3786"
             ],
             [
              0.5555555555555556,
              "#d8576b"
             ],
             [
              0.6666666666666666,
              "#ed7953"
             ],
             [
              0.7777777777777778,
              "#fb9f3a"
             ],
             [
              0.8888888888888888,
              "#fdca26"
             ],
             [
              1,
              "#f0f921"
             ]
            ],
            "type": "histogram2dcontour"
           }
          ],
          "mesh3d": [
           {
            "colorbar": {
             "outlinewidth": 0,
             "ticks": ""
            },
            "type": "mesh3d"
           }
          ],
          "parcoords": [
           {
            "line": {
             "colorbar": {
              "outlinewidth": 0,
              "ticks": ""
             }
            },
            "type": "parcoords"
           }
          ],
          "pie": [
           {
            "automargin": true,
            "type": "pie"
           }
          ],
          "scatter": [
           {
            "marker": {
             "colorbar": {
              "outlinewidth": 0,
              "ticks": ""
             }
            },
            "type": "scatter"
           }
          ],
          "scatter3d": [
           {
            "line": {
             "colorbar": {
              "outlinewidth": 0,
              "ticks": ""
             }
            },
            "marker": {
             "colorbar": {
              "outlinewidth": 0,
              "ticks": ""
             }
            },
            "type": "scatter3d"
           }
          ],
          "scattercarpet": [
           {
            "marker": {
             "colorbar": {
              "outlinewidth": 0,
              "ticks": ""
             }
            },
            "type": "scattercarpet"
           }
          ],
          "scattergeo": [
           {
            "marker": {
             "colorbar": {
              "outlinewidth": 0,
              "ticks": ""
             }
            },
            "type": "scattergeo"
           }
          ],
          "scattergl": [
           {
            "marker": {
             "colorbar": {
              "outlinewidth": 0,
              "ticks": ""
             }
            },
            "type": "scattergl"
           }
          ],
          "scattermapbox": [
           {
            "marker": {
             "colorbar": {
              "outlinewidth": 0,
              "ticks": ""
             }
            },
            "type": "scattermapbox"
           }
          ],
          "scatterpolar": [
           {
            "marker": {
             "colorbar": {
              "outlinewidth": 0,
              "ticks": ""
             }
            },
            "type": "scatterpolar"
           }
          ],
          "scatterpolargl": [
           {
            "marker": {
             "colorbar": {
              "outlinewidth": 0,
              "ticks": ""
             }
            },
            "type": "scatterpolargl"
           }
          ],
          "scatterternary": [
           {
            "marker": {
             "colorbar": {
              "outlinewidth": 0,
              "ticks": ""
             }
            },
            "type": "scatterternary"
           }
          ],
          "surface": [
           {
            "colorbar": {
             "outlinewidth": 0,
             "ticks": ""
            },
            "colorscale": [
             [
              0,
              "#0d0887"
             ],
             [
              0.1111111111111111,
              "#46039f"
             ],
             [
              0.2222222222222222,
              "#7201a8"
             ],
             [
              0.3333333333333333,
              "#9c179e"
             ],
             [
              0.4444444444444444,
              "#bd3786"
             ],
             [
              0.5555555555555556,
              "#d8576b"
             ],
             [
              0.6666666666666666,
              "#ed7953"
             ],
             [
              0.7777777777777778,
              "#fb9f3a"
             ],
             [
              0.8888888888888888,
              "#fdca26"
             ],
             [
              1,
              "#f0f921"
             ]
            ],
            "type": "surface"
           }
          ],
          "table": [
           {
            "cells": {
             "fill": {
              "color": "#EBF0F8"
             },
             "line": {
              "color": "white"
             }
            },
            "header": {
             "fill": {
              "color": "#C8D4E3"
             },
             "line": {
              "color": "white"
             }
            },
            "type": "table"
           }
          ]
         },
         "layout": {
          "annotationdefaults": {
           "arrowcolor": "#2a3f5f",
           "arrowhead": 0,
           "arrowwidth": 1
          },
          "coloraxis": {
           "colorbar": {
            "outlinewidth": 0,
            "ticks": ""
           }
          },
          "colorscale": {
           "diverging": [
            [
             0,
             "#8e0152"
            ],
            [
             0.1,
             "#c51b7d"
            ],
            [
             0.2,
             "#de77ae"
            ],
            [
             0.3,
             "#f1b6da"
            ],
            [
             0.4,
             "#fde0ef"
            ],
            [
             0.5,
             "#f7f7f7"
            ],
            [
             0.6,
             "#e6f5d0"
            ],
            [
             0.7,
             "#b8e186"
            ],
            [
             0.8,
             "#7fbc41"
            ],
            [
             0.9,
             "#4d9221"
            ],
            [
             1,
             "#276419"
            ]
           ],
           "sequential": [
            [
             0,
             "#0d0887"
            ],
            [
             0.1111111111111111,
             "#46039f"
            ],
            [
             0.2222222222222222,
             "#7201a8"
            ],
            [
             0.3333333333333333,
             "#9c179e"
            ],
            [
             0.4444444444444444,
             "#bd3786"
            ],
            [
             0.5555555555555556,
             "#d8576b"
            ],
            [
             0.6666666666666666,
             "#ed7953"
            ],
            [
             0.7777777777777778,
             "#fb9f3a"
            ],
            [
             0.8888888888888888,
             "#fdca26"
            ],
            [
             1,
             "#f0f921"
            ]
           ],
           "sequentialminus": [
            [
             0,
             "#0d0887"
            ],
            [
             0.1111111111111111,
             "#46039f"
            ],
            [
             0.2222222222222222,
             "#7201a8"
            ],
            [
             0.3333333333333333,
             "#9c179e"
            ],
            [
             0.4444444444444444,
             "#bd3786"
            ],
            [
             0.5555555555555556,
             "#d8576b"
            ],
            [
             0.6666666666666666,
             "#ed7953"
            ],
            [
             0.7777777777777778,
             "#fb9f3a"
            ],
            [
             0.8888888888888888,
             "#fdca26"
            ],
            [
             1,
             "#f0f921"
            ]
           ]
          },
          "colorway": [
           "#1f77b4",
           "#ff7f0e",
           "#2ca02c",
           "#dc3912",
           "#9467bd",
           "#8c564b",
           "#e377c2",
           "#7f7f7f",
           "#bcbd22",
           "#17becf"
          ],
          "font": {
           "color": "#2a3f5f"
          },
          "geo": {
           "bgcolor": "white",
           "lakecolor": "white",
           "landcolor": "#E5ECF6",
           "showlakes": true,
           "showland": true,
           "subunitcolor": "white"
          },
          "hoverlabel": {
           "align": "left"
          },
          "hovermode": "closest",
          "mapbox": {
           "style": "light"
          },
          "paper_bgcolor": "white",
          "plot_bgcolor": "#E5ECF6",
          "polar": {
           "angularaxis": {
            "gridcolor": "white",
            "linecolor": "white",
            "ticks": ""
           },
           "bgcolor": "#E5ECF6",
           "radialaxis": {
            "gridcolor": "white",
            "linecolor": "white",
            "ticks": ""
           }
          },
          "scene": {
           "xaxis": {
            "backgroundcolor": "#E5ECF6",
            "gridcolor": "white",
            "gridwidth": 2,
            "linecolor": "white",
            "showbackground": true,
            "ticks": "",
            "zerolinecolor": "white"
           },
           "yaxis": {
            "backgroundcolor": "#E5ECF6",
            "gridcolor": "white",
            "gridwidth": 2,
            "linecolor": "white",
            "showbackground": true,
            "ticks": "",
            "zerolinecolor": "white"
           },
           "zaxis": {
            "backgroundcolor": "#E5ECF6",
            "gridcolor": "white",
            "gridwidth": 2,
            "linecolor": "white",
            "showbackground": true,
            "ticks": "",
            "zerolinecolor": "white"
           }
          },
          "shapedefaults": {
           "line": {
            "color": "#2a3f5f"
           }
          },
          "ternary": {
           "aaxis": {
            "gridcolor": "white",
            "linecolor": "white",
            "ticks": ""
           },
           "baxis": {
            "gridcolor": "white",
            "linecolor": "white",
            "ticks": ""
           },
           "bgcolor": "#E5ECF6",
           "caxis": {
            "gridcolor": "white",
            "linecolor": "white",
            "ticks": ""
           }
          },
          "title": {
           "x": 0.05
          },
          "xaxis": {
           "automargin": true,
           "gridcolor": "white",
           "linecolor": "white",
           "ticks": "",
           "title": {
            "standoff": 15
           },
           "zerolinecolor": "white",
           "zerolinewidth": 2
          },
          "yaxis": {
           "automargin": true,
           "gridcolor": "white",
           "linecolor": "white",
           "ticks": "",
           "title": {
            "standoff": 15
           },
           "zerolinecolor": "white",
           "zerolinewidth": 2
          }
         }
        },
        "width": 750,
        "xaxis": {
         "anchor": "y",
         "autorange": true,
         "domain": [
          0,
          1
         ],
         "range": [
          "2021-12-16 09:52:30",
          "2021-12-17 14:07:30"
         ],
         "rangeslider": {
          "visible": false,
          "yaxis": {}
         },
         "showgrid": true,
         "title": {
          "text": "Index"
         },
         "type": "date"
        },
        "yaxis": {
         "anchor": "x",
         "autorange": true,
         "domain": [
          0,
          1
         ],
         "range": [
          -1.5328333333333335,
          70.12383333333332
         ],
         "showgrid": true
        }
       }
      },
      "image/png": "[encoded data removed]",
      "text/html": [
       "<div>                            <div id=\"5a8b0f22-6c4a-4d58-9366-03823b97a173\" class=\"plotly-graph-div\" style=\"height:380px; width:750px;\"></div>            <script type=\"text/javascript\">                require([\"plotly\"], function(Plotly) {                    window.PLOTLYENV=window.PLOTLYENV || {};                                    if (document.getElementById(\"5a8b0f22-6c4a-4d58-9366-03823b97a173\")) {                    Plotly.newPlot(                        \"5a8b0f22-6c4a-4d58-9366-03823b97a173\",                        [{\"close\":[2.2,2.1151,2.1457,2.1528,2.1407,2.1482,2.1299,2.051,2.1276,2.1353,2.1294,2.0558,2.1322,2.1253,2.1312,2.1481,2.1513,2.1503,2.1605,2.2943,2.2943,2.2175,2.2175,2.293,2.1857,2.1985,2.2053,2.1819,2.33,2.2885,2.28,2.2885,2.2885,2.2883,2.148,2.1613,2.1655,2.1681,2.2884,2.2884,2.2885,2.2885,2.1552,2.141,2.1625,2.285,2.275,2.275,2.1679,2.1355,2.1329,2.1382,2.2034,2.2199,2.2765,2.2765,2.3501,2.3493,2.259,2.423,2.4231,2.1731,2.052,2.43,2.4299,2.115,2.3675,2.2903,2.2632,2.4,2.3911,2.2544,2.4315,2.45,2.45,2.2501,2.45,2.45,2.6,2.6,2.45,2.6,2.2601,2.26,2.2859,2.5927,2.578,2.3102,2.26,2.26,2.26,2.26,2.2605,2.469,2.543,2.272,2.5432,2.266,2.2601,2.44],\"decreasing\":{\"line\":{\"color\":\"#d95f02\"}},\"high\":[2.4,2.197,2.1457,2.1528,2.1407,2.1502,2.1506,2.249,2.1276,2.1353,2.1353,2.1554,2.1447,2.1287,2.1365,2.1524,2.1526,2.1513,2.2479,2.2943,2.2943,2.2943,2.293,2.293,2.1902,2.204,2.252,2.325,2.33,2.2885,2.28,2.2885,2.2885,2.2883,2.2116,2.2882,2.2884,2.2884,2.2884,2.2884,2.2885,2.2885,2.2885,2.285,2.1812,2.285,2.275,2.275,2.275,2.275,2.2034,2.1382,2.2034,2.2199,2.2765,2.2765,2.3501,2.3501,2.4211,2.423,2.4231,2.1731,2.43,2.43,2.43,66.541,2.4496,2.45,2.45,2.4315,2.4158,2.4315,2.4315,2.45,2.45,2.45,2.45,2.45,2.6,2.6,2.6,2.6,2.6,2.3998,2.2859,2.5927,2.59,2.575,2.3103,2.2833,2.4237,2.2601,2.56,2.549,2.5432,2.5725,2.5499,2.565,2.5,2.45],\"increasing\":{\"line\":{\"color\":\"#1b9e76\"}},\"low\":[2.2,2.053,2.1457,2.1528,2.1376,2.1402,2.05,2.0501,2.12,2.1223,2.1294,2.0558,2.1322,2.1242,2.056,2.1312,2.1412,2.1503,2.07,2.1606,2.2004,2.213,2.2175,2.189,2.1817,2.1816,2.185,2.1819,2.1817,2.1833,2.28,2.2,2.2885,2.1523,2.06,2.1613,2.1655,2.1676,2.1691,2.2884,2.2847,2.2885,2.0501,2.0501,2.1546,2.2837,2.275,2.2711,2.05,2.05,2.1227,2.1307,2.1382,2.2034,2.1918,2.1463,2.062,2.1719,2.2065,2.4008,2.423,2.1731,2.05,2.3989,2.425,2.11,2.1411,2.155,2.1724,2.15,2.26,2.2,2.2473,2.4315,2.25,2.2501,2.2502,2.45,2.45,2.6,2.45,2.6,2.26,2.26,2.26,2.2678,2.27,2.31,2.26,2.26,2.2203,2.26,2.26,2.2605,2.508,2.27,2.5432,2.2605,2.26,2.15],\"name\":\"OHLC\",\"open\":[2.4,2.053,2.1457,2.1528,2.1376,2.1402,2.1477,2.1289,2.1238,2.1276,2.1353,2.1258,2.1447,2.1268,2.1253,2.1312,2.1481,2.1513,2.1503,2.245,2.2182,2.2943,2.2176,2.2175,2.19,2.2035,2.1985,2.2053,2.1817,2.1833,2.28,2.2201,2.2885,2.2202,2.2116,2.2882,2.2881,2.2884,2.2884,2.2884,2.2847,2.2885,2.2885,2.149,2.1546,2.2837,2.275,2.2711,2.275,2.1526,2.1289,2.1307,2.1382,2.2034,2.1918,2.2765,2.2061,2.3501,2.3493,2.4008,2.423,2.1731,2.4231,2.399,2.4298,66.541,2.41,2.3675,2.2216,2.2632,2.3881,2.3071,2.2473,2.4315,2.45,2.45,2.4499,2.45,2.45,2.6,2.6,2.6,2.6,2.2601,2.2844,2.37,2.5685,2.575,2.3103,2.26,2.26,2.26,2.26,2.2611,2.51,2.5425,2.5499,2.54,2.266,2.26],\"x\":[\"2021-12-16T10:00:00+00:00\",\"2021-12-16T10:15:00+00:00\",\"2021-12-16T10:30:00+00:00\",\"2021-12-16T10:45:00+00:00\",\"2021-12-16T11:00:00+00:00\",\"2021-12-16T11:15:00+00:00\",\"2021-12-16T11:30:00+00:00\",\"2021-12-16T11:45:00+00:00\",\"2021-12-16T12:00:00+00:00\",\"2021-12-16T12:15:00+00:00\",\"2021-12-16T12:30:00+00:00\",\"2021-12-16T12:45:00+00:00\",\"2021-12-16T13:00:00+00:00\",\"2021-12-16T13:15:00+00:00\",\"2021-12-16T13:30:00+00:00\",\"2021-12-16T13:45:00+00:00\",\"2021-12-16T14:00:00+00:00\",\"2021-12-16T14:15:00+00:00\",\"2021-12-16T14:30:00+00:00\",\"2021-12-16T14:45:00+00:00\",\"2021-12-16T15:00:00+00:00\",\"2021-12-16T15:15:00+00:00\",\"2021-12-16T15:30:00+00:00\",\"2021-12-16T15:45:00+00:00\",\"2021-12-16T16:15:00+00:00\",\"2021-12-16T16:30:00+00:00\",\"2021-12-16T16:45:00+00:00\",\"2021-12-16T17:00:00+00:00\",\"2021-12-16T17:15:00+00:00\",\"2021-12-16T17:30:00+00:00\",\"2021-12-16T17:45:00+00:00\",\"2021-12-16T18:15:00+00:00\",\"2021-12-16T18:30:00+00:00\",\"2021-12-16T19:15:00+00:00\",\"2021-12-16T19:30:00+00:00\",\"2021-12-16T19:45:00+00:00\",\"2021-12-16T20:00:00+00:00\",\"2021-12-16T20:15:00+00:00\",\"2021-12-16T20:30:00+00:00\",\"2021-12-16T20:45:00+00:00\",\"2021-12-16T21:30:00+00:00\",\"2021-12-16T21:45:00+00:00\",\"2021-12-16T22:30:00+00:00\",\"2021-12-16T22:45:00+00:00\",\"2021-12-16T23:00:00+00:00\",\"2021-12-16T23:15:00+00:00\",\"2021-12-16T23:30:00+00:00\",\"2021-12-16T23:45:00+00:00\",\"2021-12-17T00:00:00+00:00\",\"2021-12-17T00:15:00+00:00\",\"2021-12-17T00:30:00+00:00\",\"2021-12-17T00:45:00+00:00\",\"2021-12-17T01:00:00+00:00\",\"2021-12-17T01:15:00+00:00\",\"2021-12-17T01:30:00+00:00\",\"2021-12-17T01:45:00+00:00\",\"2021-12-17T02:00:00+00:00\",\"2021-12-17T02:15:00+00:00\",\"2021-12-17T02:30:00+00:00\",\"2021-12-17T02:45:00+00:00\",\"2021-12-17T03:00:00+00:00\",\"2021-12-17T03:45:00+00:00\",\"2021-12-17T04:30:00+00:00\",\"2021-12-17T04:45:00+00:00\",\"2021-12-17T05:00:00+00:00\",\"2021-12-17T05:15:00+00:00\",\"2021-12-17T05:30:00+00:00\",\"2021-12-17T05:45:00+00:00\",\"2021-12-17T06:00:00+00:00\",\"2021-12-17T06:15:00+00:00\",\"2021-12-17T06:30:00+00:00\",\"2021-12-17T06:45:00+00:00\",\"2021-12-17T07:00:00+00:00\",\"2021-12-17T07:15:00+00:00\",\"2021-12-17T07:30:00+00:00\",\"2021-12-17T07:45:00+00:00\",\"2021-12-17T08:00:00+00:00\",\"2021-12-17T08:15:00+00:00\",\"2021-12-17T08:30:00+00:00\",\"2021-12-17T08:45:00+00:00\",\"2021-12-17T09:00:00+00:00\",\"2021-12-17T09:15:00+00:00\",\"2021-12-17T09:30:00+00:00\",\"2021-12-17T09:45:00+00:00\",\"2021-12-17T10:00:00+00:00\",\"2021-12-17T10:15:00+00:00\",\"2021-12-17T10:30:00+00:00\",\"2021-12-17T10:45:00+00:00\",\"2021-12-17T11:00:00+00:00\",\"2021-12-17T11:15:00+00:00\",\"2021-12-17T11:30:00+00:00\",\"2021-12-17T11:45:00+00:00\",\"2021-12-17T12:00:00+00:00\",\"2021-12-17T12:15:00+00:00\",\"2021-12-17T12:30:00+00:00\",\"2021-12-17T12:45:00+00:00\",\"2021-12-17T13:00:00+00:00\",\"2021-12-17T13:15:00+00:00\",\"2021-12-17T13:30:00+00:00\",\"2021-12-17T14:00:00+00:00\"],\"type\":\"ohlc\",\"uid\":\"fb20c2b5-be7b-4377-ad68-01140d5f2b56\",\"legendgroup\":\"0\"}],                        {\"annotations\":[{\"font\":{\"size\":16},\"showarrow\":false,\"text\":\"OHLC\",\"x\":0.5,\"xanchor\":\"center\",\"xref\":\"paper\",\"y\":1.0,\"yanchor\":\"bottom\",\"yref\":\"paper\"}],\"template\":{\"data\":{\"barpolar\":[{\"marker\":{\"line\":{\"color\":\"#E5ECF6\",\"width\":0.5}},\"type\":\"barpolar\"}],\"bar\":[{\"error_x\":{\"color\":\"#2a3f5f\"},\"error_y\":{\"color\":\"#2a3f5f\"},\"marker\":{\"line\":{\"color\":\"#E5ECF6\",\"width\":0.5}},\"type\":\"bar\"}],\"carpet\":[{\"aaxis\":{\"endlinecolor\":\"#2a3f5f\",\"gridcolor\":\"white\",\"linecolor\":\"white\",\"minorgridcolor\":\"white\",\"startlinecolor\":\"#2a3f5f\"},\"baxis\":{\"endlinecolor\":\"#2a3f5f\",\"gridcolor\":\"white\",\"linecolor\":\"white\",\"minorgridcolor\":\"white\",\"startlinecolor\":\"#2a3f5f\"},\"type\":\"carpet\"}],\"choropleth\":[{\"colorbar\":{\"outlinewidth\":0,\"ticks\":\"\"},\"type\":\"choropleth\"}],\"contourcarpet\":[{\"colorbar\":{\"outlinewidth\":0,\"ticks\":\"\"},\"type\":\"contourcarpet\"}],\"contour\":[{\"colorbar\":{\"outlinewidth\":0,\"ticks\":\"\"},\"colorscale\":[[0.0,\"#0d0887\"],[0.1111111111111111,\"#46039f\"],[0.2222222222222222,\"#7201a8\"],[0.3333333333333333,\"#9c179e\"],[0.4444444444444444,\"#bd3786\"],[0.5555555555555556,\"#d8576b\"],[0.6666666666666666,\"#ed7953\"],[0.7777777777777778,\"#fb9f3a\"],[0.8888888888888888,\"#fdca26\"],[1.0,\"#f0f921\"]],\"type\":\"contour\"}],\"heatmapgl\":[{\"colorbar\":{\"outlinewidth\":0,\"ticks\":\"\"},\"colorscale\":[[0.0,\"#0d0887\"],[0.1111111111111111,\"#46039f\"],[0.2222222222222222,\"#7201a8\"],[0.3333333333333333,\"#9c179e\"],[0.4444444444444444,\"#bd3786\"],[0.5555555555555556,\"#d8576b\"],[0.6666666666666666,\"#ed7953\"],[0.7777777777777778,\"#fb9f3a\"],[0.8888888888888888,\"#fdca26\"],[1.0,\"#f0f921\"]],\"type\":\"heatmapgl\"}],\"heatmap\":[{\"colorbar\":{\"outlinewidth\":0,\"ticks\":\"\"},\"colorscale\":[[0.0,\"#0d0887\"],[0.1111111111111111,\"#46039f\"],[0.2222222222222222,\"#7201a8\"],[0.3333333333333333,\"#9c179e\"],[0.4444444444444444,\"#bd3786\"],[0.5555555555555556,\"#d8576b\"],[0.6666666666666666,\"#ed7953\"],[0.7777777777777778,\"#fb9f3a\"],[0.8888888888888888,\"#fdca26\"],[1.0,\"#f0f921\"]],\"type\":\"heatmap\"}],\"histogram2dcontour\":[{\"colorbar\":{\"outlinewidth\":0,\"ticks\":\"\"},\"colorscale\":[[0.0,\"#0d0887\"],[0.1111111111111111,\"#46039f\"],[0.2222222222222222,\"#7201a8\"],[0.3333333333333333,\"#9c179e\"],[0.4444444444444444,\"#bd3786\"],[0.5555555555555556,\"#d8576b\"],[0.6666666666666666,\"#ed7953\"],[0.7777777777777778,\"#fb9f3a\"],[0.8888888888888888,\"#fdca26\"],[1.0,\"#f0f921\"]],\"type\":\"histogram2dcontour\"}],\"histogram2d\":[{\"colorbar\":{\"outlinewidth\":0,\"ticks\":\"\"},\"colorscale\":[[0.0,\"#0d0887\"],[0.1111111111111111,\"#46039f\"],[0.2222222222222222,\"#7201a8\"],[0.3333333333333333,\"#9c179e\"],[0.4444444444444444,\"#bd3786\"],[0.5555555555555556,\"#d8576b\"],[0.6666666666666666,\"#ed7953\"],[0.7777777777777778,\"#fb9f3a\"],[0.8888888888888888,\"#fdca26\"],[1.0,\"#f0f921\"]],\"type\":\"histogram2d\"}],\"histogram\":[{\"marker\":{\"colorbar\":{\"outlinewidth\":0,\"ticks\":\"\"}},\"type\":\"histogram\"}],\"mesh3d\":[{\"colorbar\":{\"outlinewidth\":0,\"ticks\":\"\"},\"type\":\"mesh3d\"}],\"parcoords\":[{\"line\":{\"colorbar\":{\"outlinewidth\":0,\"ticks\":\"\"}},\"type\":\"parcoords\"}],\"pie\":[{\"automargin\":true,\"type\":\"pie\"}],\"scatter3d\":[{\"line\":{\"colorbar\":{\"outlinewidth\":0,\"ticks\":\"\"}},\"marker\":{\"colorbar\":{\"outlinewidth\":0,\"ticks\":\"\"}},\"type\":\"scatter3d\"}],\"scattercarpet\":[{\"marker\":{\"colorbar\":{\"outlinewidth\":0,\"ticks\":\"\"}},\"type\":\"scattercarpet\"}],\"scattergeo\":[{\"marker\":{\"colorbar\":{\"outlinewidth\":0,\"ticks\":\"\"}},\"type\":\"scattergeo\"}],\"scattergl\":[{\"marker\":{\"colorbar\":{\"outlinewidth\":0,\"ticks\":\"\"}},\"type\":\"scattergl\"}],\"scattermapbox\":[{\"marker\":{\"colorbar\":{\"outlinewidth\":0,\"ticks\":\"\"}},\"type\":\"scattermapbox\"}],\"scatterpolargl\":[{\"marker\":{\"colorbar\":{\"outlinewidth\":0,\"ticks\":\"\"}},\"type\":\"scatterpolargl\"}],\"scatterpolar\":[{\"marker\":{\"colorbar\":{\"outlinewidth\":0,\"ticks\":\"\"}},\"type\":\"scatterpolar\"}],\"scatter\":[{\"marker\":{\"colorbar\":{\"outlinewidth\":0,\"ticks\":\"\"}},\"type\":\"scatter\"}],\"scatterternary\":[{\"marker\":{\"colorbar\":{\"outlinewidth\":0,\"ticks\":\"\"}},\"type\":\"scatterternary\"}],\"surface\":[{\"colorbar\":{\"outlinewidth\":0,\"ticks\":\"\"},\"colorscale\":[[0.0,\"#0d0887\"],[0.1111111111111111,\"#46039f\"],[0.2222222222222222,\"#7201a8\"],[0.3333333333333333,\"#9c179e\"],[0.4444444444444444,\"#bd3786\"],[0.5555555555555556,\"#d8576b\"],[0.6666666666666666,\"#ed7953\"],[0.7777777777777778,\"#fb9f3a\"],[0.8888888888888888,\"#fdca26\"],[1.0,\"#f0f921\"]],\"type\":\"surface\"}],\"table\":[{\"cells\":{\"fill\":{\"color\":\"#EBF0F8\"},\"line\":{\"color\":\"white\"}},\"header\":{\"fill\":{\"color\":\"#C8D4E3\"},\"line\":{\"color\":\"white\"}},\"type\":\"table\"}]},\"layout\":{\"annotationdefaults\":{\"arrowcolor\":\"#2a3f5f\",\"arrowhead\":0,\"arrowwidth\":1},\"coloraxis\":{\"colorbar\":{\"outlinewidth\":0,\"ticks\":\"\"}},\"colorscale\":{\"diverging\":[[0,\"#8e0152\"],[0.1,\"#c51b7d\"],[0.2,\"#de77ae\"],[0.3,\"#f1b6da\"],[0.4,\"#fde0ef\"],[0.5,\"#f7f7f7\"],[0.6,\"#e6f5d0\"],[0.7,\"#b8e186\"],[0.8,\"#7fbc41\"],[0.9,\"#4d9221\"],[1,\"#276419\"]],\"sequential\":[[0.0,\"#0d0887\"],[0.1111111111111111,\"#46039f\"],[0.2222222222222222,\"#7201a8\"],[0.3333333333333333,\"#9c179e\"],[0.4444444444444444,\"#bd3786\"],[0.5555555555555556,\"#d8576b\"],[0.6666666666666666,\"#ed7953\"],[0.7777777777777778,\"#fb9f3a\"],[0.8888888888888888,\"#fdca26\"],[1.0,\"#f0f921\"]],\"sequentialminus\":[[0.0,\"#0d0887\"],[0.1111111111111111,\"#46039f\"],[0.2222222222222222,\"#7201a8\"],[0.3333333333333333,\"#9c179e\"],[0.4444444444444444,\"#bd3786\"],[0.5555555555555556,\"#d8576b\"],[0.6666666666666666,\"#ed7953\"],[0.7777777777777778,\"#fb9f3a\"],[0.8888888888888888,\"#fdca26\"],[1.0,\"#f0f921\"]]},\"colorway\":[\"#1f77b4\",\"#ff7f0e\",\"#2ca02c\",\"#dc3912\",\"#9467bd\",\"#8c564b\",\"#e377c2\",\"#7f7f7f\",\"#bcbd22\",\"#17becf\"],\"font\":{\"color\":\"#2a3f5f\"},\"geo\":{\"bgcolor\":\"white\",\"lakecolor\":\"white\",\"landcolor\":\"#E5ECF6\",\"showlakes\":true,\"showland\":true,\"subunitcolor\":\"white\"},\"hoverlabel\":{\"align\":\"left\"},\"hovermode\":\"closest\",\"mapbox\":{\"style\":\"light\"},\"paper_bgcolor\":\"white\",\"plot_bgcolor\":\"#E5ECF6\",\"polar\":{\"angularaxis\":{\"gridcolor\":\"white\",\"linecolor\":\"white\",\"ticks\":\"\"},\"bgcolor\":\"#E5ECF6\",\"radialaxis\":{\"gridcolor\":\"white\",\"linecolor\":\"white\",\"ticks\":\"\"}},\"scene\":{\"xaxis\":{\"backgroundcolor\":\"#E5ECF6\",\"gridcolor\":\"white\",\"gridwidth\":2,\"linecolor\":\"white\",\"showbackground\":true,\"ticks\":\"\",\"zerolinecolor\":\"white\"},\"yaxis\":{\"backgroundcolor\":\"#E5ECF6\",\"gridcolor\":\"white\",\"gridwidth\":2,\"linecolor\":\"white\",\"showbackground\":true,\"ticks\":\"\",\"zerolinecolor\":\"white\"},\"zaxis\":{\"backgroundcolor\":\"#E5ECF6\",\"gridcolor\":\"white\",\"gridwidth\":2,\"linecolor\":\"white\",\"showbackground\":true,\"ticks\":\"\",\"zerolinecolor\":\"white\"}},\"shapedefaults\":{\"line\":{\"color\":\"#2a3f5f\"}},\"ternary\":{\"aaxis\":{\"gridcolor\":\"white\",\"linecolor\":\"white\",\"ticks\":\"\"},\"baxis\":{\"gridcolor\":\"white\",\"linecolor\":\"white\",\"ticks\":\"\"},\"bgcolor\":\"#E5ECF6\",\"caxis\":{\"gridcolor\":\"white\",\"linecolor\":\"white\",\"ticks\":\"\"}},\"title\":{\"x\":0.05},\"xaxis\":{\"automargin\":true,\"gridcolor\":\"white\",\"linecolor\":\"white\",\"ticks\":\"\",\"title\":{\"standoff\":15},\"zerolinecolor\":\"white\",\"zerolinewidth\":2},\"yaxis\":{\"automargin\":true,\"gridcolor\":\"white\",\"linecolor\":\"white\",\"ticks\":\"\",\"title\":{\"standoff\":15},\"zerolinecolor\":\"white\",\"zerolinewidth\":2}}},\"xaxis\":{\"anchor\":\"y\",\"domain\":[0.0,1.0],\"rangeslider\":{\"visible\":false},\"title\":{\"text\":\"Index\"},\"showgrid\":true},\"yaxis\":{\"anchor\":\"x\",\"domain\":[0.0,1.0],\"showgrid\":true},\"margin\":{\"t\":30,\"b\":30,\"l\":30,\"r\":30},\"legend\":{\"orientation\":\"h\",\"yanchor\":\"bottom\",\"y\":1.1052631578947367,\"xanchor\":\"right\",\"x\":1,\"traceorder\":\"normal\"},\"width\":750,\"height\":380,\"showlegend\":true},                        {\"responsive\": true}                    ).then(function(){\n",
       "                            \n",
       "var gd = document.getElementById('5a8b0f22-6c4a-4d58-9366-03823b97a173');\n",
       "var x = new MutationObserver(function (mutations, observer) {{\n",
       "        var display = window.getComputedStyle(gd).display;\n",
       "        if (!display || display === 'none') {{\n",
       "            console.log([gd, 'removed!']);\n",
       "            Plotly.purge(gd);\n",
       "            observer.disconnect();\n",
       "        }}\n",
       "}});\n",
       "\n",
       "// Listen for the removal of the full notebook cells\n",
       "var notebookContainer = gd.closest('#notebook-container');\n",
       "if (notebookContainer) {{\n",
       "    x.observe(notebookContainer, {childList: true});\n",
       "}}\n",
       "\n",
       "// Listen for the clearing of the current output cell\n",
       "var outputEl = gd.closest('.output');\n",
       "if (outputEl) {{\n",
       "    x.observe(outputEl, {childList: true});\n",
       "}}\n",
       "\n",
       "                        })                };                });            </script>        </div>"
      ]
     },
     "metadata": {},
     "output_type": "display_data"
    },
    {
     "ename": "KeyboardInterrupt",
     "evalue": "",
     "output_type": "error",
     "traceback": [
      "\u001b[1;31m---------------------------------------------------------------------------\u001b[0m",
      "\u001b[1;31mKeyboardInterrupt\u001b[0m                         Traceback (most recent call last)",
      "\u001b[1;32m<ipython-input-32-aad2f0113606>\u001b[0m in \u001b[0;36m<module>\u001b[1;34m\u001b[0m\n\u001b[0;32m     56\u001b[0m \u001b[1;33m\u001b[0m\u001b[0m\n\u001b[0;32m     57\u001b[0m \u001b[1;33m\u001b[0m\u001b[0m\n\u001b[1;32m---> 58\u001b[1;33m     \u001b[0mtime\u001b[0m\u001b[1;33m.\u001b[0m\u001b[0msleep\u001b[0m\u001b[1;33m(\u001b[0m\u001b[1;36m10\u001b[0m\u001b[1;33m)\u001b[0m\u001b[1;33m\u001b[0m\u001b[1;33m\u001b[0m\u001b[0m\n\u001b[0m\u001b[0;32m     59\u001b[0m     \u001b[0mclear_output\u001b[0m\u001b[1;33m(\u001b[0m\u001b[0mwait\u001b[0m\u001b[1;33m=\u001b[0m\u001b[1;32mTrue\u001b[0m\u001b[1;33m)\u001b[0m\u001b[1;33m\u001b[0m\u001b[1;33m\u001b[0m\u001b[0m\n\u001b[0;32m     60\u001b[0m \u001b[1;33m\u001b[0m\u001b[0m\n",
      "\u001b[1;31mKeyboardInterrupt\u001b[0m: "
     ]
    }
   ],
   "source": [
    "# order_book = order_book_ccxt(ftx,'LUNA-PERP')\n",
    "from IPython.display import clear_output\n",
    "# https://corporatefinanceinstitute.com/resources/knowledge/trading-investing/market-depth/\n",
    "# https://www.investopedia.com/terms/m/marketdepth.asp\n",
    "count_ = 0 \n",
    "ex= bf #ftx\n",
    "ex_name =ex.name\n",
    "symbols  = 'ZMT/USD'\n",
    "kwargs=  {'timeframe':'15m','limit':100}\n",
    "\n",
    "while True:\n",
    "    # order_book = order_book_ccxt(ex,'BTC/THB')\n",
    "    order_book = order_book_ccxt(ex,symbols)\n",
    "    last_price =order_book['bids_price'].iloc[0]\n",
    "# Plot \n",
    "    # order_book = order_book_ccxt(ex,'BTC/THB')\n",
    "    t = dt.now().strftime('%Y-%m-%d %H:%M:%S')\n",
    "    size_chart=  (10,4)\n",
    "\n",
    "    fig = plt.figure(figsize=size_chart)\n",
    "    plt.title(f\"Last update {ex_name }: {symbols} {t} \")\n",
    "    sns.scatterplot(x='cumvalue_bid',y='diff_bid',data=order_book,label='bids',color='g')#,hue=order_book['diff_ask'])\n",
    "    sns.scatterplot(x='cumvalue_ask',y='diff_ask',data=order_book,label='asks',color='r')#,hue=order_book['diff_bid'])\n",
    "\n",
    "    fig.show()\n",
    "    ############################\n",
    "    fig3 = plt.figure(figsize=size_chart)\n",
    "    sns.scatterplot(x='bids_price',y='value_bid',data= order_book,label='bid',color='g')#,hue=order_book['diff_ask'])\n",
    "    sns.scatterplot(x='asks_price',y='value_ask',data= order_book,label='asks',color='r')#,hue=order_book['diff_bid'])\n",
    "    plt.title(f\"Last update {ex_name }: {symbols} {t} \")\n",
    "    plt.xlabel('Diff last price')\n",
    "    plt.ylabel('Values By price')\n",
    "    fig3.show()\n",
    "    ######################################\n",
    "\n",
    "    fig4, ax = plt.subplots(figsize=size_chart)\n",
    "    ax.set_title(f\"Last update {ex_name }: {symbols} {t} \")\n",
    "    sns.ecdfplot(x=\"bids_price\", weights=\"value_bid\", stat=\"count\", complementary=True, data=order_book, ax=ax,color='g',alpha=0.5)\n",
    "    sns.scatterplot(x=\"bids_price\", y=\"value_bid\", data=order_book, ax=ax,color='g',alpha=0.5,label='bid')\n",
    "    # sns.scatterplot(x=\"price\", y=\"value\", hue=\"side\", data=order_book, ax=ax)\n",
    "    sns.ecdfplot(x=\"asks_price\", weights=\"value_ask\", stat=\"count\", data=order_book, ax=ax,color='r',alpha=0.5)\n",
    "    sns.scatterplot(x=\"asks_price\", y=\"value_ask\", data=order_book, ax=ax,color='r',alpha=0.5,label='asks')\n",
    "    ax.set_xlabel(\"Price\")\n",
    "    ax.set_ylabel(\"Cumulative Values\")\n",
    "    # plt.vlines(order_book['bids_price'].iloc[0],ymin=order_book['bids_price'].min(),ymax=order_book['bids_price'].max())\n",
    "    ax.axvline(x=order_book['bids_price'].iloc[0],**{'ls':'--','alpha':0.5,'label':'last_bid'}) #linestyles  ='dashed',label ='last_price'\n",
    "    plt.text(last_price, order_book['cumvalue_bid'].iloc[-30], f'{last_price}', ha='center', va='center',rotation='horizontal', backgroundcolor='white') # verticle ,horizontal\n",
    "\n",
    "    plt.show()\n",
    "    display(order_book.head(10))\n",
    "\n",
    "    print(\"#\"*50)\n",
    "    df =get_data(ex,symbols,**kwargs) # .reset_index()\n",
    "\n",
    "    df.vbt.ohlcv.plots(settings=dict(plot_type='OHLC')).show()\n",
    "\n",
    "\n",
    "    time.sleep(10)\n",
    "    clear_output(wait=True)   \n",
    "\n",
    "#     if count_ >=2 :\n",
    "        \n",
    "#         clear_output(wait=True)   \n",
    "#         count_=0\n"
   ]
  },
  {
   "cell_type": "markdown",
   "metadata": {},
   "source": [
    "# Single Asset"
   ]
  },
  {
   "cell_type": "code",
   "execution_count": 8,
   "metadata": {},
   "outputs": [
    {
     "name": "stdout",
     "output_type": "stream",
     "text": [
      " [2022-03-31 17:00:41.809320] [ZIL-PERP]  0.19149 : 0.19161  Spread @ 0.06%: Last0.19145\n",
      "ALL BID -1.1854404929761309 % 1163376  $\n",
      "ALL ASKS 0.9341892385574813 % 1124713  $\n"
     ]
    },
    {
     "name": "stderr",
     "output_type": "stream",
     "text": [
      "C:\\Users\\User\\Anaconda3\\lib\\site-packages\\ipykernel_launcher.py:18: UserWarning: Matplotlib is currently using module://ipykernel.pylab.backend_inline, which is a non-GUI backend, so cannot show the figure.\n",
      "C:\\Users\\User\\Anaconda3\\lib\\site-packages\\ipykernel_launcher.py:26: UserWarning: Matplotlib is currently using module://ipykernel.pylab.backend_inline, which is a non-GUI backend, so cannot show the figure.\n"
     ]
    },
    {
     "data": {
      "image/png": "[encoded data removed]",
      "text/plain": [
       "<Figure size 720x288 with 1 Axes>"
      ]
     },
     "metadata": {
      "needs_background": "light"
     },
     "output_type": "display_data"
    },
    {
     "data": {
      "image/png": "[encoded data removed]",
      "text/plain": [
       "<Figure size 720x288 with 1 Axes>"
      ]
     },
     "metadata": {
      "needs_background": "light"
     },
     "output_type": "display_data"
    },
    {
     "data": {
      "image/png": "[encoded data removed]",
      "text/plain": [
       "<Figure size 720x288 with 1 Axes>"
      ]
     },
     "metadata": {
      "needs_background": "light"
     },
     "output_type": "display_data"
    },
    {
     "name": "stdout",
     "output_type": "stream",
     "text": [
      "##################################################\n"
     ]
    }
   ],
   "source": [
    "symbol_list =['ZIL-PERP']\n",
    "ex= ftx #ftx\n",
    "ex_name =ex.name\n",
    "\n",
    "for symbols in symbol_list:\n",
    "    # order_book = order_book_ccxt(ex,'BTC/THB')\n",
    "    order_book = order_book_ccxt(ex,symbols)\n",
    "\n",
    "\n",
    "    t = dt.now().strftime('%Y-%m-%d %H:%M:%S')\n",
    "    size_chart=  (10,4)\n",
    "\n",
    "    fig = plt.figure(figsize=size_chart)\n",
    "    plt.title(f\"Last update {ex_name }: {symbols} {t} \")\n",
    "    sns.scatterplot(x='cumvalue_bid',y='diff_bid',data=order_book,label='bids',color='g')#,hue=order_book['diff_ask'])\n",
    "    sns.scatterplot(x='cumvalue_ask',y='diff_ask',data=order_book,label='asks',color='r')#,hue=order_book['diff_bid'])\n",
    "\n",
    "    fig.show()\n",
    "    ############################\n",
    "    fig3 = plt.figure(figsize=size_chart)\n",
    "    sns.scatterplot(x='bids_price',y='value_bid',data= order_book,label='bid',color='g')#,hue=order_book['diff_ask'])\n",
    "    sns.scatterplot(x='asks_price',y='value_ask',data= order_book,label='asks',color='r')#,hue=order_book['diff_bid'])\n",
    "    plt.title(f\"Last update {ex_name }: {symbols} {t} \")\n",
    "    plt.xlabel('Diff last price')\n",
    "    plt.ylabel('Values By price')\n",
    "    fig3.show()\n",
    "    ######################################\n",
    "\n",
    "    fig4, ax = plt.subplots(figsize=size_chart)\n",
    "    ax.set_title(f\"Last update {ex_name }: {symbols} {t} \")\n",
    "    sns.ecdfplot(x=\"bids_price\", weights=\"value_bid\", stat=\"count\", complementary=True, data=order_book, ax=ax,color='g',alpha=0.5)\n",
    "    sns.scatterplot(x=\"bids_price\", y=\"value_bid\", data=order_book, ax=ax,color='g',alpha=0.5,label='bid')\n",
    "    # sns.scatterplot(x=\"price\", y=\"value\", hue=\"side\", data=order_book, ax=ax)\n",
    "    sns.ecdfplot(x=\"asks_price\", weights=\"value_ask\", stat=\"count\", data=order_book, ax=ax,color='r',alpha=0.5)\n",
    "    sns.scatterplot(x=\"asks_price\", y=\"value_ask\", data=order_book, ax=ax,color='r',alpha=0.5,label='asks')\n",
    "    ax.set_xlabel(\"Price\")\n",
    "    ax.set_ylabel(\"Cumulative Values\")\n",
    "    ax.axvline(x=order_book['bids_price'].iloc[0],**{'ls':'--','alpha':0.5,'label':'last_bid'}) #linestyles  ='dashed',label ='last_price'\n",
    "\n",
    "    plt.show()\n",
    "    print(\"#\"*50)"
   ]
  },
  {
   "cell_type": "code",
   "execution_count": null,
   "metadata": {},
   "outputs": [],
   "source": [
    "order_book[order_book['cumvalue_bid'] >= 3000]"
   ]
  },
  {
   "cell_type": "markdown",
   "metadata": {},
   "source": [
    "# Bitkub"
   ]
  },
  {
   "cell_type": "code",
   "execution_count": 53,
   "metadata": {},
   "outputs": [
    {
     "name": "stdout",
     "output_type": "stream",
     "text": [
      "2022-03-24 21:02:51\n",
      "[{'name': 'Non-secure endpoints', 'status': 'ok', 'message': ''}, {'name': 'Secure endpoints', 'status': 'ok', 'message': ''}] None\n",
      "THB_ETH 102140.28 102347.96\n",
      " [2022-03-24 21:02:47.815542] [THB_ETH]  102140.28 : 102347.96  Spread @ 0.20%: Last102347.97\n",
      "ALL BID -3.5640476195837656 % 63936212  $\n",
      "ALL ASKS 2.102670146039065 % 67530504  $\n"
     ]
    },
    {
     "data": {
      "text/html": [
       "<div>\n",
       "<style scoped>\n",
       "    .dataframe tbody tr th:only-of-type {\n",
       "        vertical-align: middle;\n",
       "    }\n",
       "\n",
       "    .dataframe tbody tr th {\n",
       "        vertical-align: top;\n",
       "    }\n",
       "\n",
       "    .dataframe thead th {\n",
       "        text-align: right;\n",
       "    }\n",
       "</style>\n",
       "<table border=\"1\" class=\"dataframe\">\n",
       "  <thead>\n",
       "    <tr style=\"text-align: right;\">\n",
       "      <th></th>\n",
       "      <th>bids_price</th>\n",
       "      <th>bids_size</th>\n",
       "      <th>asks_price</th>\n",
       "      <th>asks_size</th>\n",
       "      <th>value_bid</th>\n",
       "      <th>value_ask</th>\n",
       "      <th>cumvalue_bid</th>\n",
       "      <th>cumvalue_ask</th>\n",
       "      <th>diff_bid</th>\n",
       "      <th>diff_ask</th>\n",
       "    </tr>\n",
       "  </thead>\n",
       "  <tbody>\n",
       "    <tr>\n",
       "      <th>0</th>\n",
       "      <td>102140.33</td>\n",
       "      <td>0.782441</td>\n",
       "      <td>102347.96</td>\n",
       "      <td>0.028100</td>\n",
       "      <td>79918.78</td>\n",
       "      <td>2875.97</td>\n",
       "      <td>79918</td>\n",
       "      <td>2875</td>\n",
       "      <td>0.000000</td>\n",
       "      <td>0.000000</td>\n",
       "    </tr>\n",
       "    <tr>\n",
       "      <th>1</th>\n",
       "      <td>102140.28</td>\n",
       "      <td>0.210800</td>\n",
       "      <td>102347.96</td>\n",
       "      <td>1.360000</td>\n",
       "      <td>21531.16</td>\n",
       "      <td>139193.22</td>\n",
       "      <td>101449</td>\n",
       "      <td>142069</td>\n",
       "      <td>-0.000049</td>\n",
       "      <td>0.000000</td>\n",
       "    </tr>\n",
       "    <tr>\n",
       "      <th>2</th>\n",
       "      <td>102140.28</td>\n",
       "      <td>7.180000</td>\n",
       "      <td>102347.97</td>\n",
       "      <td>1.533651</td>\n",
       "      <td>733367.20</td>\n",
       "      <td>156966.10</td>\n",
       "      <td>834817</td>\n",
       "      <td>299035</td>\n",
       "      <td>-0.000049</td>\n",
       "      <td>0.000010</td>\n",
       "    </tr>\n",
       "    <tr>\n",
       "      <th>3</th>\n",
       "      <td>102140.08</td>\n",
       "      <td>0.283500</td>\n",
       "      <td>102348.00</td>\n",
       "      <td>13.926608</td>\n",
       "      <td>28956.70</td>\n",
       "      <td>1425360.51</td>\n",
       "      <td>863773</td>\n",
       "      <td>1724395</td>\n",
       "      <td>-0.000245</td>\n",
       "      <td>0.000039</td>\n",
       "    </tr>\n",
       "    <tr>\n",
       "      <th>4</th>\n",
       "      <td>102139.85</td>\n",
       "      <td>0.270700</td>\n",
       "      <td>102349.99</td>\n",
       "      <td>0.044600</td>\n",
       "      <td>27649.24</td>\n",
       "      <td>4564.80</td>\n",
       "      <td>891423</td>\n",
       "      <td>1728960</td>\n",
       "      <td>-0.000470</td>\n",
       "      <td>0.001983</td>\n",
       "    </tr>\n",
       "    <tr>\n",
       "      <th>...</th>\n",
       "      <td>...</td>\n",
       "      <td>...</td>\n",
       "      <td>...</td>\n",
       "      <td>...</td>\n",
       "      <td>...</td>\n",
       "      <td>...</td>\n",
       "      <td>...</td>\n",
       "      <td>...</td>\n",
       "      <td>...</td>\n",
       "      <td>...</td>\n",
       "    </tr>\n",
       "    <tr>\n",
       "      <th>995</th>\n",
       "      <td>98500.00</td>\n",
       "      <td>0.050761</td>\n",
       "      <td>104488.00</td>\n",
       "      <td>0.005400</td>\n",
       "      <td>4999.99</td>\n",
       "      <td>564.23</td>\n",
       "      <td>63913212</td>\n",
       "      <td>67487032</td>\n",
       "      <td>-3.564048</td>\n",
       "      <td>2.090945</td>\n",
       "    </tr>\n",
       "    <tr>\n",
       "      <th>996</th>\n",
       "      <td>98500.00</td>\n",
       "      <td>0.101523</td>\n",
       "      <td>104489.00</td>\n",
       "      <td>0.030724</td>\n",
       "      <td>9999.99</td>\n",
       "      <td>3210.30</td>\n",
       "      <td>63923212</td>\n",
       "      <td>67490242</td>\n",
       "      <td>-3.564048</td>\n",
       "      <td>2.091922</td>\n",
       "    </tr>\n",
       "    <tr>\n",
       "      <th>997</th>\n",
       "      <td>98500.00</td>\n",
       "      <td>0.040609</td>\n",
       "      <td>104490.00</td>\n",
       "      <td>0.009731</td>\n",
       "      <td>3999.99</td>\n",
       "      <td>1016.76</td>\n",
       "      <td>63927212</td>\n",
       "      <td>67491259</td>\n",
       "      <td>-3.564048</td>\n",
       "      <td>2.092900</td>\n",
       "    </tr>\n",
       "    <tr>\n",
       "      <th>998</th>\n",
       "      <td>98500.00</td>\n",
       "      <td>0.040609</td>\n",
       "      <td>104500.00</td>\n",
       "      <td>0.361108</td>\n",
       "      <td>3999.99</td>\n",
       "      <td>37735.79</td>\n",
       "      <td>63931212</td>\n",
       "      <td>67528995</td>\n",
       "      <td>-3.564048</td>\n",
       "      <td>2.102670</td>\n",
       "    </tr>\n",
       "    <tr>\n",
       "      <th>999</th>\n",
       "      <td>98500.00</td>\n",
       "      <td>0.050761</td>\n",
       "      <td>104500.00</td>\n",
       "      <td>0.014445</td>\n",
       "      <td>4999.99</td>\n",
       "      <td>1509.46</td>\n",
       "      <td>63936212</td>\n",
       "      <td>67530504</td>\n",
       "      <td>-3.564048</td>\n",
       "      <td>2.102670</td>\n",
       "    </tr>\n",
       "  </tbody>\n",
       "</table>\n",
       "<p>1000 rows × 10 columns</p>\n",
       "</div>"
      ],
      "text/plain": [
       "     bids_price  bids_size  asks_price  asks_size  value_bid   value_ask  \\\n",
       "0     102140.33   0.782441   102347.96   0.028100   79918.78     2875.97   \n",
       "1     102140.28   0.210800   102347.96   1.360000   21531.16   139193.22   \n",
       "2     102140.28   7.180000   102347.97   1.533651  733367.20   156966.10   \n",
       "3     102140.08   0.283500   102348.00  13.926608   28956.70  1425360.51   \n",
       "4     102139.85   0.270700   102349.99   0.044600   27649.24     4564.80   \n",
       "..          ...        ...         ...        ...        ...         ...   \n",
       "995    98500.00   0.050761   104488.00   0.005400    4999.99      564.23   \n",
       "996    98500.00   0.101523   104489.00   0.030724    9999.99     3210.30   \n",
       "997    98500.00   0.040609   104490.00   0.009731    3999.99     1016.76   \n",
       "998    98500.00   0.040609   104500.00   0.361108    3999.99    37735.79   \n",
       "999    98500.00   0.050761   104500.00   0.014445    4999.99     1509.46   \n",
       "\n",
       "     cumvalue_bid  cumvalue_ask  diff_bid  diff_ask  \n",
       "0           79918          2875  0.000000  0.000000  \n",
       "1          101449        142069 -0.000049  0.000000  \n",
       "2          834817        299035 -0.000049  0.000010  \n",
       "3          863773       1724395 -0.000245  0.000039  \n",
       "4          891423       1728960 -0.000470  0.001983  \n",
       "..            ...           ...       ...       ...  \n",
       "995      63913212      67487032 -3.564048  2.090945  \n",
       "996      63923212      67490242 -3.564048  2.091922  \n",
       "997      63927212      67491259 -3.564048  2.092900  \n",
       "998      63931212      67528995 -3.564048  2.102670  \n",
       "999      63936212      67530504 -3.564048  2.102670  \n",
       "\n",
       "[1000 rows x 10 columns]"
      ]
     },
     "execution_count": 53,
     "metadata": {},
     "output_type": "execute_result"
    }
   ],
   "source": [
    "# .2*1e6\n",
    "# !pip install bitkub\n",
    "\n",
    "from bitkub import Bitkub\n",
    "# API_KEY = 'YOUR API KEY'\n",
    "# API_SECRET = 'YOUR API SECRET'\n",
    "\n",
    "# initial obj only non-secure\n",
    "bitkub = Bitkub()\n",
    "ex_name = 'bitkub'\n",
    "# initial obj non-secure and secure\n",
    "# bitkub = Bitkub(api_key=API_KEY, api_secret=API_SECRET)\n",
    "print(bitkub.status() , print(dt.fromtimestamp(bitkub.servertime())))\n",
    "# bitkub.ticker(sym='THB_BTC')\n",
    "symbols=  'THB_ETH'\n",
    "order_book_bk = order_book_bitkub(symbols,limit=1000)\n",
    "order_book_bk\n",
    "# check_ladder(order_book_bk,'cumvalue_bid',2000000) # cumvalue_bid == โยน diff bid\n",
    "# check_ladder(order_book_bk,'cumvalue_bid',2000000) # cumvalue_ask == ซื้อ ask เคาะขวา\n"
   ]
  },
  {
   "cell_type": "code",
   "execution_count": 70,
   "metadata": {},
   "outputs": [
    {
     "data": {
      "text/plain": [
       "0.41716328963050664"
      ]
     },
     "execution_count": 70,
     "metadata": {},
     "output_type": "execute_result"
    }
   ],
   "source": [
    "(33.7/ 33.56 -1)*100"
   ]
  },
  {
   "cell_type": "code",
   "execution_count": 73,
   "metadata": {},
   "outputs": [
    {
     "name": "stderr",
     "output_type": "stream",
     "text": [
      "WARNING:tvDatafeed.main:you are using nologin method, data you access may be limited\n"
     ]
    },
    {
     "name": "stdout",
     "output_type": "stream",
     "text": [
      "33.56 33.7  Diff 0.42 %\n"
     ]
    }
   ],
   "source": [
    "usd_thb = get_thb()\n",
    "bk_usdt=  bitkub.asks('THB_USDT')['result'][0][3]\n",
    "diff_usdt = (bk_usdt/usd_thb)-1\n",
    "\n",
    "print(usd_thb,bk_usdt, f' Diff {diff_usdt*100:.2f} %' )"
   ]
  },
  {
   "cell_type": "code",
   "execution_count": 55,
   "metadata": {},
   "outputs": [],
   "source": [
    "order_book_bk['bids_price'] =order_book_bk['bids_price']/usd_thb\n",
    "order_book_bk['asks_price'] = order_book_bk['asks_price']/usd_thb\n",
    "\n",
    "order_book_bk['cumvalue_bid'] =(order_book_bk['cumvalue_bid']/usd_thb).round(3)\n",
    "order_book_bk['cumvalue_ask'] =(order_book_bk['cumvalue_ask']/usd_thb).round(3)\n"
   ]
  },
  {
   "cell_type": "code",
   "execution_count": 56,
   "metadata": {},
   "outputs": [
    {
     "name": "stdout",
     "output_type": "stream",
     "text": [
      "3043.3326381026163 : 3043.331148322508 Diff -0.00 %\n"
     ]
    },
    {
     "data": {
      "text/html": [
       "<div>\n",
       "<style scoped>\n",
       "    .dataframe tbody tr th:only-of-type {\n",
       "        vertical-align: middle;\n",
       "    }\n",
       "\n",
       "    .dataframe tbody tr th {\n",
       "        vertical-align: top;\n",
       "    }\n",
       "\n",
       "    .dataframe thead th {\n",
       "        text-align: right;\n",
       "    }\n",
       "</style>\n",
       "<table border=\"1\" class=\"dataframe\">\n",
       "  <thead>\n",
       "    <tr style=\"text-align: right;\">\n",
       "      <th></th>\n",
       "      <th>bids_price</th>\n",
       "      <th>bids_size</th>\n",
       "      <th>asks_price</th>\n",
       "      <th>asks_size</th>\n",
       "      <th>value_bid</th>\n",
       "      <th>value_ask</th>\n",
       "      <th>cumvalue_bid</th>\n",
       "      <th>cumvalue_ask</th>\n",
       "      <th>diff_bid</th>\n",
       "      <th>diff_ask</th>\n",
       "    </tr>\n",
       "  </thead>\n",
       "  <tbody>\n",
       "    <tr>\n",
       "      <th>2</th>\n",
       "      <td>3043.331148</td>\n",
       "      <td>7.180000</td>\n",
       "      <td>3049.519397</td>\n",
       "      <td>1.533651</td>\n",
       "      <td>733367.20</td>\n",
       "      <td>156966.10</td>\n",
       "      <td>24873.875</td>\n",
       "      <td>8909.928</td>\n",
       "      <td>-0.000049</td>\n",
       "      <td>0.000010</td>\n",
       "    </tr>\n",
       "    <tr>\n",
       "      <th>3</th>\n",
       "      <td>3043.325189</td>\n",
       "      <td>0.283500</td>\n",
       "      <td>3049.520291</td>\n",
       "      <td>13.926608</td>\n",
       "      <td>28956.70</td>\n",
       "      <td>1425360.51</td>\n",
       "      <td>25736.637</td>\n",
       "      <td>51379.387</td>\n",
       "      <td>-0.000245</td>\n",
       "      <td>0.000039</td>\n",
       "    </tr>\n",
       "    <tr>\n",
       "      <th>4</th>\n",
       "      <td>3043.318336</td>\n",
       "      <td>0.270700</td>\n",
       "      <td>3049.579584</td>\n",
       "      <td>0.044600</td>\n",
       "      <td>27649.24</td>\n",
       "      <td>4564.80</td>\n",
       "      <td>26560.485</td>\n",
       "      <td>51515.404</td>\n",
       "      <td>-0.000470</td>\n",
       "      <td>0.001983</td>\n",
       "    </tr>\n",
       "    <tr>\n",
       "      <th>5</th>\n",
       "      <td>3042.458733</td>\n",
       "      <td>0.029380</td>\n",
       "      <td>3049.579882</td>\n",
       "      <td>0.035505</td>\n",
       "      <td>2999.99</td>\n",
       "      <td>3633.90</td>\n",
       "      <td>26649.872</td>\n",
       "      <td>51623.682</td>\n",
       "      <td>-0.028715</td>\n",
       "      <td>0.001993</td>\n",
       "    </tr>\n",
       "    <tr>\n",
       "      <th>6</th>\n",
       "      <td>3041.689113</td>\n",
       "      <td>4.944832</td>\n",
       "      <td>3049.579882</td>\n",
       "      <td>0.035409</td>\n",
       "      <td>504793.99</td>\n",
       "      <td>3624.14</td>\n",
       "      <td>41690.513</td>\n",
       "      <td>51731.661</td>\n",
       "      <td>-0.054004</td>\n",
       "      <td>0.001993</td>\n",
       "    </tr>\n",
       "    <tr>\n",
       "      <th>...</th>\n",
       "      <td>...</td>\n",
       "      <td>...</td>\n",
       "      <td>...</td>\n",
       "      <td>...</td>\n",
       "      <td>...</td>\n",
       "      <td>...</td>\n",
       "      <td>...</td>\n",
       "      <td>...</td>\n",
       "      <td>...</td>\n",
       "      <td>...</td>\n",
       "    </tr>\n",
       "    <tr>\n",
       "      <th>995</th>\n",
       "      <td>2934.866814</td>\n",
       "      <td>0.050761</td>\n",
       "      <td>3113.282879</td>\n",
       "      <td>0.005400</td>\n",
       "      <td>4999.99</td>\n",
       "      <td>564.23</td>\n",
       "      <td>1904332.638</td>\n",
       "      <td>2010816.757</td>\n",
       "      <td>-3.564048</td>\n",
       "      <td>2.090945</td>\n",
       "    </tr>\n",
       "    <tr>\n",
       "      <th>996</th>\n",
       "      <td>2934.866814</td>\n",
       "      <td>0.101523</td>\n",
       "      <td>3113.312675</td>\n",
       "      <td>0.030724</td>\n",
       "      <td>9999.99</td>\n",
       "      <td>3210.30</td>\n",
       "      <td>1904630.594</td>\n",
       "      <td>2010912.401</td>\n",
       "      <td>-3.564048</td>\n",
       "      <td>2.091922</td>\n",
       "    </tr>\n",
       "    <tr>\n",
       "      <th>997</th>\n",
       "      <td>2934.866814</td>\n",
       "      <td>0.040609</td>\n",
       "      <td>3113.342471</td>\n",
       "      <td>0.009731</td>\n",
       "      <td>3999.99</td>\n",
       "      <td>1016.76</td>\n",
       "      <td>1904749.777</td>\n",
       "      <td>2010942.703</td>\n",
       "      <td>-3.564048</td>\n",
       "      <td>2.092900</td>\n",
       "    </tr>\n",
       "    <tr>\n",
       "      <th>998</th>\n",
       "      <td>2934.866814</td>\n",
       "      <td>0.040609</td>\n",
       "      <td>3113.640427</td>\n",
       "      <td>0.361108</td>\n",
       "      <td>3999.99</td>\n",
       "      <td>37735.79</td>\n",
       "      <td>1904868.959</td>\n",
       "      <td>2012067.070</td>\n",
       "      <td>-3.564048</td>\n",
       "      <td>2.102670</td>\n",
       "    </tr>\n",
       "    <tr>\n",
       "      <th>999</th>\n",
       "      <td>2934.866814</td>\n",
       "      <td>0.050761</td>\n",
       "      <td>3113.640427</td>\n",
       "      <td>0.014445</td>\n",
       "      <td>4999.99</td>\n",
       "      <td>1509.46</td>\n",
       "      <td>1905017.937</td>\n",
       "      <td>2012112.031</td>\n",
       "      <td>-3.564048</td>\n",
       "      <td>2.102670</td>\n",
       "    </tr>\n",
       "  </tbody>\n",
       "</table>\n",
       "<p>998 rows × 10 columns</p>\n",
       "</div>"
      ],
      "text/plain": [
       "      bids_price  bids_size   asks_price  asks_size  value_bid   value_ask  \\\n",
       "2    3043.331148   7.180000  3049.519397   1.533651  733367.20   156966.10   \n",
       "3    3043.325189   0.283500  3049.520291  13.926608   28956.70  1425360.51   \n",
       "4    3043.318336   0.270700  3049.579584   0.044600   27649.24     4564.80   \n",
       "5    3042.458733   0.029380  3049.579882   0.035505    2999.99     3633.90   \n",
       "6    3041.689113   4.944832  3049.579882   0.035409  504793.99     3624.14   \n",
       "..           ...        ...          ...        ...        ...         ...   \n",
       "995  2934.866814   0.050761  3113.282879   0.005400    4999.99      564.23   \n",
       "996  2934.866814   0.101523  3113.312675   0.030724    9999.99     3210.30   \n",
       "997  2934.866814   0.040609  3113.342471   0.009731    3999.99     1016.76   \n",
       "998  2934.866814   0.040609  3113.640427   0.361108    3999.99    37735.79   \n",
       "999  2934.866814   0.050761  3113.640427   0.014445    4999.99     1509.46   \n",
       "\n",
       "     cumvalue_bid  cumvalue_ask  diff_bid  diff_ask  \n",
       "2       24873.875      8909.928 -0.000049  0.000010  \n",
       "3       25736.637     51379.387 -0.000245  0.000039  \n",
       "4       26560.485     51515.404 -0.000470  0.001983  \n",
       "5       26649.872     51623.682 -0.028715  0.001993  \n",
       "6       41690.513     51731.661 -0.054004  0.001993  \n",
       "..            ...           ...       ...       ...  \n",
       "995   1904332.638   2010816.757 -3.564048  2.090945  \n",
       "996   1904630.594   2010912.401 -3.564048  2.091922  \n",
       "997   1904749.777   2010942.703 -3.564048  2.092900  \n",
       "998   1904868.959   2012067.070 -3.564048  2.102670  \n",
       "999   1905017.937   2012112.031 -3.564048  2.102670  \n",
       "\n",
       "[998 rows x 10 columns]"
      ]
     },
     "execution_count": 56,
     "metadata": {},
     "output_type": "execute_result"
    }
   ],
   "source": [
    "check_ladder(order_book_bk,'cumvalue_bid',10000) # จำลองว่าโยน "
   ]
  },
  {
   "cell_type": "code",
   "execution_count": 12,
   "metadata": {},
   "outputs": [
    {
     "name": "stdout",
     "output_type": "stream",
     "text": [
      "THB_BTC 1449500 1450000\n",
      " [2022-03-24 18:27:19.221047] [THB_BTC]  1449500 : 1450000  Spread @ 0.03%: Last1449500\n",
      "ALL BID -3.070024146257333 % 82114791  $\n",
      "ALL ASKS 1.379310344827589 % 62160746  $\n"
     ]
    },
    {
     "name": "stderr",
     "output_type": "stream",
     "text": [
      "C:\\Users\\User\\Anaconda3\\lib\\site-packages\\ipykernel_launcher.py:11: UserWarning:\n",
      "\n",
      "Matplotlib is currently using module://ipykernel.pylab.backend_inline, which is a non-GUI backend, so cannot show the figure.\n",
      "\n",
      "C:\\Users\\User\\Anaconda3\\lib\\site-packages\\ipykernel_launcher.py:19: UserWarning:\n",
      "\n",
      "Matplotlib is currently using module://ipykernel.pylab.backend_inline, which is a non-GUI backend, so cannot show the figure.\n",
      "\n"
     ]
    },
    {
     "data": {
      "image/png": "[encoded data removed]",
      "text/plain": [
       "<Figure size 720x288 with 1 Axes>"
      ]
     },
     "metadata": {
      "needs_background": "light"
     },
     "output_type": "display_data"
    },
    {
     "data": {
      "image/png": "[encoded data removed]",
      "text/plain": [
       "<Figure size 720x288 with 1 Axes>"
      ]
     },
     "metadata": {
      "needs_background": "light"
     },
     "output_type": "display_data"
    },
    {
     "data": {
      "image/png": "[encoded data removed]",
      "text/plain": [
       "<Figure size 720x288 with 1 Axes>"
      ]
     },
     "metadata": {
      "needs_background": "light"
     },
     "output_type": "display_data"
    },
    {
     "name": "stdout",
     "output_type": "stream",
     "text": [
      "##################################################\n",
      "THB_KUB 262.53 262.72\n",
      " [2022-03-24 18:27:20.109474] [THB_KUB]  262.53 : 262.72  Spread @ 0.07%: Last262.72\n",
      "ALL BID -0.925643760475392 % 11421225  $\n",
      "ALL ASKS 2.7710109622411494 % 22919303  $\n"
     ]
    },
    {
     "name": "stderr",
     "output_type": "stream",
     "text": [
      "C:\\Users\\User\\Anaconda3\\lib\\site-packages\\ipykernel_launcher.py:11: UserWarning:\n",
      "\n",
      "Matplotlib is currently using module://ipykernel.pylab.backend_inline, which is a non-GUI backend, so cannot show the figure.\n",
      "\n",
      "C:\\Users\\User\\Anaconda3\\lib\\site-packages\\ipykernel_launcher.py:19: UserWarning:\n",
      "\n",
      "Matplotlib is currently using module://ipykernel.pylab.backend_inline, which is a non-GUI backend, so cannot show the figure.\n",
      "\n"
     ]
    },
    {
     "data": {
      "image/png": "[encoded data removed]",
      "text/plain": [
       "<Figure size 720x288 with 1 Axes>"
      ]
     },
     "metadata": {
      "needs_background": "light"
     },
     "output_type": "display_data"
    },
    {
     "data": {
      "image/png": "[encoded data removed]",
      "text/plain": [
       "<Figure size 720x288 with 1 Axes>"
      ]
     },
     "metadata": {
      "needs_background": "light"
     },
     "output_type": "display_data"
    },
    {
     "data": {
      "image/png": "[encoded data removed]",
      "text/plain": [
       "<Figure size 720x288 with 1 Axes>"
      ]
     },
     "metadata": {
      "needs_background": "light"
     },
     "output_type": "display_data"
    },
    {
     "name": "stdout",
     "output_type": "stream",
     "text": [
      "##################################################\n",
      "THB_ETH 102855 102975.99\n",
      " [2022-03-24 18:27:20.910469] [THB_ETH]  102855 : 102975.99  Spread @ 0.12%: Last102855\n",
      "ALL BID -4.234115988527543 % 62087680  $\n",
      "ALL ASKS 1.9564390895491002 % 55449091  $\n"
     ]
    },
    {
     "name": "stderr",
     "output_type": "stream",
     "text": [
      "C:\\Users\\User\\Anaconda3\\lib\\site-packages\\ipykernel_launcher.py:11: UserWarning:\n",
      "\n",
      "Matplotlib is currently using module://ipykernel.pylab.backend_inline, which is a non-GUI backend, so cannot show the figure.\n",
      "\n",
      "C:\\Users\\User\\Anaconda3\\lib\\site-packages\\ipykernel_launcher.py:19: UserWarning:\n",
      "\n",
      "Matplotlib is currently using module://ipykernel.pylab.backend_inline, which is a non-GUI backend, so cannot show the figure.\n",
      "\n"
     ]
    },
    {
     "data": {
      "image/png": "[encoded data removed]",
      "text/plain": [
       "<Figure size 720x288 with 1 Axes>"
      ]
     },
     "metadata": {
      "needs_background": "light"
     },
     "output_type": "display_data"
    },
    {
     "data": {
      "image/png": "[encoded data removed]",
      "text/plain": [
       "<Figure size 720x288 with 1 Axes>"
      ]
     },
     "metadata": {
      "needs_background": "light"
     },
     "output_type": "display_data"
    },
    {
     "data": {
      "image/png": "[encoded data removed]",
      "text/plain": [
       "<Figure size 720x288 with 1 Axes>"
      ]
     },
     "metadata": {
      "needs_background": "light"
     },
     "output_type": "display_data"
    },
    {
     "name": "stdout",
     "output_type": "stream",
     "text": [
      "##################################################\n",
      "THB_GALA 8.58 8.59\n",
      " [2022-03-24 18:27:21.747458] [THB_GALA]  8.58 : 8.59  Spread @ 0.12%: Last8.59\n",
      "ALL BID -5.3613053613053685 % 72747293  $\n",
      "ALL ASKS 2.4447031431897637 % 53109527  $\n"
     ]
    },
    {
     "name": "stderr",
     "output_type": "stream",
     "text": [
      "C:\\Users\\User\\Anaconda3\\lib\\site-packages\\ipykernel_launcher.py:11: UserWarning:\n",
      "\n",
      "Matplotlib is currently using module://ipykernel.pylab.backend_inline, which is a non-GUI backend, so cannot show the figure.\n",
      "\n",
      "C:\\Users\\User\\Anaconda3\\lib\\site-packages\\ipykernel_launcher.py:19: UserWarning:\n",
      "\n",
      "Matplotlib is currently using module://ipykernel.pylab.backend_inline, which is a non-GUI backend, so cannot show the figure.\n",
      "\n"
     ]
    },
    {
     "data": {
      "image/png": "[encoded data removed]",
      "text/plain": [
       "<Figure size 720x288 with 1 Axes>"
      ]
     },
     "metadata": {
      "needs_background": "light"
     },
     "output_type": "display_data"
    },
    {
     "data": {
      "image/png": "[encoded data removed]",
      "text/plain": [
       "<Figure size 720x288 with 1 Axes>"
      ]
     },
     "metadata": {
      "needs_background": "light"
     },
     "output_type": "display_data"
    },
    {
     "data": {
      "image/png": "[encoded data removed]",
      "text/plain": [
       "<Figure size 720x288 with 1 Axes>"
      ]
     },
     "metadata": {
      "needs_background": "light"
     },
     "output_type": "display_data"
    },
    {
     "name": "stdout",
     "output_type": "stream",
     "text": [
      "##################################################\n"
     ]
    }
   ],
   "source": [
    "symbols_list =  ['THB_BTC','THB_KUB','THB_ETH','THB_GALA']\n",
    "for symbols in symbols_list:\n",
    "    order_book_bk = order_book_bitkub(symbols,limit=1000)\n",
    "\n",
    "    size_chart=  (10,4)\n",
    "    fig = plt.figure(figsize=size_chart)\n",
    "    plt.title(f\"Last update {ex_name }: {symbols} {t} \")\n",
    "    sns.scatterplot(x='cumvalue_bid',y='diff_bid',data=order_book_bk,label='bids',color='g')#,hue=order_book['diff_ask'])\n",
    "    sns.scatterplot(x='cumvalue_ask',y='diff_ask',data=order_book_bk,label='asks',color='r')#,hue=order_book['diff_bid'])\n",
    "\n",
    "    fig.show()\n",
    "    ############################\n",
    "    fig3 = plt.figure(figsize=size_chart)\n",
    "    sns.scatterplot(x='bids_price',y='value_bid',data= order_book_bk,label='bid',color='g')#,hue=order_book['diff_ask'])\n",
    "    sns.scatterplot(x='asks_price',y='value_ask',data= order_book_bk,label='asks',color='r')#,hue=order_book['diff_bid'])\n",
    "    plt.title(f\"Last update {ex_name }: {symbols} {t} \")\n",
    "    plt.xlabel('Diff last price')\n",
    "    plt.ylabel('Values By price')\n",
    "    fig3.show()\n",
    "    ######################################\n",
    "\n",
    "\n",
    "    fig4, ax = plt.subplots(figsize=size_chart)\n",
    "    ax.set_title(f\"Last update {ex_name }: {symbols} {t} \")\n",
    "    sns.ecdfplot(x=\"bids_price\", weights=\"value_bid\", stat=\"count\", complementary=True, data=order_book_bk, ax=ax,color='g',alpha=0.5)\n",
    "    sns.scatterplot(x=\"bids_price\", y=\"value_bid\", data=order_book_bk, ax=ax,color='g',alpha=0.5,label='bid')\n",
    "    # sns.scatterplot(x=\"price\", y=\"value\", hue=\"side\", data=order_book, ax=ax)\n",
    "    sns.ecdfplot(x=\"asks_price\", weights=\"value_ask\", stat=\"count\", data=order_book_bk, ax=ax,color='r',alpha=0.5)\n",
    "    sns.scatterplot(x=\"asks_price\", y=\"value_ask\", data=order_book_bk, ax=ax,color='r',alpha=0.5,label='asks')\n",
    "    ax.set_xlabel(\"Price\")\n",
    "    ax.set_ylabel(\"Cumulative Values\")\n",
    "    plt.show()\n",
    "    print(\"#\"*50)"
   ]
  },
  {
   "cell_type": "code",
   "execution_count": 14,
   "metadata": {},
   "outputs": [
    {
     "data": {
      "text/html": [
       "<div>\n",
       "<style scoped>\n",
       "    .dataframe tbody tr th:only-of-type {\n",
       "        vertical-align: middle;\n",
       "    }\n",
       "\n",
       "    .dataframe tbody tr th {\n",
       "        vertical-align: top;\n",
       "    }\n",
       "\n",
       "    .dataframe thead th {\n",
       "        text-align: right;\n",
       "    }\n",
       "</style>\n",
       "<table border=\"1\" class=\"dataframe\">\n",
       "  <thead>\n",
       "    <tr style=\"text-align: right;\">\n",
       "      <th></th>\n",
       "      <th>ts</th>\n",
       "      <th>price</th>\n",
       "      <th>size</th>\n",
       "      <th>side</th>\n",
       "    </tr>\n",
       "  </thead>\n",
       "  <tbody>\n",
       "    <tr>\n",
       "      <th>0</th>\n",
       "      <td>1648121259</td>\n",
       "      <td>102855.00</td>\n",
       "      <td>0.000434</td>\n",
       "      <td>SELL</td>\n",
       "    </tr>\n",
       "    <tr>\n",
       "      <th>1</th>\n",
       "      <td>1648121250</td>\n",
       "      <td>102960.28</td>\n",
       "      <td>0.004844</td>\n",
       "      <td>BUY</td>\n",
       "    </tr>\n",
       "    <tr>\n",
       "      <th>2</th>\n",
       "      <td>1648121238</td>\n",
       "      <td>102855.00</td>\n",
       "      <td>0.010324</td>\n",
       "      <td>SELL</td>\n",
       "    </tr>\n",
       "    <tr>\n",
       "      <th>3</th>\n",
       "      <td>1648121216</td>\n",
       "      <td>102948.67</td>\n",
       "      <td>0.426127</td>\n",
       "      <td>BUY</td>\n",
       "    </tr>\n",
       "    <tr>\n",
       "      <th>4</th>\n",
       "      <td>1648121216</td>\n",
       "      <td>102948.67</td>\n",
       "      <td>0.058338</td>\n",
       "      <td>BUY</td>\n",
       "    </tr>\n",
       "    <tr>\n",
       "      <th>...</th>\n",
       "      <td>...</td>\n",
       "      <td>...</td>\n",
       "      <td>...</td>\n",
       "      <td>...</td>\n",
       "    </tr>\n",
       "    <tr>\n",
       "      <th>9995</th>\n",
       "      <td>1648076431</td>\n",
       "      <td>101106.00</td>\n",
       "      <td>0.098373</td>\n",
       "      <td>SELL</td>\n",
       "    </tr>\n",
       "    <tr>\n",
       "      <th>9996</th>\n",
       "      <td>1648076391</td>\n",
       "      <td>101101.02</td>\n",
       "      <td>0.007063</td>\n",
       "      <td>SELL</td>\n",
       "    </tr>\n",
       "    <tr>\n",
       "      <th>9997</th>\n",
       "      <td>1648076391</td>\n",
       "      <td>101101.07</td>\n",
       "      <td>0.345588</td>\n",
       "      <td>SELL</td>\n",
       "    </tr>\n",
       "    <tr>\n",
       "      <th>9998</th>\n",
       "      <td>1648076382</td>\n",
       "      <td>101101.01</td>\n",
       "      <td>0.100000</td>\n",
       "      <td>SELL</td>\n",
       "    </tr>\n",
       "    <tr>\n",
       "      <th>9999</th>\n",
       "      <td>1648076374</td>\n",
       "      <td>101199.85</td>\n",
       "      <td>0.000986</td>\n",
       "      <td>BUY</td>\n",
       "    </tr>\n",
       "  </tbody>\n",
       "</table>\n",
       "<p>10000 rows × 4 columns</p>\n",
       "</div>"
      ],
      "text/plain": [
       "              ts      price      size  side\n",
       "0     1648121259  102855.00  0.000434  SELL\n",
       "1     1648121250  102960.28  0.004844   BUY\n",
       "2     1648121238  102855.00  0.010324  SELL\n",
       "3     1648121216  102948.67  0.426127   BUY\n",
       "4     1648121216  102948.67  0.058338   BUY\n",
       "...          ...        ...       ...   ...\n",
       "9995  1648076431  101106.00  0.098373  SELL\n",
       "9996  1648076391  101101.02  0.007063  SELL\n",
       "9997  1648076391  101101.07  0.345588  SELL\n",
       "9998  1648076382  101101.01  0.100000  SELL\n",
       "9999  1648076374  101199.85  0.000986   BUY\n",
       "\n",
       "[10000 rows x 4 columns]"
      ]
     },
     "execution_count": 14,
     "metadata": {},
     "output_type": "execute_result"
    }
   ],
   "source": [
    "# Market Trades Bitkub\n",
    "# จะ Monitor Trades ยังไง\n",
    "res_trades  = bitkub.trades(sym=\"THB_ETH\", lmt=10000)['result']\n",
    "market_trades = pd.DataFrame(res_trades,columns=['ts','price','size','side'])\n",
    "market_trades"
   ]
  },
  {
   "cell_type": "code",
   "execution_count": 15,
   "metadata": {},
   "outputs": [
    {
     "data": {
      "text/html": [
       "<div>\n",
       "<style scoped>\n",
       "    .dataframe tbody tr th:only-of-type {\n",
       "        vertical-align: middle;\n",
       "    }\n",
       "\n",
       "    .dataframe tbody tr th {\n",
       "        vertical-align: top;\n",
       "    }\n",
       "\n",
       "    .dataframe thead th {\n",
       "        text-align: right;\n",
       "    }\n",
       "</style>\n",
       "<table border=\"1\" class=\"dataframe\">\n",
       "  <thead>\n",
       "    <tr style=\"text-align: right;\">\n",
       "      <th></th>\n",
       "      <th>price</th>\n",
       "      <th>size</th>\n",
       "      <th>side</th>\n",
       "      <th>values</th>\n",
       "      <th>cum_values</th>\n",
       "    </tr>\n",
       "    <tr>\n",
       "      <th>ts</th>\n",
       "      <th></th>\n",
       "      <th></th>\n",
       "      <th></th>\n",
       "      <th></th>\n",
       "      <th></th>\n",
       "    </tr>\n",
       "  </thead>\n",
       "  <tbody>\n",
       "    <tr>\n",
       "      <th>2022-03-24 11:25:36</th>\n",
       "      <td>102999.99</td>\n",
       "      <td>0.000883</td>\n",
       "      <td>BUY</td>\n",
       "      <td>90.919121</td>\n",
       "      <td>101012379</td>\n",
       "    </tr>\n",
       "    <tr>\n",
       "      <th>2022-03-24 11:26:03</th>\n",
       "      <td>102957.69</td>\n",
       "      <td>0.047845</td>\n",
       "      <td>BUY</td>\n",
       "      <td>4926.039506</td>\n",
       "      <td>101017305</td>\n",
       "    </tr>\n",
       "    <tr>\n",
       "      <th>2022-03-24 11:26:56</th>\n",
       "      <td>102948.67</td>\n",
       "      <td>0.058338</td>\n",
       "      <td>BUY</td>\n",
       "      <td>6005.769066</td>\n",
       "      <td>101023310</td>\n",
       "    </tr>\n",
       "    <tr>\n",
       "      <th>2022-03-24 11:26:56</th>\n",
       "      <td>102948.67</td>\n",
       "      <td>0.426127</td>\n",
       "      <td>BUY</td>\n",
       "      <td>43869.259375</td>\n",
       "      <td>101067180</td>\n",
       "    </tr>\n",
       "    <tr>\n",
       "      <th>2022-03-24 11:27:30</th>\n",
       "      <td>102960.28</td>\n",
       "      <td>0.004844</td>\n",
       "      <td>BUY</td>\n",
       "      <td>498.749892</td>\n",
       "      <td>101067678</td>\n",
       "    </tr>\n",
       "  </tbody>\n",
       "</table>\n",
       "</div>"
      ],
      "text/plain": [
       "                         price      size side        values  cum_values\n",
       "ts                                                                     \n",
       "2022-03-24 11:25:36  102999.99  0.000883  BUY     90.919121   101012379\n",
       "2022-03-24 11:26:03  102957.69  0.047845  BUY   4926.039506   101017305\n",
       "2022-03-24 11:26:56  102948.67  0.058338  BUY   6005.769066   101023310\n",
       "2022-03-24 11:26:56  102948.67  0.426127  BUY  43869.259375   101067180\n",
       "2022-03-24 11:27:30  102960.28  0.004844  BUY    498.749892   101067678"
      ]
     },
     "execution_count": 15,
     "metadata": {},
     "output_type": "execute_result"
    }
   ],
   "source": [
    "\n",
    "\n",
    "buy_data = market_trades[market_trades['side']=='BUY']\n",
    "buy_data = buy_data.set_index('ts').sort_values('ts')\n",
    "buy_data.index =pd.to_datetime(buy_data.index,unit='s')\n",
    "buy_data.resample('30s').agg({'price':'last','size':'sum'})\n",
    "buy_data['values'] =buy_data['price'] *buy_data['size'] \n",
    "buy_data['cum_values'] =buy_data['values'].cumsum().astype(int)\n",
    "\n",
    "buy_data.tail()"
   ]
  },
  {
   "cell_type": "code",
   "execution_count": 16,
   "metadata": {},
   "outputs": [
    {
     "data": {
      "text/html": [
       "<div>\n",
       "<style scoped>\n",
       "    .dataframe tbody tr th:only-of-type {\n",
       "        vertical-align: middle;\n",
       "    }\n",
       "\n",
       "    .dataframe tbody tr th {\n",
       "        vertical-align: top;\n",
       "    }\n",
       "\n",
       "    .dataframe thead th {\n",
       "        text-align: right;\n",
       "    }\n",
       "</style>\n",
       "<table border=\"1\" class=\"dataframe\">\n",
       "  <thead>\n",
       "    <tr style=\"text-align: right;\">\n",
       "      <th></th>\n",
       "      <th>price</th>\n",
       "      <th>size</th>\n",
       "      <th>side</th>\n",
       "      <th>values</th>\n",
       "      <th>cum_values</th>\n",
       "    </tr>\n",
       "    <tr>\n",
       "      <th>ts</th>\n",
       "      <th></th>\n",
       "      <th></th>\n",
       "      <th></th>\n",
       "      <th></th>\n",
       "      <th></th>\n",
       "    </tr>\n",
       "  </thead>\n",
       "  <tbody>\n",
       "    <tr>\n",
       "      <th>2022-03-24 11:26:12</th>\n",
       "      <td>102855.0</td>\n",
       "      <td>0.009633</td>\n",
       "      <td>SELL</td>\n",
       "      <td>990.781644</td>\n",
       "      <td>90844644</td>\n",
       "    </tr>\n",
       "    <tr>\n",
       "      <th>2022-03-24 11:26:33</th>\n",
       "      <td>102855.0</td>\n",
       "      <td>0.000436</td>\n",
       "      <td>SELL</td>\n",
       "      <td>44.880779</td>\n",
       "      <td>90844689</td>\n",
       "    </tr>\n",
       "    <tr>\n",
       "      <th>2022-03-24 11:26:41</th>\n",
       "      <td>102855.0</td>\n",
       "      <td>0.001500</td>\n",
       "      <td>SELL</td>\n",
       "      <td>154.282500</td>\n",
       "      <td>90844843</td>\n",
       "    </tr>\n",
       "    <tr>\n",
       "      <th>2022-03-24 11:27:18</th>\n",
       "      <td>102855.0</td>\n",
       "      <td>0.010324</td>\n",
       "      <td>SELL</td>\n",
       "      <td>1061.902791</td>\n",
       "      <td>90845905</td>\n",
       "    </tr>\n",
       "    <tr>\n",
       "      <th>2022-03-24 11:27:39</th>\n",
       "      <td>102855.0</td>\n",
       "      <td>0.000434</td>\n",
       "      <td>SELL</td>\n",
       "      <td>44.660670</td>\n",
       "      <td>90845950</td>\n",
       "    </tr>\n",
       "  </tbody>\n",
       "</table>\n",
       "</div>"
      ],
      "text/plain": [
       "                        price      size  side       values  cum_values\n",
       "ts                                                                    \n",
       "2022-03-24 11:26:12  102855.0  0.009633  SELL   990.781644    90844644\n",
       "2022-03-24 11:26:33  102855.0  0.000436  SELL    44.880779    90844689\n",
       "2022-03-24 11:26:41  102855.0  0.001500  SELL   154.282500    90844843\n",
       "2022-03-24 11:27:18  102855.0  0.010324  SELL  1061.902791    90845905\n",
       "2022-03-24 11:27:39  102855.0  0.000434  SELL    44.660670    90845950"
      ]
     },
     "execution_count": 16,
     "metadata": {},
     "output_type": "execute_result"
    }
   ],
   "source": [
    "sell_data = market_trades[market_trades['side']=='SELL']\n",
    "sell_data = sell_data.set_index('ts').sort_values('ts')\n",
    "sell_data.index =pd.to_datetime(sell_data.index,unit='s')\n",
    "sell_data.resample('30s').agg({'price':'last','size':'sum'})\n",
    "sell_data['values'] =sell_data['price'] *sell_data['size'] \n",
    "sell_data['cum_values'] =sell_data['values'].cumsum().astype(int)\n",
    "\n",
    "sell_data.tail()"
   ]
  },
  {
   "cell_type": "code",
   "execution_count": 18,
   "metadata": {},
   "outputs": [
    {
     "name": "stdout",
     "output_type": "stream",
     "text": [
      "1633427427\n",
      "1648121293\n",
      "1648121293 1647257293\n"
     ]
    },
    {
     "data": {
      "text/plain": [
       "{'c': [1303964.86,\n",
       "  1316489.99,\n",
       "  1342998.89,\n",
       "  1357177.93,\n",
       "  1381100.13,\n",
       "  1399514,\n",
       "  1375555,\n",
       "  1370500,\n",
       "  1425003.55,\n",
       "  1431300,\n",
       "  1448501.26],\n",
       " 'h': [1313000,\n",
       "  1333999,\n",
       "  1385000,\n",
       "  1372000,\n",
       "  1383670.85,\n",
       "  1408233.27,\n",
       "  1409102.6,\n",
       "  1389500,\n",
       "  1440000,\n",
       "  1436650,\n",
       "  1459991],\n",
       " 'l': [1265000,\n",
       "  1285001,\n",
       "  1300199,\n",
       "  1315055,\n",
       "  1344444.01,\n",
       "  1380684.81,\n",
       "  1372966.1,\n",
       "  1360000,\n",
       "  1370500,\n",
       "  1404999,\n",
       "  1416000],\n",
       " 'o': [1301501.41,\n",
       "  1303949.86,\n",
       "  1316299.99,\n",
       "  1341000,\n",
       "  1357177.93,\n",
       "  1381100.13,\n",
       "  1399514,\n",
       "  1375555,\n",
       "  1371824.99,\n",
       "  1425000,\n",
       "  1431300],\n",
       " 's': 'ok',\n",
       " 't': [1647216000,\n",
       "  1647302400,\n",
       "  1647388800,\n",
       "  1647475200,\n",
       "  1647561600,\n",
       "  1647648000,\n",
       "  1647734400,\n",
       "  1647820800,\n",
       "  1647907200,\n",
       "  1647993600,\n",
       "  1648080000],\n",
       " 'v': [349.6565480600024,\n",
       "  318.6432195500004,\n",
       "  645.3324018000006,\n",
       "  471.95693953999887,\n",
       "  248.9245813800003,\n",
       "  383.50251973999724,\n",
       "  267.9235062299983,\n",
       "  279.87693318999766,\n",
       "  503.94527912000217,\n",
       "  295.23263392000086,\n",
       "  273.22653546]}"
      ]
     },
     "execution_count": 18,
     "metadata": {},
     "output_type": "execute_result"
    }
   ],
   "source": [
    "print(1633427427)\n",
    "print(int(dt.now().timestamp()))\n",
    "to_ts = int(dt.now().timestamp())\n",
    "frm_ts = int((dt.now() -timedelta(days=10)).timestamp())\n",
    "print(to_ts,frm_ts)\n",
    "bitkub.tradingview('BTC_THB',int='1D' ,frm=frm_ts,to=to_ts)\n"
   ]
  },
  {
   "cell_type": "markdown",
   "metadata": {},
   "source": [
    "# Show All symbols on bitkub"
   ]
  },
  {
   "cell_type": "code",
   "execution_count": 19,
   "metadata": {},
   "outputs": [
    {
     "data": {
      "text/html": [
       "<div>\n",
       "<style scoped>\n",
       "    .dataframe tbody tr th:only-of-type {\n",
       "        vertical-align: middle;\n",
       "    }\n",
       "\n",
       "    .dataframe tbody tr th {\n",
       "        vertical-align: top;\n",
       "    }\n",
       "\n",
       "    .dataframe thead th {\n",
       "        text-align: right;\n",
       "    }\n",
       "</style>\n",
       "<table border=\"1\" class=\"dataframe\">\n",
       "  <thead>\n",
       "    <tr style=\"text-align: right;\">\n",
       "      <th></th>\n",
       "      <th>id</th>\n",
       "      <th>info</th>\n",
       "      <th>symbol</th>\n",
       "    </tr>\n",
       "  </thead>\n",
       "  <tbody>\n",
       "    <tr>\n",
       "      <th>0</th>\n",
       "      <td>1</td>\n",
       "      <td>Thai Baht to Bitcoin</td>\n",
       "      <td>THB_BTC</td>\n",
       "    </tr>\n",
       "    <tr>\n",
       "      <th>1</th>\n",
       "      <td>2</td>\n",
       "      <td>Thai Baht to Ethereum</td>\n",
       "      <td>THB_ETH</td>\n",
       "    </tr>\n",
       "    <tr>\n",
       "      <th>2</th>\n",
       "      <td>3</td>\n",
       "      <td>Thai Baht to Wancoin</td>\n",
       "      <td>THB_WAN</td>\n",
       "    </tr>\n",
       "    <tr>\n",
       "      <th>3</th>\n",
       "      <td>4</td>\n",
       "      <td>Thai Baht to Cardano</td>\n",
       "      <td>THB_ADA</td>\n",
       "    </tr>\n",
       "    <tr>\n",
       "      <th>4</th>\n",
       "      <td>5</td>\n",
       "      <td>Thai Baht to OmiseGO</td>\n",
       "      <td>THB_OMG</td>\n",
       "    </tr>\n",
       "    <tr>\n",
       "      <th>...</th>\n",
       "      <td>...</td>\n",
       "      <td>...</td>\n",
       "      <td>...</td>\n",
       "    </tr>\n",
       "    <tr>\n",
       "      <th>60</th>\n",
       "      <td>114</td>\n",
       "      <td>Thai Baht to GuildFi</td>\n",
       "      <td>THB_GF</td>\n",
       "    </tr>\n",
       "    <tr>\n",
       "      <th>61</th>\n",
       "      <td>117</td>\n",
       "      <td>Thai Baht to Experimental Finance</td>\n",
       "      <td>THB_EXFI</td>\n",
       "    </tr>\n",
       "    <tr>\n",
       "      <th>62</th>\n",
       "      <td>118</td>\n",
       "      <td>Thai Baht to Solana</td>\n",
       "      <td>THB_SOL</td>\n",
       "    </tr>\n",
       "    <tr>\n",
       "      <th>63</th>\n",
       "      <td>119</td>\n",
       "      <td>Thai Baht to Avalanche</td>\n",
       "      <td>THB_AVAX</td>\n",
       "    </tr>\n",
       "    <tr>\n",
       "      <th>64</th>\n",
       "      <td>123</td>\n",
       "      <td>Thai Baht to ApeCoin</td>\n",
       "      <td>THB_APE</td>\n",
       "    </tr>\n",
       "  </tbody>\n",
       "</table>\n",
       "<p>65 rows × 3 columns</p>\n",
       "</div>"
      ],
      "text/plain": [
       "     id                               info    symbol\n",
       "0     1               Thai Baht to Bitcoin   THB_BTC\n",
       "1     2              Thai Baht to Ethereum   THB_ETH\n",
       "2     3               Thai Baht to Wancoin   THB_WAN\n",
       "3     4               Thai Baht to Cardano   THB_ADA\n",
       "4     5               Thai Baht to OmiseGO   THB_OMG\n",
       "..  ...                                ...       ...\n",
       "60  114               Thai Baht to GuildFi    THB_GF\n",
       "61  117  Thai Baht to Experimental Finance  THB_EXFI\n",
       "62  118                Thai Baht to Solana   THB_SOL\n",
       "63  119             Thai Baht to Avalanche  THB_AVAX\n",
       "64  123               Thai Baht to ApeCoin   THB_APE\n",
       "\n",
       "[65 rows x 3 columns]"
      ]
     },
     "execution_count": 19,
     "metadata": {},
     "output_type": "execute_result"
    }
   ],
   "source": [
    "all_symbol = pd.DataFrame(bitkub.symbols()['result'])\n",
    "all_symbol"
   ]
  },
  {
   "cell_type": "code",
   "execution_count": 21,
   "metadata": {},
   "outputs": [],
   "source": [
    "data =[]\n",
    "for i in all_symbol['symbol']:\n",
    "    res  = bitkub.ticker(i)\n",
    "    data.append(res)"
   ]
  },
  {
   "cell_type": "code",
   "execution_count": 22,
   "metadata": {},
   "outputs": [],
   "source": [
    "clean_data = []\n",
    "for i in data:\n",
    "    for idx ,values in i.items():\n",
    "        if values['quoteVolume'] >= 10000000:\n",
    "            values['symbol']= idx\n",
    "\n",
    "            clean_data.append(values)\n",
    "        # print(values)\n",
    "        # i['quoteVolume'] # not work"
   ]
  },
  {
   "cell_type": "code",
   "execution_count": 23,
   "metadata": {},
   "outputs": [],
   "source": [
    "dfKbk = pd.DataFrame(clean_data)"
   ]
  },
  {
   "cell_type": "code",
   "execution_count": 24,
   "metadata": {},
   "outputs": [
    {
     "name": "stdout",
     "output_type": "stream",
     "text": [
      "2.8456 : 2.7807 Diff -2.28 %\n"
     ]
    },
    {
     "data": {
      "text/html": [
       "<div>\n",
       "<style scoped>\n",
       "    .dataframe tbody tr th:only-of-type {\n",
       "        vertical-align: middle;\n",
       "    }\n",
       "\n",
       "    .dataframe tbody tr th {\n",
       "        vertical-align: top;\n",
       "    }\n",
       "\n",
       "    .dataframe thead th {\n",
       "        text-align: right;\n",
       "    }\n",
       "</style>\n",
       "<table border=\"1\" class=\"dataframe\">\n",
       "  <thead>\n",
       "    <tr style=\"text-align: right;\">\n",
       "      <th></th>\n",
       "      <th>bids_price</th>\n",
       "      <th>bids_size</th>\n",
       "      <th>asks_price</th>\n",
       "      <th>asks_size</th>\n",
       "      <th>value_bid</th>\n",
       "      <th>value_ask</th>\n",
       "      <th>cumvalue_bid</th>\n",
       "      <th>cumvalue_ask</th>\n",
       "      <th>diff_bid</th>\n",
       "      <th>diff_ask</th>\n",
       "    </tr>\n",
       "  </thead>\n",
       "  <tbody>\n",
       "    <tr>\n",
       "      <th>13</th>\n",
       "      <td>2.78070</td>\n",
       "      <td>69.974530</td>\n",
       "      <td>2.9520</td>\n",
       "      <td>6.897568</td>\n",
       "      <td>194.578175</td>\n",
       "      <td>20.361621</td>\n",
       "      <td>3025</td>\n",
       "      <td>3117</td>\n",
       "      <td>-2.280714</td>\n",
       "      <td>3.058232</td>\n",
       "    </tr>\n",
       "    <tr>\n",
       "      <th>14</th>\n",
       "      <td>2.77860</td>\n",
       "      <td>7.274643</td>\n",
       "      <td>2.9584</td>\n",
       "      <td>193.597700</td>\n",
       "      <td>20.213323</td>\n",
       "      <td>572.739435</td>\n",
       "      <td>3045</td>\n",
       "      <td>3690</td>\n",
       "      <td>-2.354512</td>\n",
       "      <td>3.281665</td>\n",
       "    </tr>\n",
       "    <tr>\n",
       "      <th>15</th>\n",
       "      <td>2.77690</td>\n",
       "      <td>73.324843</td>\n",
       "      <td>2.9678</td>\n",
       "      <td>6.860812</td>\n",
       "      <td>203.615757</td>\n",
       "      <td>20.361517</td>\n",
       "      <td>3249</td>\n",
       "      <td>3710</td>\n",
       "      <td>-2.414254</td>\n",
       "      <td>3.609831</td>\n",
       "    </tr>\n",
       "    <tr>\n",
       "      <th>16</th>\n",
       "      <td>2.77400</td>\n",
       "      <td>204.631513</td>\n",
       "      <td>2.9790</td>\n",
       "      <td>185.048552</td>\n",
       "      <td>567.647816</td>\n",
       "      <td>551.259637</td>\n",
       "      <td>3816</td>\n",
       "      <td>4262</td>\n",
       "      <td>-2.516165</td>\n",
       "      <td>4.000838</td>\n",
       "    </tr>\n",
       "    <tr>\n",
       "      <th>17</th>\n",
       "      <td>2.77310</td>\n",
       "      <td>76.675157</td>\n",
       "      <td>2.9836</td>\n",
       "      <td>6.824445</td>\n",
       "      <td>212.627877</td>\n",
       "      <td>20.361414</td>\n",
       "      <td>4029</td>\n",
       "      <td>4282</td>\n",
       "      <td>-2.547793</td>\n",
       "      <td>4.161430</td>\n",
       "    </tr>\n",
       "    <tr>\n",
       "      <th>...</th>\n",
       "      <td>...</td>\n",
       "      <td>...</td>\n",
       "      <td>...</td>\n",
       "      <td>...</td>\n",
       "      <td>...</td>\n",
       "      <td>...</td>\n",
       "      <td>...</td>\n",
       "      <td>...</td>\n",
       "      <td>...</td>\n",
       "      <td>...</td>\n",
       "    </tr>\n",
       "    <tr>\n",
       "      <th>71</th>\n",
       "      <td>1.00000</td>\n",
       "      <td>5.000000</td>\n",
       "      <td>3.6419</td>\n",
       "      <td>123.580993</td>\n",
       "      <td>5.000000</td>\n",
       "      <td>450.069618</td>\n",
       "      <td>260612</td>\n",
       "      <td>31297</td>\n",
       "      <td>-64.858026</td>\n",
       "      <td>27.143555</td>\n",
       "    </tr>\n",
       "    <tr>\n",
       "      <th>72</th>\n",
       "      <td>0.02400</td>\n",
       "      <td>400.000000</td>\n",
       "      <td>3.6673</td>\n",
       "      <td>156.178896</td>\n",
       "      <td>9.600000</td>\n",
       "      <td>572.754866</td>\n",
       "      <td>260621</td>\n",
       "      <td>31870</td>\n",
       "      <td>-99.156593</td>\n",
       "      <td>28.030303</td>\n",
       "    </tr>\n",
       "    <tr>\n",
       "      <th>73</th>\n",
       "      <td>0.01000</td>\n",
       "      <td>20500.000000</td>\n",
       "      <td>3.6802</td>\n",
       "      <td>1436.655759</td>\n",
       "      <td>205.000000</td>\n",
       "      <td>5287.180526</td>\n",
       "      <td>260826</td>\n",
       "      <td>37157</td>\n",
       "      <td>-99.648580</td>\n",
       "      <td>28.480659</td>\n",
       "    </tr>\n",
       "    <tr>\n",
       "      <th>74</th>\n",
       "      <td>0.00240</td>\n",
       "      <td>4000.000000</td>\n",
       "      <td>3.6928</td>\n",
       "      <td>155.099269</td>\n",
       "      <td>9.600000</td>\n",
       "      <td>572.750582</td>\n",
       "      <td>260836</td>\n",
       "      <td>37730</td>\n",
       "      <td>-99.915659</td>\n",
       "      <td>28.920542</td>\n",
       "    </tr>\n",
       "    <tr>\n",
       "      <th>75</th>\n",
       "      <td>0.00024</td>\n",
       "      <td>40000.000000</td>\n",
       "      <td>3.7059</td>\n",
       "      <td>39.739707</td>\n",
       "      <td>9.600000</td>\n",
       "      <td>147.271379</td>\n",
       "      <td>260845</td>\n",
       "      <td>37877</td>\n",
       "      <td>-99.991566</td>\n",
       "      <td>29.377880</td>\n",
       "    </tr>\n",
       "  </tbody>\n",
       "</table>\n",
       "<p>63 rows × 10 columns</p>\n",
       "</div>"
      ],
      "text/plain": [
       "    bids_price     bids_size  asks_price    asks_size   value_bid  \\\n",
       "13     2.78070     69.974530      2.9520     6.897568  194.578175   \n",
       "14     2.77860      7.274643      2.9584   193.597700   20.213323   \n",
       "15     2.77690     73.324843      2.9678     6.860812  203.615757   \n",
       "16     2.77400    204.631513      2.9790   185.048552  567.647816   \n",
       "17     2.77310     76.675157      2.9836     6.824445  212.627877   \n",
       "..         ...           ...         ...          ...         ...   \n",
       "71     1.00000      5.000000      3.6419   123.580993    5.000000   \n",
       "72     0.02400    400.000000      3.6673   156.178896    9.600000   \n",
       "73     0.01000  20500.000000      3.6802  1436.655759  205.000000   \n",
       "74     0.00240   4000.000000      3.6928   155.099269    9.600000   \n",
       "75     0.00024  40000.000000      3.7059    39.739707    9.600000   \n",
       "\n",
       "      value_ask  cumvalue_bid  cumvalue_ask   diff_bid   diff_ask  \n",
       "13    20.361621          3025          3117  -2.280714   3.058232  \n",
       "14   572.739435          3045          3690  -2.354512   3.281665  \n",
       "15    20.361517          3249          3710  -2.414254   3.609831  \n",
       "16   551.259637          3816          4262  -2.516165   4.000838  \n",
       "17    20.361414          4029          4282  -2.547793   4.161430  \n",
       "..          ...           ...           ...        ...        ...  \n",
       "71   450.069618        260612         31297 -64.858026  27.143555  \n",
       "72   572.754866        260621         31870 -99.156593  28.030303  \n",
       "73  5287.180526        260826         37157 -99.648580  28.480659  \n",
       "74   572.750582        260836         37730 -99.915659  28.920542  \n",
       "75   147.271379        260845         37877 -99.991566  29.377880  \n",
       "\n",
       "[63 rows x 10 columns]"
      ]
     },
     "execution_count": 24,
     "metadata": {},
     "output_type": "execute_result"
    }
   ],
   "source": [
    "# order_book[order_book['cumvalue_bid'] >=3000]\n",
    "check_ladder(order_book,'cumvalue_bid',3000)"
   ]
  },
  {
   "cell_type": "code",
   "execution_count": 28,
   "metadata": {},
   "outputs": [
    {
     "name": "stdout",
     "output_type": "stream",
     "text": [
      "100 100\n"
     ]
    },
    {
     "ename": "KeyError",
     "evalue": "'asks_price'",
     "output_type": "error",
     "traceback": [
      "\u001b[1;31m---------------------------------------------------------------------------\u001b[0m",
      "\u001b[1;31mKeyError\u001b[0m                                  Traceback (most recent call last)",
      "\u001b[1;32m<ipython-input-28-7cc9303bcbe1>\u001b[0m in \u001b[0;36m<module>\u001b[1;34m\u001b[0m\n\u001b[0;32m      9\u001b[0m \u001b[0morder_book\u001b[0m \u001b[1;33m=\u001b[0m \u001b[0mpd\u001b[0m\u001b[1;33m.\u001b[0m\u001b[0mDataFrame\u001b[0m\u001b[1;33m(\u001b[0m\u001b[0mres\u001b[0m\u001b[1;33m)\u001b[0m\u001b[1;33m\u001b[0m\u001b[1;33m\u001b[0m\u001b[0m\n\u001b[0;32m     10\u001b[0m \u001b[1;33m\u001b[0m\u001b[0m\n\u001b[1;32m---> 11\u001b[1;33m \u001b[0morder_book\u001b[0m\u001b[1;33m.\u001b[0m\u001b[0msort_values\u001b[0m\u001b[1;33m(\u001b[0m\u001b[1;34m'asks_price'\u001b[0m\u001b[1;33m)\u001b[0m\u001b[1;33m\u001b[0m\u001b[1;33m\u001b[0m\u001b[0m\n\u001b[0m",
      "\u001b[1;32m~\\AppData\\Roaming\\Python\\Python37\\site-packages\\pandas\\util\\_decorators.py\u001b[0m in \u001b[0;36mwrapper\u001b[1;34m(*args, **kwargs)\u001b[0m\n\u001b[0;32m    309\u001b[0m                     \u001b[0mstacklevel\u001b[0m\u001b[1;33m=\u001b[0m\u001b[0mstacklevel\u001b[0m\u001b[1;33m,\u001b[0m\u001b[1;33m\u001b[0m\u001b[1;33m\u001b[0m\u001b[0m\n\u001b[0;32m    310\u001b[0m                 )\n\u001b[1;32m--> 311\u001b[1;33m             \u001b[1;32mreturn\u001b[0m \u001b[0mfunc\u001b[0m\u001b[1;33m(\u001b[0m\u001b[1;33m*\u001b[0m\u001b[0margs\u001b[0m\u001b[1;33m,\u001b[0m \u001b[1;33m**\u001b[0m\u001b[0mkwargs\u001b[0m\u001b[1;33m)\u001b[0m\u001b[1;33m\u001b[0m\u001b[1;33m\u001b[0m\u001b[0m\n\u001b[0m\u001b[0;32m    312\u001b[0m \u001b[1;33m\u001b[0m\u001b[0m\n\u001b[0;32m    313\u001b[0m         \u001b[1;32mreturn\u001b[0m \u001b[0mwrapper\u001b[0m\u001b[1;33m\u001b[0m\u001b[1;33m\u001b[0m\u001b[0m\n",
      "\u001b[1;32m~\\AppData\\Roaming\\Python\\Python37\\site-packages\\pandas\\core\\frame.py\u001b[0m in \u001b[0;36msort_values\u001b[1;34m(self, by, axis, ascending, inplace, kind, na_position, ignore_index, key)\u001b[0m\n\u001b[0;32m   6257\u001b[0m \u001b[1;33m\u001b[0m\u001b[0m\n\u001b[0;32m   6258\u001b[0m             \u001b[0mby\u001b[0m \u001b[1;33m=\u001b[0m \u001b[0mby\u001b[0m\u001b[1;33m[\u001b[0m\u001b[1;36m0\u001b[0m\u001b[1;33m]\u001b[0m\u001b[1;33m\u001b[0m\u001b[1;33m\u001b[0m\u001b[0m\n\u001b[1;32m-> 6259\u001b[1;33m             \u001b[0mk\u001b[0m \u001b[1;33m=\u001b[0m \u001b[0mself\u001b[0m\u001b[1;33m.\u001b[0m\u001b[0m_get_label_or_level_values\u001b[0m\u001b[1;33m(\u001b[0m\u001b[0mby\u001b[0m\u001b[1;33m,\u001b[0m \u001b[0maxis\u001b[0m\u001b[1;33m=\u001b[0m\u001b[0maxis\u001b[0m\u001b[1;33m)\u001b[0m\u001b[1;33m\u001b[0m\u001b[1;33m\u001b[0m\u001b[0m\n\u001b[0m\u001b[0;32m   6260\u001b[0m \u001b[1;33m\u001b[0m\u001b[0m\n\u001b[0;32m   6261\u001b[0m             \u001b[1;31m# need to rewrap column in Series to apply key function\u001b[0m\u001b[1;33m\u001b[0m\u001b[1;33m\u001b[0m\u001b[1;33m\u001b[0m\u001b[0m\n",
      "\u001b[1;32m~\\AppData\\Roaming\\Python\\Python37\\site-packages\\pandas\\core\\generic.py\u001b[0m in \u001b[0;36m_get_label_or_level_values\u001b[1;34m(self, key, axis)\u001b[0m\n\u001b[0;32m   1777\u001b[0m             \u001b[0mvalues\u001b[0m \u001b[1;33m=\u001b[0m \u001b[0mself\u001b[0m\u001b[1;33m.\u001b[0m\u001b[0maxes\u001b[0m\u001b[1;33m[\u001b[0m\u001b[0maxis\u001b[0m\u001b[1;33m]\u001b[0m\u001b[1;33m.\u001b[0m\u001b[0mget_level_values\u001b[0m\u001b[1;33m(\u001b[0m\u001b[0mkey\u001b[0m\u001b[1;33m)\u001b[0m\u001b[1;33m.\u001b[0m\u001b[0m_values\u001b[0m\u001b[1;33m\u001b[0m\u001b[1;33m\u001b[0m\u001b[0m\n\u001b[0;32m   1778\u001b[0m         \u001b[1;32melse\u001b[0m\u001b[1;33m:\u001b[0m\u001b[1;33m\u001b[0m\u001b[1;33m\u001b[0m\u001b[0m\n\u001b[1;32m-> 1779\u001b[1;33m             \u001b[1;32mraise\u001b[0m \u001b[0mKeyError\u001b[0m\u001b[1;33m(\u001b[0m\u001b[0mkey\u001b[0m\u001b[1;33m)\u001b[0m\u001b[1;33m\u001b[0m\u001b[1;33m\u001b[0m\u001b[0m\n\u001b[0m\u001b[0;32m   1780\u001b[0m \u001b[1;33m\u001b[0m\u001b[0m\n\u001b[0;32m   1781\u001b[0m         \u001b[1;31m# Check for duplicates\u001b[0m\u001b[1;33m\u001b[0m\u001b[1;33m\u001b[0m\u001b[1;33m\u001b[0m\u001b[0m\n",
      "\u001b[1;31mKeyError\u001b[0m: 'asks_price'"
     ]
    }
   ],
   "source": [
    "res = zm.fetchOrderBook('ZMT/THB')\n",
    "res['bids']\n",
    "\n",
    "print(len(res['bids']), len(res['asks']))\n",
    "min_data = min(len(res['bids']), len(res['asks']))\n",
    "res['bids']  = res['bids'][:min_data]\n",
    "res['asks']  = res['bids'][:min_data]\n",
    "\n",
    "order_book = pd.DataFrame(res)\n",
    "\n",
    "order_book.sort_values('asks_price')\n"
   ]
  },
  {
   "cell_type": "code",
   "execution_count": null,
   "metadata": {},
   "outputs": [
    {
     "data": {
      "text/html": [
       "<div>\n",
       "<style scoped>\n",
       "    .dataframe tbody tr th:only-of-type {\n",
       "        vertical-align: middle;\n",
       "    }\n",
       "\n",
       "    .dataframe tbody tr th {\n",
       "        vertical-align: top;\n",
       "    }\n",
       "\n",
       "    .dataframe thead th {\n",
       "        text-align: right;\n",
       "    }\n",
       "</style>\n",
       "<table border=\"1\" class=\"dataframe\">\n",
       "  <thead>\n",
       "    <tr style=\"text-align: right;\">\n",
       "      <th></th>\n",
       "      <th>symbol</th>\n",
       "      <th>bids</th>\n",
       "      <th>asks</th>\n",
       "      <th>timestamp</th>\n",
       "      <th>datetime</th>\n",
       "      <th>nonce</th>\n",
       "    </tr>\n",
       "  </thead>\n",
       "  <tbody>\n",
       "    <tr>\n",
       "      <th>0</th>\n",
       "      <td>ZMT/THB</td>\n",
       "      <td>[95.3224, 329.3852]</td>\n",
       "      <td>[95.3224, 329.3852]</td>\n",
       "      <td>1648121424045</td>\n",
       "      <td>2022-03-24T11:30:24.045Z</td>\n",
       "      <td>3433264</td>\n",
       "    </tr>\n",
       "    <tr>\n",
       "      <th>1</th>\n",
       "      <td>ZMT/THB</td>\n",
       "      <td>[95.3223, 228.1544]</td>\n",
       "      <td>[95.3223, 228.1544]</td>\n",
       "      <td>1648121424045</td>\n",
       "      <td>2022-03-24T11:30:24.045Z</td>\n",
       "      <td>3433264</td>\n",
       "    </tr>\n",
       "    <tr>\n",
       "      <th>2</th>\n",
       "      <td>ZMT/THB</td>\n",
       "      <td>[95.3222, 10.4907]</td>\n",
       "      <td>[95.3222, 10.4907]</td>\n",
       "      <td>1648121424045</td>\n",
       "      <td>2022-03-24T11:30:24.045Z</td>\n",
       "      <td>3433264</td>\n",
       "    </tr>\n",
       "    <tr>\n",
       "      <th>3</th>\n",
       "      <td>ZMT/THB</td>\n",
       "      <td>[95.3219, 53.1286]</td>\n",
       "      <td>[95.3219, 53.1286]</td>\n",
       "      <td>1648121424045</td>\n",
       "      <td>2022-03-24T11:30:24.045Z</td>\n",
       "      <td>3433264</td>\n",
       "    </tr>\n",
       "    <tr>\n",
       "      <th>4</th>\n",
       "      <td>ZMT/THB</td>\n",
       "      <td>[95.3211, 202.4543]</td>\n",
       "      <td>[95.3211, 202.4543]</td>\n",
       "      <td>1648121424045</td>\n",
       "      <td>2022-03-24T11:30:24.045Z</td>\n",
       "      <td>3433264</td>\n",
       "    </tr>\n",
       "    <tr>\n",
       "      <th>...</th>\n",
       "      <td>...</td>\n",
       "      <td>...</td>\n",
       "      <td>...</td>\n",
       "      <td>...</td>\n",
       "      <td>...</td>\n",
       "      <td>...</td>\n",
       "    </tr>\n",
       "    <tr>\n",
       "      <th>95</th>\n",
       "      <td>ZMT/THB</td>\n",
       "      <td>[93.51, 840.4004]</td>\n",
       "      <td>[93.51, 840.4004]</td>\n",
       "      <td>1648121424045</td>\n",
       "      <td>2022-03-24T11:30:24.045Z</td>\n",
       "      <td>3433264</td>\n",
       "    </tr>\n",
       "    <tr>\n",
       "      <th>96</th>\n",
       "      <td>ZMT/THB</td>\n",
       "      <td>[93.5002, 1024.8839]</td>\n",
       "      <td>[93.5002, 1024.8839]</td>\n",
       "      <td>1648121424045</td>\n",
       "      <td>2022-03-24T11:30:24.045Z</td>\n",
       "      <td>3433264</td>\n",
       "    </tr>\n",
       "    <tr>\n",
       "      <th>97</th>\n",
       "      <td>ZMT/THB</td>\n",
       "      <td>[93.5001, 10.733]</td>\n",
       "      <td>[93.5001, 10.733]</td>\n",
       "      <td>1648121424045</td>\n",
       "      <td>2022-03-24T11:30:24.045Z</td>\n",
       "      <td>3433264</td>\n",
       "    </tr>\n",
       "    <tr>\n",
       "      <th>98</th>\n",
       "      <td>ZMT/THB</td>\n",
       "      <td>[93.5, 9674.228]</td>\n",
       "      <td>[93.5, 9674.228]</td>\n",
       "      <td>1648121424045</td>\n",
       "      <td>2022-03-24T11:30:24.045Z</td>\n",
       "      <td>3433264</td>\n",
       "    </tr>\n",
       "    <tr>\n",
       "      <th>99</th>\n",
       "      <td>ZMT/THB</td>\n",
       "      <td>[93.45, 204.474]</td>\n",
       "      <td>[93.45, 204.474]</td>\n",
       "      <td>1648121424045</td>\n",
       "      <td>2022-03-24T11:30:24.045Z</td>\n",
       "      <td>3433264</td>\n",
       "    </tr>\n",
       "  </tbody>\n",
       "</table>\n",
       "<p>100 rows × 6 columns</p>\n",
       "</div>"
      ],
      "text/plain": [
       "     symbol                  bids                  asks      timestamp  \\\n",
       "0   ZMT/THB   [95.3224, 329.3852]   [95.3224, 329.3852]  1648121424045   \n",
       "1   ZMT/THB   [95.3223, 228.1544]   [95.3223, 228.1544]  1648121424045   \n",
       "2   ZMT/THB    [95.3222, 10.4907]    [95.3222, 10.4907]  1648121424045   \n",
       "3   ZMT/THB    [95.3219, 53.1286]    [95.3219, 53.1286]  1648121424045   \n",
       "4   ZMT/THB   [95.3211, 202.4543]   [95.3211, 202.4543]  1648121424045   \n",
       "..      ...                   ...                   ...            ...   \n",
       "95  ZMT/THB     [93.51, 840.4004]     [93.51, 840.4004]  1648121424045   \n",
       "96  ZMT/THB  [93.5002, 1024.8839]  [93.5002, 1024.8839]  1648121424045   \n",
       "97  ZMT/THB     [93.5001, 10.733]     [93.5001, 10.733]  1648121424045   \n",
       "98  ZMT/THB      [93.5, 9674.228]      [93.5, 9674.228]  1648121424045   \n",
       "99  ZMT/THB      [93.45, 204.474]      [93.45, 204.474]  1648121424045   \n",
       "\n",
       "                    datetime    nonce  \n",
       "0   2022-03-24T11:30:24.045Z  3433264  \n",
       "1   2022-03-24T11:30:24.045Z  3433264  \n",
       "2   2022-03-24T11:30:24.045Z  3433264  \n",
       "3   2022-03-24T11:30:24.045Z  3433264  \n",
       "4   2022-03-24T11:30:24.045Z  3433264  \n",
       "..                       ...      ...  \n",
       "95  2022-03-24T11:30:24.045Z  3433264  \n",
       "96  2022-03-24T11:30:24.045Z  3433264  \n",
       "97  2022-03-24T11:30:24.045Z  3433264  \n",
       "98  2022-03-24T11:30:24.045Z  3433264  \n",
       "99  2022-03-24T11:30:24.045Z  3433264  \n",
       "\n",
       "[100 rows x 6 columns]"
      ]
     },
     "execution_count": 29,
     "metadata": {},
     "output_type": "execute_result"
    }
   ],
   "source": []
  }
 ],
 "metadata": {
  "kernelspec": {
   "display_name": "Python 3",
   "language": "python",
   "name": "python3"
  },
  "language_info": {
   "codemirror_mode": {
    "name": "ipython",
    "version": 3
   },
   "file_extension": ".py",
   "mimetype": "text/x-python",
   "name": "python",
   "nbconvert_exporter": "python",
   "pygments_lexer": "ipython3",
   "version": "3.7.4"
  }
 },
 "nbformat": 4,
 "nbformat_minor": 4
}
